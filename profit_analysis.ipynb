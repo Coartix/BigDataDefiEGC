{
 "cells": [
  {
   "attachments": {},
   "cell_type": "markdown",
   "metadata": {},
   "source": [
    "hugo.deplagne  \n",
    "pierre.litoux  \n",
    "SCIA 2024"
   ]
  },
  {
   "attachments": {},
   "cell_type": "markdown",
   "metadata": {},
   "source": [
    "### la question que l'on se pose est la suivante :\n",
    "\n",
    "### Comment est répartis le poids des acteurs sur la blockchain\n",
    "\n",
    "Notre analyse va proter sur l'année de 2015 afin d'avoir une vision sur une période précise et délimitée.\n",
    "\n",
    "notre objectif est de diviser les acteurs en différents groupes en fonction de leurs bénéfices sur cette période. Puis de comparer l'influence de ses groupes sur la blockchain :\n",
    "On tient a rappeler que les jeux de donnée ne comportent que les 100 plus gros acteurs sur cette période. On s'attend a deux scénarios :\n",
    "1 - les acteurs sont a peut pret équivalent sur le marché et les acteurs faisant le plus de bénéfices ne sont que légemrent plus impactant par rapport au reste\n",
    "2 - Une poignée d'acteurs ont un quasi monopole ou impact bien plus fort que le reste des acteurs"
   ]
  },
  {
   "cell_type": "code",
   "execution_count": 441,
   "metadata": {},
   "outputs": [],
   "source": [
    "import pandas as pd\n",
    "from os import path\n",
    "import os\n",
    "from datetime import datetime\n",
    "import matplotlib.pyplot as plt\n",
    "import glob\n",
    "import numpy as np\n",
    "import plotly.express as px"
   ]
  },
  {
   "attachments": {},
   "cell_type": "markdown",
   "metadata": {},
   "source": [
    "Premièrement on récupère les différents jeux de données et on nettoie les données"
   ]
  },
  {
   "cell_type": "code",
   "execution_count": 442,
   "metadata": {},
   "outputs": [
    {
     "name": "stdout",
     "output_type": "stream",
     "text": [
      "loading data done\n"
     ]
    }
   ],
   "source": [
    "# extraction of all the csv files in the folder into dataframes\n",
    "ext_path = './timeseries/external.csv'\n",
    "external_df = pd.read_csv(ext_path, sep=',', header=0, index_col=1, parse_dates=True)\n",
    "external_df.drop(['Unnamed: 0'], axis=1, inplace=True)\n",
    "\n",
    "glob_path = './timeseries/global.csv'\n",
    "transactions_df = pd.read_csv(glob_path, sep=',', header=0, index_col=0, parse_dates=True)\n",
    "# drop the original \"year\", \"month\", and \"day\" columns\n",
    "transactions_df.drop(columns=['year', 'month', 'day'], inplace=True)\n",
    "\n",
    "actor_df = pd.read_csv('timeseries/blockchain_by_actor.csv', index_col=0)\n",
    "# Remove lines where year = 0\n",
    "actor_df = actor_df[actor_df['year'] != 0]\n",
    "# combine \"year\", \"month\", and \"day\" columns into a single datetime column\n",
    "actor_df['date'] = pd.to_datetime(actor_df[['year', 'month', 'day']])\n",
    "# drop the original \"year\", \"month\", and \"day\" columns\n",
    "actor_df.drop(columns=['year', 'month', 'day'], inplace=True)\n",
    "# Change the nb_received and nb_transactions and nb_spent and sum_fee columns to integers\n",
    "actor_df = actor_df.astype({'nb_received': 'int64', 'nb_transactions': 'int64', 'nb_spent': 'int64', 'sum_fee': 'int64'})\n",
    "# set the index to the identity of the actor\n",
    "#actor_profits_df.set_index('identity', inplace=True)\n",
    "#actor_profits_df = actor_profits_df.groupby([actor_profits_df.index, 'date']).sum()\n",
    "\n",
    "\n",
    "\"\"\"\n",
    "fileNames = glob.glob('networks/*')\n",
    "#print(fileNames)\n",
    "file_dict = {\n",
    "    datetime.strptime(path.basename(file).split('.')[0], '%Y-%m-%d'): pd.read_csv(file)\n",
    "    for file in fileNames\n",
    "}\n",
    "\n",
    "network_df = pd.concat(file_dict).sort_index()\"\"\"\n",
    "print('loading data done')\n"
   ]
  },
  {
   "attachments": {},
   "cell_type": "markdown",
   "metadata": {},
   "source": [
    "Pour notre étude on va s'intérésser seulement a l'année 2015"
   ]
  },
  {
   "cell_type": "code",
   "execution_count": 443,
   "metadata": {},
   "outputs": [
    {
     "data": {
      "text/html": [
       "<div>\n",
       "<style scoped>\n",
       "    .dataframe tbody tr th:only-of-type {\n",
       "        vertical-align: middle;\n",
       "    }\n",
       "\n",
       "    .dataframe tbody tr th {\n",
       "        vertical-align: top;\n",
       "    }\n",
       "\n",
       "    .dataframe thead th {\n",
       "        text-align: right;\n",
       "    }\n",
       "</style>\n",
       "<table border=\"1\" class=\"dataframe\">\n",
       "  <thead>\n",
       "    <tr style=\"text-align: right;\">\n",
       "      <th></th>\n",
       "      <th>PriceUSD</th>\n",
       "      <th>HashRate</th>\n",
       "    </tr>\n",
       "    <tr>\n",
       "      <th>date</th>\n",
       "      <th></th>\n",
       "      <th></th>\n",
       "    </tr>\n",
       "  </thead>\n",
       "  <tbody>\n",
       "    <tr>\n",
       "      <th>2015-01-02</th>\n",
       "      <td>315.942732</td>\n",
       "      <td>333345.017260</td>\n",
       "    </tr>\n",
       "    <tr>\n",
       "      <th>2015-01-03</th>\n",
       "      <td>285.647310</td>\n",
       "      <td>327284.198765</td>\n",
       "    </tr>\n",
       "    <tr>\n",
       "      <th>2015-01-04</th>\n",
       "      <td>263.334575</td>\n",
       "      <td>347486.927083</td>\n",
       "    </tr>\n",
       "    <tr>\n",
       "      <th>2015-01-05</th>\n",
       "      <td>275.003852</td>\n",
       "      <td>315162.561773</td>\n",
       "    </tr>\n",
       "    <tr>\n",
       "      <th>2015-01-06</th>\n",
       "      <td>287.549521</td>\n",
       "      <td>319203.107437</td>\n",
       "    </tr>\n",
       "  </tbody>\n",
       "</table>\n",
       "</div>"
      ],
      "text/plain": [
       "              PriceUSD       HashRate\n",
       "date                                 \n",
       "2015-01-02  315.942732  333345.017260\n",
       "2015-01-03  285.647310  327284.198765\n",
       "2015-01-04  263.334575  347486.927083\n",
       "2015-01-05  275.003852  315162.561773\n",
       "2015-01-06  287.549521  319203.107437"
      ]
     },
     "execution_count": 443,
     "metadata": {},
     "output_type": "execute_result"
    }
   ],
   "source": [
    "# only keep data of 2015\n",
    "\n",
    "external_df = external_df[external_df.index.year == 2015]\n",
    "external_df.head()"
   ]
  },
  {
   "cell_type": "code",
   "execution_count": 444,
   "metadata": {},
   "outputs": [
    {
     "data": {
      "text/html": [
       "<div>\n",
       "<style scoped>\n",
       "    .dataframe tbody tr th:only-of-type {\n",
       "        vertical-align: middle;\n",
       "    }\n",
       "\n",
       "    .dataframe tbody tr th {\n",
       "        vertical-align: top;\n",
       "    }\n",
       "\n",
       "    .dataframe thead th {\n",
       "        text-align: right;\n",
       "    }\n",
       "</style>\n",
       "<table border=\"1\" class=\"dataframe\">\n",
       "  <thead>\n",
       "    <tr style=\"text-align: right;\">\n",
       "      <th></th>\n",
       "      <th>total_fee</th>\n",
       "      <th>total_received_satoshi</th>\n",
       "      <th>total_sent_satoshi</th>\n",
       "      <th>mean_fee_satoshi</th>\n",
       "      <th>mean_feeUSD</th>\n",
       "      <th>mean_fee_for100</th>\n",
       "      <th>nb_transactions</th>\n",
       "      <th>nb_payments</th>\n",
       "      <th>mean_nb_inputs</th>\n",
       "      <th>mean_nb_outputs</th>\n",
       "      <th>nb_mining</th>\n",
       "      <th>total_mining_satoshi</th>\n",
       "      <th>newly_created_coins</th>\n",
       "      <th>self_spent_satoshi</th>\n",
       "      <th>total_received</th>\n",
       "      <th>volume_without_self</th>\n",
       "    </tr>\n",
       "  </thead>\n",
       "  <tbody>\n",
       "    <tr>\n",
       "      <th>2015-01-01</th>\n",
       "      <td>801373971</td>\n",
       "      <td>45473028339385</td>\n",
       "      <td>45058028339385</td>\n",
       "      <td>13609.829337</td>\n",
       "      <td>4.284054e+06</td>\n",
       "      <td>0.799999</td>\n",
       "      <td>58882</td>\n",
       "      <td>161194</td>\n",
       "      <td>2.595241</td>\n",
       "      <td>2.737577</td>\n",
       "      <td>166</td>\n",
       "      <td>415801373971</td>\n",
       "      <td>415000000000</td>\n",
       "      <td>2757774885900</td>\n",
       "      <td>45473028339385</td>\n",
       "      <td>42715253453485</td>\n",
       "    </tr>\n",
       "    <tr>\n",
       "      <th>2015-01-02</th>\n",
       "      <td>1159934218</td>\n",
       "      <td>73370568521080</td>\n",
       "      <td>72955568521080</td>\n",
       "      <td>14978.682808</td>\n",
       "      <td>4.732406e+06</td>\n",
       "      <td>0.778933</td>\n",
       "      <td>77439</td>\n",
       "      <td>257633</td>\n",
       "      <td>2.715557</td>\n",
       "      <td>3.326915</td>\n",
       "      <td>166</td>\n",
       "      <td>416159934218</td>\n",
       "      <td>415000000000</td>\n",
       "      <td>4316724676318</td>\n",
       "      <td>73370568521080</td>\n",
       "      <td>69053843844762</td>\n",
       "    </tr>\n",
       "    <tr>\n",
       "      <th>2015-01-03</th>\n",
       "      <td>1196476043</td>\n",
       "      <td>82635189454578</td>\n",
       "      <td>82220189454578</td>\n",
       "      <td>14304.385766</td>\n",
       "      <td>4.086009e+06</td>\n",
       "      <td>0.797419</td>\n",
       "      <td>83644</td>\n",
       "      <td>295618</td>\n",
       "      <td>2.781885</td>\n",
       "      <td>3.534240</td>\n",
       "      <td>166</td>\n",
       "      <td>416196476043</td>\n",
       "      <td>415000000000</td>\n",
       "      <td>5584584356557</td>\n",
       "      <td>82635189454578</td>\n",
       "      <td>77050605098021</td>\n",
       "    </tr>\n",
       "    <tr>\n",
       "      <th>2015-01-04</th>\n",
       "      <td>2159195328</td>\n",
       "      <td>115159442449532</td>\n",
       "      <td>114726942449532</td>\n",
       "      <td>25138.199015</td>\n",
       "      <td>6.619757e+06</td>\n",
       "      <td>0.899054</td>\n",
       "      <td>85893</td>\n",
       "      <td>280288</td>\n",
       "      <td>2.770133</td>\n",
       "      <td>3.263223</td>\n",
       "      <td>173</td>\n",
       "      <td>434659195328</td>\n",
       "      <td>432500000000</td>\n",
       "      <td>6554587956125</td>\n",
       "      <td>115159442449532</td>\n",
       "      <td>108604854493407</td>\n",
       "    </tr>\n",
       "    <tr>\n",
       "      <th>2015-01-05</th>\n",
       "      <td>1608443040</td>\n",
       "      <td>112439228285641</td>\n",
       "      <td>112051728285641</td>\n",
       "      <td>16955.609622</td>\n",
       "      <td>4.662858e+06</td>\n",
       "      <td>0.898594</td>\n",
       "      <td>94862</td>\n",
       "      <td>286552</td>\n",
       "      <td>2.954471</td>\n",
       "      <td>3.020725</td>\n",
       "      <td>155</td>\n",
       "      <td>389108443040</td>\n",
       "      <td>387500000000</td>\n",
       "      <td>5063695492444</td>\n",
       "      <td>112439228285641</td>\n",
       "      <td>107375532793197</td>\n",
       "    </tr>\n",
       "  </tbody>\n",
       "</table>\n",
       "</div>"
      ],
      "text/plain": [
       "             total_fee  total_received_satoshi  total_sent_satoshi  \\\n",
       "2015-01-01   801373971          45473028339385      45058028339385   \n",
       "2015-01-02  1159934218          73370568521080      72955568521080   \n",
       "2015-01-03  1196476043          82635189454578      82220189454578   \n",
       "2015-01-04  2159195328         115159442449532     114726942449532   \n",
       "2015-01-05  1608443040         112439228285641     112051728285641   \n",
       "\n",
       "            mean_fee_satoshi   mean_feeUSD  mean_fee_for100  nb_transactions  \\\n",
       "2015-01-01      13609.829337  4.284054e+06         0.799999            58882   \n",
       "2015-01-02      14978.682808  4.732406e+06         0.778933            77439   \n",
       "2015-01-03      14304.385766  4.086009e+06         0.797419            83644   \n",
       "2015-01-04      25138.199015  6.619757e+06         0.899054            85893   \n",
       "2015-01-05      16955.609622  4.662858e+06         0.898594            94862   \n",
       "\n",
       "            nb_payments  mean_nb_inputs  mean_nb_outputs  nb_mining  \\\n",
       "2015-01-01       161194        2.595241         2.737577        166   \n",
       "2015-01-02       257633        2.715557         3.326915        166   \n",
       "2015-01-03       295618        2.781885         3.534240        166   \n",
       "2015-01-04       280288        2.770133         3.263223        173   \n",
       "2015-01-05       286552        2.954471         3.020725        155   \n",
       "\n",
       "            total_mining_satoshi  newly_created_coins  self_spent_satoshi  \\\n",
       "2015-01-01          415801373971         415000000000       2757774885900   \n",
       "2015-01-02          416159934218         415000000000       4316724676318   \n",
       "2015-01-03          416196476043         415000000000       5584584356557   \n",
       "2015-01-04          434659195328         432500000000       6554587956125   \n",
       "2015-01-05          389108443040         387500000000       5063695492444   \n",
       "\n",
       "             total_received  volume_without_self  \n",
       "2015-01-01   45473028339385       42715253453485  \n",
       "2015-01-02   73370568521080       69053843844762  \n",
       "2015-01-03   82635189454578       77050605098021  \n",
       "2015-01-04  115159442449532      108604854493407  \n",
       "2015-01-05  112439228285641      107375532793197  "
      ]
     },
     "execution_count": 444,
     "metadata": {},
     "output_type": "execute_result"
    }
   ],
   "source": [
    "transactions_df = transactions_df[transactions_df.index.year == 2015]\n",
    "transactions_df.head()"
   ]
  },
  {
   "cell_type": "code",
   "execution_count": 445,
   "metadata": {},
   "outputs": [
    {
     "data": {
      "text/html": [
       "<div>\n",
       "<style scoped>\n",
       "    .dataframe tbody tr th:only-of-type {\n",
       "        vertical-align: middle;\n",
       "    }\n",
       "\n",
       "    .dataframe tbody tr th {\n",
       "        vertical-align: top;\n",
       "    }\n",
       "\n",
       "    .dataframe thead th {\n",
       "        text-align: right;\n",
       "    }\n",
       "</style>\n",
       "<table border=\"1\" class=\"dataframe\">\n",
       "  <thead>\n",
       "    <tr style=\"text-align: right;\">\n",
       "      <th></th>\n",
       "      <th>identity</th>\n",
       "      <th>received</th>\n",
       "      <th>nb_received</th>\n",
       "      <th>date</th>\n",
       "      <th>sum_fee</th>\n",
       "      <th>mean_fee_for100</th>\n",
       "      <th>nb_transactions</th>\n",
       "      <th>sent</th>\n",
       "      <th>self_spent</th>\n",
       "      <th>self_spent_estimated</th>\n",
       "      <th>nb_spent</th>\n",
       "      <th>spent</th>\n",
       "    </tr>\n",
       "  </thead>\n",
       "  <tbody>\n",
       "    <tr>\n",
       "      <th>0</th>\n",
       "      <td>HappyCoins.com</td>\n",
       "      <td>1.377590e+09</td>\n",
       "      <td>4</td>\n",
       "      <td>2015-01-01</td>\n",
       "      <td>49596</td>\n",
       "      <td>0.004957</td>\n",
       "      <td>4</td>\n",
       "      <td>1.277500e+09</td>\n",
       "      <td>0.0</td>\n",
       "      <td>0.0</td>\n",
       "      <td>8</td>\n",
       "      <td>1.277500e+09</td>\n",
       "    </tr>\n",
       "    <tr>\n",
       "      <th>1</th>\n",
       "      <td>821</td>\n",
       "      <td>2.476057e+09</td>\n",
       "      <td>5</td>\n",
       "      <td>2015-01-01</td>\n",
       "      <td>10000</td>\n",
       "      <td>0.000851</td>\n",
       "      <td>1</td>\n",
       "      <td>1.174552e+09</td>\n",
       "      <td>0.0</td>\n",
       "      <td>0.0</td>\n",
       "      <td>2</td>\n",
       "      <td>1.174552e+09</td>\n",
       "    </tr>\n",
       "    <tr>\n",
       "      <th>2</th>\n",
       "      <td>FortuneJack.com</td>\n",
       "      <td>1.201470e+08</td>\n",
       "      <td>29</td>\n",
       "      <td>2015-01-01</td>\n",
       "      <td>83000</td>\n",
       "      <td>0.194670</td>\n",
       "      <td>11</td>\n",
       "      <td>1.541127e+08</td>\n",
       "      <td>14158970.0</td>\n",
       "      <td>14158970.0</td>\n",
       "      <td>22</td>\n",
       "      <td>1.399538e+08</td>\n",
       "    </tr>\n",
       "    <tr>\n",
       "      <th>3</th>\n",
       "      <td>396</td>\n",
       "      <td>1.906135e+10</td>\n",
       "      <td>70</td>\n",
       "      <td>2015-01-01</td>\n",
       "      <td>540000</td>\n",
       "      <td>0.023738</td>\n",
       "      <td>54</td>\n",
       "      <td>1.842989e+10</td>\n",
       "      <td>0.0</td>\n",
       "      <td>0.0</td>\n",
       "      <td>108</td>\n",
       "      <td>1.842989e+10</td>\n",
       "    </tr>\n",
       "    <tr>\n",
       "      <th>4</th>\n",
       "      <td>SatoshiMines.com</td>\n",
       "      <td>7.401319e+08</td>\n",
       "      <td>193</td>\n",
       "      <td>2015-01-01</td>\n",
       "      <td>740000</td>\n",
       "      <td>0.447934</td>\n",
       "      <td>45</td>\n",
       "      <td>1.813624e+09</td>\n",
       "      <td>35044568.0</td>\n",
       "      <td>35044568.0</td>\n",
       "      <td>84</td>\n",
       "      <td>1.778579e+09</td>\n",
       "    </tr>\n",
       "  </tbody>\n",
       "</table>\n",
       "</div>"
      ],
      "text/plain": [
       "           identity      received  nb_received       date  sum_fee  \\\n",
       "0    HappyCoins.com  1.377590e+09            4 2015-01-01    49596   \n",
       "1               821  2.476057e+09            5 2015-01-01    10000   \n",
       "2   FortuneJack.com  1.201470e+08           29 2015-01-01    83000   \n",
       "3               396  1.906135e+10           70 2015-01-01   540000   \n",
       "4  SatoshiMines.com  7.401319e+08          193 2015-01-01   740000   \n",
       "\n",
       "   mean_fee_for100  nb_transactions          sent  self_spent  \\\n",
       "0         0.004957                4  1.277500e+09         0.0   \n",
       "1         0.000851                1  1.174552e+09         0.0   \n",
       "2         0.194670               11  1.541127e+08  14158970.0   \n",
       "3         0.023738               54  1.842989e+10         0.0   \n",
       "4         0.447934               45  1.813624e+09  35044568.0   \n",
       "\n",
       "   self_spent_estimated  nb_spent         spent  \n",
       "0                   0.0         8  1.277500e+09  \n",
       "1                   0.0         2  1.174552e+09  \n",
       "2            14158970.0        22  1.399538e+08  \n",
       "3                   0.0       108  1.842989e+10  \n",
       "4            35044568.0        84  1.778579e+09  "
      ]
     },
     "execution_count": 445,
     "metadata": {},
     "output_type": "execute_result"
    }
   ],
   "source": [
    "actor_df = actor_df[actor_df['date'].dt.year == 2015]\n",
    "actor_df.head()"
   ]
  },
  {
   "cell_type": "code",
   "execution_count": 446,
   "metadata": {},
   "outputs": [],
   "source": [
    "#network_df = network_df[network_df.index == 2015]\n",
    "#network_df.head()"
   ]
  },
  {
   "attachments": {},
   "cell_type": "markdown",
   "metadata": {},
   "source": [
    "On veut récupérer les acteurs ayant fait le plus de profit en dolar sur toute la période proposée, pour cela on calcul le bénéfice journalier effectué grace a cette formule\n",
    "\n",
    "received - (spent - self_spent) - sum_fee"
   ]
  },
  {
   "cell_type": "code",
   "execution_count": 447,
   "metadata": {},
   "outputs": [
    {
     "data": {
      "text/html": [
       "<div>\n",
       "<style scoped>\n",
       "    .dataframe tbody tr th:only-of-type {\n",
       "        vertical-align: middle;\n",
       "    }\n",
       "\n",
       "    .dataframe tbody tr th {\n",
       "        vertical-align: top;\n",
       "    }\n",
       "\n",
       "    .dataframe thead th {\n",
       "        text-align: right;\n",
       "    }\n",
       "</style>\n",
       "<table border=\"1\" class=\"dataframe\">\n",
       "  <thead>\n",
       "    <tr style=\"text-align: right;\">\n",
       "      <th></th>\n",
       "      <th></th>\n",
       "      <th>received</th>\n",
       "      <th>nb_received</th>\n",
       "      <th>sum_fee</th>\n",
       "      <th>mean_fee_for100</th>\n",
       "      <th>nb_transactions</th>\n",
       "      <th>sent</th>\n",
       "      <th>self_spent</th>\n",
       "      <th>self_spent_estimated</th>\n",
       "      <th>nb_spent</th>\n",
       "      <th>spent</th>\n",
       "      <th>balance</th>\n",
       "    </tr>\n",
       "    <tr>\n",
       "      <th>identity</th>\n",
       "      <th>date</th>\n",
       "      <th></th>\n",
       "      <th></th>\n",
       "      <th></th>\n",
       "      <th></th>\n",
       "      <th></th>\n",
       "      <th></th>\n",
       "      <th></th>\n",
       "      <th></th>\n",
       "      <th></th>\n",
       "      <th></th>\n",
       "      <th></th>\n",
       "    </tr>\n",
       "  </thead>\n",
       "  <tbody>\n",
       "    <tr>\n",
       "      <th rowspan=\"5\" valign=\"top\">0</th>\n",
       "      <th>2015-01-01</th>\n",
       "      <td>3.021860e+10</td>\n",
       "      <td>4265</td>\n",
       "      <td>12350755</td>\n",
       "      <td>1.926137</td>\n",
       "      <td>783</td>\n",
       "      <td>3.001272e+10</td>\n",
       "      <td>0.0</td>\n",
       "      <td>0.000000e+00</td>\n",
       "      <td>1696</td>\n",
       "      <td>3.001272e+10</td>\n",
       "      <td>1.935257e+08</td>\n",
       "    </tr>\n",
       "    <tr>\n",
       "      <th>2015-01-02</th>\n",
       "      <td>3.401216e+10</td>\n",
       "      <td>8395</td>\n",
       "      <td>15588104</td>\n",
       "      <td>1.882565</td>\n",
       "      <td>962</td>\n",
       "      <td>3.400937e+10</td>\n",
       "      <td>0.0</td>\n",
       "      <td>0.000000e+00</td>\n",
       "      <td>2068</td>\n",
       "      <td>3.400937e+10</td>\n",
       "      <td>-1.280615e+07</td>\n",
       "    </tr>\n",
       "    <tr>\n",
       "      <th>2015-01-03</th>\n",
       "      <td>2.546280e+11</td>\n",
       "      <td>10004</td>\n",
       "      <td>14742886</td>\n",
       "      <td>1.984796</td>\n",
       "      <td>943</td>\n",
       "      <td>2.517348e+11</td>\n",
       "      <td>0.0</td>\n",
       "      <td>2.011365e+11</td>\n",
       "      <td>2039</td>\n",
       "      <td>5.059830e+10</td>\n",
       "      <td>2.040150e+11</td>\n",
       "    </tr>\n",
       "    <tr>\n",
       "      <th>2015-01-04</th>\n",
       "      <td>2.431648e+11</td>\n",
       "      <td>9007</td>\n",
       "      <td>18683447</td>\n",
       "      <td>2.075441</td>\n",
       "      <td>1059</td>\n",
       "      <td>2.429788e+11</td>\n",
       "      <td>0.0</td>\n",
       "      <td>2.004149e+11</td>\n",
       "      <td>2293</td>\n",
       "      <td>4.256388e+10</td>\n",
       "      <td>2.005823e+11</td>\n",
       "    </tr>\n",
       "    <tr>\n",
       "      <th>2015-01-05</th>\n",
       "      <td>4.882942e+10</td>\n",
       "      <td>6553</td>\n",
       "      <td>15866463</td>\n",
       "      <td>1.883876</td>\n",
       "      <td>995</td>\n",
       "      <td>4.926332e+10</td>\n",
       "      <td>0.0</td>\n",
       "      <td>0.000000e+00</td>\n",
       "      <td>2098</td>\n",
       "      <td>4.926332e+10</td>\n",
       "      <td>-4.497694e+08</td>\n",
       "    </tr>\n",
       "  </tbody>\n",
       "</table>\n",
       "</div>"
      ],
      "text/plain": [
       "                         received  nb_received   sum_fee  mean_fee_for100  \\\n",
       "identity date                                                               \n",
       "0        2015-01-01  3.021860e+10         4265  12350755         1.926137   \n",
       "         2015-01-02  3.401216e+10         8395  15588104         1.882565   \n",
       "         2015-01-03  2.546280e+11        10004  14742886         1.984796   \n",
       "         2015-01-04  2.431648e+11         9007  18683447         2.075441   \n",
       "         2015-01-05  4.882942e+10         6553  15866463         1.883876   \n",
       "\n",
       "                     nb_transactions          sent  self_spent  \\\n",
       "identity date                                                    \n",
       "0        2015-01-01              783  3.001272e+10         0.0   \n",
       "         2015-01-02              962  3.400937e+10         0.0   \n",
       "         2015-01-03              943  2.517348e+11         0.0   \n",
       "         2015-01-04             1059  2.429788e+11         0.0   \n",
       "         2015-01-05              995  4.926332e+10         0.0   \n",
       "\n",
       "                     self_spent_estimated  nb_spent         spent  \\\n",
       "identity date                                                       \n",
       "0        2015-01-01          0.000000e+00      1696  3.001272e+10   \n",
       "         2015-01-02          0.000000e+00      2068  3.400937e+10   \n",
       "         2015-01-03          2.011365e+11      2039  5.059830e+10   \n",
       "         2015-01-04          2.004149e+11      2293  4.256388e+10   \n",
       "         2015-01-05          0.000000e+00      2098  4.926332e+10   \n",
       "\n",
       "                          balance  \n",
       "identity date                      \n",
       "0        2015-01-01  1.935257e+08  \n",
       "         2015-01-02 -1.280615e+07  \n",
       "         2015-01-03  2.040150e+11  \n",
       "         2015-01-04  2.005823e+11  \n",
       "         2015-01-05 -4.497694e+08  "
      ]
     },
     "execution_count": 447,
     "metadata": {},
     "output_type": "execute_result"
    }
   ],
   "source": [
    "actor_df.set_index('identity', inplace=True)\n",
    "actor_df = actor_df.groupby([actor_df.index, 'date']).sum()\n",
    "\n",
    "# add a new column to the actor_df dataframe that contains the balance of the actor calculated as : received - (spent - self_spent) - sum_fee\n",
    "actor_df['balance'] = actor_df['received'] - (actor_df['spent'] - actor_df['self_spent']) - actor_df['sum_fee']\n",
    "actor_df.head()"
   ]
  },
  {
   "attachments": {},
   "cell_type": "markdown",
   "metadata": {},
   "source": [
    "on récupére le profit, le profit correspond a la somme des benefices journaliers du debut au jour voulu, le profit total est donc le profit du dernier jour"
   ]
  },
  {
   "cell_type": "code",
   "execution_count": 448,
   "metadata": {},
   "outputs": [
    {
     "data": {
      "text/html": [
       "<div>\n",
       "<style scoped>\n",
       "    .dataframe tbody tr th:only-of-type {\n",
       "        vertical-align: middle;\n",
       "    }\n",
       "\n",
       "    .dataframe tbody tr th {\n",
       "        vertical-align: top;\n",
       "    }\n",
       "\n",
       "    .dataframe thead th {\n",
       "        text-align: right;\n",
       "    }\n",
       "</style>\n",
       "<table border=\"1\" class=\"dataframe\">\n",
       "  <thead>\n",
       "    <tr style=\"text-align: right;\">\n",
       "      <th></th>\n",
       "      <th>received</th>\n",
       "      <th>nb_received</th>\n",
       "      <th>sum_fee</th>\n",
       "      <th>mean_fee_for100</th>\n",
       "      <th>nb_transactions</th>\n",
       "      <th>sent</th>\n",
       "      <th>self_spent</th>\n",
       "      <th>self_spent_estimated</th>\n",
       "      <th>nb_spent</th>\n",
       "      <th>spent</th>\n",
       "      <th>balance</th>\n",
       "      <th>profit</th>\n",
       "    </tr>\n",
       "    <tr>\n",
       "      <th>date</th>\n",
       "      <th></th>\n",
       "      <th></th>\n",
       "      <th></th>\n",
       "      <th></th>\n",
       "      <th></th>\n",
       "      <th></th>\n",
       "      <th></th>\n",
       "      <th></th>\n",
       "      <th></th>\n",
       "      <th></th>\n",
       "      <th></th>\n",
       "      <th></th>\n",
       "    </tr>\n",
       "  </thead>\n",
       "  <tbody>\n",
       "    <tr>\n",
       "      <th>2015-01-01</th>\n",
       "      <td>5.482961e+11</td>\n",
       "      <td>12818</td>\n",
       "      <td>38239914</td>\n",
       "      <td>0.524910</td>\n",
       "      <td>1148</td>\n",
       "      <td>2.470622e+12</td>\n",
       "      <td>1.794224e+12</td>\n",
       "      <td>1.898125e+12</td>\n",
       "      <td>20749</td>\n",
       "      <td>5.724979e+11</td>\n",
       "      <td>1.769984e+12</td>\n",
       "      <td>1.769984e+12</td>\n",
       "    </tr>\n",
       "    <tr>\n",
       "      <th>2015-01-02</th>\n",
       "      <td>1.259197e+12</td>\n",
       "      <td>19625</td>\n",
       "      <td>62774624</td>\n",
       "      <td>0.433979</td>\n",
       "      <td>2145</td>\n",
       "      <td>4.627579e+12</td>\n",
       "      <td>3.294133e+12</td>\n",
       "      <td>3.310133e+12</td>\n",
       "      <td>41870</td>\n",
       "      <td>1.317446e+12</td>\n",
       "      <td>3.235821e+12</td>\n",
       "      <td>5.005805e+12</td>\n",
       "    </tr>\n",
       "    <tr>\n",
       "      <th>2015-01-03</th>\n",
       "      <td>1.505475e+12</td>\n",
       "      <td>17609</td>\n",
       "      <td>65207667</td>\n",
       "      <td>0.702425</td>\n",
       "      <td>1696</td>\n",
       "      <td>4.967562e+12</td>\n",
       "      <td>3.536510e+12</td>\n",
       "      <td>3.536510e+12</td>\n",
       "      <td>24355</td>\n",
       "      <td>1.431051e+12</td>\n",
       "      <td>3.610868e+12</td>\n",
       "      <td>8.616673e+12</td>\n",
       "    </tr>\n",
       "    <tr>\n",
       "      <th>2015-01-04</th>\n",
       "      <td>1.764592e+12</td>\n",
       "      <td>16536</td>\n",
       "      <td>61792309</td>\n",
       "      <td>0.583889</td>\n",
       "      <td>1487</td>\n",
       "      <td>4.893706e+12</td>\n",
       "      <td>3.061963e+12</td>\n",
       "      <td>3.061963e+12</td>\n",
       "      <td>23306</td>\n",
       "      <td>1.831743e+12</td>\n",
       "      <td>2.994749e+12</td>\n",
       "      <td>1.161142e+13</td>\n",
       "    </tr>\n",
       "    <tr>\n",
       "      <th>2015-01-05</th>\n",
       "      <td>1.374703e+12</td>\n",
       "      <td>29140</td>\n",
       "      <td>93421193</td>\n",
       "      <td>0.330920</td>\n",
       "      <td>2440</td>\n",
       "      <td>4.604852e+12</td>\n",
       "      <td>3.214107e+12</td>\n",
       "      <td>3.214107e+12</td>\n",
       "      <td>41958</td>\n",
       "      <td>1.390745e+12</td>\n",
       "      <td>3.197972e+12</td>\n",
       "      <td>1.480939e+13</td>\n",
       "    </tr>\n",
       "  </tbody>\n",
       "</table>\n",
       "</div>"
      ],
      "text/plain": [
       "                received  nb_received   sum_fee  mean_fee_for100  \\\n",
       "date                                                               \n",
       "2015-01-01  5.482961e+11        12818  38239914         0.524910   \n",
       "2015-01-02  1.259197e+12        19625  62774624         0.433979   \n",
       "2015-01-03  1.505475e+12        17609  65207667         0.702425   \n",
       "2015-01-04  1.764592e+12        16536  61792309         0.583889   \n",
       "2015-01-05  1.374703e+12        29140  93421193         0.330920   \n",
       "\n",
       "            nb_transactions          sent    self_spent  self_spent_estimated  \\\n",
       "date                                                                            \n",
       "2015-01-01             1148  2.470622e+12  1.794224e+12          1.898125e+12   \n",
       "2015-01-02             2145  4.627579e+12  3.294133e+12          3.310133e+12   \n",
       "2015-01-03             1696  4.967562e+12  3.536510e+12          3.536510e+12   \n",
       "2015-01-04             1487  4.893706e+12  3.061963e+12          3.061963e+12   \n",
       "2015-01-05             2440  4.604852e+12  3.214107e+12          3.214107e+12   \n",
       "\n",
       "            nb_spent         spent       balance        profit  \n",
       "date                                                            \n",
       "2015-01-01     20749  5.724979e+11  1.769984e+12  1.769984e+12  \n",
       "2015-01-02     41870  1.317446e+12  3.235821e+12  5.005805e+12  \n",
       "2015-01-03     24355  1.431051e+12  3.610868e+12  8.616673e+12  \n",
       "2015-01-04     23306  1.831743e+12  2.994749e+12  1.161142e+13  \n",
       "2015-01-05     41958  1.390745e+12  3.197972e+12  1.480939e+13  "
      ]
     },
     "execution_count": 448,
     "metadata": {},
     "output_type": "execute_result"
    }
   ],
   "source": [
    "# compute the profits wich is the cumsum of each actor balance\n",
    "actor_df['profit'] = actor_df.groupby(level=0)['balance'].cumsum()\n",
    "\n",
    "actor_df.loc['ePay.info_CoinJoinMess'].head()"
   ]
  },
  {
   "attachments": {},
   "cell_type": "markdown",
   "metadata": {},
   "source": [
    "On compare ci dessous le bénéfice de quelques acteurs"
   ]
  },
  {
   "cell_type": "code",
   "execution_count": 449,
   "metadata": {},
   "outputs": [
    {
     "data": {
      "image/png": "[encoded data removed]",
      "text/plain": [
       "<Figure size 2000x1000 with 1 Axes>"
      ]
     },
     "metadata": {},
     "output_type": "display_data"
    }
   ],
   "source": [
    "plt.figure(figsize=(20,10))\n",
    "look = ['profit']\n",
    "plt.plot(actor_df.loc['Paymium.com'].index, actor_df.loc['Paymium.com'][look], label='Paymium.com')\n",
    "plt.plot(actor_df.loc['HaoBTC.com'].index, actor_df.loc['HaoBTC.com'][look], label='HaoBTC.com')\n",
    "plt.plot(actor_df.loc['OKCoin.com'].index, actor_df.loc['OKCoin.com'][look], label='OKCoin.com')\n",
    "plt.plot(actor_df.loc['BTCC.com'].index, actor_df.loc['BTCC.com'][look], label='BTCC.com')\n",
    "plt.plot(actor_df.loc['Poloniex.com'].index, actor_df.loc['Poloniex.com'][look], label='Poloniex.com')\n",
    "plt.legend()\n",
    "plt.show()"
   ]
  },
  {
   "attachments": {},
   "cell_type": "markdown",
   "metadata": {},
   "source": [
    "on veut passer le profit en USDollar pour avoir une meilleur idée de l'ordre de grandeur"
   ]
  },
  {
   "cell_type": "code",
   "execution_count": 450,
   "metadata": {},
   "outputs": [
    {
     "data": {
      "text/html": [
       "<div>\n",
       "<style scoped>\n",
       "    .dataframe tbody tr th:only-of-type {\n",
       "        vertical-align: middle;\n",
       "    }\n",
       "\n",
       "    .dataframe tbody tr th {\n",
       "        vertical-align: top;\n",
       "    }\n",
       "\n",
       "    .dataframe thead th {\n",
       "        text-align: right;\n",
       "    }\n",
       "</style>\n",
       "<table border=\"1\" class=\"dataframe\">\n",
       "  <thead>\n",
       "    <tr style=\"text-align: right;\">\n",
       "      <th></th>\n",
       "      <th></th>\n",
       "      <th>profit</th>\n",
       "      <th>PriceUSD</th>\n",
       "    </tr>\n",
       "    <tr>\n",
       "      <th>identity</th>\n",
       "      <th>date</th>\n",
       "      <th></th>\n",
       "      <th></th>\n",
       "    </tr>\n",
       "  </thead>\n",
       "  <tbody>\n",
       "    <tr>\n",
       "      <th rowspan=\"5\" valign=\"top\">0</th>\n",
       "      <th>2015-01-02</th>\n",
       "      <td>1.807196e+08</td>\n",
       "      <td>315.942732</td>\n",
       "    </tr>\n",
       "    <tr>\n",
       "      <th>2015-01-03</th>\n",
       "      <td>2.041957e+11</td>\n",
       "      <td>285.647310</td>\n",
       "    </tr>\n",
       "    <tr>\n",
       "      <th>2015-01-04</th>\n",
       "      <td>4.047780e+11</td>\n",
       "      <td>263.334575</td>\n",
       "    </tr>\n",
       "    <tr>\n",
       "      <th>2015-01-05</th>\n",
       "      <td>4.043282e+11</td>\n",
       "      <td>275.003852</td>\n",
       "    </tr>\n",
       "    <tr>\n",
       "      <th>2015-01-06</th>\n",
       "      <td>7.076734e+11</td>\n",
       "      <td>287.549521</td>\n",
       "    </tr>\n",
       "  </tbody>\n",
       "</table>\n",
       "</div>"
      ],
      "text/plain": [
       "                           profit    PriceUSD\n",
       "identity date                                \n",
       "0        2015-01-02  1.807196e+08  315.942732\n",
       "         2015-01-03  2.041957e+11  285.647310\n",
       "         2015-01-04  4.047780e+11  263.334575\n",
       "         2015-01-05  4.043282e+11  275.003852\n",
       "         2015-01-06  7.076734e+11  287.549521"
      ]
     },
     "execution_count": 450,
     "metadata": {},
     "output_type": "execute_result"
    }
   ],
   "source": [
    "# using the profit column and the external_df dataframe, we can compute the profit of the exchanges in USD\n",
    "# we need to convert the profit in BTC to USD\n",
    "\n",
    "# first we need to create a small dataframes with only the date, the actor and the profit\n",
    "actor_profits_df = actor_df[['profit']]\n",
    "\n",
    "# we need to compute the profit in USD using the external_df dataframe\n",
    "# we need to merge the two dataframes on the date column\n",
    "actor_profits_df = actor_profits_df.merge(external_df[['PriceUSD']], left_index=True, right_index=True)\n",
    "actor_profits_df.head()\n"
   ]
  },
  {
   "cell_type": "code",
   "execution_count": 451,
   "metadata": {},
   "outputs": [
    {
     "data": {
      "text/html": [
       "<div>\n",
       "<style scoped>\n",
       "    .dataframe tbody tr th:only-of-type {\n",
       "        vertical-align: middle;\n",
       "    }\n",
       "\n",
       "    .dataframe tbody tr th {\n",
       "        vertical-align: top;\n",
       "    }\n",
       "\n",
       "    .dataframe thead th {\n",
       "        text-align: right;\n",
       "    }\n",
       "</style>\n",
       "<table border=\"1\" class=\"dataframe\">\n",
       "  <thead>\n",
       "    <tr style=\"text-align: right;\">\n",
       "      <th></th>\n",
       "      <th></th>\n",
       "      <th>profit</th>\n",
       "      <th>PriceUSD</th>\n",
       "      <th>profit_usd</th>\n",
       "    </tr>\n",
       "    <tr>\n",
       "      <th>identity</th>\n",
       "      <th>date</th>\n",
       "      <th></th>\n",
       "      <th></th>\n",
       "      <th></th>\n",
       "    </tr>\n",
       "  </thead>\n",
       "  <tbody>\n",
       "    <tr>\n",
       "      <th rowspan=\"5\" valign=\"top\">0</th>\n",
       "      <th>2015-01-02</th>\n",
       "      <td>1.807196e+08</td>\n",
       "      <td>315.942732</td>\n",
       "      <td>57.097035</td>\n",
       "    </tr>\n",
       "    <tr>\n",
       "      <th>2015-01-03</th>\n",
       "      <td>2.041957e+11</td>\n",
       "      <td>285.647310</td>\n",
       "      <td>58327.956877</td>\n",
       "    </tr>\n",
       "    <tr>\n",
       "      <th>2015-01-04</th>\n",
       "      <td>4.047780e+11</td>\n",
       "      <td>263.334575</td>\n",
       "      <td>106592.036495</td>\n",
       "    </tr>\n",
       "    <tr>\n",
       "      <th>2015-01-05</th>\n",
       "      <td>4.043282e+11</td>\n",
       "      <td>275.003852</td>\n",
       "      <td>111191.814421</td>\n",
       "    </tr>\n",
       "    <tr>\n",
       "      <th>2015-01-06</th>\n",
       "      <td>7.076734e+11</td>\n",
       "      <td>287.549521</td>\n",
       "      <td>203491.134947</td>\n",
       "    </tr>\n",
       "  </tbody>\n",
       "</table>\n",
       "</div>"
      ],
      "text/plain": [
       "                           profit    PriceUSD     profit_usd\n",
       "identity date                                               \n",
       "0        2015-01-02  1.807196e+08  315.942732      57.097035\n",
       "         2015-01-03  2.041957e+11  285.647310   58327.956877\n",
       "         2015-01-04  4.047780e+11  263.334575  106592.036495\n",
       "         2015-01-05  4.043282e+11  275.003852  111191.814421\n",
       "         2015-01-06  7.076734e+11  287.549521  203491.134947"
      ]
     },
     "execution_count": 451,
     "metadata": {},
     "output_type": "execute_result"
    }
   ],
   "source": [
    "# we can now compute the profit in USD\n",
    "actor_profits_df['profit_usd'] = actor_profits_df['profit'] / 1e9 * actor_profits_df['PriceUSD']\n",
    "actor_profits_df.head()"
   ]
  },
  {
   "cell_type": "code",
   "execution_count": 452,
   "metadata": {},
   "outputs": [
    {
     "data": {
      "text/plain": [
       "identity\n",
       "ePay.info_CoinJoinMess    1.185568e+09\n",
       "Huobi.com                 3.248009e+08\n",
       "Bitstamp.net              2.584437e+08\n",
       "Xapo.com                  1.181836e+08\n",
       "BTC-e.com                 5.774306e+07\n",
       "Name: profit_usd, dtype: float64"
      ]
     },
     "execution_count": 452,
     "metadata": {},
     "output_type": "execute_result"
    }
   ],
   "source": [
    "# get these in a list\n",
    "top_actors = actor_profits_df.groupby(level=0)['profit_usd'].max().sort_values(ascending=False).head().index.tolist()\n",
    "\n",
    "# show the top 5 actor with the highest profit\n",
    "actor_profits_df.groupby(level=0)['profit_usd'].max().sort_values(ascending=False).head()\n",
    "\n",
    "\n"
   ]
  },
  {
   "attachments": {},
   "cell_type": "markdown",
   "metadata": {},
   "source": [
    "Ici on compare les bénéfices des 5 plus gros acteurs parmis les 100.\n",
    "On observe deja que l'acteur ePay.info_CoinJoinMess surplombe largement les 4 autres acteurs qui le suive"
   ]
  },
  {
   "cell_type": "code",
   "execution_count": 453,
   "metadata": {},
   "outputs": [
    {
     "data": {
      "image/png": "[encoded data removed]",
      "text/plain": [
       "<Figure size 2000x1000 with 1 Axes>"
      ]
     },
     "metadata": {},
     "output_type": "display_data"
    }
   ],
   "source": [
    "plt.figure(figsize=(20,10))\n",
    "look = ['profit_usd']\n",
    "for elt in top_actors:\n",
    "    plt.plot(actor_profits_df.loc[elt].index, actor_profits_df.loc[elt][look], label=elt)\n",
    "\n",
    "plt.legend()\n",
    "plt.show()\n"
   ]
  },
  {
   "attachments": {},
   "cell_type": "markdown",
   "metadata": {},
   "source": [
    "On groupe les acteurs par quartile pour voir leur impact par groupe.\n",
    "on veut essayer de voir si les acteurs les plus gros échangent bien plus, ou alors si les echanges par quartiles restent proche de 25 % par quartiles\n"
   ]
  },
  {
   "cell_type": "code",
   "execution_count": 454,
   "metadata": {},
   "outputs": [
    {
     "data": {
      "text/html": [
       "<div>\n",
       "<style scoped>\n",
       "    .dataframe tbody tr th:only-of-type {\n",
       "        vertical-align: middle;\n",
       "    }\n",
       "\n",
       "    .dataframe tbody tr th {\n",
       "        vertical-align: top;\n",
       "    }\n",
       "\n",
       "    .dataframe thead th {\n",
       "        text-align: right;\n",
       "    }\n",
       "</style>\n",
       "<table border=\"1\" class=\"dataframe\">\n",
       "  <thead>\n",
       "    <tr style=\"text-align: right;\">\n",
       "      <th></th>\n",
       "      <th>profit</th>\n",
       "      <th>profit_usd</th>\n",
       "    </tr>\n",
       "    <tr>\n",
       "      <th>identity</th>\n",
       "      <th></th>\n",
       "      <th></th>\n",
       "    </tr>\n",
       "  </thead>\n",
       "  <tbody>\n",
       "    <tr>\n",
       "      <th>ePay.info_CoinJoinMess</th>\n",
       "      <td>2.631645e+15</td>\n",
       "      <td>1.185568e+09</td>\n",
       "    </tr>\n",
       "    <tr>\n",
       "      <th>Huobi.com</th>\n",
       "      <td>7.404631e+14</td>\n",
       "      <td>3.248009e+08</td>\n",
       "    </tr>\n",
       "    <tr>\n",
       "      <th>Bitstamp.net</th>\n",
       "      <td>5.688628e+14</td>\n",
       "      <td>2.584437e+08</td>\n",
       "    </tr>\n",
       "    <tr>\n",
       "      <th>Xapo.com</th>\n",
       "      <td>2.679516e+14</td>\n",
       "      <td>1.181836e+08</td>\n",
       "    </tr>\n",
       "    <tr>\n",
       "      <th>BTC-e.com</th>\n",
       "      <td>1.281194e+14</td>\n",
       "      <td>5.774306e+07</td>\n",
       "    </tr>\n",
       "    <tr>\n",
       "      <th>107</th>\n",
       "      <td>8.720245e+13</td>\n",
       "      <td>3.819085e+07</td>\n",
       "    </tr>\n",
       "    <tr>\n",
       "      <th>OKCoin.com</th>\n",
       "      <td>6.978597e+13</td>\n",
       "      <td>3.100916e+07</td>\n",
       "    </tr>\n",
       "  </tbody>\n",
       "</table>\n",
       "</div>"
      ],
      "text/plain": [
       "                              profit    profit_usd\n",
       "identity                                          \n",
       "ePay.info_CoinJoinMess  2.631645e+15  1.185568e+09\n",
       "Huobi.com               7.404631e+14  3.248009e+08\n",
       "Bitstamp.net            5.688628e+14  2.584437e+08\n",
       "Xapo.com                2.679516e+14  1.181836e+08\n",
       "BTC-e.com               1.281194e+14  5.774306e+07\n",
       "107                     8.720245e+13  3.819085e+07\n",
       "OKCoin.com              6.978597e+13  3.100916e+07"
      ]
     },
     "execution_count": 454,
     "metadata": {},
     "output_type": "execute_result"
    }
   ],
   "source": [
    "# make a df of all the actors and their final profit and profit_usd\n",
    "final_profits_df = actor_profits_df.groupby(level=0)[['profit', 'profit_usd']].max().sort_values(by='profit_usd', ascending=False)\n",
    "final_profits_df.head(7)"
   ]
  },
  {
   "cell_type": "code",
   "execution_count": 455,
   "metadata": {},
   "outputs": [
    {
     "data": {
      "text/html": [
       "<div>\n",
       "<style scoped>\n",
       "    .dataframe tbody tr th:only-of-type {\n",
       "        vertical-align: middle;\n",
       "    }\n",
       "\n",
       "    .dataframe tbody tr th {\n",
       "        vertical-align: top;\n",
       "    }\n",
       "\n",
       "    .dataframe thead th {\n",
       "        text-align: right;\n",
       "    }\n",
       "</style>\n",
       "<table border=\"1\" class=\"dataframe\">\n",
       "  <thead>\n",
       "    <tr style=\"text-align: right;\">\n",
       "      <th></th>\n",
       "      <th>profit</th>\n",
       "      <th>profit_usd</th>\n",
       "      <th>quartile</th>\n",
       "    </tr>\n",
       "    <tr>\n",
       "      <th>identity</th>\n",
       "      <th></th>\n",
       "      <th></th>\n",
       "      <th></th>\n",
       "    </tr>\n",
       "  </thead>\n",
       "  <tbody>\n",
       "    <tr>\n",
       "      <th>ePay.info_CoinJoinMess</th>\n",
       "      <td>2.631645e+15</td>\n",
       "      <td>1.185568e+09</td>\n",
       "      <td>Q4</td>\n",
       "    </tr>\n",
       "    <tr>\n",
       "      <th>Huobi.com</th>\n",
       "      <td>7.404631e+14</td>\n",
       "      <td>3.248009e+08</td>\n",
       "      <td>Q4</td>\n",
       "    </tr>\n",
       "    <tr>\n",
       "      <th>Bitstamp.net</th>\n",
       "      <td>5.688628e+14</td>\n",
       "      <td>2.584437e+08</td>\n",
       "      <td>Q4</td>\n",
       "    </tr>\n",
       "    <tr>\n",
       "      <th>Xapo.com</th>\n",
       "      <td>2.679516e+14</td>\n",
       "      <td>1.181836e+08</td>\n",
       "      <td>Q4</td>\n",
       "    </tr>\n",
       "    <tr>\n",
       "      <th>BTC-e.com</th>\n",
       "      <td>1.281194e+14</td>\n",
       "      <td>5.774306e+07</td>\n",
       "      <td>Q4</td>\n",
       "    </tr>\n",
       "    <tr>\n",
       "      <th>...</th>\n",
       "      <td>...</td>\n",
       "      <td>...</td>\n",
       "      <td>...</td>\n",
       "    </tr>\n",
       "    <tr>\n",
       "      <th>72472408</th>\n",
       "      <td>8.172299e+08</td>\n",
       "      <td>1.992902e+02</td>\n",
       "      <td>Q1</td>\n",
       "    </tr>\n",
       "    <tr>\n",
       "      <th>16768780</th>\n",
       "      <td>6.077411e+08</td>\n",
       "      <td>1.614744e+02</td>\n",
       "      <td>Q1</td>\n",
       "    </tr>\n",
       "    <tr>\n",
       "      <th>419</th>\n",
       "      <td>1.036196e+08</td>\n",
       "      <td>4.712120e+01</td>\n",
       "      <td>Q1</td>\n",
       "    </tr>\n",
       "    <tr>\n",
       "      <th>74304487</th>\n",
       "      <td>1.076068e+08</td>\n",
       "      <td>2.772250e+01</td>\n",
       "      <td>Q1</td>\n",
       "    </tr>\n",
       "    <tr>\n",
       "      <th>73963652</th>\n",
       "      <td>-2.928218e+07</td>\n",
       "      <td>-6.702578e+00</td>\n",
       "      <td>Q1</td>\n",
       "    </tr>\n",
       "  </tbody>\n",
       "</table>\n",
       "<p>100 rows × 3 columns</p>\n",
       "</div>"
      ],
      "text/plain": [
       "                              profit    profit_usd quartile\n",
       "identity                                                   \n",
       "ePay.info_CoinJoinMess  2.631645e+15  1.185568e+09       Q4\n",
       "Huobi.com               7.404631e+14  3.248009e+08       Q4\n",
       "Bitstamp.net            5.688628e+14  2.584437e+08       Q4\n",
       "Xapo.com                2.679516e+14  1.181836e+08       Q4\n",
       "BTC-e.com               1.281194e+14  5.774306e+07       Q4\n",
       "...                              ...           ...      ...\n",
       "72472408                8.172299e+08  1.992902e+02       Q1\n",
       "16768780                6.077411e+08  1.614744e+02       Q1\n",
       "419                     1.036196e+08  4.712120e+01       Q1\n",
       "74304487                1.076068e+08  2.772250e+01       Q1\n",
       "73963652               -2.928218e+07 -6.702578e+00       Q1\n",
       "\n",
       "[100 rows x 3 columns]"
      ]
     },
     "execution_count": 455,
     "metadata": {},
     "output_type": "execute_result"
    }
   ],
   "source": [
    "# divide the actors into quartiles based on their profit\n",
    "final_profits_df['quartile'] = pd.qcut(final_profits_df['profit'], 4, labels=['Q1', 'Q2', 'Q3', 'Q4'])\n",
    "final_profits_df"
   ]
  },
  {
   "cell_type": "code",
   "execution_count": 456,
   "metadata": {},
   "outputs": [
    {
     "data": {
      "text/plain": [
       "quartile\n",
       "Q1    4.081625e+10\n",
       "Q2    6.302959e+11\n",
       "Q3    7.697537e+12\n",
       "Q4    4.690425e+15\n",
       "Name: profit, dtype: float64"
      ]
     },
     "execution_count": 456,
     "metadata": {},
     "output_type": "execute_result"
    }
   ],
   "source": [
    "# print the total profit of each quartile\n",
    "final_profits_df.groupby('quartile')['profit'].sum()"
   ]
  },
  {
   "cell_type": "code",
   "execution_count": 457,
   "metadata": {},
   "outputs": [
    {
     "name": "stdout",
     "output_type": "stream",
     "text": [
      "Q1 transactions :  150377\n",
      "Q2 transactions :  394229\n",
      "Q3 transactions :  575885\n",
      "Q4 transactions :  5056946\n",
      "Total transactions :  6177437\n",
      "Q1 transactions :  2.434294352172268\n",
      "Q2 transactions :  6.381756705895988\n",
      "Q3 transactions :  9.322393737078986\n",
      "Q4 transactions :  81.86155520485275\n",
      "Total transactions :  1.0\n",
      "Top 5 transactions :  2602244\n",
      "Top 5 transactions :  42.124978368860745\n",
      "Number of actors :  100\n"
     ]
    }
   ],
   "source": [
    "# get the list of actors in each quartile\n",
    "quartile_1 = final_profits_df[final_profits_df['quartile'] == 'Q1'].index.tolist()\n",
    "quartile_2 = final_profits_df[final_profits_df['quartile'] == 'Q2'].index.tolist()\n",
    "quartile_3 = final_profits_df[final_profits_df['quartile'] == 'Q3'].index.tolist()\n",
    "quartile_4 = final_profits_df[final_profits_df['quartile'] == 'Q4'].index.tolist()\n",
    "\n",
    "# get the number of transactions of each quartile\n",
    "quartile_1_transactions = actor_df.loc[quartile_1]['nb_transactions'].sum()\n",
    "quartile_2_transactions = actor_df.loc[quartile_2]['nb_transactions'].sum()\n",
    "quartile_3_transactions = actor_df.loc[quartile_3]['nb_transactions'].sum()\n",
    "quartile_4_transactions = actor_df.loc[quartile_4]['nb_transactions'].sum()\n",
    "\n",
    "# print the number of transactions of each quartile \n",
    "print('Q1 transactions : ', quartile_1_transactions)\n",
    "print('Q2 transactions : ', quartile_2_transactions)\n",
    "print('Q3 transactions : ', quartile_3_transactions)\n",
    "print('Q4 transactions : ', quartile_4_transactions)\n",
    "print('Total transactions : ', actor_df['nb_transactions'].sum())\n",
    "\n",
    "# print the number of transactions of each quartile in percentage\n",
    "print('Q1 transactions : ', quartile_1_transactions / actor_df['nb_transactions'].sum() * 100)\n",
    "print('Q2 transactions : ', quartile_2_transactions / actor_df['nb_transactions'].sum() * 100)\n",
    "print('Q3 transactions : ', quartile_3_transactions / actor_df['nb_transactions'].sum() * 100)\n",
    "print('Q4 transactions : ', quartile_4_transactions / actor_df['nb_transactions'].sum() * 100)\n",
    "print('Total transactions : ',(quartile_1_transactions + quartile_2_transactions + quartile_3_transactions + quartile_4_transactions) / actor_df['nb_transactions'].sum())\n",
    "\n",
    "# print the number of transactions of the top 5 actors\n",
    "top_5_transactions = actor_df.loc[top_actors]['nb_transactions'].sum()\n",
    "print('Top 5 transactions : ', top_5_transactions)\n",
    "print('Top 5 transactions : ', top_5_transactions / actor_df['nb_transactions'].sum() * 100)\n",
    "\n",
    "#print the number of actors\n",
    "print('Number of actors : ', len(final_profits_df.index.get_level_values(0).unique()))\n"
   ]
  },
  {
   "attachments": {},
   "cell_type": "markdown",
   "metadata": {},
   "source": [
    "numériquement, on se rend deja compte que le quartiles 4, correspondant au 25 acteurs ayant fait le plus de profit, monoplyse a lui tout seul environ 82 % des transactions faite par les 100 plus gros acteurs.\n",
    "\n",
    "Il est d'autant plus flagrant de voir que les 5 plus gros acteurs font a eux tout seuls plus de 42 % de toutes les transactions des 100 plus gros acteurs.\n"
   ]
  },
  {
   "cell_type": "code",
   "execution_count": 458,
   "metadata": {},
   "outputs": [
    {
     "data": {
      "text/html": [
       "<div>\n",
       "<style scoped>\n",
       "    .dataframe tbody tr th:only-of-type {\n",
       "        vertical-align: middle;\n",
       "    }\n",
       "\n",
       "    .dataframe tbody tr th {\n",
       "        vertical-align: top;\n",
       "    }\n",
       "\n",
       "    .dataframe thead th {\n",
       "        text-align: right;\n",
       "    }\n",
       "</style>\n",
       "<table border=\"1\" class=\"dataframe\">\n",
       "  <thead>\n",
       "    <tr style=\"text-align: right;\">\n",
       "      <th></th>\n",
       "      <th>profit</th>\n",
       "      <th>profit_usd</th>\n",
       "      <th>quartile</th>\n",
       "      <th>mean_fee_for100</th>\n",
       "      <th>nb_transactions</th>\n",
       "    </tr>\n",
       "    <tr>\n",
       "      <th>identity</th>\n",
       "      <th></th>\n",
       "      <th></th>\n",
       "      <th></th>\n",
       "      <th></th>\n",
       "      <th></th>\n",
       "    </tr>\n",
       "  </thead>\n",
       "  <tbody>\n",
       "    <tr>\n",
       "      <th>ePay.info_CoinJoinMess</th>\n",
       "      <td>2.631645e+15</td>\n",
       "      <td>1.185568e+09</td>\n",
       "      <td>Q4</td>\n",
       "      <td>996.025937</td>\n",
       "      <td>1784401</td>\n",
       "    </tr>\n",
       "    <tr>\n",
       "      <th>Huobi.com</th>\n",
       "      <td>7.404631e+14</td>\n",
       "      <td>3.248009e+08</td>\n",
       "      <td>Q4</td>\n",
       "      <td>3.250980</td>\n",
       "      <td>462394</td>\n",
       "    </tr>\n",
       "    <tr>\n",
       "      <th>Bitstamp.net</th>\n",
       "      <td>5.688628e+14</td>\n",
       "      <td>2.584437e+08</td>\n",
       "      <td>Q4</td>\n",
       "      <td>89.150888</td>\n",
       "      <td>53525</td>\n",
       "    </tr>\n",
       "    <tr>\n",
       "      <th>Xapo.com</th>\n",
       "      <td>2.679516e+14</td>\n",
       "      <td>1.181836e+08</td>\n",
       "      <td>Q4</td>\n",
       "      <td>30.757921</td>\n",
       "      <td>269466</td>\n",
       "    </tr>\n",
       "    <tr>\n",
       "      <th>BTC-e.com</th>\n",
       "      <td>1.281194e+14</td>\n",
       "      <td>5.774306e+07</td>\n",
       "      <td>Q4</td>\n",
       "      <td>11.948425</td>\n",
       "      <td>32458</td>\n",
       "    </tr>\n",
       "  </tbody>\n",
       "</table>\n",
       "</div>"
      ],
      "text/plain": [
       "                              profit    profit_usd quartile  mean_fee_for100  \\\n",
       "identity                                                                       \n",
       "ePay.info_CoinJoinMess  2.631645e+15  1.185568e+09       Q4       996.025937   \n",
       "Huobi.com               7.404631e+14  3.248009e+08       Q4         3.250980   \n",
       "Bitstamp.net            5.688628e+14  2.584437e+08       Q4        89.150888   \n",
       "Xapo.com                2.679516e+14  1.181836e+08       Q4        30.757921   \n",
       "BTC-e.com               1.281194e+14  5.774306e+07       Q4        11.948425   \n",
       "\n",
       "                        nb_transactions  \n",
       "identity                                 \n",
       "ePay.info_CoinJoinMess          1784401  \n",
       "Huobi.com                        462394  \n",
       "Bitstamp.net                      53525  \n",
       "Xapo.com                         269466  \n",
       "BTC-e.com                         32458  "
      ]
     },
     "execution_count": 458,
     "metadata": {},
     "output_type": "execute_result"
    }
   ],
   "source": [
    "# look at the mean_fee_for100 for each actor and update the final_profits_df dataframe\n",
    "final_profits_df['mean_fee_for100'] = actor_df.groupby(level=0)['mean_fee_for100'].mean()\n",
    "\n",
    "# add every actor_df column to the final_profits_df dataframe\n",
    "l = [\"received\", \"nb_received\", \"sum_fee\", \"mean_fee_for100\", \"nb_transactions\", \"sent\", \"self_spent\", \"self_spent_estimated\", \"nb_spent\", \"spent\"]\n",
    "l = [\"mean_fee_for100\", \"nb_transactions\"]\n",
    "for elt in l:\n",
    "    final_profits_df[elt] = actor_df.groupby(level=0)[elt].sum()\n",
    "\n",
    "\n",
    "final_profits_df.head()\n",
    "\n"
   ]
  },
  {
   "attachments": {},
   "cell_type": "markdown",
   "metadata": {},
   "source": [
    "Ci-dessous on affiche un camembert qui représente l'impact sur le réseaux de chaque quartile.\n",
    "\n",
    "la taille que prend une section correspond au nombre de transaction totale effectuée par l'acteur.\n",
    "Ceux-ci sont séparés par couleur en fonction de leur profit"
   ]
  },
  {
   "cell_type": "code",
   "execution_count": 459,
   "metadata": {},
   "outputs": [
    {
     "data": {
      "application/vnd.plotly.v1+json": {
       "config": {
        "plotlyServerURL": "https://plot.ly"
       },
       "data": [
        {
         "branchvalues": "total",
         "customdata": [
          [
           null,
           null
          ],
          [
           null,
           null
          ],
          [
           null,
           null
          ],
          [
           16746923.254111396,
           16.633725113041244
          ],
          [
           375.06054526978625,
           5.927087466990872
          ],
          [
           null,
           null
          ],
          [
           null,
           null
          ],
          [
           null,
           null
          ],
          [
           null,
           null
          ],
          [
           null,
           null
          ],
          [
           null,
           null
          ],
          [
           38190848.488327995,
           17.45810647650734
          ],
          [
           null,
           null
          ],
          [
           8509.713818085607,
           9.048963592104847
          ],
          [
           null,
           null
          ],
          [
           null,
           null
          ],
          [
           856.3626887244405,
           6.752693988186377
          ],
          [
           null,
           null
          ],
          [
           null,
           null
          ],
          [
           null,
           null
          ],
          [
           316.9462242345539,
           5.758732119848219
          ],
          [
           null,
           null
          ],
          [
           null,
           null
          ],
          [
           null,
           null
          ],
          [
           null,
           null
          ],
          [
           null,
           null
          ],
          [
           169917.52062565897,
           12.043068425507757
          ],
          [
           null,
           null
          ],
          [
           null,
           null
          ],
          [
           null,
           null
          ],
          [
           436203.3564301162,
           12.985863827424593
          ],
          [
           null,
           null
          ],
          [
           406.7399074044485,
           6.008173933017976
          ],
          [
           null,
           null
          ],
          [
           null,
           null
          ],
          [
           null,
           null
          ],
          [
           null,
           null
          ],
          [
           1198.7196801313398,
           7.089009332973785
          ],
          [
           null,
           null
          ],
          [
           null,
           null
          ],
          [
           1242.0664821645107,
           7.124531789373646
          ],
          [
           null,
           null
          ],
          [
           null,
           null
          ],
          [
           null,
           null
          ],
          [
           1283.497636477758,
           7.157344158843008
          ],
          [
           null,
           null
          ],
          [
           null,
           null
          ],
          [
           null,
           null
          ],
          [
           161.47441306830206,
           5.084346697097266
          ],
          [
           null,
           null
          ],
          [
           null,
           null
          ],
          [
           null,
           null
          ],
          [
           null,
           null
          ],
          [
           null,
           null
          ],
          [
           114055.31641212414,
           11.644438841375106
          ],
          [
           null,
           null
          ],
          [
           null,
           null
          ],
          [
           1912.228804863519,
           7.556024754267373
          ],
          [
           null,
           null
          ],
          [
           null,
           null
          ],
          [
           300.4350597516565,
           5.705231623305092
          ],
          [
           null,
           null
          ],
          [
           null,
           null
          ],
          [
           null,
           null
          ],
          [
           618.3774761084052,
           6.427099073758017
          ],
          [
           null,
           null
          ],
          [
           null,
           null
          ],
          [
           null,
           null
          ],
          [
           null,
           null
          ],
          [
           1606.344064909141,
           7.381716108739992
          ],
          [
           null,
           null
          ],
          [
           null,
           null
          ],
          [
           null,
           null
          ],
          [
           null,
           null
          ],
          [
           null,
           null
          ],
          [
           597075.1814697308,
           13.299798316556059
          ],
          [
           618.0879793900828,
           6.426630808797884
          ],
          [
           null,
           null
          ],
          [
           null,
           null
          ],
          [
           null,
           null
          ],
          [
           null,
           null
          ],
          [
           3995.4511876293714,
           8.292911789903293
          ],
          [
           null,
           null
          ],
          [
           null,
           null
          ],
          [
           682.8706675276956,
           6.526305482236953
          ],
          [
           null,
           null
          ],
          [
           null,
           null
          ],
          [
           null,
           null
          ],
          [
           null,
           null
          ],
          [
           null,
           null
          ],
          [
           26569.473195984407,
           10.187518211533757
          ],
          [
           null,
           null
          ],
          [
           null,
           null
          ],
          [
           null,
           null
          ],
          [
           null,
           null
          ],
          [
           480102.7484427918,
           13.081755419232476
          ],
          [
           null,
           null
          ],
          [
           null,
           null
          ],
          [
           null,
           null
          ],
          [
           1148299.4262454621,
           13.953792646108544
          ],
          [
           47.12120453368336,
           3.85272310212533
          ],
          [
           null,
           null
          ],
          [
           null,
           null
          ],
          [
           null,
           null
          ],
          [
           null,
           null
          ],
          [
           null,
           null
          ],
          [
           249242.92233413583,
           12.426183291569906
          ],
          [
           null,
           null
          ],
          [
           null,
           null
          ],
          [
           4669.880552891153,
           8.448888772796465
          ],
          [
           null,
           null
          ],
          [
           null,
           null
          ],
          [
           842.5436783624613,
           6.7364255046363395
          ],
          [
           null,
           null
          ],
          [
           null,
           null
          ],
          [
           null,
           null
          ],
          [
           null,
           null
          ],
          [
           1915.0232237877758,
           7.557485028845533
          ],
          [
           null,
           null
          ],
          [
           null,
           null
          ],
          [
           null,
           null
          ],
          [
           null,
           null
          ],
          [
           200883.6045936777,
           12.2104809376852
          ],
          [
           null,
           null
          ],
          [
           null,
           null
          ],
          [
           null,
           null
          ],
          [
           33116.278783546135,
           10.407780246617577
          ],
          [
           null,
           null
          ],
          [
           null,
           null
          ],
          [
           10945.808615887834,
           9.300711887162908
          ],
          [
           null,
           null
          ],
          [
           null,
           null
          ],
          [
           null,
           null
          ],
          [
           13924.238696378849,
           9.541386391586666
          ],
          [
           null,
           null
          ],
          [
           null,
           null
          ],
          [
           302.72555411227955,
           5.71282663305342
          ],
          [
           null,
           null
          ],
          [
           null,
           null
          ],
          [
           null,
           null
          ],
          [
           null,
           null
          ],
          [
           null,
           null
          ],
          [
           26256.68024930471,
           10.175675721331578
          ],
          [
           null,
           null
          ],
          [
           326.3603589950162,
           5.78800216655698
          ],
          [
           null,
           null
          ],
          [
           null,
           null
          ],
          [
           null,
           null
          ],
          [
           355.4571093627372,
           5.873404593195976
          ],
          [
           null,
           null
          ],
          [
           null,
           null
          ],
          [
           null,
           null
          ],
          [
           null,
           null
          ],
          [
           10714.805632305846,
           9.27938176796768
          ],
          [
           null,
           null
          ],
          [
           null,
           null
          ],
          [
           1160.1113988580096,
           7.056271312987773
          ],
          [
           null,
           null
          ],
          [
           null,
           null
          ],
          [
           null,
           null
          ],
          [
           318.1592457264837,
           5.762552030160152
          ],
          [
           null,
           null
          ],
          [
           null,
           null
          ],
          [
           null,
           null
          ],
          [
           null,
           null
          ],
          [
           1754.27977927669,
           7.46981366949163
          ],
          [
           null,
           null
          ],
          [
           null,
           null
          ],
          [
           215.7729266213457,
           5.3742265890749445
          ],
          [
           null,
           null
          ],
          [
           null,
           null
          ],
          [
           null,
           null
          ],
          [
           199.29020161039247,
           5.2947620619880436
          ],
          [
           null,
           null
          ],
          [
           null,
           null
          ],
          [
           null,
           null
          ],
          [
           457.6850915887021,
           6.126181374677064
          ],
          [
           null,
           null
          ],
          [
           null,
           null
          ],
          [
           null,
           null
          ],
          [
           205.91589301933104,
           5.327467799104103
          ],
          [
           null,
           null
          ],
          [
           null,
           null
          ],
          [
           null,
           null
          ],
          [
           -6.702578290872978,
           1.902492271906154
          ],
          [
           null,
           null
          ],
          [
           null,
           null
          ],
          [
           null,
           null
          ],
          [
           1210.0715376610428,
           7.098434758877068
          ],
          [
           null,
           null
          ],
          [
           null,
           null
          ],
          [
           null,
           null
          ],
          [
           27.7224978609806,
           3.3222442806869874
          ],
          [
           null,
           null
          ],
          [
           null,
           null
          ],
          [
           null,
           null
          ],
          [
           null,
           null
          ],
          [
           null,
           null
          ],
          [
           null,
           null
          ],
          [
           817027.8628044383,
           13.61342847706042
          ],
          [
           null,
           null
          ],
          [
           2443.6094098493068,
           7.801231491582287
          ],
          [
           null,
           null
          ],
          [
           null,
           null
          ],
          [
           null,
           null
          ],
          [
           null,
           null
          ],
          [
           28546.92908806338,
           10.259304646709163
          ],
          [
           null,
           null
          ],
          [
           null,
           null
          ],
          [
           null,
           null
          ],
          [
           268069.9168071156,
           12.499003109077423
          ],
          [
           null,
           null
          ],
          [
           null,
           null
          ],
          [
           null,
           null
          ],
          [
           null,
           null
          ],
          [
           57743056.802342154,
           17.871513671607275
          ],
          [
           null,
           null
          ],
          [
           null,
           null
          ],
          [
           null,
           null
          ],
          [
           7471962.836366852,
           15.826668285158807
          ],
          [
           null,
           null
          ],
          [
           null,
           null
          ],
          [
           121700.82175563747,
           11.7093210312588
          ],
          [
           null,
           null
          ],
          [
           null,
           null
          ],
          [
           null,
           null
          ],
          [
           null,
           null
          ],
          [
           1691937.0795959388,
           14.341384631456815
          ],
          [
           null,
           null
          ],
          [
           null,
           null
          ],
          [
           null,
           null
          ],
          [
           1811243.3306178646,
           14.409524090411693
          ],
          [
           null,
           null
          ],
          [
           null,
           null
          ],
          [
           83339.7187819421,
           11.330680530624004
          ],
          [
           null,
           null
          ],
          [
           null,
           null
          ],
          [
           null,
           null
          ],
          [
           null,
           null
          ],
          [
           2085939.8553832641,
           14.55073008161677
          ],
          [
           null,
           null
          ],
          [
           null,
           null
          ],
          [
           133624.08823740005,
           11.802785825010522
          ],
          [
           null,
           null
          ],
          [
           null,
           null
          ],
          [
           null,
           null
          ],
          [
           null,
           null
          ],
          [
           1366792.0118577846,
           14.127976954794272
          ],
          [
           null,
           null
          ],
          [
           null,
           null
          ],
          [
           71811.0355146487,
           11.1817934412016
          ],
          [
           null,
           null
          ],
          [
           null,
           null
          ],
          [
           null,
           null
          ],
          [
           null,
           null
          ],
          [
           258443680.63796124,
           19.370188358303178
          ],
          [
           null,
           null
          ],
          [
           null,
           null
          ],
          [
           null,
           null
          ],
          [
           2927103.978245212,
           14.889524088871289
          ],
          [
           null,
           null
          ],
          [
           null,
           null
          ],
          [
           null,
           null
          ],
          [
           13418818.956325853,
           16.4121686794
          ],
          [
           null,
           null
          ],
          [
           null,
           null
          ],
          [
           33541.87400882271,
           10.420549907663146
          ],
          [
           null,
           null
          ],
          [
           null,
           null
          ],
          [
           null,
           null
          ],
          [
           29274.72340032613,
           10.284479740097666
          ],
          [
           null,
           null
          ],
          [
           null,
           null
          ],
          [
           null,
           null
          ],
          [
           null,
           null
          ],
          [
           465852.6223376719,
           13.051624602008745
          ],
          [
           null,
           null
          ],
          [
           12510.697359396965,
           9.43433934606374
          ],
          [
           null,
           null
          ],
          [
           null,
           null
          ],
          [
           null,
           null
          ],
          [
           null,
           null
          ],
          [
           47532.043670061554,
           10.769159366160263
          ],
          [
           null,
           null
          ],
          [
           null,
           null
          ],
          [
           11081.938031016669,
           9.31307185755249
          ],
          [
           null,
           null
          ],
          [
           null,
           null
          ],
          [
           null,
           null
          ],
          [
           null,
           null
          ],
          [
           null,
           null
          ],
          [
           4226538.908534616,
           15.256893991161014
          ],
          [
           null,
           null
          ],
          [
           10458.587338454081,
           9.255178674813266
          ],
          [
           null,
           null
          ],
          [
           null,
           null
          ],
          [
           null,
           null
          ],
          [
           12644.858099322813,
           9.445005937160737
          ],
          [
           null,
           null
          ],
          [
           null,
           null
          ],
          [
           null,
           null
          ],
          [
           20827.299664947393,
           9.944019889027022
          ],
          [
           null,
           null
          ],
          [
           null,
           null
          ],
          [
           null,
           null
          ],
          [
           null,
           null
          ],
          [
           null,
           null
          ],
          [
           24643502.769871287,
           17.020023844394274
          ],
          [
           null,
           null
          ],
          [
           3729.629731802228,
           8.224064240097162
          ],
          [
           null,
           null
          ],
          [
           null,
           null
          ],
          [
           null,
           null
          ],
          [
           15578.77880388783,
           9.653664934060506
          ],
          [
           null,
           null
          ],
          [
           null,
           null
          ],
          [
           null,
           null
          ],
          [
           null,
           null
          ],
          [
           null,
           null
          ],
          [
           324800859.6264089,
           19.598722812881327
          ],
          [
           null,
           null
          ],
          [
           null,
           null
          ],
          [
           71505.88640946067,
           11.17753505269843
          ],
          [
           null,
           null
          ],
          [
           null,
           null
          ],
          [
           null,
           null
          ],
          [
           null,
           null
          ],
          [
           1953537.3021603338,
           14.485152288334797
          ],
          [
           null,
           null
          ],
          [
           null,
           null
          ],
          [
           46467.685478134066,
           10.74651241404142
          ],
          [
           null,
           null
          ],
          [
           null,
           null
          ],
          [
           null,
           null
          ],
          [
           39353.32182757719,
           10.580335667755966
          ],
          [
           null,
           null
          ],
          [
           null,
           null
          ],
          [
           null,
           null
          ],
          [
           null,
           null
          ],
          [
           31009162.631160174,
           17.249793287524685
          ],
          [
           null,
           null
          ],
          [
           null,
           null
          ],
          [
           null,
           null
          ],
          [
           3209871.80196141,
           14.98174155722502
          ],
          [
           null,
           null
          ],
          [
           11214.354119594282,
           9.324949854533015
          ],
          [
           null,
           null
          ],
          [
           null,
           null
          ],
          [
           null,
           null
          ],
          [
           null,
           null
          ],
          [
           null,
           null
          ],
          [
           1477387.4263676594,
           14.205785833391891
          ],
          [
           null,
           null
          ],
          [
           14278.289905089365,
           9.566495474176865
          ],
          [
           null,
           null
          ],
          [
           null,
           null
          ],
          [
           null,
           null
          ],
          [
           9856.76185745735,
           9.195912981635061
          ],
          [
           null,
           null
          ],
          [
           null,
           null
          ],
          [
           null,
           null
          ],
          [
           null,
           null
          ],
          [
           398822.94127681665,
           12.896272841184626
          ],
          [
           null,
           null
          ],
          [
           null,
           null
          ],
          [
           24048.373870523028,
           10.087822658716675
          ],
          [
           null,
           null
          ],
          [
           null,
           null
          ],
          [
           null,
           null
          ],
          [
           null,
           null
          ],
          [
           72355.11459675072,
           11.1893414219833
          ],
          [
           null,
           null
          ],
          [
           null,
           null
          ],
          [
           null,
           null
          ],
          [
           290353.06248105055,
           12.578852918294254
          ],
          [
           null,
           null
          ],
          [
           null,
           null
          ],
          [
           null,
           null
          ],
          [
           212023.99769354126,
           12.264454743915538
          ],
          [
           null,
           null
          ],
          [
           null,
           null
          ],
          [
           null,
           null
          ],
          [
           197982.4619364333,
           12.195933729674959
          ],
          [
           null,
           null
          ],
          [
           null,
           null
          ],
          [
           25308.592849746285,
           10.13889925538146
          ],
          [
           null,
           null
          ],
          [
           null,
           null
          ],
          [
           null,
           null
          ],
          [
           null,
           null
          ],
          [
           null,
           null
          ],
          [
           118183585.79945052,
           18.58774978526826
          ],
          [
           null,
           null
          ],
          [
           15400.62417799136,
           9.642163318618758
          ],
          [
           null,
           null
          ],
          [
           null,
           null
          ],
          [
           null,
           null
          ],
          [
           null,
           null
          ],
          [
           null,
           null
          ],
          [
           1185567995.2787967,
           20.89348781760631
          ],
          [
           "(?)",
           6.289616843793407
          ],
          [
           "(?)",
           8.605803188487217
          ],
          [
           "(?)",
           11.534358578795125
          ],
          [
           "(?)",
           17.792832471442757
          ]
         ],
         "domain": {
          "x": [
           0,
           1
          ],
          "y": [
           0,
           1
          ]
         },
         "hovertemplate": "labels=%{label}<br>nb_transactions=%{value}<br>parent=%{parent}<br>id=%{id}<br>profit_usd=%{customdata[0]:.2e}<br>log_profit=%{color}<extra></extra>",
         "ids": [
          "Q1/0",
          "Q2/0",
          "Q3/0",
          "Q4/0",
          "Q1/101",
          "Q2/101",
          "Q3/101",
          "Q4/101",
          "Q1/107",
          "Q2/107",
          "Q3/107",
          "Q4/107",
          "Q1/1070",
          "Q2/1070",
          "Q3/1070",
          "Q4/1070",
          "Q1/1138",
          "Q2/1138",
          "Q3/1138",
          "Q4/1138",
          "Q1/1149",
          "Q2/1149",
          "Q3/1149",
          "Q4/1149",
          "Q1/122",
          "Q2/122",
          "Q3/122",
          "Q4/122",
          "Q1/1226",
          "Q2/1226",
          "Q3/1226",
          "Q4/1226",
          "Q1/1391",
          "Q2/1391",
          "Q3/1391",
          "Q4/1391",
          "Q1/154",
          "Q2/154",
          "Q3/154",
          "Q4/154",
          "Q1/1567",
          "Q2/1567",
          "Q3/1567",
          "Q4/1567",
          "Q1/16621",
          "Q2/16621",
          "Q3/16621",
          "Q4/16621",
          "Q1/16768780",
          "Q2/16768780",
          "Q3/16768780",
          "Q4/16768780",
          "Q1/175",
          "Q2/175",
          "Q3/175",
          "Q4/175",
          "Q1/1805",
          "Q2/1805",
          "Q3/1805",
          "Q4/1805",
          "Q1/18972",
          "Q2/18972",
          "Q3/18972",
          "Q4/18972",
          "Q1/227",
          "Q2/227",
          "Q3/227",
          "Q4/227",
          "Q1/269",
          "Q2/269",
          "Q3/269",
          "Q4/269",
          "Q1/289",
          "Q2/289",
          "Q3/289",
          "Q4/289",
          "Q1/292",
          "Q2/292",
          "Q3/292",
          "Q4/292",
          "Q1/348",
          "Q2/348",
          "Q3/348",
          "Q4/348",
          "Q1/35",
          "Q2/35",
          "Q3/35",
          "Q4/35",
          "Q1/354",
          "Q2/354",
          "Q3/354",
          "Q4/354",
          "Q1/396",
          "Q2/396",
          "Q3/396",
          "Q4/396",
          "Q1/417",
          "Q2/417",
          "Q3/417",
          "Q4/417",
          "Q1/419",
          "Q2/419",
          "Q3/419",
          "Q4/419",
          "Q1/421",
          "Q2/421",
          "Q3/421",
          "Q4/421",
          "Q1/469",
          "Q2/469",
          "Q3/469",
          "Q4/469",
          "Q1/5162",
          "Q2/5162",
          "Q3/5162",
          "Q4/5162",
          "Q1/523",
          "Q2/523",
          "Q3/523",
          "Q4/523",
          "Q1/57",
          "Q2/57",
          "Q3/57",
          "Q4/57",
          "Q1/61",
          "Q2/61",
          "Q3/61",
          "Q4/61",
          "Q1/61400549",
          "Q2/61400549",
          "Q3/61400549",
          "Q4/61400549",
          "Q1/641",
          "Q2/641",
          "Q3/641",
          "Q4/641",
          "Q1/69383113",
          "Q2/69383113",
          "Q3/69383113",
          "Q4/69383113",
          "Q1/69697250",
          "Q2/69697250",
          "Q3/69697250",
          "Q4/69697250",
          "Q1/69827719",
          "Q2/69827719",
          "Q3/69827719",
          "Q4/69827719",
          "Q1/69984672",
          "Q2/69984672",
          "Q3/69984672",
          "Q4/69984672",
          "Q1/700",
          "Q2/700",
          "Q3/700",
          "Q4/700",
          "Q1/70063369",
          "Q2/70063369",
          "Q3/70063369",
          "Q4/70063369",
          "Q1/70927660",
          "Q2/70927660",
          "Q3/70927660",
          "Q4/70927660",
          "Q1/71554939",
          "Q2/71554939",
          "Q3/71554939",
          "Q4/71554939",
          "Q1/71842975",
          "Q2/71842975",
          "Q3/71842975",
          "Q4/71842975",
          "Q1/72472408",
          "Q2/72472408",
          "Q3/72472408",
          "Q4/72472408",
          "Q1/7277",
          "Q2/7277",
          "Q3/7277",
          "Q4/7277",
          "Q1/73832915",
          "Q2/73832915",
          "Q3/73832915",
          "Q4/73832915",
          "Q1/73963652",
          "Q2/73963652",
          "Q3/73963652",
          "Q4/73963652",
          "Q1/74278522",
          "Q2/74278522",
          "Q3/74278522",
          "Q4/74278522",
          "Q1/74304487",
          "Q2/74304487",
          "Q3/74304487",
          "Q4/74304487",
          "Q1/821",
          "Q2/821",
          "Q3/821",
          "Q4/821",
          "Q1/871",
          "Q2/871",
          "Q3/871",
          "Q4/871",
          "Q1/898",
          "Q2/898",
          "Q3/898",
          "Q4/898",
          "Q1/999Dice.com",
          "Q2/999Dice.com",
          "Q3/999Dice.com",
          "Q4/999Dice.com",
          "Q1/BTC-e.com",
          "Q2/BTC-e.com",
          "Q3/BTC-e.com",
          "Q4/BTC-e.com",
          "Q1/BTCC.com",
          "Q2/BTCC.com",
          "Q3/BTCC.com",
          "Q4/BTCC.com",
          "Q1/BTCJam.com",
          "Q2/BTCJam.com",
          "Q3/BTCJam.com",
          "Q4/BTCJam.com",
          "Q1/BX.in.th",
          "Q2/BX.in.th",
          "Q3/BX.in.th",
          "Q4/BX.in.th",
          "Q1/Bit-x.com",
          "Q2/Bit-x.com",
          "Q3/Bit-x.com",
          "Q4/Bit-x.com",
          "Q1/BitBargain.co.uk",
          "Q2/BitBargain.co.uk",
          "Q3/BitBargain.co.uk",
          "Q4/BitBargain.co.uk",
          "Q1/BitZillions.com",
          "Q2/BitZillions.com",
          "Q3/BitZillions.com",
          "Q4/BitZillions.com",
          "Q1/Bitbond.com",
          "Q2/Bitbond.com",
          "Q3/Bitbond.com",
          "Q4/Bitbond.com",
          "Q1/Bitcoin.de",
          "Q2/Bitcoin.de",
          "Q3/Bitcoin.de",
          "Q4/Bitcoin.de",
          "Q1/BitcoinFog",
          "Q2/BitcoinFog",
          "Q3/BitcoinFog",
          "Q4/BitcoinFog",
          "Q1/Bitstamp.net",
          "Q2/Bitstamp.net",
          "Q3/Bitstamp.net",
          "Q4/Bitstamp.net",
          "Q1/BtcTrade.com",
          "Q2/BtcTrade.com",
          "Q3/BtcTrade.com",
          "Q4/BtcTrade.com",
          "Q1/Bter.com",
          "Q2/Bter.com",
          "Q3/Bter.com",
          "Q4/Bter.com",
          "Q1/CoinCafe.com",
          "Q2/CoinCafe.com",
          "Q3/CoinCafe.com",
          "Q4/CoinCafe.com",
          "Q1/CoinGaming.io",
          "Q2/CoinGaming.io",
          "Q3/CoinGaming.io",
          "Q4/CoinGaming.io",
          "Q1/CoinJar.com",
          "Q2/CoinJar.com",
          "Q3/CoinJar.com",
          "Q4/CoinJar.com",
          "Q1/CoinMotion.com",
          "Q2/CoinMotion.com",
          "Q3/CoinMotion.com",
          "Q4/CoinMotion.com",
          "Q1/CoinPayments.net",
          "Q2/CoinPayments.net",
          "Q3/CoinPayments.net",
          "Q4/CoinPayments.net",
          "Q1/CoinSpot.com.au",
          "Q2/CoinSpot.com.au",
          "Q3/CoinSpot.com.au",
          "Q4/CoinSpot.com.au",
          "Q1/CoinTrader.net_LocalBitcoins.com",
          "Q2/CoinTrader.net_LocalBitcoins.com",
          "Q3/CoinTrader.net_LocalBitcoins.com",
          "Q4/CoinTrader.net_LocalBitcoins.com",
          "Q1/Cryptonator.com",
          "Q2/Cryptonator.com",
          "Q3/Cryptonator.com",
          "Q4/Cryptonator.com",
          "Q1/FYBSG.com",
          "Q2/FYBSG.com",
          "Q3/FYBSG.com",
          "Q4/FYBSG.com",
          "Q1/FortuneJack.com",
          "Q2/FortuneJack.com",
          "Q3/FortuneJack.com",
          "Q4/FortuneJack.com",
          "Q1/HaoBTC.com",
          "Q2/HaoBTC.com",
          "Q3/HaoBTC.com",
          "Q4/HaoBTC.com",
          "Q1/HappyCoins.com",
          "Q2/HappyCoins.com",
          "Q3/HappyCoins.com",
          "Q4/HappyCoins.com",
          "Q1/HolyTransaction.com",
          "Q2/HolyTransaction.com",
          "Q3/HolyTransaction.com",
          "Q4/HolyTransaction.com",
          "Q1/Huobi.com",
          "Q2/Huobi.com",
          "Q3/Huobi.com",
          "Q4/Huobi.com",
          "Q1/Loanbase.com",
          "Q2/Loanbase.com",
          "Q3/Loanbase.com",
          "Q4/Loanbase.com",
          "Q1/LuckyB.it",
          "Q2/LuckyB.it",
          "Q3/LuckyB.it",
          "Q4/LuckyB.it",
          "Q1/Matbea.com",
          "Q2/Matbea.com",
          "Q3/Matbea.com",
          "Q4/Matbea.com",
          "Q1/MercadoBitcoin.com.br",
          "Q2/MercadoBitcoin.com.br",
          "Q3/MercadoBitcoin.com.br",
          "Q4/MercadoBitcoin.com.br",
          "Q1/OKCoin.com",
          "Q2/OKCoin.com",
          "Q3/OKCoin.com",
          "Q4/OKCoin.com",
          "Q1/Paymium.com",
          "Q2/Paymium.com",
          "Q3/Paymium.com",
          "Q4/Paymium.com",
          "Q1/PocketDice.io",
          "Q2/PocketDice.io",
          "Q3/PocketDice.io",
          "Q4/PocketDice.io",
          "Q1/Poloniex.com",
          "Q2/Poloniex.com",
          "Q3/Poloniex.com",
          "Q4/Poloniex.com",
          "Q1/Rollin.io",
          "Q2/Rollin.io",
          "Q3/Rollin.io",
          "Q4/Rollin.io",
          "Q1/SafeDice.com",
          "Q2/SafeDice.com",
          "Q3/SafeDice.com",
          "Q4/SafeDice.com",
          "Q1/SatoshiDice.com",
          "Q2/SatoshiDice.com",
          "Q3/SatoshiDice.com",
          "Q4/SatoshiDice.com",
          "Q1/SatoshiMines.com",
          "Q2/SatoshiMines.com",
          "Q3/SatoshiMines.com",
          "Q4/SatoshiMines.com",
          "Q1/SecondsTrade.com",
          "Q2/SecondsTrade.com",
          "Q3/SecondsTrade.com",
          "Q4/SecondsTrade.com",
          "Q1/SimpleCoin.cz",
          "Q2/SimpleCoin.cz",
          "Q3/SimpleCoin.cz",
          "Q4/SimpleCoin.cz",
          "Q1/SlushPool.com",
          "Q2/SlushPool.com",
          "Q3/SlushPool.com",
          "Q4/SlushPool.com",
          "Q1/TheRockTrading.com",
          "Q2/TheRockTrading.com",
          "Q3/TheRockTrading.com",
          "Q4/TheRockTrading.com",
          "Q1/Vaultoro.com",
          "Q2/Vaultoro.com",
          "Q3/Vaultoro.com",
          "Q4/Vaultoro.com",
          "Q1/Xapo.com",
          "Q2/Xapo.com",
          "Q3/Xapo.com",
          "Q4/Xapo.com",
          "Q1/YoBit.net",
          "Q2/YoBit.net",
          "Q3/YoBit.net",
          "Q4/YoBit.net",
          "Q1/ePay.info_CoinJoinMess",
          "Q2/ePay.info_CoinJoinMess",
          "Q3/ePay.info_CoinJoinMess",
          "Q4/ePay.info_CoinJoinMess",
          "Q1",
          "Q2",
          "Q3",
          "Q4"
         ],
         "labels": [
          "0",
          "0",
          "0",
          "0",
          "101",
          "101",
          "101",
          "101",
          "107",
          "107",
          "107",
          "107",
          "1070",
          "1070",
          "1070",
          "1070",
          "1138",
          "1138",
          "1138",
          "1138",
          "1149",
          "1149",
          "1149",
          "1149",
          "122",
          "122",
          "122",
          "122",
          "1226",
          "1226",
          "1226",
          "1226",
          "1391",
          "1391",
          "1391",
          "1391",
          "154",
          "154",
          "154",
          "154",
          "1567",
          "1567",
          "1567",
          "1567",
          "16621",
          "16621",
          "16621",
          "16621",
          "16768780",
          "16768780",
          "16768780",
          "16768780",
          "175",
          "175",
          "175",
          "175",
          "1805",
          "1805",
          "1805",
          "1805",
          "18972",
          "18972",
          "18972",
          "18972",
          "227",
          "227",
          "227",
          "227",
          "269",
          "269",
          "269",
          "269",
          "289",
          "289",
          "289",
          "289",
          "292",
          "292",
          "292",
          "292",
          "348",
          "348",
          "348",
          "348",
          "35",
          "35",
          "35",
          "35",
          "354",
          "354",
          "354",
          "354",
          "396",
          "396",
          "396",
          "396",
          "417",
          "417",
          "417",
          "417",
          "419",
          "419",
          "419",
          "419",
          "421",
          "421",
          "421",
          "421",
          "469",
          "469",
          "469",
          "469",
          "5162",
          "5162",
          "5162",
          "5162",
          "523",
          "523",
          "523",
          "523",
          "57",
          "57",
          "57",
          "57",
          "61",
          "61",
          "61",
          "61",
          "61400549",
          "61400549",
          "61400549",
          "61400549",
          "641",
          "641",
          "641",
          "641",
          "69383113",
          "69383113",
          "69383113",
          "69383113",
          "69697250",
          "69697250",
          "69697250",
          "69697250",
          "69827719",
          "69827719",
          "69827719",
          "69827719",
          "69984672",
          "69984672",
          "69984672",
          "69984672",
          "700",
          "700",
          "700",
          "700",
          "70063369",
          "70063369",
          "70063369",
          "70063369",
          "70927660",
          "70927660",
          "70927660",
          "70927660",
          "71554939",
          "71554939",
          "71554939",
          "71554939",
          "71842975",
          "71842975",
          "71842975",
          "71842975",
          "72472408",
          "72472408",
          "72472408",
          "72472408",
          "7277",
          "7277",
          "7277",
          "7277",
          "73832915",
          "73832915",
          "73832915",
          "73832915",
          "73963652",
          "73963652",
          "73963652",
          "73963652",
          "74278522",
          "74278522",
          "74278522",
          "74278522",
          "74304487",
          "74304487",
          "74304487",
          "74304487",
          "821",
          "821",
          "821",
          "821",
          "871",
          "871",
          "871",
          "871",
          "898",
          "898",
          "898",
          "898",
          "999Dice.com",
          "999Dice.com",
          "999Dice.com",
          "999Dice.com",
          "BTC-e.com",
          "BTC-e.com",
          "BTC-e.com",
          "BTC-e.com",
          "BTCC.com",
          "BTCC.com",
          "BTCC.com",
          "BTCC.com",
          "BTCJam.com",
          "BTCJam.com",
          "BTCJam.com",
          "BTCJam.com",
          "BX.in.th",
          "BX.in.th",
          "BX.in.th",
          "BX.in.th",
          "Bit-x.com",
          "Bit-x.com",
          "Bit-x.com",
          "Bit-x.com",
          "BitBargain.co.uk",
          "BitBargain.co.uk",
          "BitBargain.co.uk",
          "BitBargain.co.uk",
          "BitZillions.com",
          "BitZillions.com",
          "BitZillions.com",
          "BitZillions.com",
          "Bitbond.com",
          "Bitbond.com",
          "Bitbond.com",
          "Bitbond.com",
          "Bitcoin.de",
          "Bitcoin.de",
          "Bitcoin.de",
          "Bitcoin.de",
          "BitcoinFog",
          "BitcoinFog",
          "BitcoinFog",
          "BitcoinFog",
          "Bitstamp.net",
          "Bitstamp.net",
          "Bitstamp.net",
          "Bitstamp.net",
          "BtcTrade.com",
          "BtcTrade.com",
          "BtcTrade.com",
          "BtcTrade.com",
          "Bter.com",
          "Bter.com",
          "Bter.com",
          "Bter.com",
          "CoinCafe.com",
          "CoinCafe.com",
          "CoinCafe.com",
          "CoinCafe.com",
          "CoinGaming.io",
          "CoinGaming.io",
          "CoinGaming.io",
          "CoinGaming.io",
          "CoinJar.com",
          "CoinJar.com",
          "CoinJar.com",
          "CoinJar.com",
          "CoinMotion.com",
          "CoinMotion.com",
          "CoinMotion.com",
          "CoinMotion.com",
          "CoinPayments.net",
          "CoinPayments.net",
          "CoinPayments.net",
          "CoinPayments.net",
          "CoinSpot.com.au",
          "CoinSpot.com.au",
          "CoinSpot.com.au",
          "CoinSpot.com.au",
          "CoinTrader.net_LocalBitcoins.com",
          "CoinTrader.net_LocalBitcoins.com",
          "CoinTrader.net_LocalBitcoins.com",
          "CoinTrader.net_LocalBitcoins.com",
          "Cryptonator.com",
          "Cryptonator.com",
          "Cryptonator.com",
          "Cryptonator.com",
          "FYBSG.com",
          "FYBSG.com",
          "FYBSG.com",
          "FYBSG.com",
          "FortuneJack.com",
          "FortuneJack.com",
          "FortuneJack.com",
          "FortuneJack.com",
          "HaoBTC.com",
          "HaoBTC.com",
          "HaoBTC.com",
          "HaoBTC.com",
          "HappyCoins.com",
          "HappyCoins.com",
          "HappyCoins.com",
          "HappyCoins.com",
          "HolyTransaction.com",
          "HolyTransaction.com",
          "HolyTransaction.com",
          "HolyTransaction.com",
          "Huobi.com",
          "Huobi.com",
          "Huobi.com",
          "Huobi.com",
          "Loanbase.com",
          "Loanbase.com",
          "Loanbase.com",
          "Loanbase.com",
          "LuckyB.it",
          "LuckyB.it",
          "LuckyB.it",
          "LuckyB.it",
          "Matbea.com",
          "Matbea.com",
          "Matbea.com",
          "Matbea.com",
          "MercadoBitcoin.com.br",
          "MercadoBitcoin.com.br",
          "MercadoBitcoin.com.br",
          "MercadoBitcoin.com.br",
          "OKCoin.com",
          "OKCoin.com",
          "OKCoin.com",
          "OKCoin.com",
          "Paymium.com",
          "Paymium.com",
          "Paymium.com",
          "Paymium.com",
          "PocketDice.io",
          "PocketDice.io",
          "PocketDice.io",
          "PocketDice.io",
          "Poloniex.com",
          "Poloniex.com",
          "Poloniex.com",
          "Poloniex.com",
          "Rollin.io",
          "Rollin.io",
          "Rollin.io",
          "Rollin.io",
          "SafeDice.com",
          "SafeDice.com",
          "SafeDice.com",
          "SafeDice.com",
          "SatoshiDice.com",
          "SatoshiDice.com",
          "SatoshiDice.com",
          "SatoshiDice.com",
          "SatoshiMines.com",
          "SatoshiMines.com",
          "SatoshiMines.com",
          "SatoshiMines.com",
          "SecondsTrade.com",
          "SecondsTrade.com",
          "SecondsTrade.com",
          "SecondsTrade.com",
          "SimpleCoin.cz",
          "SimpleCoin.cz",
          "SimpleCoin.cz",
          "SimpleCoin.cz",
          "SlushPool.com",
          "SlushPool.com",
          "SlushPool.com",
          "SlushPool.com",
          "TheRockTrading.com",
          "TheRockTrading.com",
          "TheRockTrading.com",
          "TheRockTrading.com",
          "Vaultoro.com",
          "Vaultoro.com",
          "Vaultoro.com",
          "Vaultoro.com",
          "Xapo.com",
          "Xapo.com",
          "Xapo.com",
          "Xapo.com",
          "YoBit.net",
          "YoBit.net",
          "YoBit.net",
          "YoBit.net",
          "ePay.info_CoinJoinMess",
          "ePay.info_CoinJoinMess",
          "ePay.info_CoinJoinMess",
          "ePay.info_CoinJoinMess",
          "Q1",
          "Q2",
          "Q3",
          "Q4"
         ],
         "marker": {
          "coloraxis": "coloraxis",
          "colors": [
           null,
           null,
           null,
           16.633725113041244,
           5.927087466990872,
           null,
           null,
           null,
           null,
           null,
           null,
           17.45810647650734,
           null,
           9.048963592104847,
           null,
           null,
           6.752693988186377,
           null,
           null,
           null,
           5.758732119848219,
           null,
           null,
           null,
           null,
           null,
           12.043068425507757,
           null,
           null,
           null,
           12.985863827424593,
           null,
           6.008173933017976,
           null,
           null,
           null,
           null,
           7.089009332973785,
           null,
           null,
           7.124531789373646,
           null,
           null,
           null,
           7.157344158843008,
           null,
           null,
           null,
           5.084346697097266,
           null,
           null,
           null,
           null,
           null,
           11.644438841375106,
           null,
           null,
           7.556024754267373,
           null,
           null,
           5.705231623305092,
           null,
           null,
           null,
           6.427099073758017,
           null,
           null,
           null,
           null,
           7.381716108739992,
           null,
           null,
           null,
           null,
           null,
           13.299798316556059,
           6.426630808797884,
           null,
           null,
           null,
           null,
           8.292911789903293,
           null,
           null,
           6.526305482236953,
           null,
           null,
           null,
           null,
           null,
           10.187518211533757,
           null,
           null,
           null,
           null,
           13.081755419232476,
           null,
           null,
           null,
           13.953792646108544,
           3.85272310212533,
           null,
           null,
           null,
           null,
           null,
           12.426183291569906,
           null,
           null,
           8.448888772796465,
           null,
           null,
           6.7364255046363395,
           null,
           null,
           null,
           null,
           7.557485028845533,
           null,
           null,
           null,
           null,
           12.2104809376852,
           null,
           null,
           null,
           10.407780246617577,
           null,
           null,
           9.300711887162908,
           null,
           null,
           null,
           9.541386391586666,
           null,
           null,
           5.71282663305342,
           null,
           null,
           null,
           null,
           null,
           10.175675721331578,
           null,
           5.78800216655698,
           null,
           null,
           null,
           5.873404593195976,
           null,
           null,
           null,
           null,
           9.27938176796768,
           null,
           null,
           7.056271312987773,
           null,
           null,
           null,
           5.762552030160152,
           null,
           null,
           null,
           null,
           7.46981366949163,
           null,
           null,
           5.3742265890749445,
           null,
           null,
           null,
           5.2947620619880436,
           null,
           null,
           null,
           6.126181374677064,
           null,
           null,
           null,
           5.327467799104103,
           null,
           null,
           null,
           1.902492271906154,
           null,
           null,
           null,
           7.098434758877068,
           null,
           null,
           null,
           3.3222442806869874,
           null,
           null,
           null,
           null,
           null,
           null,
           13.61342847706042,
           null,
           7.801231491582287,
           null,
           null,
           null,
           null,
           10.259304646709163,
           null,
           null,
           null,
           12.499003109077423,
           null,
           null,
           null,
           null,
           17.871513671607275,
           null,
           null,
           null,
           15.826668285158807,
           null,
           null,
           11.7093210312588,
           null,
           null,
           null,
           null,
           14.341384631456815,
           null,
           null,
           null,
           14.409524090411693,
           null,
           null,
           11.330680530624004,
           null,
           null,
           null,
           null,
           14.55073008161677,
           null,
           null,
           11.802785825010522,
           null,
           null,
           null,
           null,
           14.127976954794272,
           null,
           null,
           11.1817934412016,
           null,
           null,
           null,
           null,
           19.370188358303178,
           null,
           null,
           null,
           14.889524088871289,
           null,
           null,
           null,
           16.4121686794,
           null,
           null,
           10.420549907663146,
           null,
           null,
           null,
           10.284479740097666,
           null,
           null,
           null,
           null,
           13.051624602008745,
           null,
           9.43433934606374,
           null,
           null,
           null,
           null,
           10.769159366160263,
           null,
           null,
           9.31307185755249,
           null,
           null,
           null,
           null,
           null,
           15.256893991161014,
           null,
           9.255178674813266,
           null,
           null,
           null,
           9.445005937160737,
           null,
           null,
           null,
           9.944019889027022,
           null,
           null,
           null,
           null,
           null,
           17.020023844394274,
           null,
           8.224064240097162,
           null,
           null,
           null,
           9.653664934060506,
           null,
           null,
           null,
           null,
           null,
           19.598722812881327,
           null,
           null,
           11.17753505269843,
           null,
           null,
           null,
           null,
           14.485152288334797,
           null,
           null,
           10.74651241404142,
           null,
           null,
           null,
           10.580335667755966,
           null,
           null,
           null,
           null,
           17.249793287524685,
           null,
           null,
           null,
           14.98174155722502,
           null,
           9.324949854533015,
           null,
           null,
           null,
           null,
           null,
           14.205785833391891,
           null,
           9.566495474176865,
           null,
           null,
           null,
           9.195912981635061,
           null,
           null,
           null,
           null,
           12.896272841184626,
           null,
           null,
           10.087822658716675,
           null,
           null,
           null,
           null,
           11.1893414219833,
           null,
           null,
           null,
           12.578852918294254,
           null,
           null,
           null,
           12.264454743915538,
           null,
           null,
           null,
           12.195933729674959,
           null,
           null,
           10.13889925538146,
           null,
           null,
           null,
           null,
           null,
           18.58774978526826,
           null,
           9.642163318618758,
           null,
           null,
           null,
           null,
           null,
           20.89348781760631,
           6.289616843793407,
           8.605803188487217,
           11.534358578795125,
           17.792832471442757
          ]
         },
         "name": "",
         "parents": [
          "Q1",
          "Q2",
          "Q3",
          "Q4",
          "Q1",
          "Q2",
          "Q3",
          "Q4",
          "Q1",
          "Q2",
          "Q3",
          "Q4",
          "Q1",
          "Q2",
          "Q3",
          "Q4",
          "Q1",
          "Q2",
          "Q3",
          "Q4",
          "Q1",
          "Q2",
          "Q3",
          "Q4",
          "Q1",
          "Q2",
          "Q3",
          "Q4",
          "Q1",
          "Q2",
          "Q3",
          "Q4",
          "Q1",
          "Q2",
          "Q3",
          "Q4",
          "Q1",
          "Q2",
          "Q3",
          "Q4",
          "Q1",
          "Q2",
          "Q3",
          "Q4",
          "Q1",
          "Q2",
          "Q3",
          "Q4",
          "Q1",
          "Q2",
          "Q3",
          "Q4",
          "Q1",
          "Q2",
          "Q3",
          "Q4",
          "Q1",
          "Q2",
          "Q3",
          "Q4",
          "Q1",
          "Q2",
          "Q3",
          "Q4",
          "Q1",
          "Q2",
          "Q3",
          "Q4",
          "Q1",
          "Q2",
          "Q3",
          "Q4",
          "Q1",
          "Q2",
          "Q3",
          "Q4",
          "Q1",
          "Q2",
          "Q3",
          "Q4",
          "Q1",
          "Q2",
          "Q3",
          "Q4",
          "Q1",
          "Q2",
          "Q3",
          "Q4",
          "Q1",
          "Q2",
          "Q3",
          "Q4",
          "Q1",
          "Q2",
          "Q3",
          "Q4",
          "Q1",
          "Q2",
          "Q3",
          "Q4",
          "Q1",
          "Q2",
          "Q3",
          "Q4",
          "Q1",
          "Q2",
          "Q3",
          "Q4",
          "Q1",
          "Q2",
          "Q3",
          "Q4",
          "Q1",
          "Q2",
          "Q3",
          "Q4",
          "Q1",
          "Q2",
          "Q3",
          "Q4",
          "Q1",
          "Q2",
          "Q3",
          "Q4",
          "Q1",
          "Q2",
          "Q3",
          "Q4",
          "Q1",
          "Q2",
          "Q3",
          "Q4",
          "Q1",
          "Q2",
          "Q3",
          "Q4",
          "Q1",
          "Q2",
          "Q3",
          "Q4",
          "Q1",
          "Q2",
          "Q3",
          "Q4",
          "Q1",
          "Q2",
          "Q3",
          "Q4",
          "Q1",
          "Q2",
          "Q3",
          "Q4",
          "Q1",
          "Q2",
          "Q3",
          "Q4",
          "Q1",
          "Q2",
          "Q3",
          "Q4",
          "Q1",
          "Q2",
          "Q3",
          "Q4",
          "Q1",
          "Q2",
          "Q3",
          "Q4",
          "Q1",
          "Q2",
          "Q3",
          "Q4",
          "Q1",
          "Q2",
          "Q3",
          "Q4",
          "Q1",
          "Q2",
          "Q3",
          "Q4",
          "Q1",
          "Q2",
          "Q3",
          "Q4",
          "Q1",
          "Q2",
          "Q3",
          "Q4",
          "Q1",
          "Q2",
          "Q3",
          "Q4",
          "Q1",
          "Q2",
          "Q3",
          "Q4",
          "Q1",
          "Q2",
          "Q3",
          "Q4",
          "Q1",
          "Q2",
          "Q3",
          "Q4",
          "Q1",
          "Q2",
          "Q3",
          "Q4",
          "Q1",
          "Q2",
          "Q3",
          "Q4",
          "Q1",
          "Q2",
          "Q3",
          "Q4",
          "Q1",
          "Q2",
          "Q3",
          "Q4",
          "Q1",
          "Q2",
          "Q3",
          "Q4",
          "Q1",
          "Q2",
          "Q3",
          "Q4",
          "Q1",
          "Q2",
          "Q3",
          "Q4",
          "Q1",
          "Q2",
          "Q3",
          "Q4",
          "Q1",
          "Q2",
          "Q3",
          "Q4",
          "Q1",
          "Q2",
          "Q3",
          "Q4",
          "Q1",
          "Q2",
          "Q3",
          "Q4",
          "Q1",
          "Q2",
          "Q3",
          "Q4",
          "Q1",
          "Q2",
          "Q3",
          "Q4",
          "Q1",
          "Q2",
          "Q3",
          "Q4",
          "Q1",
          "Q2",
          "Q3",
          "Q4",
          "Q1",
          "Q2",
          "Q3",
          "Q4",
          "Q1",
          "Q2",
          "Q3",
          "Q4",
          "Q1",
          "Q2",
          "Q3",
          "Q4",
          "Q1",
          "Q2",
          "Q3",
          "Q4",
          "Q1",
          "Q2",
          "Q3",
          "Q4",
          "Q1",
          "Q2",
          "Q3",
          "Q4",
          "Q1",
          "Q2",
          "Q3",
          "Q4",
          "Q1",
          "Q2",
          "Q3",
          "Q4",
          "Q1",
          "Q2",
          "Q3",
          "Q4",
          "Q1",
          "Q2",
          "Q3",
          "Q4",
          "Q1",
          "Q2",
          "Q3",
          "Q4",
          "Q1",
          "Q2",
          "Q3",
          "Q4",
          "Q1",
          "Q2",
          "Q3",
          "Q4",
          "Q1",
          "Q2",
          "Q3",
          "Q4",
          "Q1",
          "Q2",
          "Q3",
          "Q4",
          "Q1",
          "Q2",
          "Q3",
          "Q4",
          "Q1",
          "Q2",
          "Q3",
          "Q4",
          "Q1",
          "Q2",
          "Q3",
          "Q4",
          "Q1",
          "Q2",
          "Q3",
          "Q4",
          "Q1",
          "Q2",
          "Q3",
          "Q4",
          "Q1",
          "Q2",
          "Q3",
          "Q4",
          "Q1",
          "Q2",
          "Q3",
          "Q4",
          "Q1",
          "Q2",
          "Q3",
          "Q4",
          "Q1",
          "Q2",
          "Q3",
          "Q4",
          "Q1",
          "Q2",
          "Q3",
          "Q4",
          "Q1",
          "Q2",
          "Q3",
          "Q4",
          "Q1",
          "Q2",
          "Q3",
          "Q4",
          "Q1",
          "Q2",
          "Q3",
          "Q4",
          "Q1",
          "Q2",
          "Q3",
          "Q4",
          "Q1",
          "Q2",
          "Q3",
          "Q4",
          "Q1",
          "Q2",
          "Q3",
          "Q4",
          "Q1",
          "Q2",
          "Q3",
          "Q4",
          "Q1",
          "Q2",
          "Q3",
          "Q4",
          "Q1",
          "Q2",
          "Q3",
          "Q4",
          "",
          "",
          "",
          ""
         ],
         "type": "sunburst",
         "values": [
          0,
          0,
          0,
          484180,
          7253,
          0,
          0,
          0,
          0,
          0,
          0,
          46748,
          0,
          2058,
          0,
          0,
          2774,
          0,
          0,
          0,
          1506,
          0,
          0,
          0,
          0,
          0,
          5753,
          0,
          0,
          0,
          1421,
          0,
          2477,
          0,
          0,
          0,
          0,
          2946,
          0,
          0,
          49515,
          0,
          0,
          0,
          4763,
          0,
          0,
          0,
          1747,
          0,
          0,
          0,
          0,
          0,
          8153,
          0,
          0,
          1371,
          0,
          0,
          6108,
          0,
          0,
          0,
          11233,
          0,
          0,
          0,
          0,
          22315,
          0,
          0,
          0,
          0,
          0,
          17676,
          2390,
          0,
          0,
          0,
          0,
          7525,
          0,
          0,
          3999,
          0,
          0,
          0,
          0,
          0,
          5514,
          0,
          0,
          0,
          0,
          37822,
          0,
          0,
          0,
          23572,
          8644,
          0,
          0,
          0,
          0,
          0,
          15707,
          0,
          0,
          7860,
          0,
          0,
          997,
          0,
          0,
          0,
          0,
          9473,
          0,
          0,
          0,
          0,
          61211,
          0,
          0,
          0,
          61666,
          0,
          0,
          426,
          0,
          0,
          0,
          7611,
          0,
          0,
          3112,
          0,
          0,
          0,
          0,
          0,
          5891,
          0,
          4807,
          0,
          0,
          0,
          1971,
          0,
          0,
          0,
          0,
          1498,
          0,
          0,
          16321,
          0,
          0,
          0,
          3793,
          0,
          0,
          0,
          0,
          140185,
          0,
          0,
          2210,
          0,
          0,
          0,
          2128,
          0,
          0,
          0,
          3465,
          0,
          0,
          0,
          1485,
          0,
          0,
          0,
          3769,
          0,
          0,
          0,
          2550,
          0,
          0,
          0,
          1360,
          0,
          0,
          0,
          0,
          0,
          0,
          4585,
          0,
          2275,
          0,
          0,
          0,
          0,
          22800,
          0,
          0,
          0,
          114006,
          0,
          0,
          0,
          0,
          32458,
          0,
          0,
          0,
          18691,
          0,
          0,
          29565,
          0,
          0,
          0,
          0,
          17309,
          0,
          0,
          0,
          6151,
          0,
          0,
          16727,
          0,
          0,
          0,
          0,
          229686,
          0,
          0,
          2225,
          0,
          0,
          0,
          0,
          29968,
          0,
          0,
          19387,
          0,
          0,
          0,
          0,
          53525,
          0,
          0,
          0,
          44986,
          0,
          0,
          0,
          37609,
          0,
          0,
          2012,
          0,
          0,
          0,
          12561,
          0,
          0,
          0,
          0,
          10110,
          0,
          2403,
          0,
          0,
          0,
          0,
          54394,
          0,
          0,
          3405,
          0,
          0,
          0,
          0,
          0,
          101809,
          0,
          27818,
          0,
          0,
          0,
          2305,
          0,
          0,
          0,
          28635,
          0,
          0,
          0,
          0,
          0,
          61685,
          0,
          1826,
          0,
          0,
          0,
          35927,
          0,
          0,
          0,
          0,
          0,
          462394,
          0,
          0,
          10725,
          0,
          0,
          0,
          0,
          1183953,
          0,
          0,
          12825,
          0,
          0,
          0,
          7313,
          0,
          0,
          0,
          0,
          16542,
          0,
          0,
          0,
          1420,
          0,
          12052,
          0,
          0,
          0,
          0,
          0,
          80200,
          0,
          20318,
          0,
          0,
          0,
          2973,
          0,
          0,
          0,
          0,
          31294,
          0,
          0,
          34032,
          0,
          0,
          0,
          0,
          66013,
          0,
          0,
          0,
          4966,
          0,
          0,
          0,
          2105,
          0,
          0,
          0,
          1651,
          0,
          0,
          1669,
          0,
          0,
          0,
          0,
          0,
          269466,
          0,
          15323,
          0,
          0,
          0,
          0,
          0,
          1784401,
          150377,
          394229,
          575885,
          5056946
         ]
        }
       ],
       "layout": {
        "coloraxis": {
         "colorbar": {
          "title": {
           "text": "log_profit"
          }
         },
         "colorscale": [
          [
           0,
           "rgb(103,0,31)"
          ],
          [
           0.1,
           "rgb(178,24,43)"
          ],
          [
           0.2,
           "rgb(214,96,77)"
          ],
          [
           0.3,
           "rgb(244,165,130)"
          ],
          [
           0.4,
           "rgb(253,219,199)"
          ],
          [
           0.5,
           "rgb(247,247,247)"
          ],
          [
           0.6,
           "rgb(209,229,240)"
          ],
          [
           0.7,
           "rgb(146,197,222)"
          ],
          [
           0.8,
           "rgb(67,147,195)"
          ],
          [
           0.9,
           "rgb(33,102,172)"
          ],
          [
           1,
           "rgb(5,48,97)"
          ]
         ]
        },
        "legend": {
         "tracegroupgap": 0
        },
        "margin": {
         "t": 60
        },
        "template": {
         "data": {
          "bar": [
           {
            "error_x": {
             "color": "#2a3f5f"
            },
            "error_y": {
             "color": "#2a3f5f"
            },
            "marker": {
             "line": {
              "color": "#E5ECF6",
              "width": 0.5
             },
             "pattern": {
              "fillmode": "overlay",
              "size": 10,
              "solidity": 0.2
             }
            },
            "type": "bar"
           }
          ],
          "barpolar": [
           {
            "marker": {
             "line": {
              "color": "#E5ECF6",
              "width": 0.5
             },
             "pattern": {
              "fillmode": "overlay",
              "size": 10,
              "solidity": 0.2
             }
            },
            "type": "barpolar"
           }
          ],
          "carpet": [
           {
            "aaxis": {
             "endlinecolor": "#2a3f5f",
             "gridcolor": "white",
             "linecolor": "white",
             "minorgridcolor": "white",
             "startlinecolor": "#2a3f5f"
            },
            "baxis": {
             "endlinecolor": "#2a3f5f",
             "gridcolor": "white",
             "linecolor": "white",
             "minorgridcolor": "white",
             "startlinecolor": "#2a3f5f"
            },
            "type": "carpet"
           }
          ],
          "choropleth": [
           {
            "colorbar": {
             "outlinewidth": 0,
             "ticks": ""
            },
            "type": "choropleth"
           }
          ],
          "contour": [
           {
            "colorbar": {
             "outlinewidth": 0,
             "ticks": ""
            },
            "colorscale": [
             [
              0,
              "#0d0887"
             ],
             [
              0.1111111111111111,
              "#46039f"
             ],
             [
              0.2222222222222222,
              "#7201a8"
             ],
             [
              0.3333333333333333,
              "#9c179e"
             ],
             [
              0.4444444444444444,
              "#bd3786"
             ],
             [
              0.5555555555555556,
              "#d8576b"
             ],
             [
              0.6666666666666666,
              "#ed7953"
             ],
             [
              0.7777777777777778,
              "#fb9f3a"
             ],
             [
              0.8888888888888888,
              "#fdca26"
             ],
             [
              1,
              "#f0f921"
             ]
            ],
            "type": "contour"
           }
          ],
          "contourcarpet": [
           {
            "colorbar": {
             "outlinewidth": 0,
             "ticks": ""
            },
            "type": "contourcarpet"
           }
          ],
          "heatmap": [
           {
            "colorbar": {
             "outlinewidth": 0,
             "ticks": ""
            },
            "colorscale": [
             [
              0,
              "#0d0887"
             ],
             [
              0.1111111111111111,
              "#46039f"
             ],
             [
              0.2222222222222222,
              "#7201a8"
             ],
             [
              0.3333333333333333,
              "#9c179e"
             ],
             [
              0.4444444444444444,
              "#bd3786"
             ],
             [
              0.5555555555555556,
              "#d8576b"
             ],
             [
              0.6666666666666666,
              "#ed7953"
             ],
             [
              0.7777777777777778,
              "#fb9f3a"
             ],
             [
              0.8888888888888888,
              "#fdca26"
             ],
             [
              1,
              "#f0f921"
             ]
            ],
            "type": "heatmap"
           }
          ],
          "heatmapgl": [
           {
            "colorbar": {
             "outlinewidth": 0,
             "ticks": ""
            },
            "colorscale": [
             [
              0,
              "#0d0887"
             ],
             [
              0.1111111111111111,
              "#46039f"
             ],
             [
              0.2222222222222222,
              "#7201a8"
             ],
             [
              0.3333333333333333,
              "#9c179e"
             ],
             [
              0.4444444444444444,
              "#bd3786"
             ],
             [
              0.5555555555555556,
              "#d8576b"
             ],
             [
              0.6666666666666666,
              "#ed7953"
             ],
             [
              0.7777777777777778,
              "#fb9f3a"
             ],
             [
              0.8888888888888888,
              "#fdca26"
             ],
             [
              1,
              "#f0f921"
             ]
            ],
            "type": "heatmapgl"
           }
          ],
          "histogram": [
           {
            "marker": {
             "pattern": {
              "fillmode": "overlay",
              "size": 10,
              "solidity": 0.2
             }
            },
            "type": "histogram"
           }
          ],
          "histogram2d": [
           {
            "colorbar": {
             "outlinewidth": 0,
             "ticks": ""
            },
            "colorscale": [
             [
              0,
              "#0d0887"
             ],
             [
              0.1111111111111111,
              "#46039f"
             ],
             [
              0.2222222222222222,
              "#7201a8"
             ],
             [
              0.3333333333333333,
              "#9c179e"
             ],
             [
              0.4444444444444444,
              "#bd3786"
             ],
             [
              0.5555555555555556,
              "#d8576b"
             ],
             [
              0.6666666666666666,
              "#ed7953"
             ],
             [
              0.7777777777777778,
              "#fb9f3a"
             ],
             [
              0.8888888888888888,
              "#fdca26"
             ],
             [
              1,
              "#f0f921"
             ]
            ],
            "type": "histogram2d"
           }
          ],
          "histogram2dcontour": [
           {
            "colorbar": {
             "outlinewidth": 0,
             "ticks": ""
            },
            "colorscale": [
             [
              0,
              "#0d0887"
             ],
             [
              0.1111111111111111,
              "#46039f"
             ],
             [
              0.2222222222222222,
              "#7201a8"
             ],
             [
              0.3333333333333333,
              "#9c179e"
             ],
             [
              0.4444444444444444,
              "#bd3786"
             ],
             [
              0.5555555555555556,
              "#d8576b"
             ],
             [
              0.6666666666666666,
              "#ed7953"
             ],
             [
              0.7777777777777778,
              "#fb9f3a"
             ],
             [
              0.8888888888888888,
              "#fdca26"
             ],
             [
              1,
              "#f0f921"
             ]
            ],
            "type": "histogram2dcontour"
           }
          ],
          "mesh3d": [
           {
            "colorbar": {
             "outlinewidth": 0,
             "ticks": ""
            },
            "type": "mesh3d"
           }
          ],
          "parcoords": [
           {
            "line": {
             "colorbar": {
              "outlinewidth": 0,
              "ticks": ""
             }
            },
            "type": "parcoords"
           }
          ],
          "pie": [
           {
            "automargin": true,
            "type": "pie"
           }
          ],
          "scatter": [
           {
            "fillpattern": {
             "fillmode": "overlay",
             "size": 10,
             "solidity": 0.2
            },
            "type": "scatter"
           }
          ],
          "scatter3d": [
           {
            "line": {
             "colorbar": {
              "outlinewidth": 0,
              "ticks": ""
             }
            },
            "marker": {
             "colorbar": {
              "outlinewidth": 0,
              "ticks": ""
             }
            },
            "type": "scatter3d"
           }
          ],
          "scattercarpet": [
           {
            "marker": {
             "colorbar": {
              "outlinewidth": 0,
              "ticks": ""
             }
            },
            "type": "scattercarpet"
           }
          ],
          "scattergeo": [
           {
            "marker": {
             "colorbar": {
              "outlinewidth": 0,
              "ticks": ""
             }
            },
            "type": "scattergeo"
           }
          ],
          "scattergl": [
           {
            "marker": {
             "colorbar": {
              "outlinewidth": 0,
              "ticks": ""
             }
            },
            "type": "scattergl"
           }
          ],
          "scattermapbox": [
           {
            "marker": {
             "colorbar": {
              "outlinewidth": 0,
              "ticks": ""
             }
            },
            "type": "scattermapbox"
           }
          ],
          "scatterpolar": [
           {
            "marker": {
             "colorbar": {
              "outlinewidth": 0,
              "ticks": ""
             }
            },
            "type": "scatterpolar"
           }
          ],
          "scatterpolargl": [
           {
            "marker": {
             "colorbar": {
              "outlinewidth": 0,
              "ticks": ""
             }
            },
            "type": "scatterpolargl"
           }
          ],
          "scatterternary": [
           {
            "marker": {
             "colorbar": {
              "outlinewidth": 0,
              "ticks": ""
             }
            },
            "type": "scatterternary"
           }
          ],
          "surface": [
           {
            "colorbar": {
             "outlinewidth": 0,
             "ticks": ""
            },
            "colorscale": [
             [
              0,
              "#0d0887"
             ],
             [
              0.1111111111111111,
              "#46039f"
             ],
             [
              0.2222222222222222,
              "#7201a8"
             ],
             [
              0.3333333333333333,
              "#9c179e"
             ],
             [
              0.4444444444444444,
              "#bd3786"
             ],
             [
              0.5555555555555556,
              "#d8576b"
             ],
             [
              0.6666666666666666,
              "#ed7953"
             ],
             [
              0.7777777777777778,
              "#fb9f3a"
             ],
             [
              0.8888888888888888,
              "#fdca26"
             ],
             [
              1,
              "#f0f921"
             ]
            ],
            "type": "surface"
           }
          ],
          "table": [
           {
            "cells": {
             "fill": {
              "color": "#EBF0F8"
             },
             "line": {
              "color": "white"
             }
            },
            "header": {
             "fill": {
              "color": "#C8D4E3"
             },
             "line": {
              "color": "white"
             }
            },
            "type": "table"
           }
          ]
         },
         "layout": {
          "annotationdefaults": {
           "arrowcolor": "#2a3f5f",
           "arrowhead": 0,
           "arrowwidth": 1
          },
          "autotypenumbers": "strict",
          "coloraxis": {
           "colorbar": {
            "outlinewidth": 0,
            "ticks": ""
           }
          },
          "colorscale": {
           "diverging": [
            [
             0,
             "#8e0152"
            ],
            [
             0.1,
             "#c51b7d"
            ],
            [
             0.2,
             "#de77ae"
            ],
            [
             0.3,
             "#f1b6da"
            ],
            [
             0.4,
             "#fde0ef"
            ],
            [
             0.5,
             "#f7f7f7"
            ],
            [
             0.6,
             "#e6f5d0"
            ],
            [
             0.7,
             "#b8e186"
            ],
            [
             0.8,
             "#7fbc41"
            ],
            [
             0.9,
             "#4d9221"
            ],
            [
             1,
             "#276419"
            ]
           ],
           "sequential": [
            [
             0,
             "#0d0887"
            ],
            [
             0.1111111111111111,
             "#46039f"
            ],
            [
             0.2222222222222222,
             "#7201a8"
            ],
            [
             0.3333333333333333,
             "#9c179e"
            ],
            [
             0.4444444444444444,
             "#bd3786"
            ],
            [
             0.5555555555555556,
             "#d8576b"
            ],
            [
             0.6666666666666666,
             "#ed7953"
            ],
            [
             0.7777777777777778,
             "#fb9f3a"
            ],
            [
             0.8888888888888888,
             "#fdca26"
            ],
            [
             1,
             "#f0f921"
            ]
           ],
           "sequentialminus": [
            [
             0,
             "#0d0887"
            ],
            [
             0.1111111111111111,
             "#46039f"
            ],
            [
             0.2222222222222222,
             "#7201a8"
            ],
            [
             0.3333333333333333,
             "#9c179e"
            ],
            [
             0.4444444444444444,
             "#bd3786"
            ],
            [
             0.5555555555555556,
             "#d8576b"
            ],
            [
             0.6666666666666666,
             "#ed7953"
            ],
            [
             0.7777777777777778,
             "#fb9f3a"
            ],
            [
             0.8888888888888888,
             "#fdca26"
            ],
            [
             1,
             "#f0f921"
            ]
           ]
          },
          "colorway": [
           "#636efa",
           "#EF553B",
           "#00cc96",
           "#ab63fa",
           "#FFA15A",
           "#19d3f3",
           "#FF6692",
           "#B6E880",
           "#FF97FF",
           "#FECB52"
          ],
          "font": {
           "color": "#2a3f5f"
          },
          "geo": {
           "bgcolor": "white",
           "lakecolor": "white",
           "landcolor": "#E5ECF6",
           "showlakes": true,
           "showland": true,
           "subunitcolor": "white"
          },
          "hoverlabel": {
           "align": "left"
          },
          "hovermode": "closest",
          "mapbox": {
           "style": "light"
          },
          "paper_bgcolor": "white",
          "plot_bgcolor": "#E5ECF6",
          "polar": {
           "angularaxis": {
            "gridcolor": "white",
            "linecolor": "white",
            "ticks": ""
           },
           "bgcolor": "#E5ECF6",
           "radialaxis": {
            "gridcolor": "white",
            "linecolor": "white",
            "ticks": ""
           }
          },
          "scene": {
           "xaxis": {
            "backgroundcolor": "#E5ECF6",
            "gridcolor": "white",
            "gridwidth": 2,
            "linecolor": "white",
            "showbackground": true,
            "ticks": "",
            "zerolinecolor": "white"
           },
           "yaxis": {
            "backgroundcolor": "#E5ECF6",
            "gridcolor": "white",
            "gridwidth": 2,
            "linecolor": "white",
            "showbackground": true,
            "ticks": "",
            "zerolinecolor": "white"
           },
           "zaxis": {
            "backgroundcolor": "#E5ECF6",
            "gridcolor": "white",
            "gridwidth": 2,
            "linecolor": "white",
            "showbackground": true,
            "ticks": "",
            "zerolinecolor": "white"
           }
          },
          "shapedefaults": {
           "line": {
            "color": "#2a3f5f"
           }
          },
          "ternary": {
           "aaxis": {
            "gridcolor": "white",
            "linecolor": "white",
            "ticks": ""
           },
           "baxis": {
            "gridcolor": "white",
            "linecolor": "white",
            "ticks": ""
           },
           "bgcolor": "#E5ECF6",
           "caxis": {
            "gridcolor": "white",
            "linecolor": "white",
            "ticks": ""
           }
          },
          "title": {
           "x": 0.05
          },
          "xaxis": {
           "automargin": true,
           "gridcolor": "white",
           "linecolor": "white",
           "ticks": "",
           "title": {
            "standoff": 15
           },
           "zerolinecolor": "white",
           "zerolinewidth": 2
          },
          "yaxis": {
           "automargin": true,
           "gridcolor": "white",
           "linecolor": "white",
           "ticks": "",
           "title": {
            "standoff": 15
           },
           "zerolinecolor": "white",
           "zerolinewidth": 2
          }
         }
        }
       }
      }
     },
     "metadata": {},
     "output_type": "display_data"
    }
   ],
   "source": [
    "# add identity to the final_profits_df dataframe\n",
    "final_profits_df['identity'] = final_profits_df.index.get_level_values(0).unique()\n",
    "\n",
    "# add a log scale column of the profit\n",
    "final_profits_df['log_profit'] = np.log(np.abs(final_profits_df['profit_usd']))\n",
    "\n",
    "fig = px.sunburst(final_profits_df, path=['quartile', 'identity'], values='nb_transactions', color='log_profit', color_continuous_scale='RdBu', hover_data={'profit_usd':':.2e'})\n",
    "\n",
    "fig.show()\n",
    "\n",
    "\n"
   ]
  },
  {
   "cell_type": "code",
   "execution_count": 460,
   "metadata": {},
   "outputs": [
    {
     "data": {
      "application/vnd.plotly.v1+json": {
       "config": {
        "plotlyServerURL": "https://plot.ly"
       },
       "data": [
        {
         "branchvalues": "total",
         "customdata": [
          [
           null,
           null
          ],
          [
           null,
           null
          ],
          [
           null,
           null
          ],
          [
           16746923.254111396,
           16.633725113041244
          ],
          [
           375.06054526978625,
           5.927087466990872
          ],
          [
           null,
           null
          ],
          [
           null,
           null
          ],
          [
           null,
           null
          ],
          [
           null,
           null
          ],
          [
           null,
           null
          ],
          [
           null,
           null
          ],
          [
           38190848.488327995,
           17.45810647650734
          ],
          [
           null,
           null
          ],
          [
           8509.713818085607,
           9.048963592104847
          ],
          [
           null,
           null
          ],
          [
           null,
           null
          ],
          [
           856.3626887244405,
           6.752693988186377
          ],
          [
           null,
           null
          ],
          [
           null,
           null
          ],
          [
           null,
           null
          ],
          [
           316.9462242345539,
           5.758732119848219
          ],
          [
           null,
           null
          ],
          [
           null,
           null
          ],
          [
           null,
           null
          ],
          [
           null,
           null
          ],
          [
           null,
           null
          ],
          [
           169917.52062565897,
           12.043068425507757
          ],
          [
           null,
           null
          ],
          [
           null,
           null
          ],
          [
           null,
           null
          ],
          [
           436203.3564301162,
           12.985863827424593
          ],
          [
           null,
           null
          ],
          [
           406.7399074044485,
           6.008173933017976
          ],
          [
           null,
           null
          ],
          [
           null,
           null
          ],
          [
           null,
           null
          ],
          [
           null,
           null
          ],
          [
           1198.7196801313398,
           7.089009332973785
          ],
          [
           null,
           null
          ],
          [
           null,
           null
          ],
          [
           1242.0664821645107,
           7.124531789373646
          ],
          [
           null,
           null
          ],
          [
           null,
           null
          ],
          [
           null,
           null
          ],
          [
           1283.497636477758,
           7.157344158843008
          ],
          [
           null,
           null
          ],
          [
           null,
           null
          ],
          [
           null,
           null
          ],
          [
           161.47441306830206,
           5.084346697097266
          ],
          [
           null,
           null
          ],
          [
           null,
           null
          ],
          [
           null,
           null
          ],
          [
           null,
           null
          ],
          [
           null,
           null
          ],
          [
           114055.31641212414,
           11.644438841375106
          ],
          [
           null,
           null
          ],
          [
           null,
           null
          ],
          [
           1912.228804863519,
           7.556024754267373
          ],
          [
           null,
           null
          ],
          [
           null,
           null
          ],
          [
           300.4350597516565,
           5.705231623305092
          ],
          [
           null,
           null
          ],
          [
           null,
           null
          ],
          [
           null,
           null
          ],
          [
           618.3774761084052,
           6.427099073758017
          ],
          [
           null,
           null
          ],
          [
           null,
           null
          ],
          [
           null,
           null
          ],
          [
           null,
           null
          ],
          [
           1606.344064909141,
           7.381716108739992
          ],
          [
           null,
           null
          ],
          [
           null,
           null
          ],
          [
           null,
           null
          ],
          [
           null,
           null
          ],
          [
           null,
           null
          ],
          [
           597075.1814697308,
           13.299798316556059
          ],
          [
           618.0879793900828,
           6.426630808797884
          ],
          [
           null,
           null
          ],
          [
           null,
           null
          ],
          [
           null,
           null
          ],
          [
           null,
           null
          ],
          [
           3995.4511876293714,
           8.292911789903293
          ],
          [
           null,
           null
          ],
          [
           null,
           null
          ],
          [
           682.8706675276956,
           6.526305482236953
          ],
          [
           null,
           null
          ],
          [
           null,
           null
          ],
          [
           null,
           null
          ],
          [
           null,
           null
          ],
          [
           null,
           null
          ],
          [
           26569.473195984407,
           10.187518211533757
          ],
          [
           null,
           null
          ],
          [
           null,
           null
          ],
          [
           null,
           null
          ],
          [
           null,
           null
          ],
          [
           480102.7484427918,
           13.081755419232476
          ],
          [
           null,
           null
          ],
          [
           null,
           null
          ],
          [
           null,
           null
          ],
          [
           1148299.4262454621,
           13.953792646108544
          ],
          [
           47.12120453368336,
           3.85272310212533
          ],
          [
           null,
           null
          ],
          [
           null,
           null
          ],
          [
           null,
           null
          ],
          [
           null,
           null
          ],
          [
           null,
           null
          ],
          [
           249242.92233413583,
           12.426183291569906
          ],
          [
           null,
           null
          ],
          [
           null,
           null
          ],
          [
           4669.880552891153,
           8.448888772796465
          ],
          [
           null,
           null
          ],
          [
           null,
           null
          ],
          [
           842.5436783624613,
           6.7364255046363395
          ],
          [
           null,
           null
          ],
          [
           null,
           null
          ],
          [
           null,
           null
          ],
          [
           null,
           null
          ],
          [
           1915.0232237877758,
           7.557485028845533
          ],
          [
           null,
           null
          ],
          [
           null,
           null
          ],
          [
           null,
           null
          ],
          [
           null,
           null
          ],
          [
           200883.6045936777,
           12.2104809376852
          ],
          [
           null,
           null
          ],
          [
           null,
           null
          ],
          [
           null,
           null
          ],
          [
           33116.278783546135,
           10.407780246617577
          ],
          [
           null,
           null
          ],
          [
           null,
           null
          ],
          [
           10945.808615887834,
           9.300711887162908
          ],
          [
           null,
           null
          ],
          [
           null,
           null
          ],
          [
           null,
           null
          ],
          [
           13924.238696378849,
           9.541386391586666
          ],
          [
           null,
           null
          ],
          [
           null,
           null
          ],
          [
           302.72555411227955,
           5.71282663305342
          ],
          [
           null,
           null
          ],
          [
           null,
           null
          ],
          [
           null,
           null
          ],
          [
           null,
           null
          ],
          [
           null,
           null
          ],
          [
           26256.68024930471,
           10.175675721331578
          ],
          [
           null,
           null
          ],
          [
           326.3603589950162,
           5.78800216655698
          ],
          [
           null,
           null
          ],
          [
           null,
           null
          ],
          [
           null,
           null
          ],
          [
           355.4571093627372,
           5.873404593195976
          ],
          [
           null,
           null
          ],
          [
           null,
           null
          ],
          [
           null,
           null
          ],
          [
           null,
           null
          ],
          [
           10714.805632305846,
           9.27938176796768
          ],
          [
           null,
           null
          ],
          [
           null,
           null
          ],
          [
           1160.1113988580096,
           7.056271312987773
          ],
          [
           null,
           null
          ],
          [
           null,
           null
          ],
          [
           null,
           null
          ],
          [
           318.1592457264837,
           5.762552030160152
          ],
          [
           null,
           null
          ],
          [
           null,
           null
          ],
          [
           null,
           null
          ],
          [
           null,
           null
          ],
          [
           1754.27977927669,
           7.46981366949163
          ],
          [
           null,
           null
          ],
          [
           null,
           null
          ],
          [
           215.7729266213457,
           5.3742265890749445
          ],
          [
           null,
           null
          ],
          [
           null,
           null
          ],
          [
           null,
           null
          ],
          [
           199.29020161039247,
           5.2947620619880436
          ],
          [
           null,
           null
          ],
          [
           null,
           null
          ],
          [
           null,
           null
          ],
          [
           457.6850915887021,
           6.126181374677064
          ],
          [
           null,
           null
          ],
          [
           null,
           null
          ],
          [
           null,
           null
          ],
          [
           205.91589301933104,
           5.327467799104103
          ],
          [
           null,
           null
          ],
          [
           null,
           null
          ],
          [
           null,
           null
          ],
          [
           -6.702578290872978,
           1.902492271906154
          ],
          [
           null,
           null
          ],
          [
           null,
           null
          ],
          [
           null,
           null
          ],
          [
           1210.0715376610428,
           7.098434758877068
          ],
          [
           null,
           null
          ],
          [
           null,
           null
          ],
          [
           null,
           null
          ],
          [
           27.7224978609806,
           3.3222442806869874
          ],
          [
           null,
           null
          ],
          [
           null,
           null
          ],
          [
           null,
           null
          ],
          [
           null,
           null
          ],
          [
           null,
           null
          ],
          [
           null,
           null
          ],
          [
           817027.8628044383,
           13.61342847706042
          ],
          [
           null,
           null
          ],
          [
           2443.6094098493068,
           7.801231491582287
          ],
          [
           null,
           null
          ],
          [
           null,
           null
          ],
          [
           null,
           null
          ],
          [
           null,
           null
          ],
          [
           28546.92908806338,
           10.259304646709163
          ],
          [
           null,
           null
          ],
          [
           null,
           null
          ],
          [
           null,
           null
          ],
          [
           268069.9168071156,
           12.499003109077423
          ],
          [
           null,
           null
          ],
          [
           null,
           null
          ],
          [
           null,
           null
          ],
          [
           null,
           null
          ],
          [
           57743056.802342154,
           17.871513671607275
          ],
          [
           null,
           null
          ],
          [
           null,
           null
          ],
          [
           null,
           null
          ],
          [
           7471962.836366852,
           15.826668285158807
          ],
          [
           null,
           null
          ],
          [
           null,
           null
          ],
          [
           121700.82175563747,
           11.7093210312588
          ],
          [
           null,
           null
          ],
          [
           null,
           null
          ],
          [
           null,
           null
          ],
          [
           null,
           null
          ],
          [
           1691937.0795959388,
           14.341384631456815
          ],
          [
           null,
           null
          ],
          [
           null,
           null
          ],
          [
           null,
           null
          ],
          [
           1811243.3306178646,
           14.409524090411693
          ],
          [
           null,
           null
          ],
          [
           null,
           null
          ],
          [
           83339.7187819421,
           11.330680530624004
          ],
          [
           null,
           null
          ],
          [
           null,
           null
          ],
          [
           null,
           null
          ],
          [
           null,
           null
          ],
          [
           2085939.8553832641,
           14.55073008161677
          ],
          [
           null,
           null
          ],
          [
           null,
           null
          ],
          [
           133624.08823740005,
           11.802785825010522
          ],
          [
           null,
           null
          ],
          [
           null,
           null
          ],
          [
           null,
           null
          ],
          [
           null,
           null
          ],
          [
           1366792.0118577846,
           14.127976954794272
          ],
          [
           null,
           null
          ],
          [
           null,
           null
          ],
          [
           71811.0355146487,
           11.1817934412016
          ],
          [
           null,
           null
          ],
          [
           null,
           null
          ],
          [
           null,
           null
          ],
          [
           null,
           null
          ],
          [
           258443680.63796124,
           19.370188358303178
          ],
          [
           null,
           null
          ],
          [
           null,
           null
          ],
          [
           null,
           null
          ],
          [
           2927103.978245212,
           14.889524088871289
          ],
          [
           null,
           null
          ],
          [
           null,
           null
          ],
          [
           null,
           null
          ],
          [
           13418818.956325853,
           16.4121686794
          ],
          [
           null,
           null
          ],
          [
           null,
           null
          ],
          [
           33541.87400882271,
           10.420549907663146
          ],
          [
           null,
           null
          ],
          [
           null,
           null
          ],
          [
           null,
           null
          ],
          [
           29274.72340032613,
           10.284479740097666
          ],
          [
           null,
           null
          ],
          [
           null,
           null
          ],
          [
           null,
           null
          ],
          [
           null,
           null
          ],
          [
           465852.6223376719,
           13.051624602008745
          ],
          [
           null,
           null
          ],
          [
           12510.697359396965,
           9.43433934606374
          ],
          [
           null,
           null
          ],
          [
           null,
           null
          ],
          [
           null,
           null
          ],
          [
           null,
           null
          ],
          [
           47532.043670061554,
           10.769159366160263
          ],
          [
           null,
           null
          ],
          [
           null,
           null
          ],
          [
           11081.938031016669,
           9.31307185755249
          ],
          [
           null,
           null
          ],
          [
           null,
           null
          ],
          [
           null,
           null
          ],
          [
           null,
           null
          ],
          [
           null,
           null
          ],
          [
           4226538.908534616,
           15.256893991161014
          ],
          [
           null,
           null
          ],
          [
           10458.587338454081,
           9.255178674813266
          ],
          [
           null,
           null
          ],
          [
           null,
           null
          ],
          [
           null,
           null
          ],
          [
           12644.858099322813,
           9.445005937160737
          ],
          [
           null,
           null
          ],
          [
           null,
           null
          ],
          [
           null,
           null
          ],
          [
           20827.299664947393,
           9.944019889027022
          ],
          [
           null,
           null
          ],
          [
           null,
           null
          ],
          [
           null,
           null
          ],
          [
           null,
           null
          ],
          [
           null,
           null
          ],
          [
           24643502.769871287,
           17.020023844394274
          ],
          [
           null,
           null
          ],
          [
           3729.629731802228,
           8.224064240097162
          ],
          [
           null,
           null
          ],
          [
           null,
           null
          ],
          [
           null,
           null
          ],
          [
           15578.77880388783,
           9.653664934060506
          ],
          [
           null,
           null
          ],
          [
           null,
           null
          ],
          [
           null,
           null
          ],
          [
           null,
           null
          ],
          [
           null,
           null
          ],
          [
           324800859.6264089,
           19.598722812881327
          ],
          [
           null,
           null
          ],
          [
           null,
           null
          ],
          [
           71505.88640946067,
           11.17753505269843
          ],
          [
           null,
           null
          ],
          [
           null,
           null
          ],
          [
           null,
           null
          ],
          [
           null,
           null
          ],
          [
           1953537.3021603338,
           14.485152288334797
          ],
          [
           null,
           null
          ],
          [
           null,
           null
          ],
          [
           46467.685478134066,
           10.74651241404142
          ],
          [
           null,
           null
          ],
          [
           null,
           null
          ],
          [
           null,
           null
          ],
          [
           39353.32182757719,
           10.580335667755966
          ],
          [
           null,
           null
          ],
          [
           null,
           null
          ],
          [
           null,
           null
          ],
          [
           null,
           null
          ],
          [
           31009162.631160174,
           17.249793287524685
          ],
          [
           null,
           null
          ],
          [
           null,
           null
          ],
          [
           null,
           null
          ],
          [
           3209871.80196141,
           14.98174155722502
          ],
          [
           null,
           null
          ],
          [
           11214.354119594282,
           9.324949854533015
          ],
          [
           null,
           null
          ],
          [
           null,
           null
          ],
          [
           null,
           null
          ],
          [
           null,
           null
          ],
          [
           null,
           null
          ],
          [
           1477387.4263676594,
           14.205785833391891
          ],
          [
           null,
           null
          ],
          [
           14278.289905089365,
           9.566495474176865
          ],
          [
           null,
           null
          ],
          [
           null,
           null
          ],
          [
           null,
           null
          ],
          [
           9856.76185745735,
           9.195912981635061
          ],
          [
           null,
           null
          ],
          [
           null,
           null
          ],
          [
           null,
           null
          ],
          [
           null,
           null
          ],
          [
           398822.94127681665,
           12.896272841184626
          ],
          [
           null,
           null
          ],
          [
           null,
           null
          ],
          [
           24048.373870523028,
           10.087822658716675
          ],
          [
           null,
           null
          ],
          [
           null,
           null
          ],
          [
           null,
           null
          ],
          [
           null,
           null
          ],
          [
           72355.11459675072,
           11.1893414219833
          ],
          [
           null,
           null
          ],
          [
           null,
           null
          ],
          [
           null,
           null
          ],
          [
           290353.06248105055,
           12.578852918294254
          ],
          [
           null,
           null
          ],
          [
           null,
           null
          ],
          [
           null,
           null
          ],
          [
           212023.99769354126,
           12.264454743915538
          ],
          [
           null,
           null
          ],
          [
           null,
           null
          ],
          [
           null,
           null
          ],
          [
           197982.4619364333,
           12.195933729674959
          ],
          [
           null,
           null
          ],
          [
           null,
           null
          ],
          [
           25308.592849746285,
           10.13889925538146
          ],
          [
           null,
           null
          ],
          [
           null,
           null
          ],
          [
           null,
           null
          ],
          [
           null,
           null
          ],
          [
           null,
           null
          ],
          [
           118183585.79945052,
           18.58774978526826
          ],
          [
           null,
           null
          ],
          [
           15400.62417799136,
           9.642163318618758
          ],
          [
           null,
           null
          ],
          [
           null,
           null
          ],
          [
           null,
           null
          ],
          [
           null,
           null
          ],
          [
           null,
           null
          ],
          [
           1185567995.2787967,
           20.89348781760631
          ],
          [
           "(?)",
           6.289616843793407
          ],
          [
           "(?)",
           8.605803188487217
          ],
          [
           "(?)",
           11.534358578795125
          ],
          [
           "(?)",
           17.792832471442757
          ],
          [
           "(?)",
           16.34307690755814
          ]
         ],
         "domain": {
          "x": [
           0,
           1
          ],
          "y": [
           0,
           1
          ]
         },
         "hovertemplate": "labels=%{label}<br>nb_transactions=%{value}<br>parent=%{parent}<br>id=%{id}<br>profit_usd=%{customdata[0]:.2e}<br>log_profit=%{color}<extra></extra>",
         "ids": [
          "actors/Q1/0",
          "actors/Q2/0",
          "actors/Q3/0",
          "actors/Q4/0",
          "actors/Q1/101",
          "actors/Q2/101",
          "actors/Q3/101",
          "actors/Q4/101",
          "actors/Q1/107",
          "actors/Q2/107",
          "actors/Q3/107",
          "actors/Q4/107",
          "actors/Q1/1070",
          "actors/Q2/1070",
          "actors/Q3/1070",
          "actors/Q4/1070",
          "actors/Q1/1138",
          "actors/Q2/1138",
          "actors/Q3/1138",
          "actors/Q4/1138",
          "actors/Q1/1149",
          "actors/Q2/1149",
          "actors/Q3/1149",
          "actors/Q4/1149",
          "actors/Q1/122",
          "actors/Q2/122",
          "actors/Q3/122",
          "actors/Q4/122",
          "actors/Q1/1226",
          "actors/Q2/1226",
          "actors/Q3/1226",
          "actors/Q4/1226",
          "actors/Q1/1391",
          "actors/Q2/1391",
          "actors/Q3/1391",
          "actors/Q4/1391",
          "actors/Q1/154",
          "actors/Q2/154",
          "actors/Q3/154",
          "actors/Q4/154",
          "actors/Q1/1567",
          "actors/Q2/1567",
          "actors/Q3/1567",
          "actors/Q4/1567",
          "actors/Q1/16621",
          "actors/Q2/16621",
          "actors/Q3/16621",
          "actors/Q4/16621",
          "actors/Q1/16768780",
          "actors/Q2/16768780",
          "actors/Q3/16768780",
          "actors/Q4/16768780",
          "actors/Q1/175",
          "actors/Q2/175",
          "actors/Q3/175",
          "actors/Q4/175",
          "actors/Q1/1805",
          "actors/Q2/1805",
          "actors/Q3/1805",
          "actors/Q4/1805",
          "actors/Q1/18972",
          "actors/Q2/18972",
          "actors/Q3/18972",
          "actors/Q4/18972",
          "actors/Q1/227",
          "actors/Q2/227",
          "actors/Q3/227",
          "actors/Q4/227",
          "actors/Q1/269",
          "actors/Q2/269",
          "actors/Q3/269",
          "actors/Q4/269",
          "actors/Q1/289",
          "actors/Q2/289",
          "actors/Q3/289",
          "actors/Q4/289",
          "actors/Q1/292",
          "actors/Q2/292",
          "actors/Q3/292",
          "actors/Q4/292",
          "actors/Q1/348",
          "actors/Q2/348",
          "actors/Q3/348",
          "actors/Q4/348",
          "actors/Q1/35",
          "actors/Q2/35",
          "actors/Q3/35",
          "actors/Q4/35",
          "actors/Q1/354",
          "actors/Q2/354",
          "actors/Q3/354",
          "actors/Q4/354",
          "actors/Q1/396",
          "actors/Q2/396",
          "actors/Q3/396",
          "actors/Q4/396",
          "actors/Q1/417",
          "actors/Q2/417",
          "actors/Q3/417",
          "actors/Q4/417",
          "actors/Q1/419",
          "actors/Q2/419",
          "actors/Q3/419",
          "actors/Q4/419",
          "actors/Q1/421",
          "actors/Q2/421",
          "actors/Q3/421",
          "actors/Q4/421",
          "actors/Q1/469",
          "actors/Q2/469",
          "actors/Q3/469",
          "actors/Q4/469",
          "actors/Q1/5162",
          "actors/Q2/5162",
          "actors/Q3/5162",
          "actors/Q4/5162",
          "actors/Q1/523",
          "actors/Q2/523",
          "actors/Q3/523",
          "actors/Q4/523",
          "actors/Q1/57",
          "actors/Q2/57",
          "actors/Q3/57",
          "actors/Q4/57",
          "actors/Q1/61",
          "actors/Q2/61",
          "actors/Q3/61",
          "actors/Q4/61",
          "actors/Q1/61400549",
          "actors/Q2/61400549",
          "actors/Q3/61400549",
          "actors/Q4/61400549",
          "actors/Q1/641",
          "actors/Q2/641",
          "actors/Q3/641",
          "actors/Q4/641",
          "actors/Q1/69383113",
          "actors/Q2/69383113",
          "actors/Q3/69383113",
          "actors/Q4/69383113",
          "actors/Q1/69697250",
          "actors/Q2/69697250",
          "actors/Q3/69697250",
          "actors/Q4/69697250",
          "actors/Q1/69827719",
          "actors/Q2/69827719",
          "actors/Q3/69827719",
          "actors/Q4/69827719",
          "actors/Q1/69984672",
          "actors/Q2/69984672",
          "actors/Q3/69984672",
          "actors/Q4/69984672",
          "actors/Q1/700",
          "actors/Q2/700",
          "actors/Q3/700",
          "actors/Q4/700",
          "actors/Q1/70063369",
          "actors/Q2/70063369",
          "actors/Q3/70063369",
          "actors/Q4/70063369",
          "actors/Q1/70927660",
          "actors/Q2/70927660",
          "actors/Q3/70927660",
          "actors/Q4/70927660",
          "actors/Q1/71554939",
          "actors/Q2/71554939",
          "actors/Q3/71554939",
          "actors/Q4/71554939",
          "actors/Q1/71842975",
          "actors/Q2/71842975",
          "actors/Q3/71842975",
          "actors/Q4/71842975",
          "actors/Q1/72472408",
          "actors/Q2/72472408",
          "actors/Q3/72472408",
          "actors/Q4/72472408",
          "actors/Q1/7277",
          "actors/Q2/7277",
          "actors/Q3/7277",
          "actors/Q4/7277",
          "actors/Q1/73832915",
          "actors/Q2/73832915",
          "actors/Q3/73832915",
          "actors/Q4/73832915",
          "actors/Q1/73963652",
          "actors/Q2/73963652",
          "actors/Q3/73963652",
          "actors/Q4/73963652",
          "actors/Q1/74278522",
          "actors/Q2/74278522",
          "actors/Q3/74278522",
          "actors/Q4/74278522",
          "actors/Q1/74304487",
          "actors/Q2/74304487",
          "actors/Q3/74304487",
          "actors/Q4/74304487",
          "actors/Q1/821",
          "actors/Q2/821",
          "actors/Q3/821",
          "actors/Q4/821",
          "actors/Q1/871",
          "actors/Q2/871",
          "actors/Q3/871",
          "actors/Q4/871",
          "actors/Q1/898",
          "actors/Q2/898",
          "actors/Q3/898",
          "actors/Q4/898",
          "actors/Q1/999Dice.com",
          "actors/Q2/999Dice.com",
          "actors/Q3/999Dice.com",
          "actors/Q4/999Dice.com",
          "actors/Q1/BTC-e.com",
          "actors/Q2/BTC-e.com",
          "actors/Q3/BTC-e.com",
          "actors/Q4/BTC-e.com",
          "actors/Q1/BTCC.com",
          "actors/Q2/BTCC.com",
          "actors/Q3/BTCC.com",
          "actors/Q4/BTCC.com",
          "actors/Q1/BTCJam.com",
          "actors/Q2/BTCJam.com",
          "actors/Q3/BTCJam.com",
          "actors/Q4/BTCJam.com",
          "actors/Q1/BX.in.th",
          "actors/Q2/BX.in.th",
          "actors/Q3/BX.in.th",
          "actors/Q4/BX.in.th",
          "actors/Q1/Bit-x.com",
          "actors/Q2/Bit-x.com",
          "actors/Q3/Bit-x.com",
          "actors/Q4/Bit-x.com",
          "actors/Q1/BitBargain.co.uk",
          "actors/Q2/BitBargain.co.uk",
          "actors/Q3/BitBargain.co.uk",
          "actors/Q4/BitBargain.co.uk",
          "actors/Q1/BitZillions.com",
          "actors/Q2/BitZillions.com",
          "actors/Q3/BitZillions.com",
          "actors/Q4/BitZillions.com",
          "actors/Q1/Bitbond.com",
          "actors/Q2/Bitbond.com",
          "actors/Q3/Bitbond.com",
          "actors/Q4/Bitbond.com",
          "actors/Q1/Bitcoin.de",
          "actors/Q2/Bitcoin.de",
          "actors/Q3/Bitcoin.de",
          "actors/Q4/Bitcoin.de",
          "actors/Q1/BitcoinFog",
          "actors/Q2/BitcoinFog",
          "actors/Q3/BitcoinFog",
          "actors/Q4/BitcoinFog",
          "actors/Q1/Bitstamp.net",
          "actors/Q2/Bitstamp.net",
          "actors/Q3/Bitstamp.net",
          "actors/Q4/Bitstamp.net",
          "actors/Q1/BtcTrade.com",
          "actors/Q2/BtcTrade.com",
          "actors/Q3/BtcTrade.com",
          "actors/Q4/BtcTrade.com",
          "actors/Q1/Bter.com",
          "actors/Q2/Bter.com",
          "actors/Q3/Bter.com",
          "actors/Q4/Bter.com",
          "actors/Q1/CoinCafe.com",
          "actors/Q2/CoinCafe.com",
          "actors/Q3/CoinCafe.com",
          "actors/Q4/CoinCafe.com",
          "actors/Q1/CoinGaming.io",
          "actors/Q2/CoinGaming.io",
          "actors/Q3/CoinGaming.io",
          "actors/Q4/CoinGaming.io",
          "actors/Q1/CoinJar.com",
          "actors/Q2/CoinJar.com",
          "actors/Q3/CoinJar.com",
          "actors/Q4/CoinJar.com",
          "actors/Q1/CoinMotion.com",
          "actors/Q2/CoinMotion.com",
          "actors/Q3/CoinMotion.com",
          "actors/Q4/CoinMotion.com",
          "actors/Q1/CoinPayments.net",
          "actors/Q2/CoinPayments.net",
          "actors/Q3/CoinPayments.net",
          "actors/Q4/CoinPayments.net",
          "actors/Q1/CoinSpot.com.au",
          "actors/Q2/CoinSpot.com.au",
          "actors/Q3/CoinSpot.com.au",
          "actors/Q4/CoinSpot.com.au",
          "actors/Q1/CoinTrader.net_LocalBitcoins.com",
          "actors/Q2/CoinTrader.net_LocalBitcoins.com",
          "actors/Q3/CoinTrader.net_LocalBitcoins.com",
          "actors/Q4/CoinTrader.net_LocalBitcoins.com",
          "actors/Q1/Cryptonator.com",
          "actors/Q2/Cryptonator.com",
          "actors/Q3/Cryptonator.com",
          "actors/Q4/Cryptonator.com",
          "actors/Q1/FYBSG.com",
          "actors/Q2/FYBSG.com",
          "actors/Q3/FYBSG.com",
          "actors/Q4/FYBSG.com",
          "actors/Q1/FortuneJack.com",
          "actors/Q2/FortuneJack.com",
          "actors/Q3/FortuneJack.com",
          "actors/Q4/FortuneJack.com",
          "actors/Q1/HaoBTC.com",
          "actors/Q2/HaoBTC.com",
          "actors/Q3/HaoBTC.com",
          "actors/Q4/HaoBTC.com",
          "actors/Q1/HappyCoins.com",
          "actors/Q2/HappyCoins.com",
          "actors/Q3/HappyCoins.com",
          "actors/Q4/HappyCoins.com",
          "actors/Q1/HolyTransaction.com",
          "actors/Q2/HolyTransaction.com",
          "actors/Q3/HolyTransaction.com",
          "actors/Q4/HolyTransaction.com",
          "actors/Q1/Huobi.com",
          "actors/Q2/Huobi.com",
          "actors/Q3/Huobi.com",
          "actors/Q4/Huobi.com",
          "actors/Q1/Loanbase.com",
          "actors/Q2/Loanbase.com",
          "actors/Q3/Loanbase.com",
          "actors/Q4/Loanbase.com",
          "actors/Q1/LuckyB.it",
          "actors/Q2/LuckyB.it",
          "actors/Q3/LuckyB.it",
          "actors/Q4/LuckyB.it",
          "actors/Q1/Matbea.com",
          "actors/Q2/Matbea.com",
          "actors/Q3/Matbea.com",
          "actors/Q4/Matbea.com",
          "actors/Q1/MercadoBitcoin.com.br",
          "actors/Q2/MercadoBitcoin.com.br",
          "actors/Q3/MercadoBitcoin.com.br",
          "actors/Q4/MercadoBitcoin.com.br",
          "actors/Q1/OKCoin.com",
          "actors/Q2/OKCoin.com",
          "actors/Q3/OKCoin.com",
          "actors/Q4/OKCoin.com",
          "actors/Q1/Paymium.com",
          "actors/Q2/Paymium.com",
          "actors/Q3/Paymium.com",
          "actors/Q4/Paymium.com",
          "actors/Q1/PocketDice.io",
          "actors/Q2/PocketDice.io",
          "actors/Q3/PocketDice.io",
          "actors/Q4/PocketDice.io",
          "actors/Q1/Poloniex.com",
          "actors/Q2/Poloniex.com",
          "actors/Q3/Poloniex.com",
          "actors/Q4/Poloniex.com",
          "actors/Q1/Rollin.io",
          "actors/Q2/Rollin.io",
          "actors/Q3/Rollin.io",
          "actors/Q4/Rollin.io",
          "actors/Q1/SafeDice.com",
          "actors/Q2/SafeDice.com",
          "actors/Q3/SafeDice.com",
          "actors/Q4/SafeDice.com",
          "actors/Q1/SatoshiDice.com",
          "actors/Q2/SatoshiDice.com",
          "actors/Q3/SatoshiDice.com",
          "actors/Q4/SatoshiDice.com",
          "actors/Q1/SatoshiMines.com",
          "actors/Q2/SatoshiMines.com",
          "actors/Q3/SatoshiMines.com",
          "actors/Q4/SatoshiMines.com",
          "actors/Q1/SecondsTrade.com",
          "actors/Q2/SecondsTrade.com",
          "actors/Q3/SecondsTrade.com",
          "actors/Q4/SecondsTrade.com",
          "actors/Q1/SimpleCoin.cz",
          "actors/Q2/SimpleCoin.cz",
          "actors/Q3/SimpleCoin.cz",
          "actors/Q4/SimpleCoin.cz",
          "actors/Q1/SlushPool.com",
          "actors/Q2/SlushPool.com",
          "actors/Q3/SlushPool.com",
          "actors/Q4/SlushPool.com",
          "actors/Q1/TheRockTrading.com",
          "actors/Q2/TheRockTrading.com",
          "actors/Q3/TheRockTrading.com",
          "actors/Q4/TheRockTrading.com",
          "actors/Q1/Vaultoro.com",
          "actors/Q2/Vaultoro.com",
          "actors/Q3/Vaultoro.com",
          "actors/Q4/Vaultoro.com",
          "actors/Q1/Xapo.com",
          "actors/Q2/Xapo.com",
          "actors/Q3/Xapo.com",
          "actors/Q4/Xapo.com",
          "actors/Q1/YoBit.net",
          "actors/Q2/YoBit.net",
          "actors/Q3/YoBit.net",
          "actors/Q4/YoBit.net",
          "actors/Q1/ePay.info_CoinJoinMess",
          "actors/Q2/ePay.info_CoinJoinMess",
          "actors/Q3/ePay.info_CoinJoinMess",
          "actors/Q4/ePay.info_CoinJoinMess",
          "actors/Q1",
          "actors/Q2",
          "actors/Q3",
          "actors/Q4",
          "actors"
         ],
         "labels": [
          "0",
          "0",
          "0",
          "0",
          "101",
          "101",
          "101",
          "101",
          "107",
          "107",
          "107",
          "107",
          "1070",
          "1070",
          "1070",
          "1070",
          "1138",
          "1138",
          "1138",
          "1138",
          "1149",
          "1149",
          "1149",
          "1149",
          "122",
          "122",
          "122",
          "122",
          "1226",
          "1226",
          "1226",
          "1226",
          "1391",
          "1391",
          "1391",
          "1391",
          "154",
          "154",
          "154",
          "154",
          "1567",
          "1567",
          "1567",
          "1567",
          "16621",
          "16621",
          "16621",
          "16621",
          "16768780",
          "16768780",
          "16768780",
          "16768780",
          "175",
          "175",
          "175",
          "175",
          "1805",
          "1805",
          "1805",
          "1805",
          "18972",
          "18972",
          "18972",
          "18972",
          "227",
          "227",
          "227",
          "227",
          "269",
          "269",
          "269",
          "269",
          "289",
          "289",
          "289",
          "289",
          "292",
          "292",
          "292",
          "292",
          "348",
          "348",
          "348",
          "348",
          "35",
          "35",
          "35",
          "35",
          "354",
          "354",
          "354",
          "354",
          "396",
          "396",
          "396",
          "396",
          "417",
          "417",
          "417",
          "417",
          "419",
          "419",
          "419",
          "419",
          "421",
          "421",
          "421",
          "421",
          "469",
          "469",
          "469",
          "469",
          "5162",
          "5162",
          "5162",
          "5162",
          "523",
          "523",
          "523",
          "523",
          "57",
          "57",
          "57",
          "57",
          "61",
          "61",
          "61",
          "61",
          "61400549",
          "61400549",
          "61400549",
          "61400549",
          "641",
          "641",
          "641",
          "641",
          "69383113",
          "69383113",
          "69383113",
          "69383113",
          "69697250",
          "69697250",
          "69697250",
          "69697250",
          "69827719",
          "69827719",
          "69827719",
          "69827719",
          "69984672",
          "69984672",
          "69984672",
          "69984672",
          "700",
          "700",
          "700",
          "700",
          "70063369",
          "70063369",
          "70063369",
          "70063369",
          "70927660",
          "70927660",
          "70927660",
          "70927660",
          "71554939",
          "71554939",
          "71554939",
          "71554939",
          "71842975",
          "71842975",
          "71842975",
          "71842975",
          "72472408",
          "72472408",
          "72472408",
          "72472408",
          "7277",
          "7277",
          "7277",
          "7277",
          "73832915",
          "73832915",
          "73832915",
          "73832915",
          "73963652",
          "73963652",
          "73963652",
          "73963652",
          "74278522",
          "74278522",
          "74278522",
          "74278522",
          "74304487",
          "74304487",
          "74304487",
          "74304487",
          "821",
          "821",
          "821",
          "821",
          "871",
          "871",
          "871",
          "871",
          "898",
          "898",
          "898",
          "898",
          "999Dice.com",
          "999Dice.com",
          "999Dice.com",
          "999Dice.com",
          "BTC-e.com",
          "BTC-e.com",
          "BTC-e.com",
          "BTC-e.com",
          "BTCC.com",
          "BTCC.com",
          "BTCC.com",
          "BTCC.com",
          "BTCJam.com",
          "BTCJam.com",
          "BTCJam.com",
          "BTCJam.com",
          "BX.in.th",
          "BX.in.th",
          "BX.in.th",
          "BX.in.th",
          "Bit-x.com",
          "Bit-x.com",
          "Bit-x.com",
          "Bit-x.com",
          "BitBargain.co.uk",
          "BitBargain.co.uk",
          "BitBargain.co.uk",
          "BitBargain.co.uk",
          "BitZillions.com",
          "BitZillions.com",
          "BitZillions.com",
          "BitZillions.com",
          "Bitbond.com",
          "Bitbond.com",
          "Bitbond.com",
          "Bitbond.com",
          "Bitcoin.de",
          "Bitcoin.de",
          "Bitcoin.de",
          "Bitcoin.de",
          "BitcoinFog",
          "BitcoinFog",
          "BitcoinFog",
          "BitcoinFog",
          "Bitstamp.net",
          "Bitstamp.net",
          "Bitstamp.net",
          "Bitstamp.net",
          "BtcTrade.com",
          "BtcTrade.com",
          "BtcTrade.com",
          "BtcTrade.com",
          "Bter.com",
          "Bter.com",
          "Bter.com",
          "Bter.com",
          "CoinCafe.com",
          "CoinCafe.com",
          "CoinCafe.com",
          "CoinCafe.com",
          "CoinGaming.io",
          "CoinGaming.io",
          "CoinGaming.io",
          "CoinGaming.io",
          "CoinJar.com",
          "CoinJar.com",
          "CoinJar.com",
          "CoinJar.com",
          "CoinMotion.com",
          "CoinMotion.com",
          "CoinMotion.com",
          "CoinMotion.com",
          "CoinPayments.net",
          "CoinPayments.net",
          "CoinPayments.net",
          "CoinPayments.net",
          "CoinSpot.com.au",
          "CoinSpot.com.au",
          "CoinSpot.com.au",
          "CoinSpot.com.au",
          "CoinTrader.net_LocalBitcoins.com",
          "CoinTrader.net_LocalBitcoins.com",
          "CoinTrader.net_LocalBitcoins.com",
          "CoinTrader.net_LocalBitcoins.com",
          "Cryptonator.com",
          "Cryptonator.com",
          "Cryptonator.com",
          "Cryptonator.com",
          "FYBSG.com",
          "FYBSG.com",
          "FYBSG.com",
          "FYBSG.com",
          "FortuneJack.com",
          "FortuneJack.com",
          "FortuneJack.com",
          "FortuneJack.com",
          "HaoBTC.com",
          "HaoBTC.com",
          "HaoBTC.com",
          "HaoBTC.com",
          "HappyCoins.com",
          "HappyCoins.com",
          "HappyCoins.com",
          "HappyCoins.com",
          "HolyTransaction.com",
          "HolyTransaction.com",
          "HolyTransaction.com",
          "HolyTransaction.com",
          "Huobi.com",
          "Huobi.com",
          "Huobi.com",
          "Huobi.com",
          "Loanbase.com",
          "Loanbase.com",
          "Loanbase.com",
          "Loanbase.com",
          "LuckyB.it",
          "LuckyB.it",
          "LuckyB.it",
          "LuckyB.it",
          "Matbea.com",
          "Matbea.com",
          "Matbea.com",
          "Matbea.com",
          "MercadoBitcoin.com.br",
          "MercadoBitcoin.com.br",
          "MercadoBitcoin.com.br",
          "MercadoBitcoin.com.br",
          "OKCoin.com",
          "OKCoin.com",
          "OKCoin.com",
          "OKCoin.com",
          "Paymium.com",
          "Paymium.com",
          "Paymium.com",
          "Paymium.com",
          "PocketDice.io",
          "PocketDice.io",
          "PocketDice.io",
          "PocketDice.io",
          "Poloniex.com",
          "Poloniex.com",
          "Poloniex.com",
          "Poloniex.com",
          "Rollin.io",
          "Rollin.io",
          "Rollin.io",
          "Rollin.io",
          "SafeDice.com",
          "SafeDice.com",
          "SafeDice.com",
          "SafeDice.com",
          "SatoshiDice.com",
          "SatoshiDice.com",
          "SatoshiDice.com",
          "SatoshiDice.com",
          "SatoshiMines.com",
          "SatoshiMines.com",
          "SatoshiMines.com",
          "SatoshiMines.com",
          "SecondsTrade.com",
          "SecondsTrade.com",
          "SecondsTrade.com",
          "SecondsTrade.com",
          "SimpleCoin.cz",
          "SimpleCoin.cz",
          "SimpleCoin.cz",
          "SimpleCoin.cz",
          "SlushPool.com",
          "SlushPool.com",
          "SlushPool.com",
          "SlushPool.com",
          "TheRockTrading.com",
          "TheRockTrading.com",
          "TheRockTrading.com",
          "TheRockTrading.com",
          "Vaultoro.com",
          "Vaultoro.com",
          "Vaultoro.com",
          "Vaultoro.com",
          "Xapo.com",
          "Xapo.com",
          "Xapo.com",
          "Xapo.com",
          "YoBit.net",
          "YoBit.net",
          "YoBit.net",
          "YoBit.net",
          "ePay.info_CoinJoinMess",
          "ePay.info_CoinJoinMess",
          "ePay.info_CoinJoinMess",
          "ePay.info_CoinJoinMess",
          "Q1",
          "Q2",
          "Q3",
          "Q4",
          "actors"
         ],
         "marker": {
          "coloraxis": "coloraxis",
          "colors": [
           null,
           null,
           null,
           16.633725113041244,
           5.927087466990872,
           null,
           null,
           null,
           null,
           null,
           null,
           17.45810647650734,
           null,
           9.048963592104847,
           null,
           null,
           6.752693988186377,
           null,
           null,
           null,
           5.758732119848219,
           null,
           null,
           null,
           null,
           null,
           12.043068425507757,
           null,
           null,
           null,
           12.985863827424593,
           null,
           6.008173933017976,
           null,
           null,
           null,
           null,
           7.089009332973785,
           null,
           null,
           7.124531789373646,
           null,
           null,
           null,
           7.157344158843008,
           null,
           null,
           null,
           5.084346697097266,
           null,
           null,
           null,
           null,
           null,
           11.644438841375106,
           null,
           null,
           7.556024754267373,
           null,
           null,
           5.705231623305092,
           null,
           null,
           null,
           6.427099073758017,
           null,
           null,
           null,
           null,
           7.381716108739992,
           null,
           null,
           null,
           null,
           null,
           13.299798316556059,
           6.426630808797884,
           null,
           null,
           null,
           null,
           8.292911789903293,
           null,
           null,
           6.526305482236953,
           null,
           null,
           null,
           null,
           null,
           10.187518211533757,
           null,
           null,
           null,
           null,
           13.081755419232476,
           null,
           null,
           null,
           13.953792646108544,
           3.85272310212533,
           null,
           null,
           null,
           null,
           null,
           12.426183291569906,
           null,
           null,
           8.448888772796465,
           null,
           null,
           6.7364255046363395,
           null,
           null,
           null,
           null,
           7.557485028845533,
           null,
           null,
           null,
           null,
           12.2104809376852,
           null,
           null,
           null,
           10.407780246617577,
           null,
           null,
           9.300711887162908,
           null,
           null,
           null,
           9.541386391586666,
           null,
           null,
           5.71282663305342,
           null,
           null,
           null,
           null,
           null,
           10.175675721331578,
           null,
           5.78800216655698,
           null,
           null,
           null,
           5.873404593195976,
           null,
           null,
           null,
           null,
           9.27938176796768,
           null,
           null,
           7.056271312987773,
           null,
           null,
           null,
           5.762552030160152,
           null,
           null,
           null,
           null,
           7.46981366949163,
           null,
           null,
           5.3742265890749445,
           null,
           null,
           null,
           5.2947620619880436,
           null,
           null,
           null,
           6.126181374677064,
           null,
           null,
           null,
           5.327467799104103,
           null,
           null,
           null,
           1.902492271906154,
           null,
           null,
           null,
           7.098434758877068,
           null,
           null,
           null,
           3.3222442806869874,
           null,
           null,
           null,
           null,
           null,
           null,
           13.61342847706042,
           null,
           7.801231491582287,
           null,
           null,
           null,
           null,
           10.259304646709163,
           null,
           null,
           null,
           12.499003109077423,
           null,
           null,
           null,
           null,
           17.871513671607275,
           null,
           null,
           null,
           15.826668285158807,
           null,
           null,
           11.7093210312588,
           null,
           null,
           null,
           null,
           14.341384631456815,
           null,
           null,
           null,
           14.409524090411693,
           null,
           null,
           11.330680530624004,
           null,
           null,
           null,
           null,
           14.55073008161677,
           null,
           null,
           11.802785825010522,
           null,
           null,
           null,
           null,
           14.127976954794272,
           null,
           null,
           11.1817934412016,
           null,
           null,
           null,
           null,
           19.370188358303178,
           null,
           null,
           null,
           14.889524088871289,
           null,
           null,
           null,
           16.4121686794,
           null,
           null,
           10.420549907663146,
           null,
           null,
           null,
           10.284479740097666,
           null,
           null,
           null,
           null,
           13.051624602008745,
           null,
           9.43433934606374,
           null,
           null,
           null,
           null,
           10.769159366160263,
           null,
           null,
           9.31307185755249,
           null,
           null,
           null,
           null,
           null,
           15.256893991161014,
           null,
           9.255178674813266,
           null,
           null,
           null,
           9.445005937160737,
           null,
           null,
           null,
           9.944019889027022,
           null,
           null,
           null,
           null,
           null,
           17.020023844394274,
           null,
           8.224064240097162,
           null,
           null,
           null,
           9.653664934060506,
           null,
           null,
           null,
           null,
           null,
           19.598722812881327,
           null,
           null,
           11.17753505269843,
           null,
           null,
           null,
           null,
           14.485152288334797,
           null,
           null,
           10.74651241404142,
           null,
           null,
           null,
           10.580335667755966,
           null,
           null,
           null,
           null,
           17.249793287524685,
           null,
           null,
           null,
           14.98174155722502,
           null,
           9.324949854533015,
           null,
           null,
           null,
           null,
           null,
           14.205785833391891,
           null,
           9.566495474176865,
           null,
           null,
           null,
           9.195912981635061,
           null,
           null,
           null,
           null,
           12.896272841184626,
           null,
           null,
           10.087822658716675,
           null,
           null,
           null,
           null,
           11.1893414219833,
           null,
           null,
           null,
           12.578852918294254,
           null,
           null,
           null,
           12.264454743915538,
           null,
           null,
           null,
           12.195933729674959,
           null,
           null,
           10.13889925538146,
           null,
           null,
           null,
           null,
           null,
           18.58774978526826,
           null,
           9.642163318618758,
           null,
           null,
           null,
           null,
           null,
           20.89348781760631,
           6.289616843793407,
           8.605803188487217,
           11.534358578795125,
           17.792832471442757,
           16.34307690755814
          ]
         },
         "name": "",
         "parents": [
          "actors/Q1",
          "actors/Q2",
          "actors/Q3",
          "actors/Q4",
          "actors/Q1",
          "actors/Q2",
          "actors/Q3",
          "actors/Q4",
          "actors/Q1",
          "actors/Q2",
          "actors/Q3",
          "actors/Q4",
          "actors/Q1",
          "actors/Q2",
          "actors/Q3",
          "actors/Q4",
          "actors/Q1",
          "actors/Q2",
          "actors/Q3",
          "actors/Q4",
          "actors/Q1",
          "actors/Q2",
          "actors/Q3",
          "actors/Q4",
          "actors/Q1",
          "actors/Q2",
          "actors/Q3",
          "actors/Q4",
          "actors/Q1",
          "actors/Q2",
          "actors/Q3",
          "actors/Q4",
          "actors/Q1",
          "actors/Q2",
          "actors/Q3",
          "actors/Q4",
          "actors/Q1",
          "actors/Q2",
          "actors/Q3",
          "actors/Q4",
          "actors/Q1",
          "actors/Q2",
          "actors/Q3",
          "actors/Q4",
          "actors/Q1",
          "actors/Q2",
          "actors/Q3",
          "actors/Q4",
          "actors/Q1",
          "actors/Q2",
          "actors/Q3",
          "actors/Q4",
          "actors/Q1",
          "actors/Q2",
          "actors/Q3",
          "actors/Q4",
          "actors/Q1",
          "actors/Q2",
          "actors/Q3",
          "actors/Q4",
          "actors/Q1",
          "actors/Q2",
          "actors/Q3",
          "actors/Q4",
          "actors/Q1",
          "actors/Q2",
          "actors/Q3",
          "actors/Q4",
          "actors/Q1",
          "actors/Q2",
          "actors/Q3",
          "actors/Q4",
          "actors/Q1",
          "actors/Q2",
          "actors/Q3",
          "actors/Q4",
          "actors/Q1",
          "actors/Q2",
          "actors/Q3",
          "actors/Q4",
          "actors/Q1",
          "actors/Q2",
          "actors/Q3",
          "actors/Q4",
          "actors/Q1",
          "actors/Q2",
          "actors/Q3",
          "actors/Q4",
          "actors/Q1",
          "actors/Q2",
          "actors/Q3",
          "actors/Q4",
          "actors/Q1",
          "actors/Q2",
          "actors/Q3",
          "actors/Q4",
          "actors/Q1",
          "actors/Q2",
          "actors/Q3",
          "actors/Q4",
          "actors/Q1",
          "actors/Q2",
          "actors/Q3",
          "actors/Q4",
          "actors/Q1",
          "actors/Q2",
          "actors/Q3",
          "actors/Q4",
          "actors/Q1",
          "actors/Q2",
          "actors/Q3",
          "actors/Q4",
          "actors/Q1",
          "actors/Q2",
          "actors/Q3",
          "actors/Q4",
          "actors/Q1",
          "actors/Q2",
          "actors/Q3",
          "actors/Q4",
          "actors/Q1",
          "actors/Q2",
          "actors/Q3",
          "actors/Q4",
          "actors/Q1",
          "actors/Q2",
          "actors/Q3",
          "actors/Q4",
          "actors/Q1",
          "actors/Q2",
          "actors/Q3",
          "actors/Q4",
          "actors/Q1",
          "actors/Q2",
          "actors/Q3",
          "actors/Q4",
          "actors/Q1",
          "actors/Q2",
          "actors/Q3",
          "actors/Q4",
          "actors/Q1",
          "actors/Q2",
          "actors/Q3",
          "actors/Q4",
          "actors/Q1",
          "actors/Q2",
          "actors/Q3",
          "actors/Q4",
          "actors/Q1",
          "actors/Q2",
          "actors/Q3",
          "actors/Q4",
          "actors/Q1",
          "actors/Q2",
          "actors/Q3",
          "actors/Q4",
          "actors/Q1",
          "actors/Q2",
          "actors/Q3",
          "actors/Q4",
          "actors/Q1",
          "actors/Q2",
          "actors/Q3",
          "actors/Q4",
          "actors/Q1",
          "actors/Q2",
          "actors/Q3",
          "actors/Q4",
          "actors/Q1",
          "actors/Q2",
          "actors/Q3",
          "actors/Q4",
          "actors/Q1",
          "actors/Q2",
          "actors/Q3",
          "actors/Q4",
          "actors/Q1",
          "actors/Q2",
          "actors/Q3",
          "actors/Q4",
          "actors/Q1",
          "actors/Q2",
          "actors/Q3",
          "actors/Q4",
          "actors/Q1",
          "actors/Q2",
          "actors/Q3",
          "actors/Q4",
          "actors/Q1",
          "actors/Q2",
          "actors/Q3",
          "actors/Q4",
          "actors/Q1",
          "actors/Q2",
          "actors/Q3",
          "actors/Q4",
          "actors/Q1",
          "actors/Q2",
          "actors/Q3",
          "actors/Q4",
          "actors/Q1",
          "actors/Q2",
          "actors/Q3",
          "actors/Q4",
          "actors/Q1",
          "actors/Q2",
          "actors/Q3",
          "actors/Q4",
          "actors/Q1",
          "actors/Q2",
          "actors/Q3",
          "actors/Q4",
          "actors/Q1",
          "actors/Q2",
          "actors/Q3",
          "actors/Q4",
          "actors/Q1",
          "actors/Q2",
          "actors/Q3",
          "actors/Q4",
          "actors/Q1",
          "actors/Q2",
          "actors/Q3",
          "actors/Q4",
          "actors/Q1",
          "actors/Q2",
          "actors/Q3",
          "actors/Q4",
          "actors/Q1",
          "actors/Q2",
          "actors/Q3",
          "actors/Q4",
          "actors/Q1",
          "actors/Q2",
          "actors/Q3",
          "actors/Q4",
          "actors/Q1",
          "actors/Q2",
          "actors/Q3",
          "actors/Q4",
          "actors/Q1",
          "actors/Q2",
          "actors/Q3",
          "actors/Q4",
          "actors/Q1",
          "actors/Q2",
          "actors/Q3",
          "actors/Q4",
          "actors/Q1",
          "actors/Q2",
          "actors/Q3",
          "actors/Q4",
          "actors/Q1",
          "actors/Q2",
          "actors/Q3",
          "actors/Q4",
          "actors/Q1",
          "actors/Q2",
          "actors/Q3",
          "actors/Q4",
          "actors/Q1",
          "actors/Q2",
          "actors/Q3",
          "actors/Q4",
          "actors/Q1",
          "actors/Q2",
          "actors/Q3",
          "actors/Q4",
          "actors/Q1",
          "actors/Q2",
          "actors/Q3",
          "actors/Q4",
          "actors/Q1",
          "actors/Q2",
          "actors/Q3",
          "actors/Q4",
          "actors/Q1",
          "actors/Q2",
          "actors/Q3",
          "actors/Q4",
          "actors/Q1",
          "actors/Q2",
          "actors/Q3",
          "actors/Q4",
          "actors/Q1",
          "actors/Q2",
          "actors/Q3",
          "actors/Q4",
          "actors/Q1",
          "actors/Q2",
          "actors/Q3",
          "actors/Q4",
          "actors/Q1",
          "actors/Q2",
          "actors/Q3",
          "actors/Q4",
          "actors/Q1",
          "actors/Q2",
          "actors/Q3",
          "actors/Q4",
          "actors/Q1",
          "actors/Q2",
          "actors/Q3",
          "actors/Q4",
          "actors/Q1",
          "actors/Q2",
          "actors/Q3",
          "actors/Q4",
          "actors/Q1",
          "actors/Q2",
          "actors/Q3",
          "actors/Q4",
          "actors/Q1",
          "actors/Q2",
          "actors/Q3",
          "actors/Q4",
          "actors/Q1",
          "actors/Q2",
          "actors/Q3",
          "actors/Q4",
          "actors/Q1",
          "actors/Q2",
          "actors/Q3",
          "actors/Q4",
          "actors/Q1",
          "actors/Q2",
          "actors/Q3",
          "actors/Q4",
          "actors/Q1",
          "actors/Q2",
          "actors/Q3",
          "actors/Q4",
          "actors/Q1",
          "actors/Q2",
          "actors/Q3",
          "actors/Q4",
          "actors/Q1",
          "actors/Q2",
          "actors/Q3",
          "actors/Q4",
          "actors/Q1",
          "actors/Q2",
          "actors/Q3",
          "actors/Q4",
          "actors/Q1",
          "actors/Q2",
          "actors/Q3",
          "actors/Q4",
          "actors/Q1",
          "actors/Q2",
          "actors/Q3",
          "actors/Q4",
          "actors/Q1",
          "actors/Q2",
          "actors/Q3",
          "actors/Q4",
          "actors/Q1",
          "actors/Q2",
          "actors/Q3",
          "actors/Q4",
          "actors/Q1",
          "actors/Q2",
          "actors/Q3",
          "actors/Q4",
          "actors/Q1",
          "actors/Q2",
          "actors/Q3",
          "actors/Q4",
          "actors/Q1",
          "actors/Q2",
          "actors/Q3",
          "actors/Q4",
          "actors/Q1",
          "actors/Q2",
          "actors/Q3",
          "actors/Q4",
          "actors/Q1",
          "actors/Q2",
          "actors/Q3",
          "actors/Q4",
          "actors/Q1",
          "actors/Q2",
          "actors/Q3",
          "actors/Q4",
          "actors/Q1",
          "actors/Q2",
          "actors/Q3",
          "actors/Q4",
          "actors/Q1",
          "actors/Q2",
          "actors/Q3",
          "actors/Q4",
          "actors/Q1",
          "actors/Q2",
          "actors/Q3",
          "actors/Q4",
          "actors/Q1",
          "actors/Q2",
          "actors/Q3",
          "actors/Q4",
          "actors",
          "actors",
          "actors",
          "actors",
          ""
         ],
         "type": "treemap",
         "values": [
          0,
          0,
          0,
          484180,
          7253,
          0,
          0,
          0,
          0,
          0,
          0,
          46748,
          0,
          2058,
          0,
          0,
          2774,
          0,
          0,
          0,
          1506,
          0,
          0,
          0,
          0,
          0,
          5753,
          0,
          0,
          0,
          1421,
          0,
          2477,
          0,
          0,
          0,
          0,
          2946,
          0,
          0,
          49515,
          0,
          0,
          0,
          4763,
          0,
          0,
          0,
          1747,
          0,
          0,
          0,
          0,
          0,
          8153,
          0,
          0,
          1371,
          0,
          0,
          6108,
          0,
          0,
          0,
          11233,
          0,
          0,
          0,
          0,
          22315,
          0,
          0,
          0,
          0,
          0,
          17676,
          2390,
          0,
          0,
          0,
          0,
          7525,
          0,
          0,
          3999,
          0,
          0,
          0,
          0,
          0,
          5514,
          0,
          0,
          0,
          0,
          37822,
          0,
          0,
          0,
          23572,
          8644,
          0,
          0,
          0,
          0,
          0,
          15707,
          0,
          0,
          7860,
          0,
          0,
          997,
          0,
          0,
          0,
          0,
          9473,
          0,
          0,
          0,
          0,
          61211,
          0,
          0,
          0,
          61666,
          0,
          0,
          426,
          0,
          0,
          0,
          7611,
          0,
          0,
          3112,
          0,
          0,
          0,
          0,
          0,
          5891,
          0,
          4807,
          0,
          0,
          0,
          1971,
          0,
          0,
          0,
          0,
          1498,
          0,
          0,
          16321,
          0,
          0,
          0,
          3793,
          0,
          0,
          0,
          0,
          140185,
          0,
          0,
          2210,
          0,
          0,
          0,
          2128,
          0,
          0,
          0,
          3465,
          0,
          0,
          0,
          1485,
          0,
          0,
          0,
          3769,
          0,
          0,
          0,
          2550,
          0,
          0,
          0,
          1360,
          0,
          0,
          0,
          0,
          0,
          0,
          4585,
          0,
          2275,
          0,
          0,
          0,
          0,
          22800,
          0,
          0,
          0,
          114006,
          0,
          0,
          0,
          0,
          32458,
          0,
          0,
          0,
          18691,
          0,
          0,
          29565,
          0,
          0,
          0,
          0,
          17309,
          0,
          0,
          0,
          6151,
          0,
          0,
          16727,
          0,
          0,
          0,
          0,
          229686,
          0,
          0,
          2225,
          0,
          0,
          0,
          0,
          29968,
          0,
          0,
          19387,
          0,
          0,
          0,
          0,
          53525,
          0,
          0,
          0,
          44986,
          0,
          0,
          0,
          37609,
          0,
          0,
          2012,
          0,
          0,
          0,
          12561,
          0,
          0,
          0,
          0,
          10110,
          0,
          2403,
          0,
          0,
          0,
          0,
          54394,
          0,
          0,
          3405,
          0,
          0,
          0,
          0,
          0,
          101809,
          0,
          27818,
          0,
          0,
          0,
          2305,
          0,
          0,
          0,
          28635,
          0,
          0,
          0,
          0,
          0,
          61685,
          0,
          1826,
          0,
          0,
          0,
          35927,
          0,
          0,
          0,
          0,
          0,
          462394,
          0,
          0,
          10725,
          0,
          0,
          0,
          0,
          1183953,
          0,
          0,
          12825,
          0,
          0,
          0,
          7313,
          0,
          0,
          0,
          0,
          16542,
          0,
          0,
          0,
          1420,
          0,
          12052,
          0,
          0,
          0,
          0,
          0,
          80200,
          0,
          20318,
          0,
          0,
          0,
          2973,
          0,
          0,
          0,
          0,
          31294,
          0,
          0,
          34032,
          0,
          0,
          0,
          0,
          66013,
          0,
          0,
          0,
          4966,
          0,
          0,
          0,
          2105,
          0,
          0,
          0,
          1651,
          0,
          0,
          1669,
          0,
          0,
          0,
          0,
          0,
          269466,
          0,
          15323,
          0,
          0,
          0,
          0,
          0,
          1784401,
          150377,
          394229,
          575885,
          5056946,
          6177437
         ]
        }
       ],
       "layout": {
        "coloraxis": {
         "colorbar": {
          "title": {
           "text": "log_profit"
          }
         },
         "colorscale": [
          [
           0,
           "rgb(103,0,31)"
          ],
          [
           0.1,
           "rgb(178,24,43)"
          ],
          [
           0.2,
           "rgb(214,96,77)"
          ],
          [
           0.3,
           "rgb(244,165,130)"
          ],
          [
           0.4,
           "rgb(253,219,199)"
          ],
          [
           0.5,
           "rgb(247,247,247)"
          ],
          [
           0.6,
           "rgb(209,229,240)"
          ],
          [
           0.7,
           "rgb(146,197,222)"
          ],
          [
           0.8,
           "rgb(67,147,195)"
          ],
          [
           0.9,
           "rgb(33,102,172)"
          ],
          [
           1,
           "rgb(5,48,97)"
          ]
         ]
        },
        "legend": {
         "tracegroupgap": 0
        },
        "margin": {
         "t": 60
        },
        "template": {
         "data": {
          "bar": [
           {
            "error_x": {
             "color": "#2a3f5f"
            },
            "error_y": {
             "color": "#2a3f5f"
            },
            "marker": {
             "line": {
              "color": "#E5ECF6",
              "width": 0.5
             },
             "pattern": {
              "fillmode": "overlay",
              "size": 10,
              "solidity": 0.2
             }
            },
            "type": "bar"
           }
          ],
          "barpolar": [
           {
            "marker": {
             "line": {
              "color": "#E5ECF6",
              "width": 0.5
             },
             "pattern": {
              "fillmode": "overlay",
              "size": 10,
              "solidity": 0.2
             }
            },
            "type": "barpolar"
           }
          ],
          "carpet": [
           {
            "aaxis": {
             "endlinecolor": "#2a3f5f",
             "gridcolor": "white",
             "linecolor": "white",
             "minorgridcolor": "white",
             "startlinecolor": "#2a3f5f"
            },
            "baxis": {
             "endlinecolor": "#2a3f5f",
             "gridcolor": "white",
             "linecolor": "white",
             "minorgridcolor": "white",
             "startlinecolor": "#2a3f5f"
            },
            "type": "carpet"
           }
          ],
          "choropleth": [
           {
            "colorbar": {
             "outlinewidth": 0,
             "ticks": ""
            },
            "type": "choropleth"
           }
          ],
          "contour": [
           {
            "colorbar": {
             "outlinewidth": 0,
             "ticks": ""
            },
            "colorscale": [
             [
              0,
              "#0d0887"
             ],
             [
              0.1111111111111111,
              "#46039f"
             ],
             [
              0.2222222222222222,
              "#7201a8"
             ],
             [
              0.3333333333333333,
              "#9c179e"
             ],
             [
              0.4444444444444444,
              "#bd3786"
             ],
             [
              0.5555555555555556,
              "#d8576b"
             ],
             [
              0.6666666666666666,
              "#ed7953"
             ],
             [
              0.7777777777777778,
              "#fb9f3a"
             ],
             [
              0.8888888888888888,
              "#fdca26"
             ],
             [
              1,
              "#f0f921"
             ]
            ],
            "type": "contour"
           }
          ],
          "contourcarpet": [
           {
            "colorbar": {
             "outlinewidth": 0,
             "ticks": ""
            },
            "type": "contourcarpet"
           }
          ],
          "heatmap": [
           {
            "colorbar": {
             "outlinewidth": 0,
             "ticks": ""
            },
            "colorscale": [
             [
              0,
              "#0d0887"
             ],
             [
              0.1111111111111111,
              "#46039f"
             ],
             [
              0.2222222222222222,
              "#7201a8"
             ],
             [
              0.3333333333333333,
              "#9c179e"
             ],
             [
              0.4444444444444444,
              "#bd3786"
             ],
             [
              0.5555555555555556,
              "#d8576b"
             ],
             [
              0.6666666666666666,
              "#ed7953"
             ],
             [
              0.7777777777777778,
              "#fb9f3a"
             ],
             [
              0.8888888888888888,
              "#fdca26"
             ],
             [
              1,
              "#f0f921"
             ]
            ],
            "type": "heatmap"
           }
          ],
          "heatmapgl": [
           {
            "colorbar": {
             "outlinewidth": 0,
             "ticks": ""
            },
            "colorscale": [
             [
              0,
              "#0d0887"
             ],
             [
              0.1111111111111111,
              "#46039f"
             ],
             [
              0.2222222222222222,
              "#7201a8"
             ],
             [
              0.3333333333333333,
              "#9c179e"
             ],
             [
              0.4444444444444444,
              "#bd3786"
             ],
             [
              0.5555555555555556,
              "#d8576b"
             ],
             [
              0.6666666666666666,
              "#ed7953"
             ],
             [
              0.7777777777777778,
              "#fb9f3a"
             ],
             [
              0.8888888888888888,
              "#fdca26"
             ],
             [
              1,
              "#f0f921"
             ]
            ],
            "type": "heatmapgl"
           }
          ],
          "histogram": [
           {
            "marker": {
             "pattern": {
              "fillmode": "overlay",
              "size": 10,
              "solidity": 0.2
             }
            },
            "type": "histogram"
           }
          ],
          "histogram2d": [
           {
            "colorbar": {
             "outlinewidth": 0,
             "ticks": ""
            },
            "colorscale": [
             [
              0,
              "#0d0887"
             ],
             [
              0.1111111111111111,
              "#46039f"
             ],
             [
              0.2222222222222222,
              "#7201a8"
             ],
             [
              0.3333333333333333,
              "#9c179e"
             ],
             [
              0.4444444444444444,
              "#bd3786"
             ],
             [
              0.5555555555555556,
              "#d8576b"
             ],
             [
              0.6666666666666666,
              "#ed7953"
             ],
             [
              0.7777777777777778,
              "#fb9f3a"
             ],
             [
              0.8888888888888888,
              "#fdca26"
             ],
             [
              1,
              "#f0f921"
             ]
            ],
            "type": "histogram2d"
           }
          ],
          "histogram2dcontour": [
           {
            "colorbar": {
             "outlinewidth": 0,
             "ticks": ""
            },
            "colorscale": [
             [
              0,
              "#0d0887"
             ],
             [
              0.1111111111111111,
              "#46039f"
             ],
             [
              0.2222222222222222,
              "#7201a8"
             ],
             [
              0.3333333333333333,
              "#9c179e"
             ],
             [
              0.4444444444444444,
              "#bd3786"
             ],
             [
              0.5555555555555556,
              "#d8576b"
             ],
             [
              0.6666666666666666,
              "#ed7953"
             ],
             [
              0.7777777777777778,
              "#fb9f3a"
             ],
             [
              0.8888888888888888,
              "#fdca26"
             ],
             [
              1,
              "#f0f921"
             ]
            ],
            "type": "histogram2dcontour"
           }
          ],
          "mesh3d": [
           {
            "colorbar": {
             "outlinewidth": 0,
             "ticks": ""
            },
            "type": "mesh3d"
           }
          ],
          "parcoords": [
           {
            "line": {
             "colorbar": {
              "outlinewidth": 0,
              "ticks": ""
             }
            },
            "type": "parcoords"
           }
          ],
          "pie": [
           {
            "automargin": true,
            "type": "pie"
           }
          ],
          "scatter": [
           {
            "fillpattern": {
             "fillmode": "overlay",
             "size": 10,
             "solidity": 0.2
            },
            "type": "scatter"
           }
          ],
          "scatter3d": [
           {
            "line": {
             "colorbar": {
              "outlinewidth": 0,
              "ticks": ""
             }
            },
            "marker": {
             "colorbar": {
              "outlinewidth": 0,
              "ticks": ""
             }
            },
            "type": "scatter3d"
           }
          ],
          "scattercarpet": [
           {
            "marker": {
             "colorbar": {
              "outlinewidth": 0,
              "ticks": ""
             }
            },
            "type": "scattercarpet"
           }
          ],
          "scattergeo": [
           {
            "marker": {
             "colorbar": {
              "outlinewidth": 0,
              "ticks": ""
             }
            },
            "type": "scattergeo"
           }
          ],
          "scattergl": [
           {
            "marker": {
             "colorbar": {
              "outlinewidth": 0,
              "ticks": ""
             }
            },
            "type": "scattergl"
           }
          ],
          "scattermapbox": [
           {
            "marker": {
             "colorbar": {
              "outlinewidth": 0,
              "ticks": ""
             }
            },
            "type": "scattermapbox"
           }
          ],
          "scatterpolar": [
           {
            "marker": {
             "colorbar": {
              "outlinewidth": 0,
              "ticks": ""
             }
            },
            "type": "scatterpolar"
           }
          ],
          "scatterpolargl": [
           {
            "marker": {
             "colorbar": {
              "outlinewidth": 0,
              "ticks": ""
             }
            },
            "type": "scatterpolargl"
           }
          ],
          "scatterternary": [
           {
            "marker": {
             "colorbar": {
              "outlinewidth": 0,
              "ticks": ""
             }
            },
            "type": "scatterternary"
           }
          ],
          "surface": [
           {
            "colorbar": {
             "outlinewidth": 0,
             "ticks": ""
            },
            "colorscale": [
             [
              0,
              "#0d0887"
             ],
             [
              0.1111111111111111,
              "#46039f"
             ],
             [
              0.2222222222222222,
              "#7201a8"
             ],
             [
              0.3333333333333333,
              "#9c179e"
             ],
             [
              0.4444444444444444,
              "#bd3786"
             ],
             [
              0.5555555555555556,
              "#d8576b"
             ],
             [
              0.6666666666666666,
              "#ed7953"
             ],
             [
              0.7777777777777778,
              "#fb9f3a"
             ],
             [
              0.8888888888888888,
              "#fdca26"
             ],
             [
              1,
              "#f0f921"
             ]
            ],
            "type": "surface"
           }
          ],
          "table": [
           {
            "cells": {
             "fill": {
              "color": "#EBF0F8"
             },
             "line": {
              "color": "white"
             }
            },
            "header": {
             "fill": {
              "color": "#C8D4E3"
             },
             "line": {
              "color": "white"
             }
            },
            "type": "table"
           }
          ]
         },
         "layout": {
          "annotationdefaults": {
           "arrowcolor": "#2a3f5f",
           "arrowhead": 0,
           "arrowwidth": 1
          },
          "autotypenumbers": "strict",
          "coloraxis": {
           "colorbar": {
            "outlinewidth": 0,
            "ticks": ""
           }
          },
          "colorscale": {
           "diverging": [
            [
             0,
             "#8e0152"
            ],
            [
             0.1,
             "#c51b7d"
            ],
            [
             0.2,
             "#de77ae"
            ],
            [
             0.3,
             "#f1b6da"
            ],
            [
             0.4,
             "#fde0ef"
            ],
            [
             0.5,
             "#f7f7f7"
            ],
            [
             0.6,
             "#e6f5d0"
            ],
            [
             0.7,
             "#b8e186"
            ],
            [
             0.8,
             "#7fbc41"
            ],
            [
             0.9,
             "#4d9221"
            ],
            [
             1,
             "#276419"
            ]
           ],
           "sequential": [
            [
             0,
             "#0d0887"
            ],
            [
             0.1111111111111111,
             "#46039f"
            ],
            [
             0.2222222222222222,
             "#7201a8"
            ],
            [
             0.3333333333333333,
             "#9c179e"
            ],
            [
             0.4444444444444444,
             "#bd3786"
            ],
            [
             0.5555555555555556,
             "#d8576b"
            ],
            [
             0.6666666666666666,
             "#ed7953"
            ],
            [
             0.7777777777777778,
             "#fb9f3a"
            ],
            [
             0.8888888888888888,
             "#fdca26"
            ],
            [
             1,
             "#f0f921"
            ]
           ],
           "sequentialminus": [
            [
             0,
             "#0d0887"
            ],
            [
             0.1111111111111111,
             "#46039f"
            ],
            [
             0.2222222222222222,
             "#7201a8"
            ],
            [
             0.3333333333333333,
             "#9c179e"
            ],
            [
             0.4444444444444444,
             "#bd3786"
            ],
            [
             0.5555555555555556,
             "#d8576b"
            ],
            [
             0.6666666666666666,
             "#ed7953"
            ],
            [
             0.7777777777777778,
             "#fb9f3a"
            ],
            [
             0.8888888888888888,
             "#fdca26"
            ],
            [
             1,
             "#f0f921"
            ]
           ]
          },
          "colorway": [
           "#636efa",
           "#EF553B",
           "#00cc96",
           "#ab63fa",
           "#FFA15A",
           "#19d3f3",
           "#FF6692",
           "#B6E880",
           "#FF97FF",
           "#FECB52"
          ],
          "font": {
           "color": "#2a3f5f"
          },
          "geo": {
           "bgcolor": "white",
           "lakecolor": "white",
           "landcolor": "#E5ECF6",
           "showlakes": true,
           "showland": true,
           "subunitcolor": "white"
          },
          "hoverlabel": {
           "align": "left"
          },
          "hovermode": "closest",
          "mapbox": {
           "style": "light"
          },
          "paper_bgcolor": "white",
          "plot_bgcolor": "#E5ECF6",
          "polar": {
           "angularaxis": {
            "gridcolor": "white",
            "linecolor": "white",
            "ticks": ""
           },
           "bgcolor": "#E5ECF6",
           "radialaxis": {
            "gridcolor": "white",
            "linecolor": "white",
            "ticks": ""
           }
          },
          "scene": {
           "xaxis": {
            "backgroundcolor": "#E5ECF6",
            "gridcolor": "white",
            "gridwidth": 2,
            "linecolor": "white",
            "showbackground": true,
            "ticks": "",
            "zerolinecolor": "white"
           },
           "yaxis": {
            "backgroundcolor": "#E5ECF6",
            "gridcolor": "white",
            "gridwidth": 2,
            "linecolor": "white",
            "showbackground": true,
            "ticks": "",
            "zerolinecolor": "white"
           },
           "zaxis": {
            "backgroundcolor": "#E5ECF6",
            "gridcolor": "white",
            "gridwidth": 2,
            "linecolor": "white",
            "showbackground": true,
            "ticks": "",
            "zerolinecolor": "white"
           }
          },
          "shapedefaults": {
           "line": {
            "color": "#2a3f5f"
           }
          },
          "ternary": {
           "aaxis": {
            "gridcolor": "white",
            "linecolor": "white",
            "ticks": ""
           },
           "baxis": {
            "gridcolor": "white",
            "linecolor": "white",
            "ticks": ""
           },
           "bgcolor": "#E5ECF6",
           "caxis": {
            "gridcolor": "white",
            "linecolor": "white",
            "ticks": ""
           }
          },
          "title": {
           "x": 0.05
          },
          "xaxis": {
           "automargin": true,
           "gridcolor": "white",
           "linecolor": "white",
           "ticks": "",
           "title": {
            "standoff": 15
           },
           "zerolinecolor": "white",
           "zerolinewidth": 2
          },
          "yaxis": {
           "automargin": true,
           "gridcolor": "white",
           "linecolor": "white",
           "ticks": "",
           "title": {
            "standoff": 15
           },
           "zerolinecolor": "white",
           "zerolinewidth": 2
          }
         }
        }
       }
      }
     },
     "metadata": {},
     "output_type": "display_data"
    }
   ],
   "source": [
    "fig = px.treemap(final_profits_df, path=[px.Constant('actors'), 'quartile', 'identity'], values='nb_transactions', color='log_profit', color_continuous_scale='RdBu', hover_data={'profit_usd':':.2e'})\n",
    "fig.show()"
   ]
  },
  {
   "attachments": {},
   "cell_type": "markdown",
   "metadata": {},
   "source": [
    "On peut avec cette figure observer que sur l'année 2015 une poignée d'acteurs ont totalement dominés le marché. ... TODO"
   ]
  },
  {
   "attachments": {},
   "cell_type": "markdown",
   "metadata": {},
   "source": [
    "maintenant qu'on a identifié les plus gros acteurs et leur part dans le nombre de transactions :\n",
    "-> comparer leurs stratégie avec les plus mauvais en période de crise"
   ]
  },
  {
   "cell_type": "code",
   "execution_count": 461,
   "metadata": {},
   "outputs": [
    {
     "data": {
      "image/png": "[encoded data removed]",
      "text/plain": [
       "<Figure size 1500x500 with 1 Axes>"
      ]
     },
     "metadata": {},
     "output_type": "display_data"
    }
   ],
   "source": [
    "external_df['PriceUSD'].plot(figsize=(15, 5), logy=True)\n",
    "\n",
    "plt.show()"
   ]
  },
  {
   "attachments": {},
   "cell_type": "markdown",
   "metadata": {},
   "source": [
    "zoom sur une pếriode de crise : ici on identifie une forte baisse de la valeur du bitcoin de mars 2015"
   ]
  },
  {
   "cell_type": "code",
   "execution_count": 462,
   "metadata": {},
   "outputs": [
    {
     "data": {
      "image/png": "[encoded data removed]",
      "text/plain": [
       "<Figure size 1500x500 with 1 Axes>"
      ]
     },
     "metadata": {},
     "output_type": "display_data"
    }
   ],
   "source": [
    "# look at the date range from 2015-01-01 to 2015-01-31\n",
    "date_range = ['2015-03-01', '2015-03-30']\n",
    "external_df['PriceUSD'].loc[date_range[0]:date_range[1]].plot(figsize=(15, 5), logy=True)\n",
    "\n",
    "plt.show()"
   ]
  },
  {
   "cell_type": "code",
   "execution_count": 463,
   "metadata": {},
   "outputs": [
    {
     "data": {
      "text/html": [
       "<div>\n",
       "<style scoped>\n",
       "    .dataframe tbody tr th:only-of-type {\n",
       "        vertical-align: middle;\n",
       "    }\n",
       "\n",
       "    .dataframe tbody tr th {\n",
       "        vertical-align: top;\n",
       "    }\n",
       "\n",
       "    .dataframe thead th {\n",
       "        text-align: right;\n",
       "    }\n",
       "</style>\n",
       "<table border=\"1\" class=\"dataframe\">\n",
       "  <thead>\n",
       "    <tr style=\"text-align: right;\">\n",
       "      <th></th>\n",
       "      <th></th>\n",
       "      <th>received</th>\n",
       "      <th>nb_received</th>\n",
       "      <th>sum_fee</th>\n",
       "      <th>mean_fee_for100</th>\n",
       "      <th>nb_transactions</th>\n",
       "      <th>sent</th>\n",
       "      <th>self_spent</th>\n",
       "      <th>self_spent_estimated</th>\n",
       "      <th>nb_spent</th>\n",
       "      <th>spent</th>\n",
       "      <th>balance</th>\n",
       "      <th>profit</th>\n",
       "    </tr>\n",
       "    <tr>\n",
       "      <th>identity</th>\n",
       "      <th>date</th>\n",
       "      <th></th>\n",
       "      <th></th>\n",
       "      <th></th>\n",
       "      <th></th>\n",
       "      <th></th>\n",
       "      <th></th>\n",
       "      <th></th>\n",
       "      <th></th>\n",
       "      <th></th>\n",
       "      <th></th>\n",
       "      <th></th>\n",
       "      <th></th>\n",
       "    </tr>\n",
       "  </thead>\n",
       "  <tbody>\n",
       "    <tr>\n",
       "      <th rowspan=\"5\" valign=\"top\">0</th>\n",
       "      <th>2015-01-01</th>\n",
       "      <td>3.021860e+10</td>\n",
       "      <td>4265</td>\n",
       "      <td>12350755</td>\n",
       "      <td>1.926137</td>\n",
       "      <td>783</td>\n",
       "      <td>3.001272e+10</td>\n",
       "      <td>0.000000e+00</td>\n",
       "      <td>0.000000e+00</td>\n",
       "      <td>1696</td>\n",
       "      <td>3.001272e+10</td>\n",
       "      <td>1.935257e+08</td>\n",
       "      <td>1.935257e+08</td>\n",
       "    </tr>\n",
       "    <tr>\n",
       "      <th>2015-01-02</th>\n",
       "      <td>3.401216e+10</td>\n",
       "      <td>8395</td>\n",
       "      <td>15588104</td>\n",
       "      <td>1.882565</td>\n",
       "      <td>962</td>\n",
       "      <td>3.400937e+10</td>\n",
       "      <td>0.000000e+00</td>\n",
       "      <td>0.000000e+00</td>\n",
       "      <td>2068</td>\n",
       "      <td>3.400937e+10</td>\n",
       "      <td>-1.280615e+07</td>\n",
       "      <td>1.807196e+08</td>\n",
       "    </tr>\n",
       "    <tr>\n",
       "      <th>2015-01-03</th>\n",
       "      <td>2.546280e+11</td>\n",
       "      <td>10004</td>\n",
       "      <td>14742886</td>\n",
       "      <td>1.984796</td>\n",
       "      <td>943</td>\n",
       "      <td>2.517348e+11</td>\n",
       "      <td>0.000000e+00</td>\n",
       "      <td>2.011365e+11</td>\n",
       "      <td>2039</td>\n",
       "      <td>5.059830e+10</td>\n",
       "      <td>2.040150e+11</td>\n",
       "      <td>2.041957e+11</td>\n",
       "    </tr>\n",
       "    <tr>\n",
       "      <th>2015-01-04</th>\n",
       "      <td>2.431648e+11</td>\n",
       "      <td>9007</td>\n",
       "      <td>18683447</td>\n",
       "      <td>2.075441</td>\n",
       "      <td>1059</td>\n",
       "      <td>2.429788e+11</td>\n",
       "      <td>0.000000e+00</td>\n",
       "      <td>2.004149e+11</td>\n",
       "      <td>2293</td>\n",
       "      <td>4.256388e+10</td>\n",
       "      <td>2.005823e+11</td>\n",
       "      <td>4.047780e+11</td>\n",
       "    </tr>\n",
       "    <tr>\n",
       "      <th>2015-01-05</th>\n",
       "      <td>4.882942e+10</td>\n",
       "      <td>6553</td>\n",
       "      <td>15866463</td>\n",
       "      <td>1.883876</td>\n",
       "      <td>995</td>\n",
       "      <td>4.926332e+10</td>\n",
       "      <td>0.000000e+00</td>\n",
       "      <td>0.000000e+00</td>\n",
       "      <td>2098</td>\n",
       "      <td>4.926332e+10</td>\n",
       "      <td>-4.497694e+08</td>\n",
       "      <td>4.043282e+11</td>\n",
       "    </tr>\n",
       "    <tr>\n",
       "      <th>...</th>\n",
       "      <th>...</th>\n",
       "      <td>...</td>\n",
       "      <td>...</td>\n",
       "      <td>...</td>\n",
       "      <td>...</td>\n",
       "      <td>...</td>\n",
       "      <td>...</td>\n",
       "      <td>...</td>\n",
       "      <td>...</td>\n",
       "      <td>...</td>\n",
       "      <td>...</td>\n",
       "      <td>...</td>\n",
       "      <td>...</td>\n",
       "    </tr>\n",
       "    <tr>\n",
       "      <th rowspan=\"5\" valign=\"top\">ePay.info_CoinJoinMess</th>\n",
       "      <th>2015-12-27</th>\n",
       "      <td>1.690398e+12</td>\n",
       "      <td>18511</td>\n",
       "      <td>63461398</td>\n",
       "      <td>0.394467</td>\n",
       "      <td>1724</td>\n",
       "      <td>5.156913e+12</td>\n",
       "      <td>3.899206e+12</td>\n",
       "      <td>3.899206e+12</td>\n",
       "      <td>23035</td>\n",
       "      <td>1.257707e+12</td>\n",
       "      <td>4.331833e+12</td>\n",
       "      <td>2.610420e+15</td>\n",
       "    </tr>\n",
       "    <tr>\n",
       "      <th>2015-12-28</th>\n",
       "      <td>1.407098e+12</td>\n",
       "      <td>22024</td>\n",
       "      <td>67999869</td>\n",
       "      <td>0.180793</td>\n",
       "      <td>2041</td>\n",
       "      <td>7.473888e+12</td>\n",
       "      <td>6.107860e+12</td>\n",
       "      <td>6.107860e+12</td>\n",
       "      <td>28131</td>\n",
       "      <td>1.366028e+12</td>\n",
       "      <td>6.148862e+12</td>\n",
       "      <td>2.616569e+15</td>\n",
       "    </tr>\n",
       "    <tr>\n",
       "      <th>2015-12-29</th>\n",
       "      <td>1.559442e+12</td>\n",
       "      <td>25523</td>\n",
       "      <td>87102894</td>\n",
       "      <td>0.179579</td>\n",
       "      <td>2485</td>\n",
       "      <td>6.013149e+12</td>\n",
       "      <td>4.582233e+12</td>\n",
       "      <td>4.582233e+12</td>\n",
       "      <td>31928</td>\n",
       "      <td>1.430917e+12</td>\n",
       "      <td>4.710671e+12</td>\n",
       "      <td>2.621279e+15</td>\n",
       "    </tr>\n",
       "    <tr>\n",
       "      <th>2015-12-30</th>\n",
       "      <td>1.648537e+12</td>\n",
       "      <td>25034</td>\n",
       "      <td>80942854</td>\n",
       "      <td>0.287333</td>\n",
       "      <td>2416</td>\n",
       "      <td>7.599028e+12</td>\n",
       "      <td>5.994416e+12</td>\n",
       "      <td>5.994416e+12</td>\n",
       "      <td>29270</td>\n",
       "      <td>1.604612e+12</td>\n",
       "      <td>6.038260e+12</td>\n",
       "      <td>2.627317e+15</td>\n",
       "    </tr>\n",
       "    <tr>\n",
       "      <th>2015-12-31</th>\n",
       "      <td>1.422771e+12</td>\n",
       "      <td>18199</td>\n",
       "      <td>56220386</td>\n",
       "      <td>0.233125</td>\n",
       "      <td>1655</td>\n",
       "      <td>5.839810e+12</td>\n",
       "      <td>4.372339e+12</td>\n",
       "      <td>4.372339e+12</td>\n",
       "      <td>23928</td>\n",
       "      <td>1.467471e+12</td>\n",
       "      <td>4.327583e+12</td>\n",
       "      <td>2.631645e+15</td>\n",
       "    </tr>\n",
       "  </tbody>\n",
       "</table>\n",
       "<p>36037 rows × 12 columns</p>\n",
       "</div>"
      ],
      "text/plain": [
       "                                       received  nb_received   sum_fee  \\\n",
       "identity               date                                              \n",
       "0                      2015-01-01  3.021860e+10         4265  12350755   \n",
       "                       2015-01-02  3.401216e+10         8395  15588104   \n",
       "                       2015-01-03  2.546280e+11        10004  14742886   \n",
       "                       2015-01-04  2.431648e+11         9007  18683447   \n",
       "                       2015-01-05  4.882942e+10         6553  15866463   \n",
       "...                                         ...          ...       ...   \n",
       "ePay.info_CoinJoinMess 2015-12-27  1.690398e+12        18511  63461398   \n",
       "                       2015-12-28  1.407098e+12        22024  67999869   \n",
       "                       2015-12-29  1.559442e+12        25523  87102894   \n",
       "                       2015-12-30  1.648537e+12        25034  80942854   \n",
       "                       2015-12-31  1.422771e+12        18199  56220386   \n",
       "\n",
       "                                   mean_fee_for100  nb_transactions  \\\n",
       "identity               date                                           \n",
       "0                      2015-01-01         1.926137              783   \n",
       "                       2015-01-02         1.882565              962   \n",
       "                       2015-01-03         1.984796              943   \n",
       "                       2015-01-04         2.075441             1059   \n",
       "                       2015-01-05         1.883876              995   \n",
       "...                                            ...              ...   \n",
       "ePay.info_CoinJoinMess 2015-12-27         0.394467             1724   \n",
       "                       2015-12-28         0.180793             2041   \n",
       "                       2015-12-29         0.179579             2485   \n",
       "                       2015-12-30         0.287333             2416   \n",
       "                       2015-12-31         0.233125             1655   \n",
       "\n",
       "                                           sent    self_spent  \\\n",
       "identity               date                                     \n",
       "0                      2015-01-01  3.001272e+10  0.000000e+00   \n",
       "                       2015-01-02  3.400937e+10  0.000000e+00   \n",
       "                       2015-01-03  2.517348e+11  0.000000e+00   \n",
       "                       2015-01-04  2.429788e+11  0.000000e+00   \n",
       "                       2015-01-05  4.926332e+10  0.000000e+00   \n",
       "...                                         ...           ...   \n",
       "ePay.info_CoinJoinMess 2015-12-27  5.156913e+12  3.899206e+12   \n",
       "                       2015-12-28  7.473888e+12  6.107860e+12   \n",
       "                       2015-12-29  6.013149e+12  4.582233e+12   \n",
       "                       2015-12-30  7.599028e+12  5.994416e+12   \n",
       "                       2015-12-31  5.839810e+12  4.372339e+12   \n",
       "\n",
       "                                   self_spent_estimated  nb_spent  \\\n",
       "identity               date                                         \n",
       "0                      2015-01-01          0.000000e+00      1696   \n",
       "                       2015-01-02          0.000000e+00      2068   \n",
       "                       2015-01-03          2.011365e+11      2039   \n",
       "                       2015-01-04          2.004149e+11      2293   \n",
       "                       2015-01-05          0.000000e+00      2098   \n",
       "...                                                 ...       ...   \n",
       "ePay.info_CoinJoinMess 2015-12-27          3.899206e+12     23035   \n",
       "                       2015-12-28          6.107860e+12     28131   \n",
       "                       2015-12-29          4.582233e+12     31928   \n",
       "                       2015-12-30          5.994416e+12     29270   \n",
       "                       2015-12-31          4.372339e+12     23928   \n",
       "\n",
       "                                          spent       balance        profit  \n",
       "identity               date                                                  \n",
       "0                      2015-01-01  3.001272e+10  1.935257e+08  1.935257e+08  \n",
       "                       2015-01-02  3.400937e+10 -1.280615e+07  1.807196e+08  \n",
       "                       2015-01-03  5.059830e+10  2.040150e+11  2.041957e+11  \n",
       "                       2015-01-04  4.256388e+10  2.005823e+11  4.047780e+11  \n",
       "                       2015-01-05  4.926332e+10 -4.497694e+08  4.043282e+11  \n",
       "...                                         ...           ...           ...  \n",
       "ePay.info_CoinJoinMess 2015-12-27  1.257707e+12  4.331833e+12  2.610420e+15  \n",
       "                       2015-12-28  1.366028e+12  6.148862e+12  2.616569e+15  \n",
       "                       2015-12-29  1.430917e+12  4.710671e+12  2.621279e+15  \n",
       "                       2015-12-30  1.604612e+12  6.038260e+12  2.627317e+15  \n",
       "                       2015-12-31  1.467471e+12  4.327583e+12  2.631645e+15  \n",
       "\n",
       "[36037 rows x 12 columns]"
      ]
     },
     "execution_count": 463,
     "metadata": {},
     "output_type": "execute_result"
    }
   ],
   "source": [
    "actor_df"
   ]
  },
  {
   "attachments": {},
   "cell_type": "markdown",
   "metadata": {},
   "source": [
    "on veut regarder le nombre de transaction, les sommes dépensées et recue sur cette période"
   ]
  },
  {
   "cell_type": "code",
   "execution_count": 464,
   "metadata": {},
   "outputs": [
    {
     "data": {
      "text/html": [
       "<div>\n",
       "<style scoped>\n",
       "    .dataframe tbody tr th:only-of-type {\n",
       "        vertical-align: middle;\n",
       "    }\n",
       "\n",
       "    .dataframe tbody tr th {\n",
       "        vertical-align: top;\n",
       "    }\n",
       "\n",
       "    .dataframe thead th {\n",
       "        text-align: right;\n",
       "    }\n",
       "</style>\n",
       "<table border=\"1\" class=\"dataframe\">\n",
       "  <thead>\n",
       "    <tr style=\"text-align: right;\">\n",
       "      <th></th>\n",
       "      <th></th>\n",
       "      <th>received</th>\n",
       "      <th>nb_received</th>\n",
       "      <th>sum_fee</th>\n",
       "      <th>mean_fee_for100</th>\n",
       "      <th>nb_transactions</th>\n",
       "      <th>sent</th>\n",
       "      <th>self_spent</th>\n",
       "      <th>self_spent_estimated</th>\n",
       "      <th>nb_spent</th>\n",
       "      <th>spent</th>\n",
       "      <th>balance</th>\n",
       "      <th>profit</th>\n",
       "    </tr>\n",
       "    <tr>\n",
       "      <th>identity</th>\n",
       "      <th>date</th>\n",
       "      <th></th>\n",
       "      <th></th>\n",
       "      <th></th>\n",
       "      <th></th>\n",
       "      <th></th>\n",
       "      <th></th>\n",
       "      <th></th>\n",
       "      <th></th>\n",
       "      <th></th>\n",
       "      <th></th>\n",
       "      <th></th>\n",
       "      <th></th>\n",
       "    </tr>\n",
       "  </thead>\n",
       "  <tbody>\n",
       "    <tr>\n",
       "      <th rowspan=\"5\" valign=\"top\">0</th>\n",
       "      <th>2015-03-01</th>\n",
       "      <td>3.321185e+10</td>\n",
       "      <td>11184</td>\n",
       "      <td>17844749</td>\n",
       "      <td>2.311582</td>\n",
       "      <td>1070</td>\n",
       "      <td>3.307544e+10</td>\n",
       "      <td>0.000000e+00</td>\n",
       "      <td>0.000000e+00</td>\n",
       "      <td>2317</td>\n",
       "      <td>3.307544e+10</td>\n",
       "      <td>1.185623e+08</td>\n",
       "      <td>1.129250e+13</td>\n",
       "    </tr>\n",
       "    <tr>\n",
       "      <th>2015-03-02</th>\n",
       "      <td>1.154547e+11</td>\n",
       "      <td>7679</td>\n",
       "      <td>18657745</td>\n",
       "      <td>2.568801</td>\n",
       "      <td>1153</td>\n",
       "      <td>1.164067e+11</td>\n",
       "      <td>0.000000e+00</td>\n",
       "      <td>6.999999e+10</td>\n",
       "      <td>2499</td>\n",
       "      <td>4.640670e+10</td>\n",
       "      <td>6.902934e+10</td>\n",
       "      <td>1.136153e+13</td>\n",
       "    </tr>\n",
       "    <tr>\n",
       "      <th>2015-03-03</th>\n",
       "      <td>1.310782e+11</td>\n",
       "      <td>6806</td>\n",
       "      <td>17034451</td>\n",
       "      <td>2.504085</td>\n",
       "      <td>1092</td>\n",
       "      <td>1.253659e+11</td>\n",
       "      <td>0.000000e+00</td>\n",
       "      <td>4.000000e+10</td>\n",
       "      <td>2294</td>\n",
       "      <td>8.536593e+10</td>\n",
       "      <td>4.569521e+10</td>\n",
       "      <td>1.140722e+13</td>\n",
       "    </tr>\n",
       "    <tr>\n",
       "      <th>2015-03-04</th>\n",
       "      <td>5.952002e+10</td>\n",
       "      <td>7052</td>\n",
       "      <td>20457274</td>\n",
       "      <td>2.385513</td>\n",
       "      <td>1185</td>\n",
       "      <td>5.199809e+10</td>\n",
       "      <td>0.000000e+00</td>\n",
       "      <td>0.000000e+00</td>\n",
       "      <td>2529</td>\n",
       "      <td>5.199809e+10</td>\n",
       "      <td>7.501471e+09</td>\n",
       "      <td>1.141472e+13</td>\n",
       "    </tr>\n",
       "    <tr>\n",
       "      <th>2015-03-05</th>\n",
       "      <td>5.476024e+10</td>\n",
       "      <td>6324</td>\n",
       "      <td>39047165</td>\n",
       "      <td>1.998396</td>\n",
       "      <td>1469</td>\n",
       "      <td>5.652272e+10</td>\n",
       "      <td>0.000000e+00</td>\n",
       "      <td>0.000000e+00</td>\n",
       "      <td>3345</td>\n",
       "      <td>5.652272e+10</td>\n",
       "      <td>-1.801532e+09</td>\n",
       "      <td>1.141292e+13</td>\n",
       "    </tr>\n",
       "    <tr>\n",
       "      <th>...</th>\n",
       "      <th>...</th>\n",
       "      <td>...</td>\n",
       "      <td>...</td>\n",
       "      <td>...</td>\n",
       "      <td>...</td>\n",
       "      <td>...</td>\n",
       "      <td>...</td>\n",
       "      <td>...</td>\n",
       "      <td>...</td>\n",
       "      <td>...</td>\n",
       "      <td>...</td>\n",
       "      <td>...</td>\n",
       "      <td>...</td>\n",
       "    </tr>\n",
       "    <tr>\n",
       "      <th rowspan=\"5\" valign=\"top\">ePay.info_CoinJoinMess</th>\n",
       "      <th>2015-03-26</th>\n",
       "      <td>2.016888e+12</td>\n",
       "      <td>24157</td>\n",
       "      <td>82695684</td>\n",
       "      <td>0.280102</td>\n",
       "      <td>2910</td>\n",
       "      <td>7.139063e+12</td>\n",
       "      <td>5.075589e+12</td>\n",
       "      <td>5.075589e+12</td>\n",
       "      <td>35420</td>\n",
       "      <td>2.063474e+12</td>\n",
       "      <td>5.028920e+12</td>\n",
       "      <td>4.393520e+14</td>\n",
       "    </tr>\n",
       "    <tr>\n",
       "      <th>2015-03-27</th>\n",
       "      <td>3.186136e+12</td>\n",
       "      <td>26500</td>\n",
       "      <td>104103640</td>\n",
       "      <td>0.267345</td>\n",
       "      <td>3057</td>\n",
       "      <td>1.188394e+13</td>\n",
       "      <td>8.631676e+12</td>\n",
       "      <td>8.631676e+12</td>\n",
       "      <td>34626</td>\n",
       "      <td>3.252265e+12</td>\n",
       "      <td>8.565443e+12</td>\n",
       "      <td>4.479174e+14</td>\n",
       "    </tr>\n",
       "    <tr>\n",
       "      <th>2015-03-28</th>\n",
       "      <td>1.361891e+12</td>\n",
       "      <td>19787</td>\n",
       "      <td>69136106</td>\n",
       "      <td>0.518450</td>\n",
       "      <td>2686</td>\n",
       "      <td>5.731955e+12</td>\n",
       "      <td>4.375993e+12</td>\n",
       "      <td>4.375993e+12</td>\n",
       "      <td>29271</td>\n",
       "      <td>1.355961e+12</td>\n",
       "      <td>4.381854e+12</td>\n",
       "      <td>4.522993e+14</td>\n",
       "    </tr>\n",
       "    <tr>\n",
       "      <th>2015-03-29</th>\n",
       "      <td>1.202184e+12</td>\n",
       "      <td>20044</td>\n",
       "      <td>76740596</td>\n",
       "      <td>0.442064</td>\n",
       "      <td>3579</td>\n",
       "      <td>5.223582e+12</td>\n",
       "      <td>4.078984e+12</td>\n",
       "      <td>4.078984e+12</td>\n",
       "      <td>58852</td>\n",
       "      <td>1.144598e+12</td>\n",
       "      <td>4.136493e+12</td>\n",
       "      <td>4.564358e+14</td>\n",
       "    </tr>\n",
       "    <tr>\n",
       "      <th>2015-03-30</th>\n",
       "      <td>2.880475e+12</td>\n",
       "      <td>31838</td>\n",
       "      <td>109421992</td>\n",
       "      <td>0.297456</td>\n",
       "      <td>4575</td>\n",
       "      <td>1.011998e+13</td>\n",
       "      <td>7.276122e+12</td>\n",
       "      <td>7.276122e+12</td>\n",
       "      <td>42335</td>\n",
       "      <td>2.843855e+12</td>\n",
       "      <td>7.312632e+12</td>\n",
       "      <td>4.637484e+14</td>\n",
       "    </tr>\n",
       "  </tbody>\n",
       "</table>\n",
       "<p>2972 rows × 12 columns</p>\n",
       "</div>"
      ],
      "text/plain": [
       "                                       received  nb_received    sum_fee  \\\n",
       "identity               date                                               \n",
       "0                      2015-03-01  3.321185e+10        11184   17844749   \n",
       "                       2015-03-02  1.154547e+11         7679   18657745   \n",
       "                       2015-03-03  1.310782e+11         6806   17034451   \n",
       "                       2015-03-04  5.952002e+10         7052   20457274   \n",
       "                       2015-03-05  5.476024e+10         6324   39047165   \n",
       "...                                         ...          ...        ...   \n",
       "ePay.info_CoinJoinMess 2015-03-26  2.016888e+12        24157   82695684   \n",
       "                       2015-03-27  3.186136e+12        26500  104103640   \n",
       "                       2015-03-28  1.361891e+12        19787   69136106   \n",
       "                       2015-03-29  1.202184e+12        20044   76740596   \n",
       "                       2015-03-30  2.880475e+12        31838  109421992   \n",
       "\n",
       "                                   mean_fee_for100  nb_transactions  \\\n",
       "identity               date                                           \n",
       "0                      2015-03-01         2.311582             1070   \n",
       "                       2015-03-02         2.568801             1153   \n",
       "                       2015-03-03         2.504085             1092   \n",
       "                       2015-03-04         2.385513             1185   \n",
       "                       2015-03-05         1.998396             1469   \n",
       "...                                            ...              ...   \n",
       "ePay.info_CoinJoinMess 2015-03-26         0.280102             2910   \n",
       "                       2015-03-27         0.267345             3057   \n",
       "                       2015-03-28         0.518450             2686   \n",
       "                       2015-03-29         0.442064             3579   \n",
       "                       2015-03-30         0.297456             4575   \n",
       "\n",
       "                                           sent    self_spent  \\\n",
       "identity               date                                     \n",
       "0                      2015-03-01  3.307544e+10  0.000000e+00   \n",
       "                       2015-03-02  1.164067e+11  0.000000e+00   \n",
       "                       2015-03-03  1.253659e+11  0.000000e+00   \n",
       "                       2015-03-04  5.199809e+10  0.000000e+00   \n",
       "                       2015-03-05  5.652272e+10  0.000000e+00   \n",
       "...                                         ...           ...   \n",
       "ePay.info_CoinJoinMess 2015-03-26  7.139063e+12  5.075589e+12   \n",
       "                       2015-03-27  1.188394e+13  8.631676e+12   \n",
       "                       2015-03-28  5.731955e+12  4.375993e+12   \n",
       "                       2015-03-29  5.223582e+12  4.078984e+12   \n",
       "                       2015-03-30  1.011998e+13  7.276122e+12   \n",
       "\n",
       "                                   self_spent_estimated  nb_spent  \\\n",
       "identity               date                                         \n",
       "0                      2015-03-01          0.000000e+00      2317   \n",
       "                       2015-03-02          6.999999e+10      2499   \n",
       "                       2015-03-03          4.000000e+10      2294   \n",
       "                       2015-03-04          0.000000e+00      2529   \n",
       "                       2015-03-05          0.000000e+00      3345   \n",
       "...                                                 ...       ...   \n",
       "ePay.info_CoinJoinMess 2015-03-26          5.075589e+12     35420   \n",
       "                       2015-03-27          8.631676e+12     34626   \n",
       "                       2015-03-28          4.375993e+12     29271   \n",
       "                       2015-03-29          4.078984e+12     58852   \n",
       "                       2015-03-30          7.276122e+12     42335   \n",
       "\n",
       "                                          spent       balance        profit  \n",
       "identity               date                                                  \n",
       "0                      2015-03-01  3.307544e+10  1.185623e+08  1.129250e+13  \n",
       "                       2015-03-02  4.640670e+10  6.902934e+10  1.136153e+13  \n",
       "                       2015-03-03  8.536593e+10  4.569521e+10  1.140722e+13  \n",
       "                       2015-03-04  5.199809e+10  7.501471e+09  1.141472e+13  \n",
       "                       2015-03-05  5.652272e+10 -1.801532e+09  1.141292e+13  \n",
       "...                                         ...           ...           ...  \n",
       "ePay.info_CoinJoinMess 2015-03-26  2.063474e+12  5.028920e+12  4.393520e+14  \n",
       "                       2015-03-27  3.252265e+12  8.565443e+12  4.479174e+14  \n",
       "                       2015-03-28  1.355961e+12  4.381854e+12  4.522993e+14  \n",
       "                       2015-03-29  1.144598e+12  4.136493e+12  4.564358e+14  \n",
       "                       2015-03-30  2.843855e+12  7.312632e+12  4.637484e+14  \n",
       "\n",
       "[2972 rows x 12 columns]"
      ]
     },
     "execution_count": 464,
     "metadata": {},
     "output_type": "execute_result"
    }
   ],
   "source": [
    "# set the date as a column\n",
    "actor_df.reset_index(inplace=True)\n",
    "\n",
    "# set the date as the index\n",
    "actor_df.set_index('date', inplace=True)\n",
    "\n",
    "# only keep the date range\n",
    "actor_df_2015_08 = actor_df.loc[date_range[0]:date_range[1]]\n",
    "\n",
    "actor_df_2015_08.reset_index(inplace=True)\n",
    "actor_df_2015_08.set_index('identity', inplace=True)\n",
    "actor_df_2015_08 = actor_df_2015_08.groupby([actor_df_2015_08.index, 'date']).sum()\n",
    "\n",
    "# remove the year from the date\n",
    "#actor_df_2015_08.index = actor_df_2015_08.index.set_levels(actor_df_2015_08.index.levels[1].strftime('%m-%d'), level=1)\n",
    "\n",
    "actor_df_2015_08"
   ]
  },
  {
   "cell_type": "code",
   "execution_count": 465,
   "metadata": {},
   "outputs": [
    {
     "name": "stdout",
     "output_type": "stream",
     "text": [
      "Q4\n",
      "Q3\n",
      "Q2\n",
      "Q1\n"
     ]
    },
    {
     "name": "stderr",
     "output_type": "stream",
     "text": [
      "/tmp/ipykernel_5362/2584143639.py:13: FutureWarning:\n",
      "\n",
      "The default value of numeric_only in DataFrameGroupBy.sum is deprecated. In a future version, numeric_only will default to False. Either specify numeric_only or select only columns which should be valid for the function.\n",
      "\n"
     ]
    },
    {
     "data": {
      "text/html": [
       "<div>\n",
       "<style scoped>\n",
       "    .dataframe tbody tr th:only-of-type {\n",
       "        vertical-align: middle;\n",
       "    }\n",
       "\n",
       "    .dataframe tbody tr th {\n",
       "        vertical-align: top;\n",
       "    }\n",
       "\n",
       "    .dataframe thead th {\n",
       "        text-align: right;\n",
       "    }\n",
       "</style>\n",
       "<table border=\"1\" class=\"dataframe\">\n",
       "  <thead>\n",
       "    <tr style=\"text-align: right;\">\n",
       "      <th></th>\n",
       "      <th></th>\n",
       "      <th>received</th>\n",
       "      <th>nb_received</th>\n",
       "      <th>sum_fee</th>\n",
       "      <th>mean_fee_for100</th>\n",
       "      <th>nb_transactions</th>\n",
       "      <th>sent</th>\n",
       "      <th>self_spent</th>\n",
       "      <th>self_spent_estimated</th>\n",
       "      <th>nb_spent</th>\n",
       "      <th>spent</th>\n",
       "      <th>balance</th>\n",
       "      <th>profit</th>\n",
       "    </tr>\n",
       "    <tr>\n",
       "      <th>quartile</th>\n",
       "      <th>date</th>\n",
       "      <th></th>\n",
       "      <th></th>\n",
       "      <th></th>\n",
       "      <th></th>\n",
       "      <th></th>\n",
       "      <th></th>\n",
       "      <th></th>\n",
       "      <th></th>\n",
       "      <th></th>\n",
       "      <th></th>\n",
       "      <th></th>\n",
       "      <th></th>\n",
       "    </tr>\n",
       "  </thead>\n",
       "  <tbody>\n",
       "    <tr>\n",
       "      <th rowspan=\"5\" valign=\"top\">Q1</th>\n",
       "      <th>2015-03-01</th>\n",
       "      <td>1.386668e+10</td>\n",
       "      <td>558</td>\n",
       "      <td>2085581</td>\n",
       "      <td>31.593050</td>\n",
       "      <td>134</td>\n",
       "      <td>1.383863e+10</td>\n",
       "      <td>0.000000e+00</td>\n",
       "      <td>0.000000e+00</td>\n",
       "      <td>267</td>\n",
       "      <td>1.383863e+10</td>\n",
       "      <td>2.596008e+07</td>\n",
       "      <td>-5.440058e+08</td>\n",
       "    </tr>\n",
       "    <tr>\n",
       "      <th>2015-03-02</th>\n",
       "      <td>1.968976e+10</td>\n",
       "      <td>532</td>\n",
       "      <td>3217901</td>\n",
       "      <td>23.014985</td>\n",
       "      <td>228</td>\n",
       "      <td>2.163733e+10</td>\n",
       "      <td>0.000000e+00</td>\n",
       "      <td>0.000000e+00</td>\n",
       "      <td>467</td>\n",
       "      <td>2.163733e+10</td>\n",
       "      <td>-1.950788e+09</td>\n",
       "      <td>-2.641600e+09</td>\n",
       "    </tr>\n",
       "    <tr>\n",
       "      <th>2015-03-03</th>\n",
       "      <td>3.178442e+10</td>\n",
       "      <td>531</td>\n",
       "      <td>2878195</td>\n",
       "      <td>27.567520</td>\n",
       "      <td>240</td>\n",
       "      <td>3.028789e+10</td>\n",
       "      <td>0.000000e+00</td>\n",
       "      <td>0.000000e+00</td>\n",
       "      <td>498</td>\n",
       "      <td>3.028789e+10</td>\n",
       "      <td>1.493651e+09</td>\n",
       "      <td>-1.172894e+09</td>\n",
       "    </tr>\n",
       "    <tr>\n",
       "      <th>2015-03-04</th>\n",
       "      <td>3.696868e+10</td>\n",
       "      <td>605</td>\n",
       "      <td>2971694</td>\n",
       "      <td>21.540870</td>\n",
       "      <td>252</td>\n",
       "      <td>3.191167e+10</td>\n",
       "      <td>0.000000e+00</td>\n",
       "      <td>0.000000e+00</td>\n",
       "      <td>546</td>\n",
       "      <td>3.191167e+10</td>\n",
       "      <td>5.054039e+09</td>\n",
       "      <td>3.908492e+09</td>\n",
       "    </tr>\n",
       "    <tr>\n",
       "      <th>2015-03-05</th>\n",
       "      <td>4.361609e+10</td>\n",
       "      <td>455</td>\n",
       "      <td>2356050</td>\n",
       "      <td>27.225799</td>\n",
       "      <td>189</td>\n",
       "      <td>4.711389e+10</td>\n",
       "      <td>0.000000e+00</td>\n",
       "      <td>0.000000e+00</td>\n",
       "      <td>387</td>\n",
       "      <td>4.711389e+10</td>\n",
       "      <td>-3.500156e+09</td>\n",
       "      <td>3.809878e+08</td>\n",
       "    </tr>\n",
       "    <tr>\n",
       "      <th>...</th>\n",
       "      <th>...</th>\n",
       "      <td>...</td>\n",
       "      <td>...</td>\n",
       "      <td>...</td>\n",
       "      <td>...</td>\n",
       "      <td>...</td>\n",
       "      <td>...</td>\n",
       "      <td>...</td>\n",
       "      <td>...</td>\n",
       "      <td>...</td>\n",
       "      <td>...</td>\n",
       "      <td>...</td>\n",
       "      <td>...</td>\n",
       "    </tr>\n",
       "    <tr>\n",
       "      <th rowspan=\"5\" valign=\"top\">Q4</th>\n",
       "      <th>2015-03-26</th>\n",
       "      <td>5.813361e+12</td>\n",
       "      <td>58890</td>\n",
       "      <td>216718033</td>\n",
       "      <td>9.331877</td>\n",
       "      <td>14329</td>\n",
       "      <td>1.225466e+13</td>\n",
       "      <td>6.385432e+12</td>\n",
       "      <td>7.590040e+12</td>\n",
       "      <td>61397</td>\n",
       "      <td>4.664616e+12</td>\n",
       "      <td>7.533960e+12</td>\n",
       "      <td>7.365596e+14</td>\n",
       "    </tr>\n",
       "    <tr>\n",
       "      <th>2015-03-27</th>\n",
       "      <td>6.688714e+12</td>\n",
       "      <td>53937</td>\n",
       "      <td>201433639</td>\n",
       "      <td>10.569116</td>\n",
       "      <td>10722</td>\n",
       "      <td>1.706940e+13</td>\n",
       "      <td>1.003648e+13</td>\n",
       "      <td>1.095358e+13</td>\n",
       "      <td>52803</td>\n",
       "      <td>6.115819e+12</td>\n",
       "      <td>1.060918e+13</td>\n",
       "      <td>7.471688e+14</td>\n",
       "    </tr>\n",
       "    <tr>\n",
       "      <th>2015-03-28</th>\n",
       "      <td>3.868697e+12</td>\n",
       "      <td>47109</td>\n",
       "      <td>146299854</td>\n",
       "      <td>10.321718</td>\n",
       "      <td>8901</td>\n",
       "      <td>9.206507e+12</td>\n",
       "      <td>5.175020e+12</td>\n",
       "      <td>6.231280e+12</td>\n",
       "      <td>44212</td>\n",
       "      <td>2.975227e+12</td>\n",
       "      <td>6.068344e+12</td>\n",
       "      <td>7.532371e+14</td>\n",
       "    </tr>\n",
       "    <tr>\n",
       "      <th>2015-03-29</th>\n",
       "      <td>3.836433e+12</td>\n",
       "      <td>57198</td>\n",
       "      <td>172181920</td>\n",
       "      <td>16.294093</td>\n",
       "      <td>11545</td>\n",
       "      <td>8.624450e+12</td>\n",
       "      <td>5.042183e+12</td>\n",
       "      <td>5.528417e+12</td>\n",
       "      <td>77243</td>\n",
       "      <td>3.096033e+12</td>\n",
       "      <td>5.782411e+12</td>\n",
       "      <td>7.590195e+14</td>\n",
       "    </tr>\n",
       "    <tr>\n",
       "      <th>2015-03-30</th>\n",
       "      <td>6.619057e+12</td>\n",
       "      <td>58563</td>\n",
       "      <td>197544788</td>\n",
       "      <td>18.216831</td>\n",
       "      <td>10895</td>\n",
       "      <td>1.566348e+13</td>\n",
       "      <td>8.881541e+12</td>\n",
       "      <td>1.012145e+13</td>\n",
       "      <td>58164</td>\n",
       "      <td>5.542026e+12</td>\n",
       "      <td>9.958374e+12</td>\n",
       "      <td>7.689779e+14</td>\n",
       "    </tr>\n",
       "  </tbody>\n",
       "</table>\n",
       "<p>120 rows × 12 columns</p>\n",
       "</div>"
      ],
      "text/plain": [
       "                         received  nb_received    sum_fee  mean_fee_for100  \\\n",
       "quartile date                                                                \n",
       "Q1       2015-03-01  1.386668e+10          558    2085581        31.593050   \n",
       "         2015-03-02  1.968976e+10          532    3217901        23.014985   \n",
       "         2015-03-03  3.178442e+10          531    2878195        27.567520   \n",
       "         2015-03-04  3.696868e+10          605    2971694        21.540870   \n",
       "         2015-03-05  4.361609e+10          455    2356050        27.225799   \n",
       "...                           ...          ...        ...              ...   \n",
       "Q4       2015-03-26  5.813361e+12        58890  216718033         9.331877   \n",
       "         2015-03-27  6.688714e+12        53937  201433639        10.569116   \n",
       "         2015-03-28  3.868697e+12        47109  146299854        10.321718   \n",
       "         2015-03-29  3.836433e+12        57198  172181920        16.294093   \n",
       "         2015-03-30  6.619057e+12        58563  197544788        18.216831   \n",
       "\n",
       "                     nb_transactions          sent    self_spent  \\\n",
       "quartile date                                                      \n",
       "Q1       2015-03-01              134  1.383863e+10  0.000000e+00   \n",
       "         2015-03-02              228  2.163733e+10  0.000000e+00   \n",
       "         2015-03-03              240  3.028789e+10  0.000000e+00   \n",
       "         2015-03-04              252  3.191167e+10  0.000000e+00   \n",
       "         2015-03-05              189  4.711389e+10  0.000000e+00   \n",
       "...                              ...           ...           ...   \n",
       "Q4       2015-03-26            14329  1.225466e+13  6.385432e+12   \n",
       "         2015-03-27            10722  1.706940e+13  1.003648e+13   \n",
       "         2015-03-28             8901  9.206507e+12  5.175020e+12   \n",
       "         2015-03-29            11545  8.624450e+12  5.042183e+12   \n",
       "         2015-03-30            10895  1.566348e+13  8.881541e+12   \n",
       "\n",
       "                     self_spent_estimated  nb_spent         spent  \\\n",
       "quartile date                                                       \n",
       "Q1       2015-03-01          0.000000e+00       267  1.383863e+10   \n",
       "         2015-03-02          0.000000e+00       467  2.163733e+10   \n",
       "         2015-03-03          0.000000e+00       498  3.028789e+10   \n",
       "         2015-03-04          0.000000e+00       546  3.191167e+10   \n",
       "         2015-03-05          0.000000e+00       387  4.711389e+10   \n",
       "...                                   ...       ...           ...   \n",
       "Q4       2015-03-26          7.590040e+12     61397  4.664616e+12   \n",
       "         2015-03-27          1.095358e+13     52803  6.115819e+12   \n",
       "         2015-03-28          6.231280e+12     44212  2.975227e+12   \n",
       "         2015-03-29          5.528417e+12     77243  3.096033e+12   \n",
       "         2015-03-30          1.012145e+13     58164  5.542026e+12   \n",
       "\n",
       "                          balance        profit  \n",
       "quartile date                                    \n",
       "Q1       2015-03-01  2.596008e+07 -5.440058e+08  \n",
       "         2015-03-02 -1.950788e+09 -2.641600e+09  \n",
       "         2015-03-03  1.493651e+09 -1.172894e+09  \n",
       "         2015-03-04  5.054039e+09  3.908492e+09  \n",
       "         2015-03-05 -3.500156e+09  3.809878e+08  \n",
       "...                           ...           ...  \n",
       "Q4       2015-03-26  7.533960e+12  7.365596e+14  \n",
       "         2015-03-27  1.060918e+13  7.471688e+14  \n",
       "         2015-03-28  6.068344e+12  7.532371e+14  \n",
       "         2015-03-29  5.782411e+12  7.590195e+14  \n",
       "         2015-03-30  9.958374e+12  7.689779e+14  \n",
       "\n",
       "[120 rows x 12 columns]"
      ]
     },
     "execution_count": 465,
     "metadata": {},
     "output_type": "execute_result"
    }
   ],
   "source": [
    "# group the actor_df_2015_08 dataframe by quartile\n",
    "for elt in final_profits_df['quartile'].unique():\n",
    "    print(elt)\n",
    "    #print(actor_df_2015_08.loc[final_profits_df[final_profits_df['quartile'] == elt].index.tolist()]['nb_transactions'])\n",
    "    # update the actor_df_2015_08 dataframe\n",
    "    actor_df_2015_08['quartile'] = actor_df_2015_08.index.get_level_values(0).map(final_profits_df.set_index('identity')['quartile'])\n",
    "\n",
    "# set the quartile as the index\n",
    "actor_df_2015_08.reset_index(inplace=True)\n",
    "actor_df_2015_08.set_index('quartile', inplace=True)\n",
    "\n",
    "#group the actor_df_2015_08 dataframe by quartile\n",
    "actor_df_2015_08 = actor_df_2015_08.groupby([actor_df_2015_08.index, 'date']).sum()\n",
    "\n",
    "\n",
    "actor_df_2015_08\n"
   ]
  },
  {
   "cell_type": "code",
   "execution_count": 466,
   "metadata": {},
   "outputs": [
    {
     "name": "stderr",
     "output_type": "stream",
     "text": [
      "/tmp/ipykernel_5362/1102895590.py:29: UserWarning:\n",
      "\n",
      "FixedFormatter should only be used together with FixedLocator\n",
      "\n"
     ]
    },
    {
     "data": {
      "image/png": "[encoded data removed]",
      "text/plain": [
       "<Figure size 1500x1000 with 4 Axes>"
      ]
     },
     "metadata": {},
     "output_type": "display_data"
    }
   ],
   "source": [
    "# plot the number of transactions of each quartile\n",
    "look = 'profit'\n",
    "# square 2*2\n",
    "fig, ax = plt.subplots(2, 2, figsize=(15, 10))\n",
    "\n",
    "\n",
    "#plt.plot(actor_df_2015_08.loc['Q1'][look], label='Q1')\n",
    "# 1 plot per quartile\n",
    "\n",
    "# Q1\n",
    "ax[0, 0].plot(actor_df_2015_08.loc['Q1'][look], label='Q1', color='red', )\n",
    "\n",
    "# Q2\n",
    "ax[0, 1].plot(actor_df_2015_08.loc['Q2'][look], label='Q2', color='green')\n",
    "\n",
    "# Q3\n",
    "ax[1, 0].plot(actor_df_2015_08.loc['Q3'][look], label='Q3', color='blue')\n",
    "\n",
    "# Q4\n",
    "ax[1, 1].plot(actor_df_2015_08.loc['Q4'][look], label='Q4', color='orange')\n",
    "\n",
    "# set the title\n",
    "ax[0, 0].set_title('Q1')\n",
    "ax[0, 1].set_title('Q2')\n",
    "ax[1, 0].set_title('Q3')\n",
    "ax[1, 1].set_title('Q4')\n",
    "\n",
    "for elt in ax.flat:\n",
    "    elt.set_xticklabels(elt.get_xticklabels(), rotation=45)\n",
    "plt.subplots_adjust(wspace=0.1, hspace=0.3)\n",
    "\n",
    "# show the plot\n",
    "plt.show()\n"
   ]
  }
 ],
 "metadata": {
  "kernelspec": {
   "display_name": "scia",
   "language": "python",
   "name": "python3"
  },
  "language_info": {
   "codemirror_mode": {
    "name": "ipython",
    "version": 3
   },
   "file_extension": ".py",
   "mimetype": "text/x-python",
   "name": "python",
   "nbconvert_exporter": "python",
   "pygments_lexer": "ipython3",
   "version": "3.11.2"
  },
  "orig_nbformat": 4,
  "vscode": {
   "interpreter": {
    "hash": "ea9312fc9c2d6329322094b403542e3a8436f2615ce450c7872cc3a27bdb75bb"
   }
  }
 },
 "nbformat": 4,
 "nbformat_minor": 2
}
