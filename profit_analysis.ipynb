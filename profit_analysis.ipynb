{
 "cells": [
  {
   "cell_type": "code",
   "execution_count": 146,
   "metadata": {},
   "outputs": [],
   "source": [
    "import pandas as pd\n",
    "from os import path\n",
    "import os\n",
    "from datetime import datetime\n",
    "import matplotlib.pyplot as plt\n",
    "import glob"
   ]
  },
  {
   "cell_type": "code",
   "execution_count": 147,
   "metadata": {},
   "outputs": [
    {
     "name": "stdout",
     "output_type": "stream",
     "text": [
      "['networks\\\\2015-1-1.csv', 'networks\\\\2015-1-10.csv', 'networks\\\\2015-1-11.csv', 'networks\\\\2015-1-12.csv', 'networks\\\\2015-1-13.csv', 'networks\\\\2015-1-14.csv', 'networks\\\\2015-1-15.csv', 'networks\\\\2015-1-16.csv', 'networks\\\\2015-1-17.csv', 'networks\\\\2015-1-18.csv', 'networks\\\\2015-1-19.csv', 'networks\\\\2015-1-2.csv', 'networks\\\\2015-1-20.csv', 'networks\\\\2015-1-21.csv', 'networks\\\\2015-1-22.csv', 'networks\\\\2015-1-23.csv', 'networks\\\\2015-1-24.csv', 'networks\\\\2015-1-25.csv', 'networks\\\\2015-1-26.csv', 'networks\\\\2015-1-27.csv', 'networks\\\\2015-1-28.csv', 'networks\\\\2015-1-29.csv', 'networks\\\\2015-1-3.csv', 'networks\\\\2015-1-30.csv', 'networks\\\\2015-1-31.csv', 'networks\\\\2015-1-4.csv', 'networks\\\\2015-1-5.csv', 'networks\\\\2015-1-6.csv', 'networks\\\\2015-1-7.csv', 'networks\\\\2015-1-8.csv', 'networks\\\\2015-1-9.csv', 'networks\\\\2015-10-1.csv', 'networks\\\\2015-10-10.csv', 'networks\\\\2015-10-11.csv', 'networks\\\\2015-10-12.csv', 'networks\\\\2015-10-13.csv', 'networks\\\\2015-10-14.csv', 'networks\\\\2015-10-15.csv', 'networks\\\\2015-10-16.csv', 'networks\\\\2015-10-17.csv', 'networks\\\\2015-10-18.csv', 'networks\\\\2015-10-19.csv', 'networks\\\\2015-10-2.csv', 'networks\\\\2015-10-20.csv', 'networks\\\\2015-10-21.csv', 'networks\\\\2015-10-22.csv', 'networks\\\\2015-10-23.csv', 'networks\\\\2015-10-24.csv', 'networks\\\\2015-10-25.csv', 'networks\\\\2015-10-26.csv', 'networks\\\\2015-10-27.csv', 'networks\\\\2015-10-28.csv', 'networks\\\\2015-10-29.csv', 'networks\\\\2015-10-3.csv', 'networks\\\\2015-10-30.csv', 'networks\\\\2015-10-31.csv', 'networks\\\\2015-10-4.csv', 'networks\\\\2015-10-5.csv', 'networks\\\\2015-10-6.csv', 'networks\\\\2015-10-7.csv', 'networks\\\\2015-10-8.csv', 'networks\\\\2015-10-9.csv', 'networks\\\\2015-11-1.csv', 'networks\\\\2015-11-10.csv', 'networks\\\\2015-11-11.csv', 'networks\\\\2015-11-12.csv', 'networks\\\\2015-11-13.csv', 'networks\\\\2015-11-14.csv', 'networks\\\\2015-11-15.csv', 'networks\\\\2015-11-16.csv', 'networks\\\\2015-11-17.csv', 'networks\\\\2015-11-18.csv', 'networks\\\\2015-11-19.csv', 'networks\\\\2015-11-2.csv', 'networks\\\\2015-11-20.csv', 'networks\\\\2015-11-21.csv', 'networks\\\\2015-11-22.csv', 'networks\\\\2015-11-23.csv', 'networks\\\\2015-11-24.csv', 'networks\\\\2015-11-25.csv', 'networks\\\\2015-11-26.csv', 'networks\\\\2015-11-27.csv', 'networks\\\\2015-11-28.csv', 'networks\\\\2015-11-29.csv', 'networks\\\\2015-11-3.csv', 'networks\\\\2015-11-30.csv', 'networks\\\\2015-11-4.csv', 'networks\\\\2015-11-5.csv', 'networks\\\\2015-11-6.csv', 'networks\\\\2015-11-7.csv', 'networks\\\\2015-11-8.csv', 'networks\\\\2015-11-9.csv', 'networks\\\\2015-12-1.csv', 'networks\\\\2015-12-10.csv', 'networks\\\\2015-12-11.csv', 'networks\\\\2015-12-12.csv', 'networks\\\\2015-12-13.csv', 'networks\\\\2015-12-14.csv', 'networks\\\\2015-12-15.csv', 'networks\\\\2015-12-16.csv', 'networks\\\\2015-12-17.csv', 'networks\\\\2015-12-18.csv', 'networks\\\\2015-12-19.csv', 'networks\\\\2015-12-2.csv', 'networks\\\\2015-12-20.csv', 'networks\\\\2015-12-21.csv', 'networks\\\\2015-12-22.csv', 'networks\\\\2015-12-23.csv', 'networks\\\\2015-12-24.csv', 'networks\\\\2015-12-25.csv', 'networks\\\\2015-12-26.csv', 'networks\\\\2015-12-27.csv', 'networks\\\\2015-12-28.csv', 'networks\\\\2015-12-29.csv', 'networks\\\\2015-12-3.csv', 'networks\\\\2015-12-30.csv', 'networks\\\\2015-12-31.csv', 'networks\\\\2015-12-4.csv', 'networks\\\\2015-12-5.csv', 'networks\\\\2015-12-6.csv', 'networks\\\\2015-12-7.csv', 'networks\\\\2015-12-8.csv', 'networks\\\\2015-12-9.csv', 'networks\\\\2015-2-1.csv', 'networks\\\\2015-2-10.csv', 'networks\\\\2015-2-11.csv', 'networks\\\\2015-2-12.csv', 'networks\\\\2015-2-13.csv', 'networks\\\\2015-2-14.csv', 'networks\\\\2015-2-15.csv', 'networks\\\\2015-2-16.csv', 'networks\\\\2015-2-17.csv', 'networks\\\\2015-2-18.csv', 'networks\\\\2015-2-19.csv', 'networks\\\\2015-2-2.csv', 'networks\\\\2015-2-20.csv', 'networks\\\\2015-2-21.csv', 'networks\\\\2015-2-22.csv', 'networks\\\\2015-2-23.csv', 'networks\\\\2015-2-24.csv', 'networks\\\\2015-2-25.csv', 'networks\\\\2015-2-26.csv', 'networks\\\\2015-2-27.csv', 'networks\\\\2015-2-28.csv', 'networks\\\\2015-2-3.csv', 'networks\\\\2015-2-4.csv', 'networks\\\\2015-2-5.csv', 'networks\\\\2015-2-6.csv', 'networks\\\\2015-2-7.csv', 'networks\\\\2015-2-8.csv', 'networks\\\\2015-2-9.csv', 'networks\\\\2015-3-1.csv', 'networks\\\\2015-3-10.csv', 'networks\\\\2015-3-11.csv', 'networks\\\\2015-3-12.csv', 'networks\\\\2015-3-13.csv', 'networks\\\\2015-3-14.csv', 'networks\\\\2015-3-15.csv', 'networks\\\\2015-3-16.csv', 'networks\\\\2015-3-17.csv', 'networks\\\\2015-3-18.csv', 'networks\\\\2015-3-19.csv', 'networks\\\\2015-3-2.csv', 'networks\\\\2015-3-20.csv', 'networks\\\\2015-3-21.csv', 'networks\\\\2015-3-22.csv', 'networks\\\\2015-3-23.csv', 'networks\\\\2015-3-24.csv', 'networks\\\\2015-3-25.csv', 'networks\\\\2015-3-26.csv', 'networks\\\\2015-3-27.csv', 'networks\\\\2015-3-28.csv', 'networks\\\\2015-3-29.csv', 'networks\\\\2015-3-3.csv', 'networks\\\\2015-3-30.csv', 'networks\\\\2015-3-31.csv', 'networks\\\\2015-3-4.csv', 'networks\\\\2015-3-5.csv', 'networks\\\\2015-3-6.csv', 'networks\\\\2015-3-7.csv', 'networks\\\\2015-3-8.csv', 'networks\\\\2015-3-9.csv', 'networks\\\\2015-4-1.csv', 'networks\\\\2015-4-10.csv', 'networks\\\\2015-4-11.csv', 'networks\\\\2015-4-12.csv', 'networks\\\\2015-4-13.csv', 'networks\\\\2015-4-14.csv', 'networks\\\\2015-4-15.csv', 'networks\\\\2015-4-16.csv', 'networks\\\\2015-4-17.csv', 'networks\\\\2015-4-18.csv', 'networks\\\\2015-4-19.csv', 'networks\\\\2015-4-2.csv', 'networks\\\\2015-4-20.csv', 'networks\\\\2015-4-21.csv', 'networks\\\\2015-4-22.csv', 'networks\\\\2015-4-23.csv', 'networks\\\\2015-4-24.csv', 'networks\\\\2015-4-25.csv', 'networks\\\\2015-4-26.csv', 'networks\\\\2015-4-27.csv', 'networks\\\\2015-4-28.csv', 'networks\\\\2015-4-29.csv', 'networks\\\\2015-4-3.csv', 'networks\\\\2015-4-30.csv', 'networks\\\\2015-4-4.csv', 'networks\\\\2015-4-5.csv', 'networks\\\\2015-4-6.csv', 'networks\\\\2015-4-7.csv', 'networks\\\\2015-4-8.csv', 'networks\\\\2015-4-9.csv', 'networks\\\\2015-5-1.csv', 'networks\\\\2015-5-10.csv', 'networks\\\\2015-5-11.csv', 'networks\\\\2015-5-12.csv', 'networks\\\\2015-5-13.csv', 'networks\\\\2015-5-14.csv', 'networks\\\\2015-5-15.csv', 'networks\\\\2015-5-16.csv', 'networks\\\\2015-5-17.csv', 'networks\\\\2015-5-18.csv', 'networks\\\\2015-5-19.csv', 'networks\\\\2015-5-2.csv', 'networks\\\\2015-5-20.csv', 'networks\\\\2015-5-21.csv', 'networks\\\\2015-5-22.csv', 'networks\\\\2015-5-23.csv', 'networks\\\\2015-5-24.csv', 'networks\\\\2015-5-25.csv', 'networks\\\\2015-5-26.csv', 'networks\\\\2015-5-27.csv', 'networks\\\\2015-5-28.csv', 'networks\\\\2015-5-29.csv', 'networks\\\\2015-5-3.csv', 'networks\\\\2015-5-30.csv', 'networks\\\\2015-5-31.csv', 'networks\\\\2015-5-4.csv', 'networks\\\\2015-5-5.csv', 'networks\\\\2015-5-6.csv', 'networks\\\\2015-5-7.csv', 'networks\\\\2015-5-8.csv', 'networks\\\\2015-5-9.csv', 'networks\\\\2015-6-1.csv', 'networks\\\\2015-6-10.csv', 'networks\\\\2015-6-11.csv', 'networks\\\\2015-6-12.csv', 'networks\\\\2015-6-13.csv', 'networks\\\\2015-6-14.csv', 'networks\\\\2015-6-15.csv', 'networks\\\\2015-6-16.csv', 'networks\\\\2015-6-17.csv', 'networks\\\\2015-6-18.csv', 'networks\\\\2015-6-19.csv', 'networks\\\\2015-6-2.csv', 'networks\\\\2015-6-20.csv', 'networks\\\\2015-6-21.csv', 'networks\\\\2015-6-22.csv', 'networks\\\\2015-6-23.csv', 'networks\\\\2015-6-24.csv', 'networks\\\\2015-6-25.csv', 'networks\\\\2015-6-26.csv', 'networks\\\\2015-6-27.csv', 'networks\\\\2015-6-28.csv', 'networks\\\\2015-6-29.csv', 'networks\\\\2015-6-3.csv', 'networks\\\\2015-6-30.csv', 'networks\\\\2015-6-4.csv', 'networks\\\\2015-6-5.csv', 'networks\\\\2015-6-6.csv', 'networks\\\\2015-6-7.csv', 'networks\\\\2015-6-8.csv', 'networks\\\\2015-6-9.csv', 'networks\\\\2015-7-1.csv', 'networks\\\\2015-7-10.csv', 'networks\\\\2015-7-11.csv', 'networks\\\\2015-7-12.csv', 'networks\\\\2015-7-13.csv', 'networks\\\\2015-7-14.csv', 'networks\\\\2015-7-15.csv', 'networks\\\\2015-7-16.csv', 'networks\\\\2015-7-17.csv', 'networks\\\\2015-7-18.csv', 'networks\\\\2015-7-19.csv', 'networks\\\\2015-7-2.csv', 'networks\\\\2015-7-20.csv', 'networks\\\\2015-7-21.csv', 'networks\\\\2015-7-22.csv', 'networks\\\\2015-7-23.csv', 'networks\\\\2015-7-24.csv', 'networks\\\\2015-7-25.csv', 'networks\\\\2015-7-26.csv', 'networks\\\\2015-7-27.csv', 'networks\\\\2015-7-28.csv', 'networks\\\\2015-7-29.csv', 'networks\\\\2015-7-3.csv', 'networks\\\\2015-7-30.csv', 'networks\\\\2015-7-31.csv', 'networks\\\\2015-7-4.csv', 'networks\\\\2015-7-5.csv', 'networks\\\\2015-7-6.csv', 'networks\\\\2015-7-7.csv', 'networks\\\\2015-7-8.csv', 'networks\\\\2015-7-9.csv', 'networks\\\\2015-8-1.csv', 'networks\\\\2015-8-10.csv', 'networks\\\\2015-8-11.csv', 'networks\\\\2015-8-12.csv', 'networks\\\\2015-8-13.csv', 'networks\\\\2015-8-14.csv', 'networks\\\\2015-8-15.csv', 'networks\\\\2015-8-16.csv', 'networks\\\\2015-8-17.csv', 'networks\\\\2015-8-18.csv', 'networks\\\\2015-8-19.csv', 'networks\\\\2015-8-2.csv', 'networks\\\\2015-8-20.csv', 'networks\\\\2015-8-21.csv', 'networks\\\\2015-8-22.csv', 'networks\\\\2015-8-23.csv', 'networks\\\\2015-8-24.csv', 'networks\\\\2015-8-25.csv', 'networks\\\\2015-8-26.csv', 'networks\\\\2015-8-27.csv', 'networks\\\\2015-8-28.csv', 'networks\\\\2015-8-29.csv', 'networks\\\\2015-8-3.csv', 'networks\\\\2015-8-30.csv', 'networks\\\\2015-8-31.csv', 'networks\\\\2015-8-4.csv', 'networks\\\\2015-8-5.csv', 'networks\\\\2015-8-6.csv', 'networks\\\\2015-8-7.csv', 'networks\\\\2015-8-8.csv', 'networks\\\\2015-8-9.csv', 'networks\\\\2015-9-1.csv', 'networks\\\\2015-9-10.csv', 'networks\\\\2015-9-11.csv', 'networks\\\\2015-9-12.csv', 'networks\\\\2015-9-13.csv', 'networks\\\\2015-9-14.csv', 'networks\\\\2015-9-15.csv', 'networks\\\\2015-9-16.csv', 'networks\\\\2015-9-17.csv', 'networks\\\\2015-9-18.csv', 'networks\\\\2015-9-19.csv', 'networks\\\\2015-9-2.csv', 'networks\\\\2015-9-20.csv', 'networks\\\\2015-9-21.csv', 'networks\\\\2015-9-22.csv', 'networks\\\\2015-9-23.csv', 'networks\\\\2015-9-24.csv', 'networks\\\\2015-9-25.csv', 'networks\\\\2015-9-26.csv', 'networks\\\\2015-9-27.csv', 'networks\\\\2015-9-28.csv', 'networks\\\\2015-9-29.csv', 'networks\\\\2015-9-3.csv', 'networks\\\\2015-9-30.csv', 'networks\\\\2015-9-4.csv', 'networks\\\\2015-9-5.csv', 'networks\\\\2015-9-6.csv', 'networks\\\\2015-9-7.csv', 'networks\\\\2015-9-8.csv', 'networks\\\\2015-9-9.csv', 'networks\\\\2016-1-1.csv', 'networks\\\\2016-1-10.csv', 'networks\\\\2016-1-11.csv', 'networks\\\\2016-1-12.csv', 'networks\\\\2016-1-13.csv', 'networks\\\\2016-1-14.csv', 'networks\\\\2016-1-15.csv', 'networks\\\\2016-1-16.csv', 'networks\\\\2016-1-17.csv', 'networks\\\\2016-1-18.csv', 'networks\\\\2016-1-19.csv', 'networks\\\\2016-1-2.csv', 'networks\\\\2016-1-20.csv', 'networks\\\\2016-1-21.csv', 'networks\\\\2016-1-22.csv', 'networks\\\\2016-1-23.csv', 'networks\\\\2016-1-24.csv', 'networks\\\\2016-1-25.csv', 'networks\\\\2016-1-26.csv', 'networks\\\\2016-1-27.csv', 'networks\\\\2016-1-28.csv', 'networks\\\\2016-1-29.csv', 'networks\\\\2016-1-3.csv', 'networks\\\\2016-1-30.csv', 'networks\\\\2016-1-31.csv', 'networks\\\\2016-1-4.csv', 'networks\\\\2016-1-5.csv', 'networks\\\\2016-1-6.csv', 'networks\\\\2016-1-7.csv', 'networks\\\\2016-1-8.csv', 'networks\\\\2016-1-9.csv', 'networks\\\\2016-10-1.csv', 'networks\\\\2016-10-10.csv', 'networks\\\\2016-10-11.csv', 'networks\\\\2016-10-12.csv', 'networks\\\\2016-10-13.csv', 'networks\\\\2016-10-14.csv', 'networks\\\\2016-10-15.csv', 'networks\\\\2016-10-16.csv', 'networks\\\\2016-10-17.csv', 'networks\\\\2016-10-18.csv', 'networks\\\\2016-10-19.csv', 'networks\\\\2016-10-2.csv', 'networks\\\\2016-10-20.csv', 'networks\\\\2016-10-21.csv', 'networks\\\\2016-10-22.csv', 'networks\\\\2016-10-23.csv', 'networks\\\\2016-10-24.csv', 'networks\\\\2016-10-25.csv', 'networks\\\\2016-10-26.csv', 'networks\\\\2016-10-27.csv', 'networks\\\\2016-10-28.csv', 'networks\\\\2016-10-29.csv', 'networks\\\\2016-10-3.csv', 'networks\\\\2016-10-30.csv', 'networks\\\\2016-10-31.csv', 'networks\\\\2016-10-4.csv', 'networks\\\\2016-10-5.csv', 'networks\\\\2016-10-6.csv', 'networks\\\\2016-10-7.csv', 'networks\\\\2016-10-8.csv', 'networks\\\\2016-10-9.csv', 'networks\\\\2016-11-1.csv', 'networks\\\\2016-11-10.csv', 'networks\\\\2016-11-11.csv', 'networks\\\\2016-11-12.csv', 'networks\\\\2016-11-13.csv', 'networks\\\\2016-11-14.csv', 'networks\\\\2016-11-15.csv', 'networks\\\\2016-11-16.csv', 'networks\\\\2016-11-17.csv', 'networks\\\\2016-11-18.csv', 'networks\\\\2016-11-19.csv', 'networks\\\\2016-11-2.csv', 'networks\\\\2016-11-20.csv', 'networks\\\\2016-11-21.csv', 'networks\\\\2016-11-22.csv', 'networks\\\\2016-11-23.csv', 'networks\\\\2016-11-24.csv', 'networks\\\\2016-11-25.csv', 'networks\\\\2016-11-26.csv', 'networks\\\\2016-11-27.csv', 'networks\\\\2016-11-28.csv', 'networks\\\\2016-11-29.csv', 'networks\\\\2016-11-3.csv', 'networks\\\\2016-11-30.csv', 'networks\\\\2016-11-4.csv', 'networks\\\\2016-11-5.csv', 'networks\\\\2016-11-6.csv', 'networks\\\\2016-11-7.csv', 'networks\\\\2016-11-8.csv', 'networks\\\\2016-11-9.csv', 'networks\\\\2016-12-1.csv', 'networks\\\\2016-12-10.csv', 'networks\\\\2016-12-11.csv', 'networks\\\\2016-12-12.csv', 'networks\\\\2016-12-13.csv', 'networks\\\\2016-12-14.csv', 'networks\\\\2016-12-15.csv', 'networks\\\\2016-12-16.csv', 'networks\\\\2016-12-17.csv', 'networks\\\\2016-12-18.csv', 'networks\\\\2016-12-19.csv', 'networks\\\\2016-12-2.csv', 'networks\\\\2016-12-20.csv', 'networks\\\\2016-12-21.csv', 'networks\\\\2016-12-22.csv', 'networks\\\\2016-12-23.csv', 'networks\\\\2016-12-24.csv', 'networks\\\\2016-12-25.csv', 'networks\\\\2016-12-26.csv', 'networks\\\\2016-12-27.csv', 'networks\\\\2016-12-28.csv', 'networks\\\\2016-12-29.csv', 'networks\\\\2016-12-3.csv', 'networks\\\\2016-12-30.csv', 'networks\\\\2016-12-31.csv', 'networks\\\\2016-12-4.csv', 'networks\\\\2016-12-5.csv', 'networks\\\\2016-12-6.csv', 'networks\\\\2016-12-7.csv', 'networks\\\\2016-12-8.csv', 'networks\\\\2016-12-9.csv', 'networks\\\\2016-2-1.csv', 'networks\\\\2016-2-10.csv', 'networks\\\\2016-2-11.csv', 'networks\\\\2016-2-12.csv', 'networks\\\\2016-2-13.csv', 'networks\\\\2016-2-14.csv', 'networks\\\\2016-2-15.csv', 'networks\\\\2016-2-16.csv', 'networks\\\\2016-2-17.csv', 'networks\\\\2016-2-18.csv', 'networks\\\\2016-2-19.csv', 'networks\\\\2016-2-2.csv', 'networks\\\\2016-2-20.csv', 'networks\\\\2016-2-21.csv', 'networks\\\\2016-2-22.csv', 'networks\\\\2016-2-23.csv', 'networks\\\\2016-2-24.csv', 'networks\\\\2016-2-25.csv', 'networks\\\\2016-2-26.csv', 'networks\\\\2016-2-27.csv', 'networks\\\\2016-2-28.csv', 'networks\\\\2016-2-29.csv', 'networks\\\\2016-2-3.csv', 'networks\\\\2016-2-4.csv', 'networks\\\\2016-2-5.csv', 'networks\\\\2016-2-6.csv', 'networks\\\\2016-2-7.csv', 'networks\\\\2016-2-8.csv', 'networks\\\\2016-2-9.csv', 'networks\\\\2016-3-1.csv', 'networks\\\\2016-3-10.csv', 'networks\\\\2016-3-11.csv', 'networks\\\\2016-3-12.csv', 'networks\\\\2016-3-13.csv', 'networks\\\\2016-3-14.csv', 'networks\\\\2016-3-15.csv', 'networks\\\\2016-3-16.csv', 'networks\\\\2016-3-17.csv', 'networks\\\\2016-3-18.csv', 'networks\\\\2016-3-19.csv', 'networks\\\\2016-3-2.csv', 'networks\\\\2016-3-20.csv', 'networks\\\\2016-3-21.csv', 'networks\\\\2016-3-22.csv', 'networks\\\\2016-3-23.csv', 'networks\\\\2016-3-24.csv', 'networks\\\\2016-3-25.csv', 'networks\\\\2016-3-26.csv', 'networks\\\\2016-3-27.csv', 'networks\\\\2016-3-28.csv', 'networks\\\\2016-3-29.csv', 'networks\\\\2016-3-3.csv', 'networks\\\\2016-3-30.csv', 'networks\\\\2016-3-31.csv', 'networks\\\\2016-3-4.csv', 'networks\\\\2016-3-5.csv', 'networks\\\\2016-3-6.csv', 'networks\\\\2016-3-7.csv', 'networks\\\\2016-3-8.csv', 'networks\\\\2016-3-9.csv', 'networks\\\\2016-4-1.csv', 'networks\\\\2016-4-10.csv', 'networks\\\\2016-4-11.csv', 'networks\\\\2016-4-12.csv', 'networks\\\\2016-4-13.csv', 'networks\\\\2016-4-14.csv', 'networks\\\\2016-4-15.csv', 'networks\\\\2016-4-16.csv', 'networks\\\\2016-4-17.csv', 'networks\\\\2016-4-18.csv', 'networks\\\\2016-4-19.csv', 'networks\\\\2016-4-2.csv', 'networks\\\\2016-4-20.csv', 'networks\\\\2016-4-21.csv', 'networks\\\\2016-4-22.csv', 'networks\\\\2016-4-23.csv', 'networks\\\\2016-4-24.csv', 'networks\\\\2016-4-25.csv', 'networks\\\\2016-4-26.csv', 'networks\\\\2016-4-27.csv', 'networks\\\\2016-4-28.csv', 'networks\\\\2016-4-29.csv', 'networks\\\\2016-4-3.csv', 'networks\\\\2016-4-30.csv', 'networks\\\\2016-4-4.csv', 'networks\\\\2016-4-5.csv', 'networks\\\\2016-4-6.csv', 'networks\\\\2016-4-7.csv', 'networks\\\\2016-4-8.csv', 'networks\\\\2016-4-9.csv', 'networks\\\\2016-5-1.csv', 'networks\\\\2016-5-10.csv', 'networks\\\\2016-5-11.csv', 'networks\\\\2016-5-12.csv', 'networks\\\\2016-5-13.csv', 'networks\\\\2016-5-14.csv', 'networks\\\\2016-5-15.csv', 'networks\\\\2016-5-16.csv', 'networks\\\\2016-5-17.csv', 'networks\\\\2016-5-18.csv', 'networks\\\\2016-5-19.csv', 'networks\\\\2016-5-2.csv', 'networks\\\\2016-5-20.csv', 'networks\\\\2016-5-21.csv', 'networks\\\\2016-5-22.csv', 'networks\\\\2016-5-23.csv', 'networks\\\\2016-5-24.csv', 'networks\\\\2016-5-25.csv', 'networks\\\\2016-5-26.csv', 'networks\\\\2016-5-27.csv', 'networks\\\\2016-5-28.csv', 'networks\\\\2016-5-29.csv', 'networks\\\\2016-5-3.csv', 'networks\\\\2016-5-30.csv', 'networks\\\\2016-5-31.csv', 'networks\\\\2016-5-4.csv', 'networks\\\\2016-5-5.csv', 'networks\\\\2016-5-6.csv', 'networks\\\\2016-5-7.csv', 'networks\\\\2016-5-8.csv', 'networks\\\\2016-5-9.csv', 'networks\\\\2016-6-1.csv', 'networks\\\\2016-6-10.csv', 'networks\\\\2016-6-11.csv', 'networks\\\\2016-6-12.csv', 'networks\\\\2016-6-13.csv', 'networks\\\\2016-6-14.csv', 'networks\\\\2016-6-15.csv', 'networks\\\\2016-6-16.csv', 'networks\\\\2016-6-17.csv', 'networks\\\\2016-6-18.csv', 'networks\\\\2016-6-19.csv', 'networks\\\\2016-6-2.csv', 'networks\\\\2016-6-20.csv', 'networks\\\\2016-6-21.csv', 'networks\\\\2016-6-22.csv', 'networks\\\\2016-6-23.csv', 'networks\\\\2016-6-24.csv', 'networks\\\\2016-6-25.csv', 'networks\\\\2016-6-26.csv', 'networks\\\\2016-6-27.csv', 'networks\\\\2016-6-28.csv', 'networks\\\\2016-6-29.csv', 'networks\\\\2016-6-3.csv', 'networks\\\\2016-6-30.csv', 'networks\\\\2016-6-4.csv', 'networks\\\\2016-6-5.csv', 'networks\\\\2016-6-6.csv', 'networks\\\\2016-6-7.csv', 'networks\\\\2016-6-8.csv', 'networks\\\\2016-6-9.csv', 'networks\\\\2016-7-1.csv', 'networks\\\\2016-7-10.csv', 'networks\\\\2016-7-11.csv', 'networks\\\\2016-7-12.csv', 'networks\\\\2016-7-13.csv', 'networks\\\\2016-7-14.csv', 'networks\\\\2016-7-15.csv', 'networks\\\\2016-7-16.csv', 'networks\\\\2016-7-17.csv', 'networks\\\\2016-7-18.csv', 'networks\\\\2016-7-19.csv', 'networks\\\\2016-7-2.csv', 'networks\\\\2016-7-20.csv', 'networks\\\\2016-7-21.csv', 'networks\\\\2016-7-22.csv', 'networks\\\\2016-7-23.csv', 'networks\\\\2016-7-24.csv', 'networks\\\\2016-7-25.csv', 'networks\\\\2016-7-26.csv', 'networks\\\\2016-7-27.csv', 'networks\\\\2016-7-28.csv', 'networks\\\\2016-7-29.csv', 'networks\\\\2016-7-3.csv', 'networks\\\\2016-7-30.csv', 'networks\\\\2016-7-31.csv', 'networks\\\\2016-7-4.csv', 'networks\\\\2016-7-5.csv', 'networks\\\\2016-7-6.csv', 'networks\\\\2016-7-7.csv', 'networks\\\\2016-7-8.csv', 'networks\\\\2016-7-9.csv', 'networks\\\\2016-8-1.csv', 'networks\\\\2016-8-10.csv', 'networks\\\\2016-8-11.csv', 'networks\\\\2016-8-12.csv', 'networks\\\\2016-8-13.csv', 'networks\\\\2016-8-14.csv', 'networks\\\\2016-8-15.csv', 'networks\\\\2016-8-16.csv', 'networks\\\\2016-8-17.csv', 'networks\\\\2016-8-18.csv', 'networks\\\\2016-8-19.csv', 'networks\\\\2016-8-2.csv', 'networks\\\\2016-8-20.csv', 'networks\\\\2016-8-21.csv', 'networks\\\\2016-8-22.csv', 'networks\\\\2016-8-23.csv', 'networks\\\\2016-8-24.csv', 'networks\\\\2016-8-25.csv', 'networks\\\\2016-8-26.csv', 'networks\\\\2016-8-27.csv', 'networks\\\\2016-8-28.csv', 'networks\\\\2016-8-29.csv', 'networks\\\\2016-8-3.csv', 'networks\\\\2016-8-30.csv', 'networks\\\\2016-8-31.csv', 'networks\\\\2016-8-4.csv', 'networks\\\\2016-8-5.csv', 'networks\\\\2016-8-6.csv', 'networks\\\\2016-8-7.csv', 'networks\\\\2016-8-8.csv', 'networks\\\\2016-8-9.csv', 'networks\\\\2016-9-1.csv', 'networks\\\\2016-9-10.csv', 'networks\\\\2016-9-11.csv', 'networks\\\\2016-9-12.csv', 'networks\\\\2016-9-13.csv', 'networks\\\\2016-9-14.csv', 'networks\\\\2016-9-15.csv', 'networks\\\\2016-9-16.csv', 'networks\\\\2016-9-17.csv', 'networks\\\\2016-9-18.csv', 'networks\\\\2016-9-19.csv', 'networks\\\\2016-9-2.csv', 'networks\\\\2016-9-20.csv', 'networks\\\\2016-9-21.csv', 'networks\\\\2016-9-22.csv', 'networks\\\\2016-9-23.csv', 'networks\\\\2016-9-24.csv', 'networks\\\\2016-9-25.csv', 'networks\\\\2016-9-26.csv', 'networks\\\\2016-9-27.csv', 'networks\\\\2016-9-28.csv', 'networks\\\\2016-9-29.csv', 'networks\\\\2016-9-3.csv', 'networks\\\\2016-9-30.csv', 'networks\\\\2016-9-4.csv', 'networks\\\\2016-9-5.csv', 'networks\\\\2016-9-6.csv', 'networks\\\\2016-9-7.csv', 'networks\\\\2016-9-8.csv', 'networks\\\\2016-9-9.csv', 'networks\\\\2017-1-1.csv', 'networks\\\\2017-1-10.csv', 'networks\\\\2017-1-11.csv', 'networks\\\\2017-1-12.csv', 'networks\\\\2017-1-13.csv', 'networks\\\\2017-1-14.csv', 'networks\\\\2017-1-15.csv', 'networks\\\\2017-1-16.csv', 'networks\\\\2017-1-17.csv', 'networks\\\\2017-1-18.csv', 'networks\\\\2017-1-19.csv', 'networks\\\\2017-1-2.csv', 'networks\\\\2017-1-20.csv', 'networks\\\\2017-1-21.csv', 'networks\\\\2017-1-22.csv', 'networks\\\\2017-1-23.csv', 'networks\\\\2017-1-24.csv', 'networks\\\\2017-1-25.csv', 'networks\\\\2017-1-26.csv', 'networks\\\\2017-1-27.csv', 'networks\\\\2017-1-28.csv', 'networks\\\\2017-1-29.csv', 'networks\\\\2017-1-3.csv', 'networks\\\\2017-1-30.csv', 'networks\\\\2017-1-31.csv', 'networks\\\\2017-1-4.csv', 'networks\\\\2017-1-5.csv', 'networks\\\\2017-1-6.csv', 'networks\\\\2017-1-7.csv', 'networks\\\\2017-1-8.csv', 'networks\\\\2017-1-9.csv', 'networks\\\\2017-2-1.csv', 'networks\\\\2017-2-10.csv', 'networks\\\\2017-2-11.csv', 'networks\\\\2017-2-12.csv', 'networks\\\\2017-2-13.csv', 'networks\\\\2017-2-14.csv', 'networks\\\\2017-2-15.csv', 'networks\\\\2017-2-16.csv', 'networks\\\\2017-2-17.csv', 'networks\\\\2017-2-18.csv', 'networks\\\\2017-2-19.csv', 'networks\\\\2017-2-2.csv', 'networks\\\\2017-2-20.csv', 'networks\\\\2017-2-21.csv', 'networks\\\\2017-2-22.csv', 'networks\\\\2017-2-23.csv', 'networks\\\\2017-2-24.csv', 'networks\\\\2017-2-25.csv', 'networks\\\\2017-2-26.csv', 'networks\\\\2017-2-27.csv', 'networks\\\\2017-2-28.csv', 'networks\\\\2017-2-3.csv', 'networks\\\\2017-2-4.csv', 'networks\\\\2017-2-5.csv', 'networks\\\\2017-2-6.csv', 'networks\\\\2017-2-7.csv', 'networks\\\\2017-2-8.csv', 'networks\\\\2017-2-9.csv', 'networks\\\\2017-3-1.csv', 'networks\\\\2017-3-10.csv', 'networks\\\\2017-3-11.csv', 'networks\\\\2017-3-12.csv', 'networks\\\\2017-3-13.csv', 'networks\\\\2017-3-14.csv', 'networks\\\\2017-3-15.csv', 'networks\\\\2017-3-16.csv', 'networks\\\\2017-3-17.csv', 'networks\\\\2017-3-18.csv', 'networks\\\\2017-3-19.csv', 'networks\\\\2017-3-2.csv', 'networks\\\\2017-3-20.csv', 'networks\\\\2017-3-21.csv', 'networks\\\\2017-3-22.csv', 'networks\\\\2017-3-23.csv', 'networks\\\\2017-3-24.csv', 'networks\\\\2017-3-25.csv', 'networks\\\\2017-3-26.csv', 'networks\\\\2017-3-27.csv', 'networks\\\\2017-3-28.csv', 'networks\\\\2017-3-29.csv', 'networks\\\\2017-3-3.csv', 'networks\\\\2017-3-30.csv', 'networks\\\\2017-3-31.csv', 'networks\\\\2017-3-4.csv', 'networks\\\\2017-3-5.csv', 'networks\\\\2017-3-6.csv', 'networks\\\\2017-3-7.csv', 'networks\\\\2017-3-8.csv', 'networks\\\\2017-3-9.csv', 'networks\\\\2017-4-1.csv', 'networks\\\\2017-4-10.csv', 'networks\\\\2017-4-11.csv', 'networks\\\\2017-4-12.csv', 'networks\\\\2017-4-13.csv', 'networks\\\\2017-4-14.csv', 'networks\\\\2017-4-15.csv', 'networks\\\\2017-4-16.csv', 'networks\\\\2017-4-17.csv', 'networks\\\\2017-4-18.csv', 'networks\\\\2017-4-19.csv', 'networks\\\\2017-4-2.csv', 'networks\\\\2017-4-20.csv', 'networks\\\\2017-4-21.csv', 'networks\\\\2017-4-22.csv', 'networks\\\\2017-4-23.csv', 'networks\\\\2017-4-24.csv', 'networks\\\\2017-4-25.csv', 'networks\\\\2017-4-26.csv', 'networks\\\\2017-4-27.csv', 'networks\\\\2017-4-28.csv', 'networks\\\\2017-4-29.csv', 'networks\\\\2017-4-3.csv', 'networks\\\\2017-4-30.csv', 'networks\\\\2017-4-4.csv', 'networks\\\\2017-4-5.csv', 'networks\\\\2017-4-6.csv', 'networks\\\\2017-4-7.csv', 'networks\\\\2017-4-8.csv', 'networks\\\\2017-4-9.csv', 'networks\\\\2017-5-1.csv', 'networks\\\\2017-5-10.csv', 'networks\\\\2017-5-11.csv', 'networks\\\\2017-5-12.csv', 'networks\\\\2017-5-13.csv', 'networks\\\\2017-5-14.csv', 'networks\\\\2017-5-15.csv', 'networks\\\\2017-5-16.csv', 'networks\\\\2017-5-17.csv', 'networks\\\\2017-5-18.csv', 'networks\\\\2017-5-19.csv', 'networks\\\\2017-5-2.csv', 'networks\\\\2017-5-20.csv', 'networks\\\\2017-5-21.csv', 'networks\\\\2017-5-22.csv', 'networks\\\\2017-5-23.csv', 'networks\\\\2017-5-24.csv', 'networks\\\\2017-5-25.csv', 'networks\\\\2017-5-26.csv', 'networks\\\\2017-5-27.csv', 'networks\\\\2017-5-28.csv', 'networks\\\\2017-5-29.csv', 'networks\\\\2017-5-3.csv', 'networks\\\\2017-5-30.csv', 'networks\\\\2017-5-31.csv', 'networks\\\\2017-5-4.csv', 'networks\\\\2017-5-5.csv', 'networks\\\\2017-5-6.csv', 'networks\\\\2017-5-7.csv', 'networks\\\\2017-5-8.csv', 'networks\\\\2017-5-9.csv', 'networks\\\\2017-6-1.csv', 'networks\\\\2017-6-10.csv', 'networks\\\\2017-6-11.csv', 'networks\\\\2017-6-12.csv', 'networks\\\\2017-6-13.csv', 'networks\\\\2017-6-14.csv', 'networks\\\\2017-6-15.csv', 'networks\\\\2017-6-16.csv', 'networks\\\\2017-6-17.csv', 'networks\\\\2017-6-18.csv', 'networks\\\\2017-6-19.csv', 'networks\\\\2017-6-2.csv', 'networks\\\\2017-6-20.csv', 'networks\\\\2017-6-21.csv', 'networks\\\\2017-6-22.csv', 'networks\\\\2017-6-23.csv', 'networks\\\\2017-6-24.csv', 'networks\\\\2017-6-25.csv', 'networks\\\\2017-6-26.csv', 'networks\\\\2017-6-27.csv', 'networks\\\\2017-6-28.csv', 'networks\\\\2017-6-29.csv', 'networks\\\\2017-6-3.csv', 'networks\\\\2017-6-30.csv', 'networks\\\\2017-6-4.csv', 'networks\\\\2017-6-5.csv', 'networks\\\\2017-6-6.csv', 'networks\\\\2017-6-7.csv', 'networks\\\\2017-6-8.csv', 'networks\\\\2017-6-9.csv']\n"
     ]
    }
   ],
   "source": [
    "# extraction of all the csv files in the folder into dataframes\n",
    "ext_path = './timeseries/external.csv'\n",
    "external_df = pd.read_csv(ext_path, sep=',', header=0, index_col=1, parse_dates=True)\n",
    "external_df.drop(['Unnamed: 0'], axis=1, inplace=True)\n",
    "\n",
    "glob_path = './timeseries/global.csv'\n",
    "transactions_df = pd.read_csv(glob_path, sep=',', header=0, index_col=0, parse_dates=True)\n",
    "# drop the original \"year\", \"month\", and \"day\" columns\n",
    "transactions_df.drop(columns=['year', 'month', 'day'], inplace=True)\n",
    "\n",
    "actor_df = pd.read_csv('timeseries/blockchain_by_actor.csv', index_col=0)\n",
    "# Remove lines where year = 0\n",
    "actor_df = actor_df[actor_df['year'] != 0]\n",
    "# combine \"year\", \"month\", and \"day\" columns into a single datetime column\n",
    "actor_df['date'] = pd.to_datetime(actor_df[['year', 'month', 'day']])\n",
    "# drop the original \"year\", \"month\", and \"day\" columns\n",
    "actor_df.drop(columns=['year', 'month', 'day'], inplace=True)\n",
    "# Change the nb_received and nb_transactions and nb_spent and sum_fee columns to integers\n",
    "actor_df = actor_df.astype({'nb_received': 'int64', 'nb_transactions': 'int64', 'nb_spent': 'int64', 'sum_fee': 'int64'})\n",
    "# set the index to the identity of the actor\n",
    "#actor_profits_df.set_index('identity', inplace=True)\n",
    "#actor_profits_df = actor_profits_df.groupby([actor_profits_df.index, 'date']).sum()\n",
    "\n",
    "\n",
    "\n",
    "fileNames = glob.glob('networks/*')\n",
    "print(fileNames)\n",
    "file_dict = {\n",
    "    datetime.strptime(path.basename(file).split('.')[0], '%Y-%m-%d'): pd.read_csv(file)\n",
    "    for file in fileNames\n",
    "}\n",
    "\n",
    "network_df = pd.concat(file_dict).sort_index()\n"
   ]
  },
  {
   "cell_type": "code",
   "execution_count": 148,
   "metadata": {},
   "outputs": [
    {
     "data": {
      "text/html": [
       "<div>\n",
       "<style scoped>\n",
       "    .dataframe tbody tr th:only-of-type {\n",
       "        vertical-align: middle;\n",
       "    }\n",
       "\n",
       "    .dataframe tbody tr th {\n",
       "        vertical-align: top;\n",
       "    }\n",
       "\n",
       "    .dataframe thead th {\n",
       "        text-align: right;\n",
       "    }\n",
       "</style>\n",
       "<table border=\"1\" class=\"dataframe\">\n",
       "  <thead>\n",
       "    <tr style=\"text-align: right;\">\n",
       "      <th></th>\n",
       "      <th>PriceUSD</th>\n",
       "      <th>HashRate</th>\n",
       "    </tr>\n",
       "    <tr>\n",
       "      <th>date</th>\n",
       "      <th></th>\n",
       "      <th></th>\n",
       "    </tr>\n",
       "  </thead>\n",
       "  <tbody>\n",
       "    <tr>\n",
       "      <th>2015-01-02</th>\n",
       "      <td>315.942732</td>\n",
       "      <td>333345.017260</td>\n",
       "    </tr>\n",
       "    <tr>\n",
       "      <th>2015-01-03</th>\n",
       "      <td>285.647310</td>\n",
       "      <td>327284.198765</td>\n",
       "    </tr>\n",
       "    <tr>\n",
       "      <th>2015-01-04</th>\n",
       "      <td>263.334575</td>\n",
       "      <td>347486.927083</td>\n",
       "    </tr>\n",
       "    <tr>\n",
       "      <th>2015-01-05</th>\n",
       "      <td>275.003852</td>\n",
       "      <td>315162.561773</td>\n",
       "    </tr>\n",
       "    <tr>\n",
       "      <th>2015-01-06</th>\n",
       "      <td>287.549521</td>\n",
       "      <td>319203.107437</td>\n",
       "    </tr>\n",
       "  </tbody>\n",
       "</table>\n",
       "</div>"
      ],
      "text/plain": [
       "              PriceUSD       HashRate\n",
       "date                                 \n",
       "2015-01-02  315.942732  333345.017260\n",
       "2015-01-03  285.647310  327284.198765\n",
       "2015-01-04  263.334575  347486.927083\n",
       "2015-01-05  275.003852  315162.561773\n",
       "2015-01-06  287.549521  319203.107437"
      ]
     },
     "execution_count": 148,
     "metadata": {},
     "output_type": "execute_result"
    }
   ],
   "source": [
    "external_df.head()"
   ]
  },
  {
   "cell_type": "code",
   "execution_count": 149,
   "metadata": {},
   "outputs": [
    {
     "data": {
      "text/html": [
       "<div>\n",
       "<style scoped>\n",
       "    .dataframe tbody tr th:only-of-type {\n",
       "        vertical-align: middle;\n",
       "    }\n",
       "\n",
       "    .dataframe tbody tr th {\n",
       "        vertical-align: top;\n",
       "    }\n",
       "\n",
       "    .dataframe thead th {\n",
       "        text-align: right;\n",
       "    }\n",
       "</style>\n",
       "<table border=\"1\" class=\"dataframe\">\n",
       "  <thead>\n",
       "    <tr style=\"text-align: right;\">\n",
       "      <th></th>\n",
       "      <th>total_fee</th>\n",
       "      <th>total_received_satoshi</th>\n",
       "      <th>total_sent_satoshi</th>\n",
       "      <th>mean_fee_satoshi</th>\n",
       "      <th>mean_feeUSD</th>\n",
       "      <th>mean_fee_for100</th>\n",
       "      <th>nb_transactions</th>\n",
       "      <th>nb_payments</th>\n",
       "      <th>mean_nb_inputs</th>\n",
       "      <th>mean_nb_outputs</th>\n",
       "      <th>nb_mining</th>\n",
       "      <th>total_mining_satoshi</th>\n",
       "      <th>newly_created_coins</th>\n",
       "      <th>self_spent_satoshi</th>\n",
       "      <th>total_received</th>\n",
       "      <th>volume_without_self</th>\n",
       "    </tr>\n",
       "  </thead>\n",
       "  <tbody>\n",
       "    <tr>\n",
       "      <th>2015-01-01</th>\n",
       "      <td>801373971</td>\n",
       "      <td>45473028339385</td>\n",
       "      <td>45058028339385</td>\n",
       "      <td>13609.829337</td>\n",
       "      <td>4.284054e+06</td>\n",
       "      <td>0.799999</td>\n",
       "      <td>58882</td>\n",
       "      <td>161194</td>\n",
       "      <td>2.595241</td>\n",
       "      <td>2.737577</td>\n",
       "      <td>166</td>\n",
       "      <td>415801373971</td>\n",
       "      <td>415000000000</td>\n",
       "      <td>2757774885900</td>\n",
       "      <td>45473028339385</td>\n",
       "      <td>42715253453485</td>\n",
       "    </tr>\n",
       "    <tr>\n",
       "      <th>2015-01-02</th>\n",
       "      <td>1159934218</td>\n",
       "      <td>73370568521080</td>\n",
       "      <td>72955568521080</td>\n",
       "      <td>14978.682808</td>\n",
       "      <td>4.732406e+06</td>\n",
       "      <td>0.778933</td>\n",
       "      <td>77439</td>\n",
       "      <td>257633</td>\n",
       "      <td>2.715557</td>\n",
       "      <td>3.326915</td>\n",
       "      <td>166</td>\n",
       "      <td>416159934218</td>\n",
       "      <td>415000000000</td>\n",
       "      <td>4316724676318</td>\n",
       "      <td>73370568521080</td>\n",
       "      <td>69053843844762</td>\n",
       "    </tr>\n",
       "    <tr>\n",
       "      <th>2015-01-03</th>\n",
       "      <td>1196476043</td>\n",
       "      <td>82635189454578</td>\n",
       "      <td>82220189454578</td>\n",
       "      <td>14304.385766</td>\n",
       "      <td>4.086009e+06</td>\n",
       "      <td>0.797419</td>\n",
       "      <td>83644</td>\n",
       "      <td>295618</td>\n",
       "      <td>2.781885</td>\n",
       "      <td>3.534240</td>\n",
       "      <td>166</td>\n",
       "      <td>416196476043</td>\n",
       "      <td>415000000000</td>\n",
       "      <td>5584584356557</td>\n",
       "      <td>82635189454578</td>\n",
       "      <td>77050605098021</td>\n",
       "    </tr>\n",
       "    <tr>\n",
       "      <th>2015-01-04</th>\n",
       "      <td>2159195328</td>\n",
       "      <td>115159442449532</td>\n",
       "      <td>114726942449532</td>\n",
       "      <td>25138.199015</td>\n",
       "      <td>6.619757e+06</td>\n",
       "      <td>0.899054</td>\n",
       "      <td>85893</td>\n",
       "      <td>280288</td>\n",
       "      <td>2.770133</td>\n",
       "      <td>3.263223</td>\n",
       "      <td>173</td>\n",
       "      <td>434659195328</td>\n",
       "      <td>432500000000</td>\n",
       "      <td>6554587956125</td>\n",
       "      <td>115159442449532</td>\n",
       "      <td>108604854493407</td>\n",
       "    </tr>\n",
       "    <tr>\n",
       "      <th>2015-01-05</th>\n",
       "      <td>1608443040</td>\n",
       "      <td>112439228285641</td>\n",
       "      <td>112051728285641</td>\n",
       "      <td>16955.609622</td>\n",
       "      <td>4.662858e+06</td>\n",
       "      <td>0.898594</td>\n",
       "      <td>94862</td>\n",
       "      <td>286552</td>\n",
       "      <td>2.954471</td>\n",
       "      <td>3.020725</td>\n",
       "      <td>155</td>\n",
       "      <td>389108443040</td>\n",
       "      <td>387500000000</td>\n",
       "      <td>5063695492444</td>\n",
       "      <td>112439228285641</td>\n",
       "      <td>107375532793197</td>\n",
       "    </tr>\n",
       "  </tbody>\n",
       "</table>\n",
       "</div>"
      ],
      "text/plain": [
       "             total_fee  total_received_satoshi  total_sent_satoshi  \\\n",
       "2015-01-01   801373971          45473028339385      45058028339385   \n",
       "2015-01-02  1159934218          73370568521080      72955568521080   \n",
       "2015-01-03  1196476043          82635189454578      82220189454578   \n",
       "2015-01-04  2159195328         115159442449532     114726942449532   \n",
       "2015-01-05  1608443040         112439228285641     112051728285641   \n",
       "\n",
       "            mean_fee_satoshi   mean_feeUSD  mean_fee_for100  nb_transactions  \\\n",
       "2015-01-01      13609.829337  4.284054e+06         0.799999            58882   \n",
       "2015-01-02      14978.682808  4.732406e+06         0.778933            77439   \n",
       "2015-01-03      14304.385766  4.086009e+06         0.797419            83644   \n",
       "2015-01-04      25138.199015  6.619757e+06         0.899054            85893   \n",
       "2015-01-05      16955.609622  4.662858e+06         0.898594            94862   \n",
       "\n",
       "            nb_payments  mean_nb_inputs  mean_nb_outputs  nb_mining  \\\n",
       "2015-01-01       161194        2.595241         2.737577        166   \n",
       "2015-01-02       257633        2.715557         3.326915        166   \n",
       "2015-01-03       295618        2.781885         3.534240        166   \n",
       "2015-01-04       280288        2.770133         3.263223        173   \n",
       "2015-01-05       286552        2.954471         3.020725        155   \n",
       "\n",
       "            total_mining_satoshi  newly_created_coins  self_spent_satoshi  \\\n",
       "2015-01-01          415801373971         415000000000       2757774885900   \n",
       "2015-01-02          416159934218         415000000000       4316724676318   \n",
       "2015-01-03          416196476043         415000000000       5584584356557   \n",
       "2015-01-04          434659195328         432500000000       6554587956125   \n",
       "2015-01-05          389108443040         387500000000       5063695492444   \n",
       "\n",
       "             total_received  volume_without_self  \n",
       "2015-01-01   45473028339385       42715253453485  \n",
       "2015-01-02   73370568521080       69053843844762  \n",
       "2015-01-03   82635189454578       77050605098021  \n",
       "2015-01-04  115159442449532      108604854493407  \n",
       "2015-01-05  112439228285641      107375532793197  "
      ]
     },
     "execution_count": 149,
     "metadata": {},
     "output_type": "execute_result"
    }
   ],
   "source": [
    "transactions_df.head()"
   ]
  },
  {
   "cell_type": "code",
   "execution_count": 150,
   "metadata": {},
   "outputs": [
    {
     "data": {
      "text/html": [
       "<div>\n",
       "<style scoped>\n",
       "    .dataframe tbody tr th:only-of-type {\n",
       "        vertical-align: middle;\n",
       "    }\n",
       "\n",
       "    .dataframe tbody tr th {\n",
       "        vertical-align: top;\n",
       "    }\n",
       "\n",
       "    .dataframe thead th {\n",
       "        text-align: right;\n",
       "    }\n",
       "</style>\n",
       "<table border=\"1\" class=\"dataframe\">\n",
       "  <thead>\n",
       "    <tr style=\"text-align: right;\">\n",
       "      <th></th>\n",
       "      <th>identity</th>\n",
       "      <th>received</th>\n",
       "      <th>nb_received</th>\n",
       "      <th>date</th>\n",
       "      <th>sum_fee</th>\n",
       "      <th>mean_fee_for100</th>\n",
       "      <th>nb_transactions</th>\n",
       "      <th>sent</th>\n",
       "      <th>self_spent</th>\n",
       "      <th>self_spent_estimated</th>\n",
       "      <th>nb_spent</th>\n",
       "      <th>spent</th>\n",
       "    </tr>\n",
       "  </thead>\n",
       "  <tbody>\n",
       "    <tr>\n",
       "      <th>0</th>\n",
       "      <td>HappyCoins.com</td>\n",
       "      <td>1.377590e+09</td>\n",
       "      <td>4</td>\n",
       "      <td>2015-01-01</td>\n",
       "      <td>49596</td>\n",
       "      <td>0.004957</td>\n",
       "      <td>4</td>\n",
       "      <td>1.277500e+09</td>\n",
       "      <td>0.0</td>\n",
       "      <td>0.0</td>\n",
       "      <td>8</td>\n",
       "      <td>1.277500e+09</td>\n",
       "    </tr>\n",
       "    <tr>\n",
       "      <th>1</th>\n",
       "      <td>821</td>\n",
       "      <td>2.476057e+09</td>\n",
       "      <td>5</td>\n",
       "      <td>2015-01-01</td>\n",
       "      <td>10000</td>\n",
       "      <td>0.000851</td>\n",
       "      <td>1</td>\n",
       "      <td>1.174552e+09</td>\n",
       "      <td>0.0</td>\n",
       "      <td>0.0</td>\n",
       "      <td>2</td>\n",
       "      <td>1.174552e+09</td>\n",
       "    </tr>\n",
       "    <tr>\n",
       "      <th>2</th>\n",
       "      <td>FortuneJack.com</td>\n",
       "      <td>1.201470e+08</td>\n",
       "      <td>29</td>\n",
       "      <td>2015-01-01</td>\n",
       "      <td>83000</td>\n",
       "      <td>0.194670</td>\n",
       "      <td>11</td>\n",
       "      <td>1.541127e+08</td>\n",
       "      <td>14158970.0</td>\n",
       "      <td>14158970.0</td>\n",
       "      <td>22</td>\n",
       "      <td>1.399538e+08</td>\n",
       "    </tr>\n",
       "    <tr>\n",
       "      <th>3</th>\n",
       "      <td>396</td>\n",
       "      <td>1.906135e+10</td>\n",
       "      <td>70</td>\n",
       "      <td>2015-01-01</td>\n",
       "      <td>540000</td>\n",
       "      <td>0.023738</td>\n",
       "      <td>54</td>\n",
       "      <td>1.842989e+10</td>\n",
       "      <td>0.0</td>\n",
       "      <td>0.0</td>\n",
       "      <td>108</td>\n",
       "      <td>1.842989e+10</td>\n",
       "    </tr>\n",
       "    <tr>\n",
       "      <th>4</th>\n",
       "      <td>SatoshiMines.com</td>\n",
       "      <td>7.401319e+08</td>\n",
       "      <td>193</td>\n",
       "      <td>2015-01-01</td>\n",
       "      <td>740000</td>\n",
       "      <td>0.447934</td>\n",
       "      <td>45</td>\n",
       "      <td>1.813624e+09</td>\n",
       "      <td>35044568.0</td>\n",
       "      <td>35044568.0</td>\n",
       "      <td>84</td>\n",
       "      <td>1.778579e+09</td>\n",
       "    </tr>\n",
       "  </tbody>\n",
       "</table>\n",
       "</div>"
      ],
      "text/plain": [
       "           identity      received  nb_received       date  sum_fee  \\\n",
       "0    HappyCoins.com  1.377590e+09            4 2015-01-01    49596   \n",
       "1               821  2.476057e+09            5 2015-01-01    10000   \n",
       "2   FortuneJack.com  1.201470e+08           29 2015-01-01    83000   \n",
       "3               396  1.906135e+10           70 2015-01-01   540000   \n",
       "4  SatoshiMines.com  7.401319e+08          193 2015-01-01   740000   \n",
       "\n",
       "   mean_fee_for100  nb_transactions          sent  self_spent  \\\n",
       "0         0.004957                4  1.277500e+09         0.0   \n",
       "1         0.000851                1  1.174552e+09         0.0   \n",
       "2         0.194670               11  1.541127e+08  14158970.0   \n",
       "3         0.023738               54  1.842989e+10         0.0   \n",
       "4         0.447934               45  1.813624e+09  35044568.0   \n",
       "\n",
       "   self_spent_estimated  nb_spent         spent  \n",
       "0                   0.0         8  1.277500e+09  \n",
       "1                   0.0         2  1.174552e+09  \n",
       "2            14158970.0        22  1.399538e+08  \n",
       "3                   0.0       108  1.842989e+10  \n",
       "4            35044568.0        84  1.778579e+09  "
      ]
     },
     "execution_count": 150,
     "metadata": {},
     "output_type": "execute_result"
    }
   ],
   "source": [
    "actor_df.head()"
   ]
  },
  {
   "cell_type": "code",
   "execution_count": 151,
   "metadata": {},
   "outputs": [
    {
     "data": {
      "text/html": [
       "<div>\n",
       "<style scoped>\n",
       "    .dataframe tbody tr th:only-of-type {\n",
       "        vertical-align: middle;\n",
       "    }\n",
       "\n",
       "    .dataframe tbody tr th {\n",
       "        vertical-align: top;\n",
       "    }\n",
       "\n",
       "    .dataframe thead th {\n",
       "        text-align: right;\n",
       "    }\n",
       "</style>\n",
       "<table border=\"1\" class=\"dataframe\">\n",
       "  <thead>\n",
       "    <tr style=\"text-align: right;\">\n",
       "      <th></th>\n",
       "      <th></th>\n",
       "      <th>Source</th>\n",
       "      <th>Target</th>\n",
       "      <th>value</th>\n",
       "      <th>nb_transactions</th>\n",
       "    </tr>\n",
       "  </thead>\n",
       "  <tbody>\n",
       "    <tr>\n",
       "      <th rowspan=\"5\" valign=\"top\">2015-01-01</th>\n",
       "      <th>0</th>\n",
       "      <td>ePay.info_CoinJoinMess</td>\n",
       "      <td>CloudBet.com</td>\n",
       "      <td>3519173</td>\n",
       "      <td>1</td>\n",
       "    </tr>\n",
       "    <tr>\n",
       "      <th>1</th>\n",
       "      <td>Cex.io</td>\n",
       "      <td>1956</td>\n",
       "      <td>8491196</td>\n",
       "      <td>3</td>\n",
       "    </tr>\n",
       "    <tr>\n",
       "      <th>2</th>\n",
       "      <td>157228</td>\n",
       "      <td>C-Cex.com</td>\n",
       "      <td>10833480021</td>\n",
       "      <td>1</td>\n",
       "    </tr>\n",
       "    <tr>\n",
       "      <th>3</th>\n",
       "      <td>0</td>\n",
       "      <td>421</td>\n",
       "      <td>27123449</td>\n",
       "      <td>8</td>\n",
       "    </tr>\n",
       "    <tr>\n",
       "      <th>4</th>\n",
       "      <td>BTCGuild.com</td>\n",
       "      <td>787953</td>\n",
       "      <td>2507884460</td>\n",
       "      <td>1</td>\n",
       "    </tr>\n",
       "  </tbody>\n",
       "</table>\n",
       "</div>"
      ],
      "text/plain": [
       "                              Source        Target        value  \\\n",
       "2015-01-01 0  ePay.info_CoinJoinMess  CloudBet.com      3519173   \n",
       "           1                  Cex.io          1956      8491196   \n",
       "           2                  157228     C-Cex.com  10833480021   \n",
       "           3                       0           421     27123449   \n",
       "           4            BTCGuild.com        787953   2507884460   \n",
       "\n",
       "              nb_transactions  \n",
       "2015-01-01 0                1  \n",
       "           1                3  \n",
       "           2                1  \n",
       "           3                8  \n",
       "           4                1  "
      ]
     },
     "execution_count": 151,
     "metadata": {},
     "output_type": "execute_result"
    }
   ],
   "source": [
    "network_df.head()"
   ]
  },
  {
   "cell_type": "code",
   "execution_count": 152,
   "metadata": {},
   "outputs": [
    {
     "data": {
      "text/html": [
       "<div>\n",
       "<style scoped>\n",
       "    .dataframe tbody tr th:only-of-type {\n",
       "        vertical-align: middle;\n",
       "    }\n",
       "\n",
       "    .dataframe tbody tr th {\n",
       "        vertical-align: top;\n",
       "    }\n",
       "\n",
       "    .dataframe thead th {\n",
       "        text-align: right;\n",
       "    }\n",
       "</style>\n",
       "<table border=\"1\" class=\"dataframe\">\n",
       "  <thead>\n",
       "    <tr style=\"text-align: right;\">\n",
       "      <th></th>\n",
       "      <th></th>\n",
       "      <th>received</th>\n",
       "      <th>nb_received</th>\n",
       "      <th>sum_fee</th>\n",
       "      <th>mean_fee_for100</th>\n",
       "      <th>nb_transactions</th>\n",
       "      <th>sent</th>\n",
       "      <th>self_spent</th>\n",
       "      <th>self_spent_estimated</th>\n",
       "      <th>nb_spent</th>\n",
       "      <th>spent</th>\n",
       "      <th>balance</th>\n",
       "    </tr>\n",
       "    <tr>\n",
       "      <th>identity</th>\n",
       "      <th>date</th>\n",
       "      <th></th>\n",
       "      <th></th>\n",
       "      <th></th>\n",
       "      <th></th>\n",
       "      <th></th>\n",
       "      <th></th>\n",
       "      <th></th>\n",
       "      <th></th>\n",
       "      <th></th>\n",
       "      <th></th>\n",
       "      <th></th>\n",
       "    </tr>\n",
       "  </thead>\n",
       "  <tbody>\n",
       "    <tr>\n",
       "      <th rowspan=\"5\" valign=\"top\">0</th>\n",
       "      <th>2015-01-01</th>\n",
       "      <td>3.021860e+10</td>\n",
       "      <td>4265</td>\n",
       "      <td>12350755</td>\n",
       "      <td>1.926137</td>\n",
       "      <td>783</td>\n",
       "      <td>3.001272e+10</td>\n",
       "      <td>0.0</td>\n",
       "      <td>0.000000e+00</td>\n",
       "      <td>1696</td>\n",
       "      <td>3.001272e+10</td>\n",
       "      <td>1.935257e+08</td>\n",
       "    </tr>\n",
       "    <tr>\n",
       "      <th>2015-01-02</th>\n",
       "      <td>3.401216e+10</td>\n",
       "      <td>8395</td>\n",
       "      <td>15588104</td>\n",
       "      <td>1.882565</td>\n",
       "      <td>962</td>\n",
       "      <td>3.400937e+10</td>\n",
       "      <td>0.0</td>\n",
       "      <td>0.000000e+00</td>\n",
       "      <td>2068</td>\n",
       "      <td>3.400937e+10</td>\n",
       "      <td>-1.280615e+07</td>\n",
       "    </tr>\n",
       "    <tr>\n",
       "      <th>2015-01-03</th>\n",
       "      <td>2.546280e+11</td>\n",
       "      <td>10004</td>\n",
       "      <td>14742886</td>\n",
       "      <td>1.984796</td>\n",
       "      <td>943</td>\n",
       "      <td>2.517348e+11</td>\n",
       "      <td>0.0</td>\n",
       "      <td>2.011365e+11</td>\n",
       "      <td>2039</td>\n",
       "      <td>5.059830e+10</td>\n",
       "      <td>2.040150e+11</td>\n",
       "    </tr>\n",
       "    <tr>\n",
       "      <th>2015-01-04</th>\n",
       "      <td>2.431648e+11</td>\n",
       "      <td>9007</td>\n",
       "      <td>18683447</td>\n",
       "      <td>2.075441</td>\n",
       "      <td>1059</td>\n",
       "      <td>2.429788e+11</td>\n",
       "      <td>0.0</td>\n",
       "      <td>2.004149e+11</td>\n",
       "      <td>2293</td>\n",
       "      <td>4.256388e+10</td>\n",
       "      <td>2.005823e+11</td>\n",
       "    </tr>\n",
       "    <tr>\n",
       "      <th>2015-01-05</th>\n",
       "      <td>4.882942e+10</td>\n",
       "      <td>6553</td>\n",
       "      <td>15866463</td>\n",
       "      <td>1.883876</td>\n",
       "      <td>995</td>\n",
       "      <td>4.926332e+10</td>\n",
       "      <td>0.0</td>\n",
       "      <td>0.000000e+00</td>\n",
       "      <td>2098</td>\n",
       "      <td>4.926332e+10</td>\n",
       "      <td>-4.497694e+08</td>\n",
       "    </tr>\n",
       "  </tbody>\n",
       "</table>\n",
       "</div>"
      ],
      "text/plain": [
       "                         received  nb_received   sum_fee  mean_fee_for100  \\\n",
       "identity date                                                               \n",
       "0        2015-01-01  3.021860e+10         4265  12350755         1.926137   \n",
       "         2015-01-02  3.401216e+10         8395  15588104         1.882565   \n",
       "         2015-01-03  2.546280e+11        10004  14742886         1.984796   \n",
       "         2015-01-04  2.431648e+11         9007  18683447         2.075441   \n",
       "         2015-01-05  4.882942e+10         6553  15866463         1.883876   \n",
       "\n",
       "                     nb_transactions          sent  self_spent  \\\n",
       "identity date                                                    \n",
       "0        2015-01-01              783  3.001272e+10         0.0   \n",
       "         2015-01-02              962  3.400937e+10         0.0   \n",
       "         2015-01-03              943  2.517348e+11         0.0   \n",
       "         2015-01-04             1059  2.429788e+11         0.0   \n",
       "         2015-01-05              995  4.926332e+10         0.0   \n",
       "\n",
       "                     self_spent_estimated  nb_spent         spent  \\\n",
       "identity date                                                       \n",
       "0        2015-01-01          0.000000e+00      1696  3.001272e+10   \n",
       "         2015-01-02          0.000000e+00      2068  3.400937e+10   \n",
       "         2015-01-03          2.011365e+11      2039  5.059830e+10   \n",
       "         2015-01-04          2.004149e+11      2293  4.256388e+10   \n",
       "         2015-01-05          0.000000e+00      2098  4.926332e+10   \n",
       "\n",
       "                          balance  \n",
       "identity date                      \n",
       "0        2015-01-01  1.935257e+08  \n",
       "         2015-01-02 -1.280615e+07  \n",
       "         2015-01-03  2.040150e+11  \n",
       "         2015-01-04  2.005823e+11  \n",
       "         2015-01-05 -4.497694e+08  "
      ]
     },
     "execution_count": 152,
     "metadata": {},
     "output_type": "execute_result"
    }
   ],
   "source": [
    "actor_df.set_index('identity', inplace=True)\n",
    "actor_df = actor_df.groupby([actor_df.index, 'date']).sum()\n",
    "\n",
    "# add a new column to the actor_df dataframe that contains the balance of the actor calculated as : received - (spent - self_spent) - sum_fee\n",
    "actor_df['balance'] = actor_df['received'] - (actor_df['spent'] - actor_df['self_spent']) - actor_df['sum_fee']\n",
    "actor_df.head()"
   ]
  },
  {
   "cell_type": "code",
   "execution_count": 153,
   "metadata": {},
   "outputs": [
    {
     "data": {
      "image/png": "[encoded data removed]",
      "text/plain": [
       "<Figure size 2000x1000 with 1 Axes>"
      ]
     },
     "metadata": {},
     "output_type": "display_data"
    }
   ],
   "source": [
    "plt.figure(figsize=(20,10))\n",
    "look = ['balance']\n",
    "#plt.plot(actor_df.loc['Paymium.com'].index, actor_df.loc['Paymium.com'][look], label='Paymium.com')\n",
    "#plt.plot(actor_df.loc['HaoBTC.com'].index, actor_df.loc['HaoBTC.com'][look], label='HaoBTC.com')\n",
    "#plt.plot(actor_df.loc['OKCoin.com'].index, actor_df.loc['OKCoin.com'][look], label='OKCoin.com')\n",
    "plt.plot(actor_df.loc['BTCC.com'].index, actor_df.loc['BTCC.com'][look], label='BTCC.com')\n",
    "#plt.plot(actor_df.loc['Poloniex.com'].index, actor_df.loc['Poloniex.com'][look], label='Poloniex.com')\n",
    "plt.legend()\n",
    "plt.show()"
   ]
  },
  {
   "cell_type": "code",
   "execution_count": 154,
   "metadata": {},
   "outputs": [
    {
     "data": {
      "text/html": [
       "<div>\n",
       "<style scoped>\n",
       "    .dataframe tbody tr th:only-of-type {\n",
       "        vertical-align: middle;\n",
       "    }\n",
       "\n",
       "    .dataframe tbody tr th {\n",
       "        vertical-align: top;\n",
       "    }\n",
       "\n",
       "    .dataframe thead th {\n",
       "        text-align: right;\n",
       "    }\n",
       "</style>\n",
       "<table border=\"1\" class=\"dataframe\">\n",
       "  <thead>\n",
       "    <tr style=\"text-align: right;\">\n",
       "      <th></th>\n",
       "      <th>received</th>\n",
       "      <th>nb_received</th>\n",
       "      <th>sum_fee</th>\n",
       "      <th>mean_fee_for100</th>\n",
       "      <th>nb_transactions</th>\n",
       "      <th>sent</th>\n",
       "      <th>self_spent</th>\n",
       "      <th>self_spent_estimated</th>\n",
       "      <th>nb_spent</th>\n",
       "      <th>spent</th>\n",
       "      <th>balance</th>\n",
       "      <th>profit</th>\n",
       "    </tr>\n",
       "    <tr>\n",
       "      <th>date</th>\n",
       "      <th></th>\n",
       "      <th></th>\n",
       "      <th></th>\n",
       "      <th></th>\n",
       "      <th></th>\n",
       "      <th></th>\n",
       "      <th></th>\n",
       "      <th></th>\n",
       "      <th></th>\n",
       "      <th></th>\n",
       "      <th></th>\n",
       "      <th></th>\n",
       "    </tr>\n",
       "  </thead>\n",
       "  <tbody>\n",
       "    <tr>\n",
       "      <th>2015-01-01</th>\n",
       "      <td>5.482961e+11</td>\n",
       "      <td>12818</td>\n",
       "      <td>38239914</td>\n",
       "      <td>0.524910</td>\n",
       "      <td>1148</td>\n",
       "      <td>2.470622e+12</td>\n",
       "      <td>1.794224e+12</td>\n",
       "      <td>1.898125e+12</td>\n",
       "      <td>20749</td>\n",
       "      <td>5.724979e+11</td>\n",
       "      <td>1.769984e+12</td>\n",
       "      <td>1.769984e+12</td>\n",
       "    </tr>\n",
       "    <tr>\n",
       "      <th>2015-01-02</th>\n",
       "      <td>1.259197e+12</td>\n",
       "      <td>19625</td>\n",
       "      <td>62774624</td>\n",
       "      <td>0.433979</td>\n",
       "      <td>2145</td>\n",
       "      <td>4.627579e+12</td>\n",
       "      <td>3.294133e+12</td>\n",
       "      <td>3.310133e+12</td>\n",
       "      <td>41870</td>\n",
       "      <td>1.317446e+12</td>\n",
       "      <td>3.235821e+12</td>\n",
       "      <td>5.005805e+12</td>\n",
       "    </tr>\n",
       "    <tr>\n",
       "      <th>2015-01-03</th>\n",
       "      <td>1.505475e+12</td>\n",
       "      <td>17609</td>\n",
       "      <td>65207667</td>\n",
       "      <td>0.702425</td>\n",
       "      <td>1696</td>\n",
       "      <td>4.967562e+12</td>\n",
       "      <td>3.536510e+12</td>\n",
       "      <td>3.536510e+12</td>\n",
       "      <td>24355</td>\n",
       "      <td>1.431051e+12</td>\n",
       "      <td>3.610868e+12</td>\n",
       "      <td>8.616673e+12</td>\n",
       "    </tr>\n",
       "    <tr>\n",
       "      <th>2015-01-04</th>\n",
       "      <td>1.764592e+12</td>\n",
       "      <td>16536</td>\n",
       "      <td>61792309</td>\n",
       "      <td>0.583889</td>\n",
       "      <td>1487</td>\n",
       "      <td>4.893706e+12</td>\n",
       "      <td>3.061963e+12</td>\n",
       "      <td>3.061963e+12</td>\n",
       "      <td>23306</td>\n",
       "      <td>1.831743e+12</td>\n",
       "      <td>2.994749e+12</td>\n",
       "      <td>1.161142e+13</td>\n",
       "    </tr>\n",
       "    <tr>\n",
       "      <th>2015-01-05</th>\n",
       "      <td>1.374703e+12</td>\n",
       "      <td>29140</td>\n",
       "      <td>93421193</td>\n",
       "      <td>0.330920</td>\n",
       "      <td>2440</td>\n",
       "      <td>4.604852e+12</td>\n",
       "      <td>3.214107e+12</td>\n",
       "      <td>3.214107e+12</td>\n",
       "      <td>41958</td>\n",
       "      <td>1.390745e+12</td>\n",
       "      <td>3.197972e+12</td>\n",
       "      <td>1.480939e+13</td>\n",
       "    </tr>\n",
       "  </tbody>\n",
       "</table>\n",
       "</div>"
      ],
      "text/plain": [
       "                received  nb_received   sum_fee  mean_fee_for100  \\\n",
       "date                                                               \n",
       "2015-01-01  5.482961e+11        12818  38239914         0.524910   \n",
       "2015-01-02  1.259197e+12        19625  62774624         0.433979   \n",
       "2015-01-03  1.505475e+12        17609  65207667         0.702425   \n",
       "2015-01-04  1.764592e+12        16536  61792309         0.583889   \n",
       "2015-01-05  1.374703e+12        29140  93421193         0.330920   \n",
       "\n",
       "            nb_transactions          sent    self_spent  self_spent_estimated  \\\n",
       "date                                                                            \n",
       "2015-01-01             1148  2.470622e+12  1.794224e+12          1.898125e+12   \n",
       "2015-01-02             2145  4.627579e+12  3.294133e+12          3.310133e+12   \n",
       "2015-01-03             1696  4.967562e+12  3.536510e+12          3.536510e+12   \n",
       "2015-01-04             1487  4.893706e+12  3.061963e+12          3.061963e+12   \n",
       "2015-01-05             2440  4.604852e+12  3.214107e+12          3.214107e+12   \n",
       "\n",
       "            nb_spent         spent       balance        profit  \n",
       "date                                                            \n",
       "2015-01-01     20749  5.724979e+11  1.769984e+12  1.769984e+12  \n",
       "2015-01-02     41870  1.317446e+12  3.235821e+12  5.005805e+12  \n",
       "2015-01-03     24355  1.431051e+12  3.610868e+12  8.616673e+12  \n",
       "2015-01-04     23306  1.831743e+12  2.994749e+12  1.161142e+13  \n",
       "2015-01-05     41958  1.390745e+12  3.197972e+12  1.480939e+13  "
      ]
     },
     "execution_count": 154,
     "metadata": {},
     "output_type": "execute_result"
    }
   ],
   "source": [
    "# compute the profits wich is the cumsum of each actor balance\n",
    "actor_df['profit'] = actor_df.groupby(level=0)['balance'].cumsum()\n",
    "\n",
    "actor_df.loc['ePay.info_CoinJoinMess'].head()"
   ]
  },
  {
   "cell_type": "code",
   "execution_count": 155,
   "metadata": {},
   "outputs": [
    {
     "data": {
      "image/png": "[encoded data removed]",
      "text/plain": [
       "<Figure size 2000x1000 with 1 Axes>"
      ]
     },
     "metadata": {},
     "output_type": "display_data"
    }
   ],
   "source": [
    "plt.figure(figsize=(20,10))\n",
    "look = ['profit']\n",
    "plt.plot(actor_df.loc['Paymium.com'].index, actor_df.loc['Paymium.com'][look], label='Paymium.com')\n",
    "plt.plot(actor_df.loc['HaoBTC.com'].index, actor_df.loc['HaoBTC.com'][look], label='HaoBTC.com')\n",
    "plt.plot(actor_df.loc['OKCoin.com'].index, actor_df.loc['OKCoin.com'][look], label='OKCoin.com')\n",
    "plt.plot(actor_df.loc['BTCC.com'].index, actor_df.loc['BTCC.com'][look], label='BTCC.com')\n",
    "plt.plot(actor_df.loc['Poloniex.com'].index, actor_df.loc['Poloniex.com'][look], label='Poloniex.com')\n",
    "plt.legend()\n",
    "plt.show()"
   ]
  },
  {
   "cell_type": "code",
   "execution_count": 156,
   "metadata": {},
   "outputs": [
    {
     "data": {
      "text/html": [
       "<div>\n",
       "<style scoped>\n",
       "    .dataframe tbody tr th:only-of-type {\n",
       "        vertical-align: middle;\n",
       "    }\n",
       "\n",
       "    .dataframe tbody tr th {\n",
       "        vertical-align: top;\n",
       "    }\n",
       "\n",
       "    .dataframe thead th {\n",
       "        text-align: right;\n",
       "    }\n",
       "</style>\n",
       "<table border=\"1\" class=\"dataframe\">\n",
       "  <thead>\n",
       "    <tr style=\"text-align: right;\">\n",
       "      <th></th>\n",
       "      <th></th>\n",
       "      <th>profit</th>\n",
       "      <th>PriceUSD</th>\n",
       "    </tr>\n",
       "    <tr>\n",
       "      <th>identity</th>\n",
       "      <th>date</th>\n",
       "      <th></th>\n",
       "      <th></th>\n",
       "    </tr>\n",
       "  </thead>\n",
       "  <tbody>\n",
       "    <tr>\n",
       "      <th rowspan=\"5\" valign=\"top\">0</th>\n",
       "      <th>2015-01-02</th>\n",
       "      <td>1.807196e+08</td>\n",
       "      <td>315.942732</td>\n",
       "    </tr>\n",
       "    <tr>\n",
       "      <th>2015-01-03</th>\n",
       "      <td>2.041957e+11</td>\n",
       "      <td>285.647310</td>\n",
       "    </tr>\n",
       "    <tr>\n",
       "      <th>2015-01-04</th>\n",
       "      <td>4.047780e+11</td>\n",
       "      <td>263.334575</td>\n",
       "    </tr>\n",
       "    <tr>\n",
       "      <th>2015-01-05</th>\n",
       "      <td>4.043282e+11</td>\n",
       "      <td>275.003852</td>\n",
       "    </tr>\n",
       "    <tr>\n",
       "      <th>2015-01-06</th>\n",
       "      <td>7.076734e+11</td>\n",
       "      <td>287.549521</td>\n",
       "    </tr>\n",
       "  </tbody>\n",
       "</table>\n",
       "</div>"
      ],
      "text/plain": [
       "                           profit    PriceUSD\n",
       "identity date                                \n",
       "0        2015-01-02  1.807196e+08  315.942732\n",
       "         2015-01-03  2.041957e+11  285.647310\n",
       "         2015-01-04  4.047780e+11  263.334575\n",
       "         2015-01-05  4.043282e+11  275.003852\n",
       "         2015-01-06  7.076734e+11  287.549521"
      ]
     },
     "execution_count": 156,
     "metadata": {},
     "output_type": "execute_result"
    }
   ],
   "source": [
    "# using the profit column and the external_df dataframe, we can compute the profit of the exchanges in USD\n",
    "# we need to convert the profit in BTC to USD\n",
    "\n",
    "# first we need to create a small dataframes with only the date, the actor and the profit\n",
    "actor_profits_df = actor_df[['profit']]\n",
    "\n",
    "# we need to compute the profit in USD using the external_df dataframe\n",
    "# we need to merge the two dataframes on the date column\n",
    "actor_profits_df = actor_profits_df.merge(external_df[['PriceUSD']], left_index=True, right_index=True)\n",
    "actor_profits_df.head()\n"
   ]
  },
  {
   "cell_type": "code",
   "execution_count": 157,
   "metadata": {},
   "outputs": [
    {
     "data": {
      "text/html": [
       "<div>\n",
       "<style scoped>\n",
       "    .dataframe tbody tr th:only-of-type {\n",
       "        vertical-align: middle;\n",
       "    }\n",
       "\n",
       "    .dataframe tbody tr th {\n",
       "        vertical-align: top;\n",
       "    }\n",
       "\n",
       "    .dataframe thead th {\n",
       "        text-align: right;\n",
       "    }\n",
       "</style>\n",
       "<table border=\"1\" class=\"dataframe\">\n",
       "  <thead>\n",
       "    <tr style=\"text-align: right;\">\n",
       "      <th></th>\n",
       "      <th></th>\n",
       "      <th>profit</th>\n",
       "      <th>PriceUSD</th>\n",
       "      <th>profit_usd</th>\n",
       "    </tr>\n",
       "    <tr>\n",
       "      <th>identity</th>\n",
       "      <th>date</th>\n",
       "      <th></th>\n",
       "      <th></th>\n",
       "      <th></th>\n",
       "    </tr>\n",
       "  </thead>\n",
       "  <tbody>\n",
       "    <tr>\n",
       "      <th rowspan=\"5\" valign=\"top\">0</th>\n",
       "      <th>2015-01-02</th>\n",
       "      <td>1.807196e+08</td>\n",
       "      <td>315.942732</td>\n",
       "      <td>57.097035</td>\n",
       "    </tr>\n",
       "    <tr>\n",
       "      <th>2015-01-03</th>\n",
       "      <td>2.041957e+11</td>\n",
       "      <td>285.647310</td>\n",
       "      <td>58327.956877</td>\n",
       "    </tr>\n",
       "    <tr>\n",
       "      <th>2015-01-04</th>\n",
       "      <td>4.047780e+11</td>\n",
       "      <td>263.334575</td>\n",
       "      <td>106592.036495</td>\n",
       "    </tr>\n",
       "    <tr>\n",
       "      <th>2015-01-05</th>\n",
       "      <td>4.043282e+11</td>\n",
       "      <td>275.003852</td>\n",
       "      <td>111191.814421</td>\n",
       "    </tr>\n",
       "    <tr>\n",
       "      <th>2015-01-06</th>\n",
       "      <td>7.076734e+11</td>\n",
       "      <td>287.549521</td>\n",
       "      <td>203491.134947</td>\n",
       "    </tr>\n",
       "  </tbody>\n",
       "</table>\n",
       "</div>"
      ],
      "text/plain": [
       "                           profit    PriceUSD     profit_usd\n",
       "identity date                                               \n",
       "0        2015-01-02  1.807196e+08  315.942732      57.097035\n",
       "         2015-01-03  2.041957e+11  285.647310   58327.956877\n",
       "         2015-01-04  4.047780e+11  263.334575  106592.036495\n",
       "         2015-01-05  4.043282e+11  275.003852  111191.814421\n",
       "         2015-01-06  7.076734e+11  287.549521  203491.134947"
      ]
     },
     "execution_count": 157,
     "metadata": {},
     "output_type": "execute_result"
    }
   ],
   "source": [
    "# we can now compute the profit in USD\n",
    "actor_profits_df['profit_usd'] = actor_profits_df['profit'] / 1e9 * actor_profits_df['PriceUSD']\n",
    "actor_profits_df.head()"
   ]
  },
  {
   "cell_type": "code",
   "execution_count": 158,
   "metadata": {},
   "outputs": [
    {
     "data": {
      "text/plain": [
       "identity\n",
       "Poloniex.com              1.302617e+10\n",
       "ePay.info_CoinJoinMess    1.092341e+10\n",
       "Huobi.com                 6.730197e+09\n",
       "Xapo.com                  3.194484e+09\n",
       "Bitstamp.net              2.879905e+09\n",
       "Name: profit_usd, dtype: float64"
      ]
     },
     "execution_count": 158,
     "metadata": {},
     "output_type": "execute_result"
    }
   ],
   "source": [
    "# get these in a list\n",
    "top_actors = actor_profits_df.groupby(level=0)['profit_usd'].max().sort_values(ascending=False).head().index.tolist()\n",
    "\n",
    "# show the top 5 actor with the highest profit\n",
    "actor_profits_df.groupby(level=0)['profit_usd'].max().sort_values(ascending=False).head()\n",
    "\n",
    "\n"
   ]
  },
  {
   "cell_type": "code",
   "execution_count": 159,
   "metadata": {},
   "outputs": [
    {
     "data": {
      "image/png": "[encoded data removed]",
      "text/plain": [
       "<Figure size 2000x1000 with 1 Axes>"
      ]
     },
     "metadata": {},
     "output_type": "display_data"
    }
   ],
   "source": [
    "plt.figure(figsize=(20,10))\n",
    "look = ['profit_usd']\n",
    "for elt in top_actors:\n",
    "    plt.plot(actor_profits_df.loc[elt].index, actor_profits_df.loc[elt][look], label=elt)\n",
    "\n",
    "plt.legend()\n",
    "plt.show()\n"
   ]
  },
  {
   "attachments": {},
   "cell_type": "markdown",
   "metadata": {},
   "source": [
    "part des échanges par acteurs (par tranche de 25% ? quartiles)\n",
    "-> essayer de voir si les acteurs les plus gros échangent bien plus ?\n",
    "-> a quel point ?"
   ]
  },
  {
   "cell_type": "code",
   "execution_count": 160,
   "metadata": {},
   "outputs": [
    {
     "data": {
      "text/html": [
       "<div>\n",
       "<style scoped>\n",
       "    .dataframe tbody tr th:only-of-type {\n",
       "        vertical-align: middle;\n",
       "    }\n",
       "\n",
       "    .dataframe tbody tr th {\n",
       "        vertical-align: top;\n",
       "    }\n",
       "\n",
       "    .dataframe thead th {\n",
       "        text-align: right;\n",
       "    }\n",
       "</style>\n",
       "<table border=\"1\" class=\"dataframe\">\n",
       "  <thead>\n",
       "    <tr style=\"text-align: right;\">\n",
       "      <th></th>\n",
       "      <th>profit</th>\n",
       "      <th>profit_usd</th>\n",
       "    </tr>\n",
       "    <tr>\n",
       "      <th>identity</th>\n",
       "      <th></th>\n",
       "      <th></th>\n",
       "    </tr>\n",
       "  </thead>\n",
       "  <tbody>\n",
       "    <tr>\n",
       "      <th>Poloniex.com</th>\n",
       "      <td>4.578916e+15</td>\n",
       "      <td>1.302617e+10</td>\n",
       "    </tr>\n",
       "    <tr>\n",
       "      <th>ePay.info_CoinJoinMess</th>\n",
       "      <td>3.678851e+15</td>\n",
       "      <td>1.092341e+10</td>\n",
       "    </tr>\n",
       "    <tr>\n",
       "      <th>Huobi.com</th>\n",
       "      <td>2.267231e+15</td>\n",
       "      <td>6.730197e+09</td>\n",
       "    </tr>\n",
       "    <tr>\n",
       "      <th>Xapo.com</th>\n",
       "      <td>1.084115e+15</td>\n",
       "      <td>3.194484e+09</td>\n",
       "    </tr>\n",
       "    <tr>\n",
       "      <th>Bitstamp.net</th>\n",
       "      <td>1.011908e+15</td>\n",
       "      <td>2.879905e+09</td>\n",
       "    </tr>\n",
       "    <tr>\n",
       "      <th>OKCoin.com</th>\n",
       "      <td>3.124481e+14</td>\n",
       "      <td>9.281660e+08</td>\n",
       "    </tr>\n",
       "    <tr>\n",
       "      <th>BTC-e.com</th>\n",
       "      <td>2.906752e+14</td>\n",
       "      <td>8.338118e+08</td>\n",
       "    </tr>\n",
       "  </tbody>\n",
       "</table>\n",
       "</div>"
      ],
      "text/plain": [
       "                              profit    profit_usd\n",
       "identity                                          \n",
       "Poloniex.com            4.578916e+15  1.302617e+10\n",
       "ePay.info_CoinJoinMess  3.678851e+15  1.092341e+10\n",
       "Huobi.com               2.267231e+15  6.730197e+09\n",
       "Xapo.com                1.084115e+15  3.194484e+09\n",
       "Bitstamp.net            1.011908e+15  2.879905e+09\n",
       "OKCoin.com              3.124481e+14  9.281660e+08\n",
       "BTC-e.com               2.906752e+14  8.338118e+08"
      ]
     },
     "execution_count": 160,
     "metadata": {},
     "output_type": "execute_result"
    }
   ],
   "source": [
    "# make a df of all the actors and their final profit and profit_usd\n",
    "final_profits_df = actor_profits_df.groupby(level=0)[['profit', 'profit_usd']].max().sort_values(by='profit_usd', ascending=False)\n",
    "final_profits_df.head(7)"
   ]
  },
  {
   "cell_type": "code",
   "execution_count": 161,
   "metadata": {},
   "outputs": [
    {
     "data": {
      "text/html": [
       "<div>\n",
       "<style scoped>\n",
       "    .dataframe tbody tr th:only-of-type {\n",
       "        vertical-align: middle;\n",
       "    }\n",
       "\n",
       "    .dataframe tbody tr th {\n",
       "        vertical-align: top;\n",
       "    }\n",
       "\n",
       "    .dataframe thead th {\n",
       "        text-align: right;\n",
       "    }\n",
       "</style>\n",
       "<table border=\"1\" class=\"dataframe\">\n",
       "  <thead>\n",
       "    <tr style=\"text-align: right;\">\n",
       "      <th></th>\n",
       "      <th>profit</th>\n",
       "      <th>profit_usd</th>\n",
       "      <th>quartile</th>\n",
       "    </tr>\n",
       "    <tr>\n",
       "      <th>identity</th>\n",
       "      <th></th>\n",
       "      <th></th>\n",
       "      <th></th>\n",
       "    </tr>\n",
       "  </thead>\n",
       "  <tbody>\n",
       "    <tr>\n",
       "      <th>Poloniex.com</th>\n",
       "      <td>4.578916e+15</td>\n",
       "      <td>1.302617e+10</td>\n",
       "      <td>Q4</td>\n",
       "    </tr>\n",
       "    <tr>\n",
       "      <th>ePay.info_CoinJoinMess</th>\n",
       "      <td>3.678851e+15</td>\n",
       "      <td>1.092341e+10</td>\n",
       "      <td>Q4</td>\n",
       "    </tr>\n",
       "    <tr>\n",
       "      <th>Huobi.com</th>\n",
       "      <td>2.267231e+15</td>\n",
       "      <td>6.730197e+09</td>\n",
       "      <td>Q4</td>\n",
       "    </tr>\n",
       "    <tr>\n",
       "      <th>Xapo.com</th>\n",
       "      <td>1.084115e+15</td>\n",
       "      <td>3.194484e+09</td>\n",
       "      <td>Q4</td>\n",
       "    </tr>\n",
       "    <tr>\n",
       "      <th>Bitstamp.net</th>\n",
       "      <td>1.011908e+15</td>\n",
       "      <td>2.879905e+09</td>\n",
       "      <td>Q4</td>\n",
       "    </tr>\n",
       "    <tr>\n",
       "      <th>...</th>\n",
       "      <td>...</td>\n",
       "      <td>...</td>\n",
       "      <td>...</td>\n",
       "    </tr>\n",
       "    <tr>\n",
       "      <th>70927660</th>\n",
       "      <td>1.232972e+09</td>\n",
       "      <td>3.840668e+02</td>\n",
       "      <td>Q1</td>\n",
       "    </tr>\n",
       "    <tr>\n",
       "      <th>71842975</th>\n",
       "      <td>7.444146e+08</td>\n",
       "      <td>2.591047e+02</td>\n",
       "      <td>Q1</td>\n",
       "    </tr>\n",
       "    <tr>\n",
       "      <th>72472408</th>\n",
       "      <td>8.172299e+08</td>\n",
       "      <td>1.992902e+02</td>\n",
       "      <td>Q1</td>\n",
       "    </tr>\n",
       "    <tr>\n",
       "      <th>74304487</th>\n",
       "      <td>1.863942e+08</td>\n",
       "      <td>1.407126e+02</td>\n",
       "      <td>Q1</td>\n",
       "    </tr>\n",
       "    <tr>\n",
       "      <th>73963652</th>\n",
       "      <td>-2.928218e+07</td>\n",
       "      <td>-6.702578e+00</td>\n",
       "      <td>Q1</td>\n",
       "    </tr>\n",
       "  </tbody>\n",
       "</table>\n",
       "<p>100 rows × 3 columns</p>\n",
       "</div>"
      ],
      "text/plain": [
       "                              profit    profit_usd quartile\n",
       "identity                                                   \n",
       "Poloniex.com            4.578916e+15  1.302617e+10       Q4\n",
       "ePay.info_CoinJoinMess  3.678851e+15  1.092341e+10       Q4\n",
       "Huobi.com               2.267231e+15  6.730197e+09       Q4\n",
       "Xapo.com                1.084115e+15  3.194484e+09       Q4\n",
       "Bitstamp.net            1.011908e+15  2.879905e+09       Q4\n",
       "...                              ...           ...      ...\n",
       "70927660                1.232972e+09  3.840668e+02       Q1\n",
       "71842975                7.444146e+08  2.591047e+02       Q1\n",
       "72472408                8.172299e+08  1.992902e+02       Q1\n",
       "74304487                1.863942e+08  1.407126e+02       Q1\n",
       "73963652               -2.928218e+07 -6.702578e+00       Q1\n",
       "\n",
       "[100 rows x 3 columns]"
      ]
     },
     "execution_count": 161,
     "metadata": {},
     "output_type": "execute_result"
    }
   ],
   "source": [
    "# divide the actors into quartiles based on their profit\n",
    "final_profits_df['quartile'] = pd.qcut(final_profits_df['profit_usd'], 4, labels=['Q1', 'Q2', 'Q3', 'Q4'])\n",
    "final_profits_df"
   ]
  },
  {
   "cell_type": "code",
   "execution_count": 162,
   "metadata": {},
   "outputs": [
    {
     "data": {
      "text/plain": [
       "quartile\n",
       "Q1    2.494542e+05\n",
       "Q2    1.180394e+07\n",
       "Q3    1.831968e+08\n",
       "Q4    4.184948e+10\n",
       "Name: profit_usd, dtype: float64"
      ]
     },
     "execution_count": 162,
     "metadata": {},
     "output_type": "execute_result"
    }
   ],
   "source": [
    "# print the total profit of each quartile\n",
    "final_profits_df.groupby('quartile')['profit_usd'].sum()"
   ]
  },
  {
   "cell_type": "code",
   "execution_count": 163,
   "metadata": {},
   "outputs": [
    {
     "name": "stdout",
     "output_type": "stream",
     "text": [
      "Q1 transactions :  495867\n",
      "Q2 transactions :  1787253\n",
      "Q3 transactions :  2945373\n",
      "Q4 transactions :  12519287\n",
      "Total transactions :  17747780\n",
      "Q1 transactions :  2.793966343959639\n",
      "Q2 transactions :  10.070290481401054\n",
      "Q3 transactions :  16.595726338730817\n",
      "Q4 transactions :  70.54001683590849\n",
      "Total transactions :  1.0\n",
      "Top 5 transactions :  6353937\n",
      "Top 5 transactions :  35.80130585346449\n",
      "Number of actors :  100\n"
     ]
    }
   ],
   "source": [
    "# get the list of actors in each quartile\n",
    "quartile_1 = final_profits_df[final_profits_df['quartile'] == 'Q1'].index.tolist()\n",
    "quartile_2 = final_profits_df[final_profits_df['quartile'] == 'Q2'].index.tolist()\n",
    "quartile_3 = final_profits_df[final_profits_df['quartile'] == 'Q3'].index.tolist()\n",
    "quartile_4 = final_profits_df[final_profits_df['quartile'] == 'Q4'].index.tolist()\n",
    "\n",
    "# get the number of transactions of each quartile\n",
    "quartile_1_transactions = actor_df.loc[quartile_1]['nb_transactions'].sum()\n",
    "quartile_2_transactions = actor_df.loc[quartile_2]['nb_transactions'].sum()\n",
    "quartile_3_transactions = actor_df.loc[quartile_3]['nb_transactions'].sum()\n",
    "quartile_4_transactions = actor_df.loc[quartile_4]['nb_transactions'].sum()\n",
    "\n",
    "# print the number of transactions of each quartile \n",
    "print('Q1 transactions : ', quartile_1_transactions)\n",
    "print('Q2 transactions : ', quartile_2_transactions)\n",
    "print('Q3 transactions : ', quartile_3_transactions)\n",
    "print('Q4 transactions : ', quartile_4_transactions)\n",
    "print('Total transactions : ', actor_df['nb_transactions'].sum())\n",
    "\n",
    "# print the number of transactions of each quartile in percentage\n",
    "print('Q1 transactions : ', quartile_1_transactions / actor_df['nb_transactions'].sum() * 100)\n",
    "print('Q2 transactions : ', quartile_2_transactions / actor_df['nb_transactions'].sum() * 100)\n",
    "print('Q3 transactions : ', quartile_3_transactions / actor_df['nb_transactions'].sum() * 100)\n",
    "print('Q4 transactions : ', quartile_4_transactions / actor_df['nb_transactions'].sum() * 100)\n",
    "print('Total transactions : ',(quartile_1_transactions + quartile_2_transactions + quartile_3_transactions + quartile_4_transactions) / actor_df['nb_transactions'].sum())\n",
    "\n",
    "# print the number of transactions of the top 5 actors\n",
    "top_5_transactions = actor_df.loc[top_actors]['nb_transactions'].sum()\n",
    "print('Top 5 transactions : ', top_5_transactions)\n",
    "print('Top 5 transactions : ', top_5_transactions / actor_df['nb_transactions'].sum() * 100)\n",
    "\n",
    "#print the number of actors\n",
    "print('Number of actors : ', len(final_profits_df.index.get_level_values(0).unique()))\n"
   ]
  },
  {
   "cell_type": "code",
   "execution_count": 164,
   "metadata": {},
   "outputs": [
    {
     "data": {
      "image/png": "[encoded data removed]",
      "text/plain": [
       "<Figure size 2000x1000 with 1 Axes>"
      ]
     },
     "metadata": {},
     "output_type": "display_data"
    }
   ],
   "source": [
    "# plot the number of transactions of each quartile\n",
    "plt.figure(figsize=(20,10))\n",
    "plt.bar(['Q1', 'Q2', 'Q3', 'Q4'], [quartile_1_transactions, quartile_2_transactions, quartile_3_transactions, quartile_4_transactions])\n",
    "plt.show()"
   ]
  },
  {
   "attachments": {},
   "cell_type": "markdown",
   "metadata": {},
   "source": [
    "regarder les frais ?\n",
    "-> voir si les gros acteurs paient plus ou moins de frais pour le meme nombre de transactions"
   ]
  },
  {
   "cell_type": "code",
   "execution_count": 165,
   "metadata": {},
   "outputs": [
    {
     "data": {
      "text/html": [
       "<div>\n",
       "<style scoped>\n",
       "    .dataframe tbody tr th:only-of-type {\n",
       "        vertical-align: middle;\n",
       "    }\n",
       "\n",
       "    .dataframe tbody tr th {\n",
       "        vertical-align: top;\n",
       "    }\n",
       "\n",
       "    .dataframe thead th {\n",
       "        text-align: right;\n",
       "    }\n",
       "</style>\n",
       "<table border=\"1\" class=\"dataframe\">\n",
       "  <thead>\n",
       "    <tr style=\"text-align: right;\">\n",
       "      <th></th>\n",
       "      <th>profit</th>\n",
       "      <th>profit_usd</th>\n",
       "      <th>quartile</th>\n",
       "      <th>mean_fee_for100</th>\n",
       "      <th>received</th>\n",
       "      <th>nb_received</th>\n",
       "      <th>sum_fee</th>\n",
       "      <th>nb_transactions</th>\n",
       "      <th>sent</th>\n",
       "      <th>self_spent</th>\n",
       "      <th>self_spent_estimated</th>\n",
       "      <th>nb_spent</th>\n",
       "      <th>spent</th>\n",
       "    </tr>\n",
       "    <tr>\n",
       "      <th>identity</th>\n",
       "      <th></th>\n",
       "      <th></th>\n",
       "      <th></th>\n",
       "      <th></th>\n",
       "      <th></th>\n",
       "      <th></th>\n",
       "      <th></th>\n",
       "      <th></th>\n",
       "      <th></th>\n",
       "      <th></th>\n",
       "      <th></th>\n",
       "      <th></th>\n",
       "      <th></th>\n",
       "    </tr>\n",
       "  </thead>\n",
       "  <tbody>\n",
       "    <tr>\n",
       "      <th>Poloniex.com</th>\n",
       "      <td>4.578916e+15</td>\n",
       "      <td>1.302617e+10</td>\n",
       "      <td>Q4</td>\n",
       "      <td>1993.009597</td>\n",
       "      <td>4.333840e+14</td>\n",
       "      <td>3213211</td>\n",
       "      <td>110767944357</td>\n",
       "      <td>251594</td>\n",
       "      <td>4.942965e+15</td>\n",
       "      <td>4.509973e+15</td>\n",
       "      <td>4.578636e+15</td>\n",
       "      <td>2804715</td>\n",
       "      <td>3.643295e+14</td>\n",
       "    </tr>\n",
       "    <tr>\n",
       "      <th>ePay.info_CoinJoinMess</th>\n",
       "      <td>3.678851e+15</td>\n",
       "      <td>1.092341e+10</td>\n",
       "      <td>Q4</td>\n",
       "      <td>1711.356243</td>\n",
       "      <td>1.188925e+15</td>\n",
       "      <td>18426297</td>\n",
       "      <td>68566606062</td>\n",
       "      <td>2310681</td>\n",
       "      <td>4.851450e+15</td>\n",
       "      <td>3.659520e+15</td>\n",
       "      <td>3.681925e+15</td>\n",
       "      <td>22238612</td>\n",
       "      <td>1.169524e+15</td>\n",
       "    </tr>\n",
       "    <tr>\n",
       "      <th>Huobi.com</th>\n",
       "      <td>2.267231e+15</td>\n",
       "      <td>6.730197e+09</td>\n",
       "      <td>Q4</td>\n",
       "      <td>52.353526</td>\n",
       "      <td>1.313671e+15</td>\n",
       "      <td>4409112</td>\n",
       "      <td>37027040893</td>\n",
       "      <td>1765905</td>\n",
       "      <td>3.045981e+15</td>\n",
       "      <td>1.733032e+15</td>\n",
       "      <td>2.266546e+15</td>\n",
       "      <td>3510036</td>\n",
       "      <td>7.794348e+14</td>\n",
       "    </tr>\n",
       "    <tr>\n",
       "      <th>Xapo.com</th>\n",
       "      <td>1.084115e+15</td>\n",
       "      <td>3.194484e+09</td>\n",
       "      <td>Q4</td>\n",
       "      <td>402.777280</td>\n",
       "      <td>2.360818e+14</td>\n",
       "      <td>11963430</td>\n",
       "      <td>116716041465</td>\n",
       "      <td>1877020</td>\n",
       "      <td>1.214829e+15</td>\n",
       "      <td>9.862885e+14</td>\n",
       "      <td>1.076690e+15</td>\n",
       "      <td>5689171</td>\n",
       "      <td>1.381389e+14</td>\n",
       "    </tr>\n",
       "    <tr>\n",
       "      <th>Bitstamp.net</th>\n",
       "      <td>1.011908e+15</td>\n",
       "      <td>2.879905e+09</td>\n",
       "      <td>Q4</td>\n",
       "      <td>147.976153</td>\n",
       "      <td>6.997821e+14</td>\n",
       "      <td>669271</td>\n",
       "      <td>22412479151</td>\n",
       "      <td>148737</td>\n",
       "      <td>1.426380e+15</td>\n",
       "      <td>7.274781e+14</td>\n",
       "      <td>1.011050e+15</td>\n",
       "      <td>821053</td>\n",
       "      <td>4.153298e+14</td>\n",
       "    </tr>\n",
       "  </tbody>\n",
       "</table>\n",
       "</div>"
      ],
      "text/plain": [
       "                              profit    profit_usd quartile  mean_fee_for100  \\\n",
       "identity                                                                       \n",
       "Poloniex.com            4.578916e+15  1.302617e+10       Q4      1993.009597   \n",
       "ePay.info_CoinJoinMess  3.678851e+15  1.092341e+10       Q4      1711.356243   \n",
       "Huobi.com               2.267231e+15  6.730197e+09       Q4        52.353526   \n",
       "Xapo.com                1.084115e+15  3.194484e+09       Q4       402.777280   \n",
       "Bitstamp.net            1.011908e+15  2.879905e+09       Q4       147.976153   \n",
       "\n",
       "                            received  nb_received       sum_fee  \\\n",
       "identity                                                          \n",
       "Poloniex.com            4.333840e+14      3213211  110767944357   \n",
       "ePay.info_CoinJoinMess  1.188925e+15     18426297   68566606062   \n",
       "Huobi.com               1.313671e+15      4409112   37027040893   \n",
       "Xapo.com                2.360818e+14     11963430  116716041465   \n",
       "Bitstamp.net            6.997821e+14       669271   22412479151   \n",
       "\n",
       "                        nb_transactions          sent    self_spent  \\\n",
       "identity                                                              \n",
       "Poloniex.com                     251594  4.942965e+15  4.509973e+15   \n",
       "ePay.info_CoinJoinMess          2310681  4.851450e+15  3.659520e+15   \n",
       "Huobi.com                       1765905  3.045981e+15  1.733032e+15   \n",
       "Xapo.com                        1877020  1.214829e+15  9.862885e+14   \n",
       "Bitstamp.net                     148737  1.426380e+15  7.274781e+14   \n",
       "\n",
       "                        self_spent_estimated  nb_spent         spent  \n",
       "identity                                                              \n",
       "Poloniex.com                    4.578636e+15   2804715  3.643295e+14  \n",
       "ePay.info_CoinJoinMess          3.681925e+15  22238612  1.169524e+15  \n",
       "Huobi.com                       2.266546e+15   3510036  7.794348e+14  \n",
       "Xapo.com                        1.076690e+15   5689171  1.381389e+14  \n",
       "Bitstamp.net                    1.011050e+15    821053  4.153298e+14  "
      ]
     },
     "execution_count": 165,
     "metadata": {},
     "output_type": "execute_result"
    }
   ],
   "source": [
    "# look at the mean_fee_for100 for each actor and update the final_profits_df dataframe\n",
    "final_profits_df['mean_fee_for100'] = actor_df.groupby(level=0)['mean_fee_for100'].mean()\n",
    "\n",
    "# add every actor_df column to the final_profits_df dataframe\n",
    "l = [\"received\", \"nb_received\", \"sum_fee\", \"mean_fee_for100\", \"nb_transactions\", \"sent\", \"self_spent\", \"self_spent_estimated\", \"nb_spent\", \"spent\"]\n",
    "for elt in l:\n",
    "    final_profits_df[elt] = actor_df.groupby(level=0)[elt].sum()\n",
    "\n",
    "\n",
    "final_profits_df.head()\n",
    "\n"
   ]
  },
  {
   "cell_type": "code",
   "execution_count": 174,
   "metadata": {},
   "outputs": [
    {
     "data": {
      "application/vnd.plotly.v1+json": {
       "config": {
        "plotlyServerURL": "https://plot.ly"
       },
       "data": [
        {
         "hovertemplate": "<b>%{hovertext}</b><br><br>quartile=Q4<br>sum_fee=%{x}<br>profit_usd=%{y}<extra></extra>",
         "hovertext": [
          "Poloniex.com",
          "ePay.info_CoinJoinMess",
          "Huobi.com",
          "Xapo.com",
          "Bitstamp.net",
          "OKCoin.com",
          "BTC-e.com",
          "CoinTrader.net_LocalBitcoins.com",
          "107",
          "Matbea.com",
          "HaoBTC.com",
          "69697250",
          "417",
          "0",
          "BTCC.com",
          "Bter.com",
          "122",
          "Bit-x.com",
          "BX.in.th",
          "Paymium.com",
          "57",
          "BtcTrade.com",
          "Bitcoin.de",
          "289",
          "5162"
         ],
         "legendgroup": "Q4",
         "marker": {
          "color": "#636efa",
          "symbol": "circle"
         },
         "mode": "markers",
         "name": "Q4",
         "orientation": "v",
         "showlegend": true,
         "type": "scatter",
         "x": [
          110767944357,
          68566606062,
          37027040893,
          116716041465,
          22412479151,
          13280884827,
          19215335301,
          8064230882,
          8653122938,
          3047945105,
          15242530172,
          1425679329,
          3181267830,
          284727614013,
          3124631763,
          1610534926,
          7281815349,
          4176535182,
          6615608443,
          593939300,
          9535167361,
          2123690070,
          8665540026,
          4649413969,
          207316792
         ],
         "xaxis": "x",
         "y": [
          13026165464.284796,
          10923405108.095676,
          6730197312.331257,
          3194484136.5496097,
          2879905419.6851583,
          928166035.9245435,
          833811777.0768297,
          675250170.2537179,
          413248187.6079393,
          409330384.605663,
          290629576.058239,
          226414652.61180133,
          225306484.73916143,
          197236870.1935684,
          180413714.06696096,
          164748217.3651639,
          160244976.19656518,
          94601436.70292601,
          78764440.98553681,
          71169769.87406914,
          37575249.86133812,
          32859827.882471763,
          26892269.941412933,
          25680111.163961407,
          22982836.588662043
         ],
         "yaxis": "y"
        },
        {
         "hovertemplate": "<b>OLS trendline</b><br>profit_usd = 0.0186466 * sum_fee + 1.10644e+09<br>R<sup>2</sup>=0.111626<br><br>quartile=Q4<br>sum_fee=%{x}<br>profit_usd=%{y} <b>(trend)</b><extra></extra>",
         "legendgroup": "Q4",
         "marker": {
          "color": "#636efa",
          "symbol": "circle"
         },
         "mode": "lines",
         "name": "Q4",
         "showlegend": false,
         "type": "scatter",
         "x": [
          207316792,
          593939300,
          1425679329,
          1610534926,
          2123690070,
          3047945105,
          3124631763,
          3181267830,
          4176535182,
          4649413969,
          6615608443,
          7281815349,
          8064230882,
          8653122938,
          8665540026,
          9535167361,
          13280884827,
          15242530172,
          19215335301,
          22412479151,
          37027040893,
          68566606062,
          110767944357,
          116716041465,
          284727614013
         ],
         "xaxis": "x",
         "y": [
          1110308793.237752,
          1117517972.974747,
          1133027063.2099028,
          1136473984.16403,
          1146042562.2719023,
          1163276739.1039906,
          1164706681.4625235,
          1165762749.2758322,
          1184321061.5273552,
          1193138624.133656,
          1229801387.0811045,
          1242223854.030135,
          1256813212.098273,
          1267794023.0690415,
          1268025559.0436673,
          1284241117.1979246,
          1354085862.1303506,
          1390663799.471609,
          1464742948.1046627,
          1524358682.27107,
          1796869982.558549,
          2384974372.306035,
          3171884152.8157043,
          3282795701.5677266,
          6415633545.539495
         ],
         "yaxis": "y"
        },
        {
         "hovertemplate": "<b>%{hovertext}</b><br><br>quartile=Q3<br>sum_fee=%{x}<br>profit_usd=%{y}<extra></extra>",
         "hovertext": [
          "175",
          "396",
          "BitZillions.com",
          "821",
          "LuckyB.it",
          "SimpleCoin.cz",
          "421",
          "1226",
          "CoinJar.com",
          "YoBit.net",
          "CoinPayments.net",
          "CoinGaming.io",
          "TheRockTrading.com",
          "523",
          "SatoshiDice.com",
          "SlushPool.com",
          "1149",
          "Bitbond.com",
          "999Dice.com",
          "MercadoBitcoin.com.br",
          "154",
          "BitBargain.co.uk",
          "469",
          "871",
          "354"
         ],
         "legendgroup": "Q3",
         "marker": {
          "color": "#EF553B",
          "symbol": "circle"
         },
         "mode": "markers",
         "name": "Q3",
         "orientation": "v",
         "showlegend": true,
         "type": "scatter",
         "x": [
          4862530108,
          2867454858,
          7254841783,
          514963863,
          22438828319,
          879025473,
          7667285225,
          211720266,
          2009483163,
          13644787576,
          7064398469,
          9363966029,
          637507476,
          3029112876,
          869343638,
          509956253,
          229859450,
          550510757,
          4724363146,
          15727784771,
          6221548840,
          1424472614,
          733254441,
          923187556,
          10845653933
         ],
         "xaxis": "x",
         "y": [
          21500475.59535292,
          20743931.890093032,
          18394277.65218,
          17762822.8856325,
          14662295.670838127,
          12132361.113907889,
          9608866.970136749,
          8469038.586785756,
          8159833.577791729,
          6255273.9254947575,
          6219460.565047375,
          5581013.482505891,
          4509317.8526449725,
          3635638.8262313553,
          3460619.8104657964,
          3394294.3504000413,
          3249410.105497497,
          3160457.1164702475,
          2723209.4778902167,
          2269165.550978916,
          1883714.3843838123,
          1657368.0048012743,
          1377823.2212496104,
          1218406.5441569383,
          1167761.4806191148
         ],
         "yaxis": "y"
        },
        {
         "hovertemplate": "<b>OLS trendline</b><br>profit_usd = 0.000127708 * sum_fee + 6.68828e+06<br>R<sup>2</sup>=0.012779<br><br>quartile=Q3<br>sum_fee=%{x}<br>profit_usd=%{y} <b>(trend)</b><extra></extra>",
         "legendgroup": "Q3",
         "marker": {
          "color": "#EF553B",
          "symbol": "circle"
         },
         "mode": "lines",
         "name": "Q3",
         "showlegend": false,
         "type": "scatter",
         "x": [
          211720266,
          229859450,
          509956253,
          514963863,
          550510757,
          637507476,
          733254441,
          869343638,
          879025473,
          923187556,
          1424472614,
          2009483163,
          2867454858,
          3029112876,
          4724363146,
          4862530108,
          6221548840,
          7064398469,
          7254841783,
          7667285225,
          9363966029,
          10845653933,
          13644787576,
          15727784771,
          22438828319
         ],
         "xaxis": "x",
         "y": [
          6715322.354468308,
          6717638.866048899,
          6753409.355384904,
          6754048.865219309,
          6758588.473594472,
          6769698.615430889,
          6781926.230147675,
          6799305.854327226,
          6800542.29819917,
          6806182.13164992,
          6870200.041277713,
          6944910.332078337,
          7054479.834614187,
          7075124.791454157,
          7291621.127918572,
          7309266.098471161,
          7482823.113545115,
          7590461.413386761,
          7614782.471176738,
          7667454.631607523,
          7884133.65812996,
          8073356.458253531,
          8430827.086459827,
          8696841.650541361,
          9553892.888170807
         ],
         "yaxis": "y"
        },
        {
         "hovertemplate": "<b>%{hovertext}</b><br><br>quartile=Q2<br>sum_fee=%{x}<br>profit_usd=%{y}<extra></extra>",
         "hovertext": [
          "BTCJam.com",
          "Cryptonator.com",
          "CoinMotion.com",
          "61400549",
          "Vaultoro.com",
          "BitcoinFog",
          "Rollin.io",
          "SecondsTrade.com",
          "35",
          "Loanbase.com",
          "101",
          "CoinSpot.com.au",
          "SatoshiMines.com",
          "71554939",
          "FortuneJack.com",
          "PocketDice.io",
          "700",
          "FYBSG.com",
          "1567",
          "61",
          "CoinCafe.com",
          "898",
          "SafeDice.com",
          "HolyTransaction.com",
          "HappyCoins.com"
         ],
         "legendgroup": "Q2",
         "marker": {
          "color": "#00cc96",
          "symbol": "circle"
         },
         "mode": "markers",
         "name": "Q2",
         "orientation": "v",
         "showlegend": true,
         "type": "scatter",
         "x": [
          3061003045,
          6214594763,
          477067740,
          89446700,
          304713690,
          938791245,
          2349611863,
          2877770790,
          6068470864,
          214909085,
          4486939419,
          517708939,
          4709360638,
          7379564179,
          3936955349,
          5872820843,
          914512269,
          162720287,
          681184242,
          47914712662,
          63712011,
          1113837855,
          989534524,
          1944692582,
          144678146
         ],
         "xaxis": "x",
         "y": [
          943594.6439480804,
          936262.280088407,
          923633.0169658338,
          842541.5170308716,
          781523.6104409917,
          620233.158890067,
          608491.5930116822,
          603812.6743058037,
          573602.3207602155,
          491455.0118432898,
          476926.74537856586,
          436259.0499591986,
          388262.88852552354,
          324757.63834312157,
          313502.404427682,
          312237.4102987008,
          303511.49688433856,
          293531.6155970052,
          280922.8880816184,
          278697.98502104834,
          278414.4814472318,
          276800.8514096458,
          230205.88941349927,
          186851.1593515281,
          97905.132501686
         ],
         "yaxis": "y"
        },
        {
         "hovertemplate": "<b>OLS trendline</b><br>profit_usd = -3.57051e-06 * sum_fee + 486929<br>R<sup>2</sup>=0.017872<br><br>quartile=Q2<br>sum_fee=%{x}<br>profit_usd=%{y} <b>(trend)</b><extra></extra>",
         "legendgroup": "Q2",
         "marker": {
          "color": "#00cc96",
          "symbol": "circle"
         },
         "mode": "lines",
         "name": "Q2",
         "showlegend": false,
         "type": "scatter",
         "x": [
          63712011,
          89446700,
          144678146,
          162720287,
          214909085,
          304713690,
          477067740,
          517708939,
          681184242,
          914512269,
          938791245,
          989534524,
          1113837855,
          1944692582,
          2349611863,
          2877770790,
          3061003045,
          3936955349,
          4486939419,
          4709360638,
          5872820843,
          6068470864,
          6214594763,
          7379564179,
          47914712662
         ],
         "xaxis": "x",
         "y": [
          486701.81739296904,
          486609.93150909955,
          486412.7272517216,
          486348.30766333325,
          486161.967201542,
          485841.3192424401,
          485225.92792285857,
          485080.8182426277,
          484497.1285502059,
          483664.0292268602,
          483577.34097625787,
          483396.1617499867,
          482952.3358526987,
          479985.7633420494,
          478539.99626748054,
          476654.2011902236,
          475999.96916495735,
          472872.3754458133,
          470908.65354553814,
          470114.49705508526,
          465960.3544002678,
          465261.7846561896,
          464740.0482709523,
          460580.5169678912,
          315849.49083658494
         ],
         "yaxis": "y"
        },
        {
         "hovertemplate": "<b>%{hovertext}</b><br><br>quartile=Q1<br>sum_fee=%{x}<br>profit_usd=%{y}<extra></extra>",
         "hovertext": [
          "641",
          "1070",
          "1805",
          "227",
          "348",
          "292",
          "70063369",
          "1138",
          "269",
          "419",
          "73832915",
          "7277",
          "74278522",
          "18972",
          "16621",
          "69383113",
          "1391",
          "69827719",
          "16768780",
          "69984672",
          "70927660",
          "71842975",
          "72472408",
          "74304487",
          "73963652"
         ],
         "legendgroup": "Q1",
         "marker": {
          "color": "#ab63fa",
          "symbol": "circle"
         },
         "mode": "markers",
         "name": "Q1",
         "orientation": "v",
         "showlegend": true,
         "type": "scatter",
         "x": [
          614056373,
          761947618,
          245053784,
          1528618009,
          1225609757,
          1813183057,
          1878699404,
          746120627,
          1680256991,
          5519426719,
          132700260,
          3829014038,
          148680468,
          69391340,
          361233004,
          125646721,
          377761558,
          319273799,
          103240168,
          183369897,
          103033143,
          68683096,
          68038514,
          55196152,
          163664461
         ],
         "xaxis": "x",
         "y": [
          69518.34103863323,
          41151.645227295805,
          37805.03209204539,
          25470.464574676615,
          20920.896021331326,
          18992.727061022022,
          9925.242671852347,
          5634.62375361179,
          3503.859345790671,
          2810.43678849821,
          2019.4374408853016,
          1770.4918325595859,
          1622.8997928664648,
          1552.2245044750819,
          1520.1456607488544,
          1293.4777051226858,
          1090.667685329224,
          849.0377231216069,
          634.5849212336068,
          391.5332591740196,
          384.066768156801,
          259.10465112583097,
          199.29020161039247,
          140.71256815780566,
          -6.702578290872978
         ],
         "yaxis": "y"
        },
        {
         "hovertemplate": "<b>OLS trendline</b><br>profit_usd = 3.60788e-07 * sum_fee + 9658.92<br>R<sup>2</sup>=0.000756<br><br>quartile=Q1<br>sum_fee=%{x}<br>profit_usd=%{y} <b>(trend)</b><extra></extra>",
         "legendgroup": "Q1",
         "marker": {
          "color": "#ab63fa",
          "symbol": "circle"
         },
         "mode": "lines",
         "name": "Q1",
         "showlegend": false,
         "type": "scatter",
         "x": [
          55196152,
          68038514,
          68683096,
          69391340,
          103033143,
          103240168,
          125646721,
          132700260,
          148680468,
          163664461,
          183369897,
          245053784,
          319273799,
          361233004,
          377761558,
          614056373,
          746120627,
          761947618,
          1225609757,
          1528618009,
          1680256991,
          1813183057,
          1878699404,
          3829014038,
          5519426719
         ],
         "xaxis": "x",
         "y": [
          9678.830816692775,
          9683.464191341456,
          9683.696749020315,
          9683.952275207374,
          9696.089845940553,
          9696.16453814956,
          9704.248561527385,
          9706.793396253745,
          9712.558869196171,
          9717.964919368422,
          9725.074411189598,
          9747.32923925455,
          9774.106956307352,
          9789.245348818464,
          9795.208658611704,
          9880.461075996887,
          9928.108320832414,
          9933.81851486559,
          10101.10241485186,
          10210.424263368335,
          10265.133842100853,
          10313.0920186694,
          10336.72955366989,
          11040.380360439374,
          11650.26156935975
         ],
         "yaxis": "y"
        }
       ],
       "layout": {
        "legend": {
         "title": {
          "text": "quartile"
         },
         "tracegroupgap": 0
        },
        "margin": {
         "t": 60
        },
        "template": {
         "data": {
          "bar": [
           {
            "error_x": {
             "color": "#2a3f5f"
            },
            "error_y": {
             "color": "#2a3f5f"
            },
            "marker": {
             "line": {
              "color": "#E5ECF6",
              "width": 0.5
             },
             "pattern": {
              "fillmode": "overlay",
              "size": 10,
              "solidity": 0.2
             }
            },
            "type": "bar"
           }
          ],
          "barpolar": [
           {
            "marker": {
             "line": {
              "color": "#E5ECF6",
              "width": 0.5
             },
             "pattern": {
              "fillmode": "overlay",
              "size": 10,
              "solidity": 0.2
             }
            },
            "type": "barpolar"
           }
          ],
          "carpet": [
           {
            "aaxis": {
             "endlinecolor": "#2a3f5f",
             "gridcolor": "white",
             "linecolor": "white",
             "minorgridcolor": "white",
             "startlinecolor": "#2a3f5f"
            },
            "baxis": {
             "endlinecolor": "#2a3f5f",
             "gridcolor": "white",
             "linecolor": "white",
             "minorgridcolor": "white",
             "startlinecolor": "#2a3f5f"
            },
            "type": "carpet"
           }
          ],
          "choropleth": [
           {
            "colorbar": {
             "outlinewidth": 0,
             "ticks": ""
            },
            "type": "choropleth"
           }
          ],
          "contour": [
           {
            "colorbar": {
             "outlinewidth": 0,
             "ticks": ""
            },
            "colorscale": [
             [
              0,
              "#0d0887"
             ],
             [
              0.1111111111111111,
              "#46039f"
             ],
             [
              0.2222222222222222,
              "#7201a8"
             ],
             [
              0.3333333333333333,
              "#9c179e"
             ],
             [
              0.4444444444444444,
              "#bd3786"
             ],
             [
              0.5555555555555556,
              "#d8576b"
             ],
             [
              0.6666666666666666,
              "#ed7953"
             ],
             [
              0.7777777777777778,
              "#fb9f3a"
             ],
             [
              0.8888888888888888,
              "#fdca26"
             ],
             [
              1,
              "#f0f921"
             ]
            ],
            "type": "contour"
           }
          ],
          "contourcarpet": [
           {
            "colorbar": {
             "outlinewidth": 0,
             "ticks": ""
            },
            "type": "contourcarpet"
           }
          ],
          "heatmap": [
           {
            "colorbar": {
             "outlinewidth": 0,
             "ticks": ""
            },
            "colorscale": [
             [
              0,
              "#0d0887"
             ],
             [
              0.1111111111111111,
              "#46039f"
             ],
             [
              0.2222222222222222,
              "#7201a8"
             ],
             [
              0.3333333333333333,
              "#9c179e"
             ],
             [
              0.4444444444444444,
              "#bd3786"
             ],
             [
              0.5555555555555556,
              "#d8576b"
             ],
             [
              0.6666666666666666,
              "#ed7953"
             ],
             [
              0.7777777777777778,
              "#fb9f3a"
             ],
             [
              0.8888888888888888,
              "#fdca26"
             ],
             [
              1,
              "#f0f921"
             ]
            ],
            "type": "heatmap"
           }
          ],
          "heatmapgl": [
           {
            "colorbar": {
             "outlinewidth": 0,
             "ticks": ""
            },
            "colorscale": [
             [
              0,
              "#0d0887"
             ],
             [
              0.1111111111111111,
              "#46039f"
             ],
             [
              0.2222222222222222,
              "#7201a8"
             ],
             [
              0.3333333333333333,
              "#9c179e"
             ],
             [
              0.4444444444444444,
              "#bd3786"
             ],
             [
              0.5555555555555556,
              "#d8576b"
             ],
             [
              0.6666666666666666,
              "#ed7953"
             ],
             [
              0.7777777777777778,
              "#fb9f3a"
             ],
             [
              0.8888888888888888,
              "#fdca26"
             ],
             [
              1,
              "#f0f921"
             ]
            ],
            "type": "heatmapgl"
           }
          ],
          "histogram": [
           {
            "marker": {
             "pattern": {
              "fillmode": "overlay",
              "size": 10,
              "solidity": 0.2
             }
            },
            "type": "histogram"
           }
          ],
          "histogram2d": [
           {
            "colorbar": {
             "outlinewidth": 0,
             "ticks": ""
            },
            "colorscale": [
             [
              0,
              "#0d0887"
             ],
             [
              0.1111111111111111,
              "#46039f"
             ],
             [
              0.2222222222222222,
              "#7201a8"
             ],
             [
              0.3333333333333333,
              "#9c179e"
             ],
             [
              0.4444444444444444,
              "#bd3786"
             ],
             [
              0.5555555555555556,
              "#d8576b"
             ],
             [
              0.6666666666666666,
              "#ed7953"
             ],
             [
              0.7777777777777778,
              "#fb9f3a"
             ],
             [
              0.8888888888888888,
              "#fdca26"
             ],
             [
              1,
              "#f0f921"
             ]
            ],
            "type": "histogram2d"
           }
          ],
          "histogram2dcontour": [
           {
            "colorbar": {
             "outlinewidth": 0,
             "ticks": ""
            },
            "colorscale": [
             [
              0,
              "#0d0887"
             ],
             [
              0.1111111111111111,
              "#46039f"
             ],
             [
              0.2222222222222222,
              "#7201a8"
             ],
             [
              0.3333333333333333,
              "#9c179e"
             ],
             [
              0.4444444444444444,
              "#bd3786"
             ],
             [
              0.5555555555555556,
              "#d8576b"
             ],
             [
              0.6666666666666666,
              "#ed7953"
             ],
             [
              0.7777777777777778,
              "#fb9f3a"
             ],
             [
              0.8888888888888888,
              "#fdca26"
             ],
             [
              1,
              "#f0f921"
             ]
            ],
            "type": "histogram2dcontour"
           }
          ],
          "mesh3d": [
           {
            "colorbar": {
             "outlinewidth": 0,
             "ticks": ""
            },
            "type": "mesh3d"
           }
          ],
          "parcoords": [
           {
            "line": {
             "colorbar": {
              "outlinewidth": 0,
              "ticks": ""
             }
            },
            "type": "parcoords"
           }
          ],
          "pie": [
           {
            "automargin": true,
            "type": "pie"
           }
          ],
          "scatter": [
           {
            "fillpattern": {
             "fillmode": "overlay",
             "size": 10,
             "solidity": 0.2
            },
            "type": "scatter"
           }
          ],
          "scatter3d": [
           {
            "line": {
             "colorbar": {
              "outlinewidth": 0,
              "ticks": ""
             }
            },
            "marker": {
             "colorbar": {
              "outlinewidth": 0,
              "ticks": ""
             }
            },
            "type": "scatter3d"
           }
          ],
          "scattercarpet": [
           {
            "marker": {
             "colorbar": {
              "outlinewidth": 0,
              "ticks": ""
             }
            },
            "type": "scattercarpet"
           }
          ],
          "scattergeo": [
           {
            "marker": {
             "colorbar": {
              "outlinewidth": 0,
              "ticks": ""
             }
            },
            "type": "scattergeo"
           }
          ],
          "scattergl": [
           {
            "marker": {
             "colorbar": {
              "outlinewidth": 0,
              "ticks": ""
             }
            },
            "type": "scattergl"
           }
          ],
          "scattermapbox": [
           {
            "marker": {
             "colorbar": {
              "outlinewidth": 0,
              "ticks": ""
             }
            },
            "type": "scattermapbox"
           }
          ],
          "scatterpolar": [
           {
            "marker": {
             "colorbar": {
              "outlinewidth": 0,
              "ticks": ""
             }
            },
            "type": "scatterpolar"
           }
          ],
          "scatterpolargl": [
           {
            "marker": {
             "colorbar": {
              "outlinewidth": 0,
              "ticks": ""
             }
            },
            "type": "scatterpolargl"
           }
          ],
          "scatterternary": [
           {
            "marker": {
             "colorbar": {
              "outlinewidth": 0,
              "ticks": ""
             }
            },
            "type": "scatterternary"
           }
          ],
          "surface": [
           {
            "colorbar": {
             "outlinewidth": 0,
             "ticks": ""
            },
            "colorscale": [
             [
              0,
              "#0d0887"
             ],
             [
              0.1111111111111111,
              "#46039f"
             ],
             [
              0.2222222222222222,
              "#7201a8"
             ],
             [
              0.3333333333333333,
              "#9c179e"
             ],
             [
              0.4444444444444444,
              "#bd3786"
             ],
             [
              0.5555555555555556,
              "#d8576b"
             ],
             [
              0.6666666666666666,
              "#ed7953"
             ],
             [
              0.7777777777777778,
              "#fb9f3a"
             ],
             [
              0.8888888888888888,
              "#fdca26"
             ],
             [
              1,
              "#f0f921"
             ]
            ],
            "type": "surface"
           }
          ],
          "table": [
           {
            "cells": {
             "fill": {
              "color": "#EBF0F8"
             },
             "line": {
              "color": "white"
             }
            },
            "header": {
             "fill": {
              "color": "#C8D4E3"
             },
             "line": {
              "color": "white"
             }
            },
            "type": "table"
           }
          ]
         },
         "layout": {
          "annotationdefaults": {
           "arrowcolor": "#2a3f5f",
           "arrowhead": 0,
           "arrowwidth": 1
          },
          "autotypenumbers": "strict",
          "coloraxis": {
           "colorbar": {
            "outlinewidth": 0,
            "ticks": ""
           }
          },
          "colorscale": {
           "diverging": [
            [
             0,
             "#8e0152"
            ],
            [
             0.1,
             "#c51b7d"
            ],
            [
             0.2,
             "#de77ae"
            ],
            [
             0.3,
             "#f1b6da"
            ],
            [
             0.4,
             "#fde0ef"
            ],
            [
             0.5,
             "#f7f7f7"
            ],
            [
             0.6,
             "#e6f5d0"
            ],
            [
             0.7,
             "#b8e186"
            ],
            [
             0.8,
             "#7fbc41"
            ],
            [
             0.9,
             "#4d9221"
            ],
            [
             1,
             "#276419"
            ]
           ],
           "sequential": [
            [
             0,
             "#0d0887"
            ],
            [
             0.1111111111111111,
             "#46039f"
            ],
            [
             0.2222222222222222,
             "#7201a8"
            ],
            [
             0.3333333333333333,
             "#9c179e"
            ],
            [
             0.4444444444444444,
             "#bd3786"
            ],
            [
             0.5555555555555556,
             "#d8576b"
            ],
            [
             0.6666666666666666,
             "#ed7953"
            ],
            [
             0.7777777777777778,
             "#fb9f3a"
            ],
            [
             0.8888888888888888,
             "#fdca26"
            ],
            [
             1,
             "#f0f921"
            ]
           ],
           "sequentialminus": [
            [
             0,
             "#0d0887"
            ],
            [
             0.1111111111111111,
             "#46039f"
            ],
            [
             0.2222222222222222,
             "#7201a8"
            ],
            [
             0.3333333333333333,
             "#9c179e"
            ],
            [
             0.4444444444444444,
             "#bd3786"
            ],
            [
             0.5555555555555556,
             "#d8576b"
            ],
            [
             0.6666666666666666,
             "#ed7953"
            ],
            [
             0.7777777777777778,
             "#fb9f3a"
            ],
            [
             0.8888888888888888,
             "#fdca26"
            ],
            [
             1,
             "#f0f921"
            ]
           ]
          },
          "colorway": [
           "#636efa",
           "#EF553B",
           "#00cc96",
           "#ab63fa",
           "#FFA15A",
           "#19d3f3",
           "#FF6692",
           "#B6E880",
           "#FF97FF",
           "#FECB52"
          ],
          "font": {
           "color": "#2a3f5f"
          },
          "geo": {
           "bgcolor": "white",
           "lakecolor": "white",
           "landcolor": "#E5ECF6",
           "showlakes": true,
           "showland": true,
           "subunitcolor": "white"
          },
          "hoverlabel": {
           "align": "left"
          },
          "hovermode": "closest",
          "mapbox": {
           "style": "light"
          },
          "paper_bgcolor": "white",
          "plot_bgcolor": "#E5ECF6",
          "polar": {
           "angularaxis": {
            "gridcolor": "white",
            "linecolor": "white",
            "ticks": ""
           },
           "bgcolor": "#E5ECF6",
           "radialaxis": {
            "gridcolor": "white",
            "linecolor": "white",
            "ticks": ""
           }
          },
          "scene": {
           "xaxis": {
            "backgroundcolor": "#E5ECF6",
            "gridcolor": "white",
            "gridwidth": 2,
            "linecolor": "white",
            "showbackground": true,
            "ticks": "",
            "zerolinecolor": "white"
           },
           "yaxis": {
            "backgroundcolor": "#E5ECF6",
            "gridcolor": "white",
            "gridwidth": 2,
            "linecolor": "white",
            "showbackground": true,
            "ticks": "",
            "zerolinecolor": "white"
           },
           "zaxis": {
            "backgroundcolor": "#E5ECF6",
            "gridcolor": "white",
            "gridwidth": 2,
            "linecolor": "white",
            "showbackground": true,
            "ticks": "",
            "zerolinecolor": "white"
           }
          },
          "shapedefaults": {
           "line": {
            "color": "#2a3f5f"
           }
          },
          "ternary": {
           "aaxis": {
            "gridcolor": "white",
            "linecolor": "white",
            "ticks": ""
           },
           "baxis": {
            "gridcolor": "white",
            "linecolor": "white",
            "ticks": ""
           },
           "bgcolor": "#E5ECF6",
           "caxis": {
            "gridcolor": "white",
            "linecolor": "white",
            "ticks": ""
           }
          },
          "title": {
           "x": 0.05
          },
          "xaxis": {
           "automargin": true,
           "gridcolor": "white",
           "linecolor": "white",
           "ticks": "",
           "title": {
            "standoff": 15
           },
           "zerolinecolor": "white",
           "zerolinewidth": 2
          },
          "yaxis": {
           "automargin": true,
           "gridcolor": "white",
           "linecolor": "white",
           "ticks": "",
           "title": {
            "standoff": 15
           },
           "zerolinecolor": "white",
           "zerolinewidth": 2
          }
         }
        },
        "xaxis": {
         "anchor": "y",
         "domain": [
          0,
          1
         ],
         "title": {
          "text": "sum_fee"
         }
        },
        "yaxis": {
         "anchor": "x",
         "domain": [
          0,
          1
         ],
         "title": {
          "text": "profit_usd"
         }
        }
       }
      }
     },
     "metadata": {},
     "output_type": "display_data"
    }
   ],
   "source": [
    "# using plotly express, plot for each actor the mean_fee_for100\n",
    "import plotly.express as px\n",
    "import statsmodels.api as sm\n",
    "fig = px.scatter(final_profits_df, x=\"sum_fee\", y=\"profit_usd\", color=\"quartile\", trendline=\"ols\", hover_name=final_profits_df.index.get_level_values(0).unique())\n",
    "fig.show()"
   ]
  }
 ],
 "metadata": {
  "kernelspec": {
   "display_name": "scia",
   "language": "python",
   "name": "python3"
  },
  "language_info": {
   "codemirror_mode": {
    "name": "ipython",
    "version": 3
   },
   "file_extension": ".py",
   "mimetype": "text/x-python",
   "name": "python",
   "nbconvert_exporter": "python",
   "pygments_lexer": "ipython3",
   "version": "3.9.16"
  },
  "orig_nbformat": 4
 },
 "nbformat": 4,
 "nbformat_minor": 2
}
