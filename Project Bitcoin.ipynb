{
 "cells": [
  {
   "cell_type": "code",
   "execution_count": 25,
   "id": "2432593e",
   "metadata": {},
   "outputs": [
    {
     "data": {
      "text/html": [
       "<div>\n",
       "<style scoped>\n",
       "    .dataframe tbody tr th:only-of-type {\n",
       "        vertical-align: middle;\n",
       "    }\n",
       "\n",
       "    .dataframe tbody tr th {\n",
       "        vertical-align: top;\n",
       "    }\n",
       "\n",
       "    .dataframe thead th {\n",
       "        text-align: right;\n",
       "    }\n",
       "</style>\n",
       "<table border=\"1\" class=\"dataframe\">\n",
       "  <thead>\n",
       "    <tr style=\"text-align: right;\">\n",
       "      <th></th>\n",
       "      <th>Source</th>\n",
       "      <th>Target</th>\n",
       "      <th>value</th>\n",
       "      <th>nb_transactions</th>\n",
       "    </tr>\n",
       "    <tr>\n",
       "      <th>date</th>\n",
       "      <th></th>\n",
       "      <th></th>\n",
       "      <th></th>\n",
       "      <th></th>\n",
       "    </tr>\n",
       "  </thead>\n",
       "  <tbody>\n",
       "    <tr>\n",
       "      <th>2016-06-20</th>\n",
       "      <td>4473692</td>\n",
       "      <td>424</td>\n",
       "      <td>10219675</td>\n",
       "      <td>1</td>\n",
       "    </tr>\n",
       "    <tr>\n",
       "      <th>2016-06-20</th>\n",
       "      <td>69879229</td>\n",
       "      <td>44</td>\n",
       "      <td>4006815</td>\n",
       "      <td>2</td>\n",
       "    </tr>\n",
       "    <tr>\n",
       "      <th>2016-06-20</th>\n",
       "      <td>51740</td>\n",
       "      <td>50250</td>\n",
       "      <td>399990000</td>\n",
       "      <td>1</td>\n",
       "    </tr>\n",
       "    <tr>\n",
       "      <th>2016-06-20</th>\n",
       "      <td>1391</td>\n",
       "      <td>HolyTransaction.com</td>\n",
       "      <td>78899038</td>\n",
       "      <td>1</td>\n",
       "    </tr>\n",
       "    <tr>\n",
       "      <th>2016-06-20</th>\n",
       "      <td>ePay.info_CoinJoinMess</td>\n",
       "      <td>47313</td>\n",
       "      <td>1164758344</td>\n",
       "      <td>1</td>\n",
       "    </tr>\n",
       "  </tbody>\n",
       "</table>\n",
       "</div>"
      ],
      "text/plain": [
       "                            Source               Target       value  \\\n",
       "date                                                                  \n",
       "2016-06-20                 4473692                  424    10219675   \n",
       "2016-06-20                69879229                   44     4006815   \n",
       "2016-06-20                   51740                50250   399990000   \n",
       "2016-06-20                    1391  HolyTransaction.com    78899038   \n",
       "2016-06-20  ePay.info_CoinJoinMess                47313  1164758344   \n",
       "\n",
       "            nb_transactions  \n",
       "date                         \n",
       "2016-06-20                1  \n",
       "2016-06-20                2  \n",
       "2016-06-20                1  \n",
       "2016-06-20                1  \n",
       "2016-06-20                1  "
      ]
     },
     "execution_count": 25,
     "metadata": {},
     "output_type": "execute_result"
    }
   ],
   "source": [
    "import pandas as pd\n",
    "import os\n",
    "import datetime\n",
    "\n",
    "df_list = []\n",
    "\n",
    "for filename in os.listdir('DefiEGC2024/networks'):\n",
    "    if filename.endswith('.csv'):\n",
    "        date = pd.to_datetime(filename.split('.')[0], format='%Y-%m-%d')\n",
    "        temp_df = pd.read_csv(os.path.join('DefiEGC2024/networks', filename))\n",
    "        \n",
    "        # add a single index for all rows\n",
    "        temp_df['date'] = date\n",
    "        temp_df.set_index('date', inplace=True)\n",
    "        \n",
    "        df_list.append(temp_df)\n",
    "\n",
    "# Concatenate the list of DataFrames into a single DataFrameb ,nb \n",
    "df = pd.concat(df_list, axis=0)\n",
    "\n",
    "df.head().sort_index()"
   ]
  },
  {
   "cell_type": "code",
   "execution_count": 24,
   "id": "de98d7f0",
   "metadata": {},
   "outputs": [
    {
     "data": {
      "text/plain": [
       "DatetimeIndex(['2016-06-20', '2016-06-20', '2016-06-20', '2016-06-20',\n",
       "               '2016-06-20', '2016-06-20', '2016-06-20', '2016-06-20',\n",
       "               '2016-06-20', '2016-06-20',\n",
       "               ...\n",
       "               '2016-03-01', '2016-03-01', '2016-03-01', '2016-03-01',\n",
       "               '2016-03-01', '2016-03-01', '2016-03-01', '2016-03-01',\n",
       "               '2016-03-01', '2016-03-01'],\n",
       "              dtype='datetime64[ns]', name='date', length=5876734, freq=None)"
      ]
     },
     "execution_count": 24,
     "metadata": {},
     "output_type": "execute_result"
    }
   ],
   "source": [
    "df.index"
   ]
  }
 ],
 "metadata": {
  "kernelspec": {
   "display_name": "Python 3.10.6 64-bit",
   "language": "python",
   "name": "python3"
  },
  "language_info": {
   "codemirror_mode": {
    "name": "ipython",
    "version": 3
   },
   "file_extension": ".py",
   "mimetype": "text/x-python",
   "name": "python",
   "nbconvert_exporter": "python",
   "pygments_lexer": "ipython3",
   "version": "3.10.6"
  },
  "vscode": {
   "interpreter": {
    "hash": "916dbcbb3f70747c44a77c7bcd40155683ae19c65e1c03b4aa3499c5328201f1"
   }
  }
 },
 "nbformat": 4,
 "nbformat_minor": 5
}
