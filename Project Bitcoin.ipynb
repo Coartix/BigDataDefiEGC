{
 "cells": [
  {
   "cell_type": "code",
   "execution_count": 4,
   "id": "2432593e",
   "metadata": {},
   "outputs": [
    {
     "data": {
      "text/html": [
       "<div>\n",
       "<style scoped>\n",
       "    .dataframe tbody tr th:only-of-type {\n",
       "        vertical-align: middle;\n",
       "    }\n",
       "\n",
       "    .dataframe tbody tr th {\n",
       "        vertical-align: top;\n",
       "    }\n",
       "\n",
       "    .dataframe thead th {\n",
       "        text-align: right;\n",
       "    }\n",
       "</style>\n",
       "<table border=\"1\" class=\"dataframe\">\n",
       "  <thead>\n",
       "    <tr style=\"text-align: right;\">\n",
       "      <th></th>\n",
       "      <th>Source</th>\n",
       "      <th>Target</th>\n",
       "      <th>value</th>\n",
       "      <th>nb_transactions</th>\n",
       "    </tr>\n",
       "    <tr>\n",
       "      <th>date</th>\n",
       "      <th></th>\n",
       "      <th></th>\n",
       "      <th></th>\n",
       "      <th></th>\n",
       "    </tr>\n",
       "  </thead>\n",
       "  <tbody>\n",
       "    <tr>\n",
       "      <th>2015-01-01</th>\n",
       "      <td>ePay.info_CoinJoinMess</td>\n",
       "      <td>CloudBet.com</td>\n",
       "      <td>3519173</td>\n",
       "      <td>1</td>\n",
       "    </tr>\n",
       "    <tr>\n",
       "      <th>2015-01-01</th>\n",
       "      <td>Cex.io</td>\n",
       "      <td>1956</td>\n",
       "      <td>8491196</td>\n",
       "      <td>3</td>\n",
       "    </tr>\n",
       "    <tr>\n",
       "      <th>2015-01-01</th>\n",
       "      <td>157228</td>\n",
       "      <td>C-Cex.com</td>\n",
       "      <td>10833480021</td>\n",
       "      <td>1</td>\n",
       "    </tr>\n",
       "    <tr>\n",
       "      <th>2015-01-01</th>\n",
       "      <td>0</td>\n",
       "      <td>421</td>\n",
       "      <td>27123449</td>\n",
       "      <td>8</td>\n",
       "    </tr>\n",
       "    <tr>\n",
       "      <th>2015-01-01</th>\n",
       "      <td>BTCGuild.com</td>\n",
       "      <td>787953</td>\n",
       "      <td>2507884460</td>\n",
       "      <td>1</td>\n",
       "    </tr>\n",
       "  </tbody>\n",
       "</table>\n",
       "</div>"
      ],
      "text/plain": [
       "                            Source        Target        value  nb_transactions\n",
       "date                                                                          \n",
       "2015-01-01  ePay.info_CoinJoinMess  CloudBet.com      3519173                1\n",
       "2015-01-01                  Cex.io          1956      8491196                3\n",
       "2015-01-01                  157228     C-Cex.com  10833480021                1\n",
       "2015-01-01                       0           421     27123449                8\n",
       "2015-01-01            BTCGuild.com        787953   2507884460                1"
      ]
     },
     "execution_count": 4,
     "metadata": {},
     "output_type": "execute_result"
    }
   ],
   "source": [
    "import pandas as pd\n",
    "import os\n",
    "import datetime\n",
    "\n",
    "df_list = []\n",
    "\n",
    "for filename in os.listdir('./networks'):\n",
    "    if filename.endswith('.csv'):\n",
    "        date = pd.to_datetime(filename.split('.')[0], format='%Y-%m-%d')\n",
    "        temp_df = pd.read_csv(os.path.join('./networks', filename))\n",
    "        \n",
    "        # add a single index for all rows\n",
    "        temp_df['date'] = date\n",
    "        temp_df.set_index('date', inplace=True)\n",
    "        \n",
    "        df_list.append(temp_df)\n",
    "\n",
    "# Concatenate the list of DataFrames into a single DataFrameb ,nb \n",
    "df = pd.concat(df_list, axis=0)\n",
    "\n",
    "df.head().sort_index()"
   ]
  },
  {
   "cell_type": "code",
   "execution_count": 5,
   "id": "de98d7f0",
   "metadata": {},
   "outputs": [
    {
     "data": {
      "text/plain": [
       "DatetimeIndex(['2015-01-01', '2015-01-01', '2015-01-01', '2015-01-01',\n",
       "               '2015-01-01', '2015-01-01', '2015-01-01', '2015-01-01',\n",
       "               '2015-01-01', '2015-01-01',\n",
       "               ...\n",
       "               '2017-06-09', '2017-06-09', '2017-06-09', '2017-06-09',\n",
       "               '2017-06-09', '2017-06-09', '2017-06-09', '2017-06-09',\n",
       "               '2017-06-09', '2017-06-09'],\n",
       "              dtype='datetime64[ns]', name='date', length=5876734, freq=None)"
      ]
     },
     "execution_count": 5,
     "metadata": {},
     "output_type": "execute_result"
    }
   ],
   "source": [
    "df.index"
   ]
  }
 ],
 "metadata": {
  "kernelspec": {
   "display_name": "Python 3.9.16 ('scia')",
   "language": "python",
   "name": "python3"
  },
  "language_info": {
   "codemirror_mode": {
    "name": "ipython",
    "version": 3
   },
   "file_extension": ".py",
   "mimetype": "text/x-python",
   "name": "python",
   "nbconvert_exporter": "python",
   "pygments_lexer": "ipython3",
   "version": "3.9.16"
  },
  "vscode": {
   "interpreter": {
    "hash": "471adb3253949e681c210f02409e56c7e6939fcb04195b8adf13d9600ad779a8"
   }
  }
 },
 "nbformat": 4,
 "nbformat_minor": 5
}
